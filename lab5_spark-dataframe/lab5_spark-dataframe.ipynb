{
 "cells": [
  {
   "cell_type": "markdown",
   "metadata": {
    "application/vnd.databricks.v1+cell": {
     "cellMetadata": {},
     "inputWidgets": {},
     "nuid": "f10bbdbb-b333-4f70-8794-75e30fffec18",
     "showTitle": false,
     "title": ""
    }
   },
   "source": [
    "## Tổng quan"
   ]
  },
  {
   "cell_type": "markdown",
   "metadata": {
    "application/vnd.databricks.v1+cell": {
     "cellMetadata": {},
     "inputWidgets": {},
     "nuid": "cfa26495-947c-4d70-928a-629ad9a435e5",
     "showTitle": false,
     "title": ""
    }
   },
   "source": [
    "- API Apache Spark DataFrame là 1 trong những thành phần chính của Spark SQL\n",
    "Cung cấp giao diện lập trình phân tán để xử lý các tập dữ liệu cấu trúc\n",
    "- DataFrame trong Apache Spark giống như một bảng trong cơ sở dữ liệu quan hệ hoặc một bảng Excel, với các hàng và cột được tổ chức có cấu trúc. \n",
    "- DataFrame cung cấp một tập hợp các API phong phú để thực hiện các phép biến đổi và hành động khác nhau trên dữ liệu.\n"
   ]
  },
  {
   "cell_type": "code",
   "execution_count": 0,
   "metadata": {
    "application/vnd.databricks.v1+cell": {
     "cellMetadata": {
      "byteLimit": 2048000,
      "rowLimit": 10000
     },
     "inputWidgets": {},
     "nuid": "d973eee6-f205-49c0-835b-4f9c7eacce39",
     "showTitle": false,
     "title": ""
    }
   },
   "outputs": [
    {
     "output_type": "display_data",
     "data": {
      "text/html": [
       "<style scoped>\n",
       "  .table-result-container {\n",
       "    max-height: 300px;\n",
       "    overflow: auto;\n",
       "  }\n",
       "  table, th, td {\n",
       "    border: 1px solid black;\n",
       "    border-collapse: collapse;\n",
       "  }\n",
       "  th, td {\n",
       "    padding: 5px;\n",
       "  }\n",
       "  th {\n",
       "    text-align: left;\n",
       "  }\n",
       "</style><div class='table-result-container'><table class='table-result'><thead style='background-color: white'><tr><th>path</th><th>name</th><th>size</th><th>modificationTime</th></tr></thead><tbody><tr><td>dbfs:/databricks-datasets/COVID/</td><td>COVID/</td><td>0</td><td>0</td></tr><tr><td>dbfs:/databricks-datasets/README.md</td><td>README.md</td><td>976</td><td>1532468253000</td></tr><tr><td>dbfs:/databricks-datasets/Rdatasets/</td><td>Rdatasets/</td><td>0</td><td>0</td></tr><tr><td>dbfs:/databricks-datasets/SPARK_README.md</td><td>SPARK_README.md</td><td>3359</td><td>1455043490000</td></tr><tr><td>dbfs:/databricks-datasets/adult/</td><td>adult/</td><td>0</td><td>0</td></tr><tr><td>dbfs:/databricks-datasets/airlines/</td><td>airlines/</td><td>0</td><td>0</td></tr><tr><td>dbfs:/databricks-datasets/amazon/</td><td>amazon/</td><td>0</td><td>0</td></tr><tr><td>dbfs:/databricks-datasets/asa/</td><td>asa/</td><td>0</td><td>0</td></tr><tr><td>dbfs:/databricks-datasets/atlas_higgs/</td><td>atlas_higgs/</td><td>0</td><td>0</td></tr><tr><td>dbfs:/databricks-datasets/bikeSharing/</td><td>bikeSharing/</td><td>0</td><td>0</td></tr><tr><td>dbfs:/databricks-datasets/cctvVideos/</td><td>cctvVideos/</td><td>0</td><td>0</td></tr><tr><td>dbfs:/databricks-datasets/credit-card-fraud/</td><td>credit-card-fraud/</td><td>0</td><td>0</td></tr><tr><td>dbfs:/databricks-datasets/cs100/</td><td>cs100/</td><td>0</td><td>0</td></tr><tr><td>dbfs:/databricks-datasets/cs110x/</td><td>cs110x/</td><td>0</td><td>0</td></tr><tr><td>dbfs:/databricks-datasets/cs190/</td><td>cs190/</td><td>0</td><td>0</td></tr><tr><td>dbfs:/databricks-datasets/data.gov/</td><td>data.gov/</td><td>0</td><td>0</td></tr><tr><td>dbfs:/databricks-datasets/definitive-guide/</td><td>definitive-guide/</td><td>0</td><td>0</td></tr><tr><td>dbfs:/databricks-datasets/delta-sharing/</td><td>delta-sharing/</td><td>0</td><td>0</td></tr><tr><td>dbfs:/databricks-datasets/flights/</td><td>flights/</td><td>0</td><td>0</td></tr><tr><td>dbfs:/databricks-datasets/flower_photos/</td><td>flower_photos/</td><td>0</td><td>0</td></tr><tr><td>dbfs:/databricks-datasets/flowers/</td><td>flowers/</td><td>0</td><td>0</td></tr><tr><td>dbfs:/databricks-datasets/genomics/</td><td>genomics/</td><td>0</td><td>0</td></tr><tr><td>dbfs:/databricks-datasets/hail/</td><td>hail/</td><td>0</td><td>0</td></tr><tr><td>dbfs:/databricks-datasets/identifying-campaign-effectiveness/</td><td>identifying-campaign-effectiveness/</td><td>0</td><td>0</td></tr><tr><td>dbfs:/databricks-datasets/iot/</td><td>iot/</td><td>0</td><td>0</td></tr><tr><td>dbfs:/databricks-datasets/iot-stream/</td><td>iot-stream/</td><td>0</td><td>0</td></tr><tr><td>dbfs:/databricks-datasets/learning-spark/</td><td>learning-spark/</td><td>0</td><td>0</td></tr><tr><td>dbfs:/databricks-datasets/learning-spark-v2/</td><td>learning-spark-v2/</td><td>0</td><td>0</td></tr><tr><td>dbfs:/databricks-datasets/lending-club-loan-stats/</td><td>lending-club-loan-stats/</td><td>0</td><td>0</td></tr><tr><td>dbfs:/databricks-datasets/med-images/</td><td>med-images/</td><td>0</td><td>0</td></tr><tr><td>dbfs:/databricks-datasets/media/</td><td>media/</td><td>0</td><td>0</td></tr><tr><td>dbfs:/databricks-datasets/mnist-digits/</td><td>mnist-digits/</td><td>0</td><td>0</td></tr><tr><td>dbfs:/databricks-datasets/news20.binary/</td><td>news20.binary/</td><td>0</td><td>0</td></tr><tr><td>dbfs:/databricks-datasets/nyctaxi/</td><td>nyctaxi/</td><td>0</td><td>0</td></tr><tr><td>dbfs:/databricks-datasets/nyctaxi-with-zipcodes/</td><td>nyctaxi-with-zipcodes/</td><td>0</td><td>0</td></tr><tr><td>dbfs:/databricks-datasets/online_retail/</td><td>online_retail/</td><td>0</td><td>0</td></tr><tr><td>dbfs:/databricks-datasets/overlap-join/</td><td>overlap-join/</td><td>0</td><td>0</td></tr><tr><td>dbfs:/databricks-datasets/power-plant/</td><td>power-plant/</td><td>0</td><td>0</td></tr><tr><td>dbfs:/databricks-datasets/retail-org/</td><td>retail-org/</td><td>0</td><td>0</td></tr><tr><td>dbfs:/databricks-datasets/rwe/</td><td>rwe/</td><td>0</td><td>0</td></tr><tr><td>dbfs:/databricks-datasets/sai-summit-2019-sf/</td><td>sai-summit-2019-sf/</td><td>0</td><td>0</td></tr><tr><td>dbfs:/databricks-datasets/sample_logs/</td><td>sample_logs/</td><td>0</td><td>0</td></tr><tr><td>dbfs:/databricks-datasets/samples/</td><td>samples/</td><td>0</td><td>0</td></tr><tr><td>dbfs:/databricks-datasets/sfo_customer_survey/</td><td>sfo_customer_survey/</td><td>0</td><td>0</td></tr><tr><td>dbfs:/databricks-datasets/sms_spam_collection/</td><td>sms_spam_collection/</td><td>0</td><td>0</td></tr><tr><td>dbfs:/databricks-datasets/songs/</td><td>songs/</td><td>0</td><td>0</td></tr><tr><td>dbfs:/databricks-datasets/structured-streaming/</td><td>structured-streaming/</td><td>0</td><td>0</td></tr><tr><td>dbfs:/databricks-datasets/timeseries/</td><td>timeseries/</td><td>0</td><td>0</td></tr><tr><td>dbfs:/databricks-datasets/tpch/</td><td>tpch/</td><td>0</td><td>0</td></tr><tr><td>dbfs:/databricks-datasets/travel_recommendations_realtime/</td><td>travel_recommendations_realtime/</td><td>0</td><td>0</td></tr><tr><td>dbfs:/databricks-datasets/warmup/</td><td>warmup/</td><td>0</td><td>0</td></tr><tr><td>dbfs:/databricks-datasets/weather/</td><td>weather/</td><td>0</td><td>0</td></tr><tr><td>dbfs:/databricks-datasets/wiki/</td><td>wiki/</td><td>0</td><td>0</td></tr><tr><td>dbfs:/databricks-datasets/wikipedia-datasets/</td><td>wikipedia-datasets/</td><td>0</td><td>0</td></tr><tr><td>dbfs:/databricks-datasets/wine-quality/</td><td>wine-quality/</td><td>0</td><td>0</td></tr></tbody></table></div>"
      ]
     },
     "metadata": {
      "application/vnd.databricks.v1+output": {
       "addedWidgets": {},
       "aggData": [],
       "aggError": "",
       "aggOverflow": false,
       "aggSchema": [],
       "aggSeriesLimitReached": false,
       "aggType": "",
       "arguments": {},
       "columnCustomDisplayInfos": {},
       "data": [
        [
         "dbfs:/databricks-datasets/COVID/",
         "COVID/",
         0,
         0
        ],
        [
         "dbfs:/databricks-datasets/README.md",
         "README.md",
         976,
         1532468253000
        ],
        [
         "dbfs:/databricks-datasets/Rdatasets/",
         "Rdatasets/",
         0,
         0
        ],
        [
         "dbfs:/databricks-datasets/SPARK_README.md",
         "SPARK_README.md",
         3359,
         1455043490000
        ],
        [
         "dbfs:/databricks-datasets/adult/",
         "adult/",
         0,
         0
        ],
        [
         "dbfs:/databricks-datasets/airlines/",
         "airlines/",
         0,
         0
        ],
        [
         "dbfs:/databricks-datasets/amazon/",
         "amazon/",
         0,
         0
        ],
        [
         "dbfs:/databricks-datasets/asa/",
         "asa/",
         0,
         0
        ],
        [
         "dbfs:/databricks-datasets/atlas_higgs/",
         "atlas_higgs/",
         0,
         0
        ],
        [
         "dbfs:/databricks-datasets/bikeSharing/",
         "bikeSharing/",
         0,
         0
        ],
        [
         "dbfs:/databricks-datasets/cctvVideos/",
         "cctvVideos/",
         0,
         0
        ],
        [
         "dbfs:/databricks-datasets/credit-card-fraud/",
         "credit-card-fraud/",
         0,
         0
        ],
        [
         "dbfs:/databricks-datasets/cs100/",
         "cs100/",
         0,
         0
        ],
        [
         "dbfs:/databricks-datasets/cs110x/",
         "cs110x/",
         0,
         0
        ],
        [
         "dbfs:/databricks-datasets/cs190/",
         "cs190/",
         0,
         0
        ],
        [
         "dbfs:/databricks-datasets/data.gov/",
         "data.gov/",
         0,
         0
        ],
        [
         "dbfs:/databricks-datasets/definitive-guide/",
         "definitive-guide/",
         0,
         0
        ],
        [
         "dbfs:/databricks-datasets/delta-sharing/",
         "delta-sharing/",
         0,
         0
        ],
        [
         "dbfs:/databricks-datasets/flights/",
         "flights/",
         0,
         0
        ],
        [
         "dbfs:/databricks-datasets/flower_photos/",
         "flower_photos/",
         0,
         0
        ],
        [
         "dbfs:/databricks-datasets/flowers/",
         "flowers/",
         0,
         0
        ],
        [
         "dbfs:/databricks-datasets/genomics/",
         "genomics/",
         0,
         0
        ],
        [
         "dbfs:/databricks-datasets/hail/",
         "hail/",
         0,
         0
        ],
        [
         "dbfs:/databricks-datasets/identifying-campaign-effectiveness/",
         "identifying-campaign-effectiveness/",
         0,
         0
        ],
        [
         "dbfs:/databricks-datasets/iot/",
         "iot/",
         0,
         0
        ],
        [
         "dbfs:/databricks-datasets/iot-stream/",
         "iot-stream/",
         0,
         0
        ],
        [
         "dbfs:/databricks-datasets/learning-spark/",
         "learning-spark/",
         0,
         0
        ],
        [
         "dbfs:/databricks-datasets/learning-spark-v2/",
         "learning-spark-v2/",
         0,
         0
        ],
        [
         "dbfs:/databricks-datasets/lending-club-loan-stats/",
         "lending-club-loan-stats/",
         0,
         0
        ],
        [
         "dbfs:/databricks-datasets/med-images/",
         "med-images/",
         0,
         0
        ],
        [
         "dbfs:/databricks-datasets/media/",
         "media/",
         0,
         0
        ],
        [
         "dbfs:/databricks-datasets/mnist-digits/",
         "mnist-digits/",
         0,
         0
        ],
        [
         "dbfs:/databricks-datasets/news20.binary/",
         "news20.binary/",
         0,
         0
        ],
        [
         "dbfs:/databricks-datasets/nyctaxi/",
         "nyctaxi/",
         0,
         0
        ],
        [
         "dbfs:/databricks-datasets/nyctaxi-with-zipcodes/",
         "nyctaxi-with-zipcodes/",
         0,
         0
        ],
        [
         "dbfs:/databricks-datasets/online_retail/",
         "online_retail/",
         0,
         0
        ],
        [
         "dbfs:/databricks-datasets/overlap-join/",
         "overlap-join/",
         0,
         0
        ],
        [
         "dbfs:/databricks-datasets/power-plant/",
         "power-plant/",
         0,
         0
        ],
        [
         "dbfs:/databricks-datasets/retail-org/",
         "retail-org/",
         0,
         0
        ],
        [
         "dbfs:/databricks-datasets/rwe/",
         "rwe/",
         0,
         0
        ],
        [
         "dbfs:/databricks-datasets/sai-summit-2019-sf/",
         "sai-summit-2019-sf/",
         0,
         0
        ],
        [
         "dbfs:/databricks-datasets/sample_logs/",
         "sample_logs/",
         0,
         0
        ],
        [
         "dbfs:/databricks-datasets/samples/",
         "samples/",
         0,
         0
        ],
        [
         "dbfs:/databricks-datasets/sfo_customer_survey/",
         "sfo_customer_survey/",
         0,
         0
        ],
        [
         "dbfs:/databricks-datasets/sms_spam_collection/",
         "sms_spam_collection/",
         0,
         0
        ],
        [
         "dbfs:/databricks-datasets/songs/",
         "songs/",
         0,
         0
        ],
        [
         "dbfs:/databricks-datasets/structured-streaming/",
         "structured-streaming/",
         0,
         0
        ],
        [
         "dbfs:/databricks-datasets/timeseries/",
         "timeseries/",
         0,
         0
        ],
        [
         "dbfs:/databricks-datasets/tpch/",
         "tpch/",
         0,
         0
        ],
        [
         "dbfs:/databricks-datasets/travel_recommendations_realtime/",
         "travel_recommendations_realtime/",
         0,
         0
        ],
        [
         "dbfs:/databricks-datasets/warmup/",
         "warmup/",
         0,
         0
        ],
        [
         "dbfs:/databricks-datasets/weather/",
         "weather/",
         0,
         0
        ],
        [
         "dbfs:/databricks-datasets/wiki/",
         "wiki/",
         0,
         0
        ],
        [
         "dbfs:/databricks-datasets/wikipedia-datasets/",
         "wikipedia-datasets/",
         0,
         0
        ],
        [
         "dbfs:/databricks-datasets/wine-quality/",
         "wine-quality/",
         0,
         0
        ]
       ],
       "datasetInfos": [],
       "dbfsResultPath": null,
       "isJsonSchema": true,
       "metadata": {},
       "overflow": false,
       "plotOptions": {
        "customPlotOptions": {},
        "displayType": "table",
        "pivotAggregation": null,
        "pivotColumns": null,
        "xColumns": null,
        "yColumns": null
       },
       "removedWidgets": [],
       "schema": [
        {
         "metadata": "{}",
         "name": "path",
         "type": "\"string\""
        },
        {
         "metadata": "{}",
         "name": "name",
         "type": "\"string\""
        },
        {
         "metadata": "{}",
         "name": "size",
         "type": "\"long\""
        },
        {
         "metadata": "{}",
         "name": "modificationTime",
         "type": "\"long\""
        }
       ],
       "type": "table"
      }
     },
     "output_type": "display_data"
    }
   ],
   "source": [
    "display(dbutils.fs.ls('/databricks-datasets'))"
   ]
  },
  {
   "cell_type": "markdown",
   "metadata": {
    "application/vnd.databricks.v1+cell": {
     "cellMetadata": {},
     "inputWidgets": {},
     "nuid": "b978df51-8d0a-47ac-bc12-55389f2b1de4",
     "showTitle": false,
     "title": ""
    }
   },
   "source": [
    "## Tải dữ liệu mẫu"
   ]
  },
  {
   "cell_type": "code",
   "execution_count": 0,
   "metadata": {
    "application/vnd.databricks.v1+cell": {
     "cellMetadata": {
      "byteLimit": 2048000,
      "rowLimit": 10000
     },
     "inputWidgets": {},
     "nuid": "ee2315a9-8bab-47e6-a536-e762826a7105",
     "showTitle": false,
     "title": ""
    }
   },
   "outputs": [
    {
     "output_type": "display_data",
     "data": {
      "text/html": [
       "<style scoped>\n",
       "  .table-result-container {\n",
       "    max-height: 300px;\n",
       "    overflow: auto;\n",
       "  }\n",
       "  table, th, td {\n",
       "    border: 1px solid black;\n",
       "    border-collapse: collapse;\n",
       "  }\n",
       "  th, td {\n",
       "    padding: 5px;\n",
       "  }\n",
       "  th {\n",
       "    text-align: left;\n",
       "  }\n",
       "</style><div class='table-result-container'><table class='table-result'><thead style='background-color: white'><tr><th>path</th><th>name</th><th>size</th><th>modificationTime</th></tr></thead><tbody><tr><td>dbfs:/databricks-datasets/samples/population-vs-price/data_geo.csv</td><td>data_geo.csv</td><td>10952</td><td>1456359632000</td></tr></tbody></table></div>"
      ]
     },
     "metadata": {
      "application/vnd.databricks.v1+output": {
       "addedWidgets": {},
       "aggData": [],
       "aggError": "",
       "aggOverflow": false,
       "aggSchema": [],
       "aggSeriesLimitReached": false,
       "aggType": "",
       "arguments": {},
       "columnCustomDisplayInfos": {},
       "data": [
        [
         "dbfs:/databricks-datasets/samples/population-vs-price/data_geo.csv",
         "data_geo.csv",
         10952,
         1456359632000
        ]
       ],
       "datasetInfos": [],
       "dbfsResultPath": null,
       "isJsonSchema": true,
       "metadata": {},
       "overflow": false,
       "plotOptions": {
        "customPlotOptions": {},
        "displayType": "table",
        "pivotAggregation": null,
        "pivotColumns": null,
        "xColumns": null,
        "yColumns": null
       },
       "removedWidgets": [],
       "schema": [
        {
         "metadata": "{}",
         "name": "path",
         "type": "\"string\""
        },
        {
         "metadata": "{}",
         "name": "name",
         "type": "\"string\""
        },
        {
         "metadata": "{}",
         "name": "size",
         "type": "\"long\""
        },
        {
         "metadata": "{}",
         "name": "modificationTime",
         "type": "\"long\""
        }
       ],
       "type": "table"
      }
     },
     "output_type": "display_data"
    }
   ],
   "source": [
    "display(dbutils.fs.ls('/databricks-datasets/samples/population-vs-price/data_geo.csv'))"
   ]
  },
  {
   "cell_type": "code",
   "execution_count": 0,
   "metadata": {
    "application/vnd.databricks.v1+cell": {
     "cellMetadata": {
      "byteLimit": 2048000,
      "rowLimit": 10000
     },
     "inputWidgets": {},
     "nuid": "936a4546-5225-443b-9ac5-658e54be9712",
     "showTitle": false,
     "title": ""
    }
   },
   "outputs": [
    {
     "output_type": "stream",
     "name": "stdout",
     "output_type": "stream",
     "text": [
      "root\n |-- 2014 rank: integer (nullable = true)\n |-- City: string (nullable = true)\n |-- State: string (nullable = true)\n |-- State Code: string (nullable = true)\n |-- 2014 Population estimate: integer (nullable = true)\n |-- 2015 median sales price: double (nullable = true)\n\n"
     ]
    }
   ],
   "source": [
    "# SPARKSESSION\n",
    "# spark.read.format(\"csv\") : Đọc dữ liệu từ 1 tệp CSV\n",
    "# .option(\"header\", \"true\") : Lấy dòng đầu tiên của tệp CSV làm tên các cột\n",
    "# .option(\"inferSchema\", \"true\") : Tự động suy luận kiểu dữ liệu\n",
    "# .load(\"/databricks-datasets/samples/population-vs-price/data_geo.csv\") : Tải tệp CSV vào DataFrame\n",
    "\n",
    "data = spark.read.format(\"csv\").option(\"header\", \"true\").option(\"inferSchema\", \"true\").load(\"/databricks-datasets/samples/population-vs-price/data_geo.csv\")\n",
    "\n",
    "data.cache() # Lưu data vào bộ nhớ cache (Tăng tốc độ xử lý - ko cần đọc lại data từ tệp gốc hoặc thực hiện các phép tính trước đó)\n",
    "data = data.dropna() # Xóa các giá trị thiếu\n",
    "data.printSchema() # In ra cấu trúc của DataFrame\n"
   ]
  },
  {
   "cell_type": "code",
   "execution_count": 0,
   "metadata": {
    "application/vnd.databricks.v1+cell": {
     "cellMetadata": {
      "byteLimit": 2048000,
      "rowLimit": 10000
     },
     "inputWidgets": {},
     "nuid": "297592d3-d84d-4a8e-ac1d-4e944c300467",
     "showTitle": false,
     "title": ""
    }
   },
   "outputs": [
    {
     "output_type": "stream",
     "name": "stderr",
     "output_type": "stream",
     "text": [
      "/databricks/spark/python/pyspark/sql/context.py:117: FutureWarning: Deprecated in 3.0.0. Use SparkSession.builder.getOrCreate() instead.\n  warnings.warn(\n"
     ]
    },
    {
     "output_type": "stream",
     "name": "stdout",
     "output_type": "stream",
     "text": [
      "root\n |-- 2014 rank: integer (nullable = true)\n |-- City: string (nullable = true)\n |-- State: string (nullable = true)\n |-- State Code: string (nullable = true)\n |-- 2014 Population estimate: integer (nullable = true)\n |-- 2015 median sales price: double (nullable = true)\n\n"
     ]
    }
   ],
   "source": [
    "# SQLCONTEXT\n",
    "from pyspark.sql import SQLContext\n",
    "sqlContext = SQLContext(sc)\n",
    "pop = sqlContext.read.csv(\"/databricks-datasets/samples/population-vs-price/data_geo.csv\", header=\"true\", inferSchema=\"true\")\n",
    "pop.printSchema()"
   ]
  },
  {
   "cell_type": "markdown",
   "metadata": {
    "application/vnd.databricks.v1+cell": {
     "cellMetadata": {},
     "inputWidgets": {},
     "nuid": "54f204d5-eb18-4809-9433-35ca2bbee74a",
     "showTitle": false,
     "title": ""
    }
   },
   "source": [
    "SQLContext là phiên bản cũ và giới hạn trong việc thao tác với SQL và DataFrame. SparkSession đã thay thế SQLContext và tích hợp nhiều chức năng hơn, giúp quản lý các tác vụ phức tạp và linh hoạt hơn trong việc sử dụng. Nếu bạn đang làm việc với Spark phiên bản mới (2.x trở lên), bạn nên sử dụng SparkSession để tận dụng tối đa các tính năng của Spark."
   ]
  },
  {
   "cell_type": "markdown",
   "metadata": {
    "application/vnd.databricks.v1+cell": {
     "cellMetadata": {},
     "inputWidgets": {},
     "nuid": "210bb5f3-35b4-44ca-b644-c610fc436dd9",
     "showTitle": false,
     "title": ""
    }
   },
   "source": [
    "## Xem DataFrame"
   ]
  },
  {
   "cell_type": "code",
   "execution_count": 0,
   "metadata": {
    "application/vnd.databricks.v1+cell": {
     "cellMetadata": {
      "byteLimit": 2048000,
      "rowLimit": 10000
     },
     "inputWidgets": {},
     "nuid": "f3d47c6b-42b0-41ab-a816-966f96078425",
     "showTitle": false,
     "title": ""
    }
   },
   "outputs": [
    {
     "output_type": "stream",
     "name": "stdout",
     "output_type": "stream",
     "text": [
      "Out[19]: [Row(2014 rank=101, City='Birmingham', State='Alabama', State Code='AL', 2014 Population estimate=212247, 2015 median sales price=162.9),\n Row(2014 rank=125, City='Huntsville', State='Alabama', State Code='AL', 2014 Population estimate=188226, 2015 median sales price=157.7),\n Row(2014 rank=122, City='Mobile', State='Alabama', State Code='AL', 2014 Population estimate=194675, 2015 median sales price=122.5),\n Row(2014 rank=114, City='Montgomery', State='Alabama', State Code='AL', 2014 Population estimate=200481, 2015 median sales price=129.0),\n Row(2014 rank=6, City='Phoenix', State='Arizona', State Code='AZ', 2014 Population estimate=1537058, 2015 median sales price=206.1),\n Row(2014 rank=33, City='Tucson', State='Arizona', State Code='AZ', 2014 Population estimate=527972, 2015 median sales price=178.1),\n Row(2014 rank=119, City='Little Rock', State='Arkansas', State Code='AR', 2014 Population estimate=197706, 2015 median sales price=131.8),\n Row(2014 rank=56, City='Anaheim', State='California', State Code='CA', 2014 Population estimate=346997, 2015 median sales price=685.7),\n Row(2014 rank=2, City='Los Angeles', State='California', State Code='CA', 2014 Population estimate=3928864, 2015 median sales price=434.7),\n Row(2014 rank=59, City='Riverside', State='California', State Code='CA', 2014 Population estimate=319504, 2015 median sales price=281.0)]"
     ]
    }
   ],
   "source": [
    "data.take(10)"
   ]
  },
  {
   "cell_type": "code",
   "execution_count": 0,
   "metadata": {
    "application/vnd.databricks.v1+cell": {
     "cellMetadata": {
      "byteLimit": 2048000,
      "rowLimit": 10000
     },
     "inputWidgets": {},
     "nuid": "f481f89c-5f77-42c5-9abb-7679e23a65e9",
     "showTitle": false,
     "title": ""
    }
   },
   "outputs": [
    {
     "output_type": "stream",
     "name": "stdout",
     "output_type": "stream",
     "text": [
      "+---------+-----------------+-----------+----------+------------------------+-----------------------+\n|2014 rank|             City|      State|State Code|2014 Population estimate|2015 median sales price|\n+---------+-----------------+-----------+----------+------------------------+-----------------------+\n|      101|       Birmingham|    Alabama|        AL|                  212247|                  162.9|\n|      125|       Huntsville|    Alabama|        AL|                  188226|                  157.7|\n|      122|           Mobile|    Alabama|        AL|                  194675|                  122.5|\n|      114|       Montgomery|    Alabama|        AL|                  200481|                  129.0|\n|        6|          Phoenix|    Arizona|        AZ|                 1537058|                  206.1|\n|       33|           Tucson|    Arizona|        AZ|                  527972|                  178.1|\n|      119|      Little Rock|   Arkansas|        AR|                  197706|                  131.8|\n|       56|          Anaheim| California|        CA|                  346997|                  685.7|\n|        2|      Los Angeles| California|        CA|                 3928864|                  434.7|\n|       59|        Riverside| California|        CA|                  319504|                  281.0|\n|       35|       Sacramento| California|        CA|                  485199|                  275.8|\n|        8|        San Diego| California|        CA|                 1381069|                  510.3|\n|       13|San Francisco[10]| California|        CA|                  852469|                  748.3|\n|       10|         San Jose| California|        CA|                 1015785|                  900.0|\n|      278|          Boulder|   Colorado|        CO|                  105112|                  442.2|\n|       42| Colorado Springs|   Colorado|        CO|                  445830|                  220.1|\n|       21|       Denver[12]|   Colorado|        CO|                  663862|                  338.1|\n|      175|       Bridgeport|Connecticut|        CT|                  147612|                  342.7|\n|      218|         Hartford|Connecticut|        CT|                  124705|                  202.6|\n|      198|        New Haven|Connecticut|        CT|                  130282|                  205.1|\n+---------+-----------------+-----------+----------+------------------------+-----------------------+\nonly showing top 20 rows\n\n"
     ]
    }
   ],
   "source": [
    "data.show()"
   ]
  },
  {
   "cell_type": "code",
   "execution_count": 0,
   "metadata": {
    "application/vnd.databricks.v1+cell": {
     "cellMetadata": {
      "byteLimit": 2048000,
      "rowLimit": 10000
     },
     "inputWidgets": {},
     "nuid": "8a93bc4e-20f5-4db3-9142-62ba72bd6ff4",
     "showTitle": false,
     "title": ""
    }
   },
   "outputs": [
    {
     "output_type": "display_data",
     "data": {
      "text/html": [
       "<style scoped>\n",
       "  .table-result-container {\n",
       "    max-height: 300px;\n",
       "    overflow: auto;\n",
       "  }\n",
       "  table, th, td {\n",
       "    border: 1px solid black;\n",
       "    border-collapse: collapse;\n",
       "  }\n",
       "  th, td {\n",
       "    padding: 5px;\n",
       "  }\n",
       "  th {\n",
       "    text-align: left;\n",
       "  }\n",
       "</style><div class='table-result-container'><table class='table-result'><thead style='background-color: white'><tr><th>2014 rank</th><th>City</th><th>State</th><th>State Code</th><th>2014 Population estimate</th><th>2015 median sales price</th></tr></thead><tbody><tr><td>101</td><td>Birmingham</td><td>Alabama</td><td>AL</td><td>212247</td><td>162.9</td></tr><tr><td>125</td><td>Huntsville</td><td>Alabama</td><td>AL</td><td>188226</td><td>157.7</td></tr><tr><td>122</td><td>Mobile</td><td>Alabama</td><td>AL</td><td>194675</td><td>122.5</td></tr><tr><td>114</td><td>Montgomery</td><td>Alabama</td><td>AL</td><td>200481</td><td>129.0</td></tr><tr><td>6</td><td>Phoenix</td><td>Arizona</td><td>AZ</td><td>1537058</td><td>206.1</td></tr><tr><td>33</td><td>Tucson</td><td>Arizona</td><td>AZ</td><td>527972</td><td>178.1</td></tr><tr><td>119</td><td>Little Rock</td><td>Arkansas</td><td>AR</td><td>197706</td><td>131.8</td></tr><tr><td>56</td><td>Anaheim</td><td>California</td><td>CA</td><td>346997</td><td>685.7</td></tr><tr><td>2</td><td>Los Angeles</td><td>California</td><td>CA</td><td>3928864</td><td>434.7</td></tr><tr><td>59</td><td>Riverside</td><td>California</td><td>CA</td><td>319504</td><td>281.0</td></tr><tr><td>35</td><td>Sacramento</td><td>California</td><td>CA</td><td>485199</td><td>275.8</td></tr><tr><td>8</td><td>San Diego</td><td>California</td><td>CA</td><td>1381069</td><td>510.3</td></tr><tr><td>13</td><td>San Francisco[10]</td><td>California</td><td>CA</td><td>852469</td><td>748.3</td></tr><tr><td>10</td><td>San Jose</td><td>California</td><td>CA</td><td>1015785</td><td>900.0</td></tr><tr><td>278</td><td>Boulder</td><td>Colorado</td><td>CO</td><td>105112</td><td>442.2</td></tr><tr><td>42</td><td>Colorado Springs</td><td>Colorado</td><td>CO</td><td>445830</td><td>220.1</td></tr><tr><td>21</td><td>Denver[12]</td><td>Colorado</td><td>CO</td><td>663862</td><td>338.1</td></tr><tr><td>175</td><td>Bridgeport</td><td>Connecticut</td><td>CT</td><td>147612</td><td>342.7</td></tr><tr><td>218</td><td>Hartford</td><td>Connecticut</td><td>CT</td><td>124705</td><td>202.6</td></tr><tr><td>198</td><td>New Haven</td><td>Connecticut</td><td>CT</td><td>130282</td><td>205.1</td></tr><tr><td>22</td><td>Washington[13]</td><td>District of Columbia</td><td>DC</td><td>658893</td><td>367.8</td></tr><tr><td>144</td><td>Cape Coral</td><td>Florida</td><td>FL</td><td>169854</td><td>208.0</td></tr><tr><td>206</td><td>Gainesville</td><td>Florida</td><td>FL</td><td>128460</td><td>169.9</td></tr><tr><td>12</td><td>Jacksonville[9]</td><td>Florida</td><td>FL</td><td>853382</td><td>182.5</td></tr><tr><td>290</td><td>Lakeland</td><td>Florida</td><td>FL</td><td>102346</td><td>136.0</td></tr><tr><td>44</td><td>Miami</td><td>Florida</td><td>FL</td><td>430332</td><td>269.1</td></tr><tr><td>275</td><td>Palm Bay</td><td>Florida</td><td>FL</td><td>105838</td><td>145.0</td></tr><tr><td>140</td><td>Port St. Lucie</td><td>Florida</td><td>FL</td><td>174110</td><td>172.0</td></tr><tr><td>126</td><td>Tallahassee</td><td>Florida</td><td>FL</td><td>188107</td><td>170.5</td></tr><tr><td>53</td><td>Tampa</td><td>Florida</td><td>FL</td><td>358699</td><td>156.0</td></tr><tr><td>39</td><td>Atlanta</td><td>Georgia</td><td>GA</td><td>456002</td><td>158.0</td></tr><tr><td>55</td><td>Honolulu[2]</td><td>Hawai'i</td><td>HI</td><td>350399</td><td>699.3</td></tr><tr><td>99</td><td>Boise[22]</td><td>Idaho</td><td>ID</td><td>216282</td><td>178.7</td></tr><tr><td>3</td><td>Chicago</td><td>Illinois</td><td>IL</td><td>2722389</td><td>192.5</td></tr><tr><td>236</td><td>Peoria</td><td>Illinois</td><td>IL</td><td>115828</td><td>105.2</td></tr><tr><td>171</td><td>Rockford</td><td>Illinois</td><td>IL</td><td>149123</td><td>78.6</td></tr><tr><td>233</td><td>Springfield</td><td>Illinois</td><td>IL</td><td>116809</td><td>115.2</td></tr><tr><td>77</td><td>Fort Wayne</td><td>Indiana</td><td>IN</td><td>258522</td><td>106.3</td></tr><tr><td>14</td><td>Indianapolis[11]</td><td>Indiana</td><td>IN</td><td>848788</td><td>139.2</td></tr><tr><td>203</td><td>Cedar Rapids</td><td>Iowa</td><td>IA</td><td>129195</td><td>156.9</td></tr><tr><td>289</td><td>Davenport</td><td>Iowa</td><td>IA</td><td>102448</td><td>109.4</td></tr><tr><td>213</td><td>Topeka</td><td>Kansas</td><td>KS</td><td>127215</td><td>105.3</td></tr><tr><td>49</td><td>Wichita</td><td>Kansas</td><td>KS</td><td>388413</td><td>126.0</td></tr><tr><td>61</td><td>Lexington[18]</td><td>Kentucky</td><td>KY</td><td>310797</td><td>141.2</td></tr><tr><td>30</td><td>Louisville[16]</td><td>Kentucky</td><td>KY</td><td>612780</td><td>141.1</td></tr><tr><td>96</td><td>Baton Rouge[21]</td><td>Louisiana</td><td>LA</td><td>228895</td><td>177.2</td></tr><tr><td>117</td><td>Shreveport</td><td>Louisiana</td><td>LA</td><td>198242</td><td>151.6</td></tr><tr><td>26</td><td>Baltimore[15]</td><td>Maryland</td><td>MD</td><td>622793</td><td>223.1</td></tr><tr><td>24</td><td>Boston</td><td>Massachusetts</td><td>MA</td><td>655884</td><td>374.6</td></tr><tr><td>162</td><td>Springfield</td><td>Massachusetts</td><td>MA</td><td>153991</td><td>183.9</td></tr><tr><td>131</td><td>Worcester</td><td>Massachusetts</td><td>MA</td><td>183016</td><td>226.9</td></tr><tr><td>238</td><td>Lansing</td><td>Michigan</td><td>MI</td><td>114620</td><td>114.6</td></tr><tr><td>46</td><td>Minneapolis</td><td>Minnesota</td><td>MN</td><td>407207</td><td>209.4</td></tr><tr><td>143</td><td>Jackson</td><td>Mississippi</td><td>MS</td><td>171155</td><td>154.1</td></tr><tr><td>37</td><td>Kansas City</td><td>Missouri</td><td>MO</td><td>470800</td><td>153.0</td></tr><tr><td>149</td><td>Springfield</td><td>Missouri</td><td>MO</td><td>165378</td><td>116.5</td></tr><tr><td>72</td><td>Lincoln</td><td>Nebraska</td><td>NE</td><td>272996</td><td>150.2</td></tr><tr><td>41</td><td>Omaha</td><td>Nebraska</td><td>NE</td><td>446599</td><td>148.1</td></tr><tr><td>29</td><td>Las Vegas</td><td>Nevada</td><td>NV</td><td>613599</td><td>205.9</td></tr><tr><td>89</td><td>Reno</td><td>Nevada</td><td>NV</td><td>236995</td><td>268.7</td></tr><tr><td>254</td><td>Manchester</td><td>New Hampshire</td><td>NH</td><td>110448</td><td>237.4</td></tr><tr><td>69</td><td>Newark</td><td>New Jersey</td><td>NJ</td><td>280579</td><td>350.8</td></tr><tr><td>32</td><td>Albuquerque</td><td>New Mexico</td><td>NM</td><td>557169</td><td>172.2</td></tr><tr><td>76</td><td>Buffalo</td><td>New York</td><td>NY</td><td>258703</td><td>117.3</td></tr><tr><td>1</td><td>New York[6]</td><td>New York</td><td>NY</td><td>8491079</td><td>388.6</td></tr><tr><td>103</td><td>Rochester</td><td>New York</td><td>NY</td><td>209983</td><td>118.9</td></tr><tr><td>182</td><td>Syracuse</td><td>New York</td><td>NY</td><td>144263</td><td>118.3</td></tr><tr><td>17</td><td>Charlotte</td><td>North Carolina</td><td>NC</td><td>809958</td><td>197.2</td></tr><tr><td>81</td><td>Durham</td><td>North Carolina</td><td>NC</td><td>251893</td><td>196.9</td></tr><tr><td>109</td><td>Fayetteville</td><td>North Carolina</td><td>NC</td><td>203948</td><td>145.0</td></tr><tr><td>67</td><td>Greensboro</td><td>North Carolina</td><td>NC</td><td>282586</td><td>138.3</td></tr><tr><td>43</td><td>Raleigh</td><td>North Carolina</td><td>NC</td><td>439896</td><td>218.9</td></tr><tr><td>241</td><td>Wilmington</td><td>North Carolina</td><td>NC</td><td>113657</td><td>197.5</td></tr><tr><td>87</td><td>Winston�Salem</td><td>North Carolina</td><td>NC</td><td>239269</td><td>138.6</td></tr><tr><td>235</td><td>Fargo</td><td>North Dakota</td><td>ND</td><td>115863</td><td>180.0</td></tr><tr><td>118</td><td>Akron</td><td>Ohio</td><td>OH</td><td>197859</td><td>95.4</td></tr><tr><td>65</td><td>Cincinnati</td><td>Ohio</td><td>OH</td><td>298165</td><td>135.0</td></tr><tr><td>48</td><td>Cleveland</td><td>Ohio</td><td>OH</td><td>389521</td><td>105.9</td></tr><tr><td>15</td><td>Columbus</td><td>Ohio</td><td>OH</td><td>835957</td><td>149.9</td></tr><tr><td>183</td><td>Dayton</td><td>Ohio</td><td>OH</td><td>141003</td><td>107.2</td></tr><tr><td>68</td><td>Toledo</td><td>Ohio</td><td>OH</td><td>281031</td><td>83.8</td></tr><tr><td>47</td><td>Tulsa</td><td>Oklahoma</td><td>OK</td><td>399682</td><td>145.1</td></tr><tr><td>155</td><td>Eugene</td><td>Oregon</td><td>OR</td><td>160561</td><td>211.3</td></tr><tr><td>28</td><td>Portland</td><td>Oregon</td><td>OR</td><td>619360</td><td>289.4</td></tr><tr><td>152</td><td>Salem</td><td>Oregon</td><td>OR</td><td>161637</td><td>193.9</td></tr><tr><td>226</td><td>Allentown</td><td>Pennsylvania</td><td>PA</td><td>119104</td><td>162.7</td></tr><tr><td>5</td><td>Philadelphia[8]</td><td>Pennsylvania</td><td>PA</td><td>1560297</td><td>204.9</td></tr><tr><td>134</td><td>Providence</td><td>Rhode Island</td><td>RI</td><td>179154</td><td>233.3</td></tr><tr><td>147</td><td>Sioux Falls</td><td>South Dakota</td><td>SD</td><td>168586</td><td>159.5</td></tr><tr><td>141</td><td>Chattanooga</td><td>Tennessee</td><td>TN</td><td>173778</td><td>143.6</td></tr><tr><td>129</td><td>Knoxville</td><td>Tennessee</td><td>TN</td><td>184281</td><td>149.2</td></tr><tr><td>23</td><td>Memphis</td><td>Tennessee</td><td>TN</td><td>656861</td><td>132.1</td></tr><tr><td>25</td><td>Nashville[14]</td><td>Tennessee</td><td>TN</td><td>644014</td><td>186.4</td></tr><tr><td>221</td><td>Abilene</td><td>Texas</td><td>TX</td><td>120958</td><td>145.7</td></tr><tr><td>120</td><td>Amarillo</td><td>Texas</td><td>TX</td><td>197254</td><td>144.4</td></tr><tr><td>11</td><td>Austin</td><td>Texas</td><td>TX</td><td>912791</td><td>249.1</td></tr><tr><td>230</td><td>Beaumont</td><td>Texas</td><td>TX</td><td>117585</td><td>133.3</td></tr><tr><td>58</td><td>Corpus Christi</td><td>Texas</td><td>TX</td><td>320434</td><td>172.9</td></tr><tr><td>9</td><td>Dallas</td><td>Texas</td><td>TX</td><td>1281047</td><td>192.5</td></tr><tr><td>19</td><td>El Paso</td><td>Texas</td><td>TX</td><td>679036</td><td>138.4</td></tr><tr><td>4</td><td>Houston[7]</td><td>Texas</td><td>TX</td><td>2239558</td><td>200.3</td></tr><tr><td>7</td><td>San Antonio</td><td>Texas</td><td>TX</td><td>1436697</td><td>184.7</td></tr><tr><td>124</td><td>Salt Lake City</td><td>Utah</td><td>UT</td><td>190884</td><td>243.3</td></tr><tr><td>98</td><td>Richmond[15]</td><td>Virginia</td><td>VA</td><td>217853</td><td>212.5</td></tr><tr><td>40</td><td>Virginia Beach[15]</td><td>Virginia</td><td>VA</td><td>450980</td><td>190.0</td></tr><tr><td>20</td><td>Seattle</td><td>Washington</td><td>WA</td><td>668342</td><td>352.4</td></tr><tr><td>102</td><td>Spokane</td><td>Washington</td><td>WA</td><td>212052</td><td>180.2</td></tr><tr><td>83</td><td>Madison</td><td>Wisconsin</td><td>WI</td><td>245691</td><td>226.2</td></tr><tr><td>31</td><td>Milwaukee</td><td>Wisconsin</td><td>WI</td><td>599642</td><td>195.4</td></tr></tbody></table></div>"
      ]
     },
     "metadata": {
      "application/vnd.databricks.v1+output": {
       "addedWidgets": {},
       "aggData": [],
       "aggError": "",
       "aggOverflow": false,
       "aggSchema": [],
       "aggSeriesLimitReached": false,
       "aggType": "",
       "arguments": {},
       "columnCustomDisplayInfos": {},
       "data": [
        [
         101,
         "Birmingham",
         "Alabama",
         "AL",
         212247,
         162.9
        ],
        [
         125,
         "Huntsville",
         "Alabama",
         "AL",
         188226,
         157.7
        ],
        [
         122,
         "Mobile",
         "Alabama",
         "AL",
         194675,
         122.5
        ],
        [
         114,
         "Montgomery",
         "Alabama",
         "AL",
         200481,
         129.0
        ],
        [
         6,
         "Phoenix",
         "Arizona",
         "AZ",
         1537058,
         206.1
        ],
        [
         33,
         "Tucson",
         "Arizona",
         "AZ",
         527972,
         178.1
        ],
        [
         119,
         "Little Rock",
         "Arkansas",
         "AR",
         197706,
         131.8
        ],
        [
         56,
         "Anaheim",
         "California",
         "CA",
         346997,
         685.7
        ],
        [
         2,
         "Los Angeles",
         "California",
         "CA",
         3928864,
         434.7
        ],
        [
         59,
         "Riverside",
         "California",
         "CA",
         319504,
         281.0
        ],
        [
         35,
         "Sacramento",
         "California",
         "CA",
         485199,
         275.8
        ],
        [
         8,
         "San Diego",
         "California",
         "CA",
         1381069,
         510.3
        ],
        [
         13,
         "San Francisco[10]",
         "California",
         "CA",
         852469,
         748.3
        ],
        [
         10,
         "San Jose",
         "California",
         "CA",
         1015785,
         900.0
        ],
        [
         278,
         "Boulder",
         "Colorado",
         "CO",
         105112,
         442.2
        ],
        [
         42,
         "Colorado Springs",
         "Colorado",
         "CO",
         445830,
         220.1
        ],
        [
         21,
         "Denver[12]",
         "Colorado",
         "CO",
         663862,
         338.1
        ],
        [
         175,
         "Bridgeport",
         "Connecticut",
         "CT",
         147612,
         342.7
        ],
        [
         218,
         "Hartford",
         "Connecticut",
         "CT",
         124705,
         202.6
        ],
        [
         198,
         "New Haven",
         "Connecticut",
         "CT",
         130282,
         205.1
        ],
        [
         22,
         "Washington[13]",
         "District of Columbia",
         "DC",
         658893,
         367.8
        ],
        [
         144,
         "Cape Coral",
         "Florida",
         "FL",
         169854,
         208.0
        ],
        [
         206,
         "Gainesville",
         "Florida",
         "FL",
         128460,
         169.9
        ],
        [
         12,
         "Jacksonville[9]",
         "Florida",
         "FL",
         853382,
         182.5
        ],
        [
         290,
         "Lakeland",
         "Florida",
         "FL",
         102346,
         136.0
        ],
        [
         44,
         "Miami",
         "Florida",
         "FL",
         430332,
         269.1
        ],
        [
         275,
         "Palm Bay",
         "Florida",
         "FL",
         105838,
         145.0
        ],
        [
         140,
         "Port St. Lucie",
         "Florida",
         "FL",
         174110,
         172.0
        ],
        [
         126,
         "Tallahassee",
         "Florida",
         "FL",
         188107,
         170.5
        ],
        [
         53,
         "Tampa",
         "Florida",
         "FL",
         358699,
         156.0
        ],
        [
         39,
         "Atlanta",
         "Georgia",
         "GA",
         456002,
         158.0
        ],
        [
         55,
         "Honolulu[2]",
         "Hawai'i",
         "HI",
         350399,
         699.3
        ],
        [
         99,
         "Boise[22]",
         "Idaho",
         "ID",
         216282,
         178.7
        ],
        [
         3,
         "Chicago",
         "Illinois",
         "IL",
         2722389,
         192.5
        ],
        [
         236,
         "Peoria",
         "Illinois",
         "IL",
         115828,
         105.2
        ],
        [
         171,
         "Rockford",
         "Illinois",
         "IL",
         149123,
         78.6
        ],
        [
         233,
         "Springfield",
         "Illinois",
         "IL",
         116809,
         115.2
        ],
        [
         77,
         "Fort Wayne",
         "Indiana",
         "IN",
         258522,
         106.3
        ],
        [
         14,
         "Indianapolis[11]",
         "Indiana",
         "IN",
         848788,
         139.2
        ],
        [
         203,
         "Cedar Rapids",
         "Iowa",
         "IA",
         129195,
         156.9
        ],
        [
         289,
         "Davenport",
         "Iowa",
         "IA",
         102448,
         109.4
        ],
        [
         213,
         "Topeka",
         "Kansas",
         "KS",
         127215,
         105.3
        ],
        [
         49,
         "Wichita",
         "Kansas",
         "KS",
         388413,
         126.0
        ],
        [
         61,
         "Lexington[18]",
         "Kentucky",
         "KY",
         310797,
         141.2
        ],
        [
         30,
         "Louisville[16]",
         "Kentucky",
         "KY",
         612780,
         141.1
        ],
        [
         96,
         "Baton Rouge[21]",
         "Louisiana",
         "LA",
         228895,
         177.2
        ],
        [
         117,
         "Shreveport",
         "Louisiana",
         "LA",
         198242,
         151.6
        ],
        [
         26,
         "Baltimore[15]",
         "Maryland",
         "MD",
         622793,
         223.1
        ],
        [
         24,
         "Boston",
         "Massachusetts",
         "MA",
         655884,
         374.6
        ],
        [
         162,
         "Springfield",
         "Massachusetts",
         "MA",
         153991,
         183.9
        ],
        [
         131,
         "Worcester",
         "Massachusetts",
         "MA",
         183016,
         226.9
        ],
        [
         238,
         "Lansing",
         "Michigan",
         "MI",
         114620,
         114.6
        ],
        [
         46,
         "Minneapolis",
         "Minnesota",
         "MN",
         407207,
         209.4
        ],
        [
         143,
         "Jackson",
         "Mississippi",
         "MS",
         171155,
         154.1
        ],
        [
         37,
         "Kansas City",
         "Missouri",
         "MO",
         470800,
         153.0
        ],
        [
         149,
         "Springfield",
         "Missouri",
         "MO",
         165378,
         116.5
        ],
        [
         72,
         "Lincoln",
         "Nebraska",
         "NE",
         272996,
         150.2
        ],
        [
         41,
         "Omaha",
         "Nebraska",
         "NE",
         446599,
         148.1
        ],
        [
         29,
         "Las Vegas",
         "Nevada",
         "NV",
         613599,
         205.9
        ],
        [
         89,
         "Reno",
         "Nevada",
         "NV",
         236995,
         268.7
        ],
        [
         254,
         "Manchester",
         "New Hampshire",
         "NH",
         110448,
         237.4
        ],
        [
         69,
         "Newark",
         "New Jersey",
         "NJ",
         280579,
         350.8
        ],
        [
         32,
         "Albuquerque",
         "New Mexico",
         "NM",
         557169,
         172.2
        ],
        [
         76,
         "Buffalo",
         "New York",
         "NY",
         258703,
         117.3
        ],
        [
         1,
         "New York[6]",
         "New York",
         "NY",
         8491079,
         388.6
        ],
        [
         103,
         "Rochester",
         "New York",
         "NY",
         209983,
         118.9
        ],
        [
         182,
         "Syracuse",
         "New York",
         "NY",
         144263,
         118.3
        ],
        [
         17,
         "Charlotte",
         "North Carolina",
         "NC",
         809958,
         197.2
        ],
        [
         81,
         "Durham",
         "North Carolina",
         "NC",
         251893,
         196.9
        ],
        [
         109,
         "Fayetteville",
         "North Carolina",
         "NC",
         203948,
         145.0
        ],
        [
         67,
         "Greensboro",
         "North Carolina",
         "NC",
         282586,
         138.3
        ],
        [
         43,
         "Raleigh",
         "North Carolina",
         "NC",
         439896,
         218.9
        ],
        [
         241,
         "Wilmington",
         "North Carolina",
         "NC",
         113657,
         197.5
        ],
        [
         87,
         "Winston�Salem",
         "North Carolina",
         "NC",
         239269,
         138.6
        ],
        [
         235,
         "Fargo",
         "North Dakota",
         "ND",
         115863,
         180.0
        ],
        [
         118,
         "Akron",
         "Ohio",
         "OH",
         197859,
         95.4
        ],
        [
         65,
         "Cincinnati",
         "Ohio",
         "OH",
         298165,
         135.0
        ],
        [
         48,
         "Cleveland",
         "Ohio",
         "OH",
         389521,
         105.9
        ],
        [
         15,
         "Columbus",
         "Ohio",
         "OH",
         835957,
         149.9
        ],
        [
         183,
         "Dayton",
         "Ohio",
         "OH",
         141003,
         107.2
        ],
        [
         68,
         "Toledo",
         "Ohio",
         "OH",
         281031,
         83.8
        ],
        [
         47,
         "Tulsa",
         "Oklahoma",
         "OK",
         399682,
         145.1
        ],
        [
         155,
         "Eugene",
         "Oregon",
         "OR",
         160561,
         211.3
        ],
        [
         28,
         "Portland",
         "Oregon",
         "OR",
         619360,
         289.4
        ],
        [
         152,
         "Salem",
         "Oregon",
         "OR",
         161637,
         193.9
        ],
        [
         226,
         "Allentown",
         "Pennsylvania",
         "PA",
         119104,
         162.7
        ],
        [
         5,
         "Philadelphia[8]",
         "Pennsylvania",
         "PA",
         1560297,
         204.9
        ],
        [
         134,
         "Providence",
         "Rhode Island",
         "RI",
         179154,
         233.3
        ],
        [
         147,
         "Sioux Falls",
         "South Dakota",
         "SD",
         168586,
         159.5
        ],
        [
         141,
         "Chattanooga",
         "Tennessee",
         "TN",
         173778,
         143.6
        ],
        [
         129,
         "Knoxville",
         "Tennessee",
         "TN",
         184281,
         149.2
        ],
        [
         23,
         "Memphis",
         "Tennessee",
         "TN",
         656861,
         132.1
        ],
        [
         25,
         "Nashville[14]",
         "Tennessee",
         "TN",
         644014,
         186.4
        ],
        [
         221,
         "Abilene",
         "Texas",
         "TX",
         120958,
         145.7
        ],
        [
         120,
         "Amarillo",
         "Texas",
         "TX",
         197254,
         144.4
        ],
        [
         11,
         "Austin",
         "Texas",
         "TX",
         912791,
         249.1
        ],
        [
         230,
         "Beaumont",
         "Texas",
         "TX",
         117585,
         133.3
        ],
        [
         58,
         "Corpus Christi",
         "Texas",
         "TX",
         320434,
         172.9
        ],
        [
         9,
         "Dallas",
         "Texas",
         "TX",
         1281047,
         192.5
        ],
        [
         19,
         "El Paso",
         "Texas",
         "TX",
         679036,
         138.4
        ],
        [
         4,
         "Houston[7]",
         "Texas",
         "TX",
         2239558,
         200.3
        ],
        [
         7,
         "San Antonio",
         "Texas",
         "TX",
         1436697,
         184.7
        ],
        [
         124,
         "Salt Lake City",
         "Utah",
         "UT",
         190884,
         243.3
        ],
        [
         98,
         "Richmond[15]",
         "Virginia",
         "VA",
         217853,
         212.5
        ],
        [
         40,
         "Virginia Beach[15]",
         "Virginia",
         "VA",
         450980,
         190.0
        ],
        [
         20,
         "Seattle",
         "Washington",
         "WA",
         668342,
         352.4
        ],
        [
         102,
         "Spokane",
         "Washington",
         "WA",
         212052,
         180.2
        ],
        [
         83,
         "Madison",
         "Wisconsin",
         "WI",
         245691,
         226.2
        ],
        [
         31,
         "Milwaukee",
         "Wisconsin",
         "WI",
         599642,
         195.4
        ]
       ],
       "datasetInfos": [],
       "dbfsResultPath": null,
       "isJsonSchema": true,
       "metadata": {},
       "overflow": false,
       "plotOptions": {
        "customPlotOptions": {},
        "displayType": "table",
        "pivotAggregation": null,
        "pivotColumns": null,
        "xColumns": null,
        "yColumns": null
       },
       "removedWidgets": [],
       "schema": [
        {
         "metadata": "{}",
         "name": "2014 rank",
         "type": "\"integer\""
        },
        {
         "metadata": "{}",
         "name": "City",
         "type": "\"string\""
        },
        {
         "metadata": "{}",
         "name": "State",
         "type": "\"string\""
        },
        {
         "metadata": "{}",
         "name": "State Code",
         "type": "\"string\""
        },
        {
         "metadata": "{}",
         "name": "2014 Population estimate",
         "type": "\"integer\""
        },
        {
         "metadata": "{}",
         "name": "2015 median sales price",
         "type": "\"double\""
        }
       ],
       "type": "table"
      }
     },
     "output_type": "display_data"
    }
   ],
   "source": [
    "display(data)"
   ]
  },
  {
   "cell_type": "markdown",
   "metadata": {
    "application/vnd.databricks.v1+cell": {
     "cellMetadata": {},
     "inputWidgets": {},
     "nuid": "5e26c3e3-ef1f-4925-8f23-4145e8d6972b",
     "showTitle": false,
     "title": ""
    }
   },
   "source": [
    "## Chạy truy vấn SQL "
   ]
  },
  {
   "cell_type": "code",
   "execution_count": 0,
   "metadata": {
    "application/vnd.databricks.v1+cell": {
     "cellMetadata": {
      "byteLimit": 2048000,
      "rowLimit": 10000
     },
     "inputWidgets": {},
     "nuid": "ed16fe6e-3330-4ef0-b5ec-d04aabda558b",
     "showTitle": false,
     "title": ""
    }
   },
   "outputs": [],
   "source": [
    "# Lưu data DataFrame dưới dạng bảng tạm thời\n",
    "data.createOrReplaceTempView(\"data_geo\")"
   ]
  },
  {
   "cell_type": "markdown",
   "metadata": {
    "application/vnd.databricks.v1+cell": {
     "cellMetadata": {},
     "inputWidgets": {},
     "nuid": "192cf9c5-7f42-47da-acc6-f791806ea1fc",
     "showTitle": false,
     "title": ""
    }
   },
   "source": [
    "Lợi ích:\n",
    "- Cho phép bạn sử dụng câu truy vấn SQL trực tiếp trên DataFrame mà không cần phải chuyển đổi cấu trúc dữ liệu.\n",
    "- Hữu ích khi bạn cần thực hiện các truy vấn phức tạp với cú pháp SQL hoặc muốn tận dụng các tính năng của SQL như JOIN, GROUP BY, HAVING, v.v.\n",
    "- Tính năng này rất thuận tiện khi kết hợp với các hệ thống khác cần truy vấn dữ liệu bằng SQL, chẳng hạn như Hive."
   ]
  },
  {
   "cell_type": "markdown",
   "metadata": {
    "application/vnd.databricks.v1+cell": {
     "cellMetadata": {},
     "inputWidgets": {},
     "nuid": "7e38d860-0165-4347-8f03-d68489e4fa06",
     "showTitle": false,
     "title": ""
    }
   },
   "source": [
    "### Liệt kê giá bán trung bình năm 2015 theo tiểu bảng\n",
    " "
   ]
  },
  {
   "cell_type": "code",
   "execution_count": 0,
   "metadata": {
    "application/vnd.databricks.v1+cell": {
     "cellMetadata": {
      "byteLimit": 2048000,
      "implicitDf": true,
      "rowLimit": 10000
     },
     "inputWidgets": {},
     "nuid": "2ed6d58f-1e7f-4e71-944c-3a2e27312a95",
     "showTitle": false,
     "title": ""
    }
   },
   "outputs": [
    {
     "output_type": "display_data",
     "data": {
      "text/html": [
       "<style scoped>\n",
       "  .table-result-container {\n",
       "    max-height: 300px;\n",
       "    overflow: auto;\n",
       "  }\n",
       "  table, th, td {\n",
       "    border: 1px solid black;\n",
       "    border-collapse: collapse;\n",
       "  }\n",
       "  th, td {\n",
       "    padding: 5px;\n",
       "  }\n",
       "  th {\n",
       "    text-align: left;\n",
       "  }\n",
       "</style><div class='table-result-container'><table class='table-result'><thead style='background-color: white'><tr><th>State Code</th><th>2015 median sales price</th></tr></thead><tbody><tr><td>AL</td><td>162.9</td></tr><tr><td>AL</td><td>157.7</td></tr><tr><td>AL</td><td>122.5</td></tr><tr><td>AL</td><td>129.0</td></tr><tr><td>AZ</td><td>206.1</td></tr><tr><td>AZ</td><td>178.1</td></tr><tr><td>AR</td><td>131.8</td></tr><tr><td>CA</td><td>685.7</td></tr><tr><td>CA</td><td>434.7</td></tr><tr><td>CA</td><td>281.0</td></tr><tr><td>CA</td><td>275.8</td></tr><tr><td>CA</td><td>510.3</td></tr><tr><td>CA</td><td>748.3</td></tr><tr><td>CA</td><td>900.0</td></tr><tr><td>CO</td><td>442.2</td></tr><tr><td>CO</td><td>220.1</td></tr><tr><td>CO</td><td>338.1</td></tr><tr><td>CT</td><td>342.7</td></tr><tr><td>CT</td><td>202.6</td></tr><tr><td>CT</td><td>205.1</td></tr><tr><td>DC</td><td>367.8</td></tr><tr><td>FL</td><td>208.0</td></tr><tr><td>FL</td><td>169.9</td></tr><tr><td>FL</td><td>182.5</td></tr><tr><td>FL</td><td>136.0</td></tr><tr><td>FL</td><td>269.1</td></tr><tr><td>FL</td><td>145.0</td></tr><tr><td>FL</td><td>172.0</td></tr><tr><td>FL</td><td>170.5</td></tr><tr><td>FL</td><td>156.0</td></tr><tr><td>GA</td><td>158.0</td></tr><tr><td>HI</td><td>699.3</td></tr><tr><td>ID</td><td>178.7</td></tr><tr><td>IL</td><td>192.5</td></tr><tr><td>IL</td><td>105.2</td></tr><tr><td>IL</td><td>78.6</td></tr><tr><td>IL</td><td>115.2</td></tr><tr><td>IN</td><td>106.3</td></tr><tr><td>IN</td><td>139.2</td></tr><tr><td>IA</td><td>156.9</td></tr><tr><td>IA</td><td>109.4</td></tr><tr><td>KS</td><td>105.3</td></tr><tr><td>KS</td><td>126.0</td></tr><tr><td>KY</td><td>141.2</td></tr><tr><td>KY</td><td>141.1</td></tr><tr><td>LA</td><td>177.2</td></tr><tr><td>LA</td><td>151.6</td></tr><tr><td>MD</td><td>223.1</td></tr><tr><td>MA</td><td>374.6</td></tr><tr><td>MA</td><td>183.9</td></tr><tr><td>MA</td><td>226.9</td></tr><tr><td>MI</td><td>114.6</td></tr><tr><td>MN</td><td>209.4</td></tr><tr><td>MS</td><td>154.1</td></tr><tr><td>MO</td><td>153.0</td></tr><tr><td>MO</td><td>116.5</td></tr><tr><td>NE</td><td>150.2</td></tr><tr><td>NE</td><td>148.1</td></tr><tr><td>NV</td><td>205.9</td></tr><tr><td>NV</td><td>268.7</td></tr><tr><td>NH</td><td>237.4</td></tr><tr><td>NJ</td><td>350.8</td></tr><tr><td>NM</td><td>172.2</td></tr><tr><td>NY</td><td>117.3</td></tr><tr><td>NY</td><td>388.6</td></tr><tr><td>NY</td><td>118.9</td></tr><tr><td>NY</td><td>118.3</td></tr><tr><td>NC</td><td>197.2</td></tr><tr><td>NC</td><td>196.9</td></tr><tr><td>NC</td><td>145.0</td></tr><tr><td>NC</td><td>138.3</td></tr><tr><td>NC</td><td>218.9</td></tr><tr><td>NC</td><td>197.5</td></tr><tr><td>NC</td><td>138.6</td></tr><tr><td>ND</td><td>180.0</td></tr><tr><td>OH</td><td>95.4</td></tr><tr><td>OH</td><td>135.0</td></tr><tr><td>OH</td><td>105.9</td></tr><tr><td>OH</td><td>149.9</td></tr><tr><td>OH</td><td>107.2</td></tr><tr><td>OH</td><td>83.8</td></tr><tr><td>OK</td><td>145.1</td></tr><tr><td>OR</td><td>211.3</td></tr><tr><td>OR</td><td>289.4</td></tr><tr><td>OR</td><td>193.9</td></tr><tr><td>PA</td><td>162.7</td></tr><tr><td>PA</td><td>204.9</td></tr><tr><td>RI</td><td>233.3</td></tr><tr><td>SD</td><td>159.5</td></tr><tr><td>TN</td><td>143.6</td></tr><tr><td>TN</td><td>149.2</td></tr><tr><td>TN</td><td>132.1</td></tr><tr><td>TN</td><td>186.4</td></tr><tr><td>TX</td><td>145.7</td></tr><tr><td>TX</td><td>144.4</td></tr><tr><td>TX</td><td>249.1</td></tr><tr><td>TX</td><td>133.3</td></tr><tr><td>TX</td><td>172.9</td></tr><tr><td>TX</td><td>192.5</td></tr><tr><td>TX</td><td>138.4</td></tr><tr><td>TX</td><td>200.3</td></tr><tr><td>TX</td><td>184.7</td></tr><tr><td>UT</td><td>243.3</td></tr><tr><td>VA</td><td>212.5</td></tr><tr><td>VA</td><td>190.0</td></tr><tr><td>WA</td><td>352.4</td></tr><tr><td>WA</td><td>180.2</td></tr><tr><td>WI</td><td>226.2</td></tr><tr><td>WI</td><td>195.4</td></tr></tbody></table></div>"
      ]
     },
     "metadata": {
      "application/vnd.databricks.v1+output": {
       "addedWidgets": {},
       "aggData": [],
       "aggError": "",
       "aggOverflow": false,
       "aggSchema": [],
       "aggSeriesLimitReached": false,
       "aggType": "",
       "arguments": {},
       "columnCustomDisplayInfos": {},
       "data": [
        [
         "AL",
         162.9
        ],
        [
         "AL",
         157.7
        ],
        [
         "AL",
         122.5
        ],
        [
         "AL",
         129.0
        ],
        [
         "AZ",
         206.1
        ],
        [
         "AZ",
         178.1
        ],
        [
         "AR",
         131.8
        ],
        [
         "CA",
         685.7
        ],
        [
         "CA",
         434.7
        ],
        [
         "CA",
         281.0
        ],
        [
         "CA",
         275.8
        ],
        [
         "CA",
         510.3
        ],
        [
         "CA",
         748.3
        ],
        [
         "CA",
         900.0
        ],
        [
         "CO",
         442.2
        ],
        [
         "CO",
         220.1
        ],
        [
         "CO",
         338.1
        ],
        [
         "CT",
         342.7
        ],
        [
         "CT",
         202.6
        ],
        [
         "CT",
         205.1
        ],
        [
         "DC",
         367.8
        ],
        [
         "FL",
         208.0
        ],
        [
         "FL",
         169.9
        ],
        [
         "FL",
         182.5
        ],
        [
         "FL",
         136.0
        ],
        [
         "FL",
         269.1
        ],
        [
         "FL",
         145.0
        ],
        [
         "FL",
         172.0
        ],
        [
         "FL",
         170.5
        ],
        [
         "FL",
         156.0
        ],
        [
         "GA",
         158.0
        ],
        [
         "HI",
         699.3
        ],
        [
         "ID",
         178.7
        ],
        [
         "IL",
         192.5
        ],
        [
         "IL",
         105.2
        ],
        [
         "IL",
         78.6
        ],
        [
         "IL",
         115.2
        ],
        [
         "IN",
         106.3
        ],
        [
         "IN",
         139.2
        ],
        [
         "IA",
         156.9
        ],
        [
         "IA",
         109.4
        ],
        [
         "KS",
         105.3
        ],
        [
         "KS",
         126.0
        ],
        [
         "KY",
         141.2
        ],
        [
         "KY",
         141.1
        ],
        [
         "LA",
         177.2
        ],
        [
         "LA",
         151.6
        ],
        [
         "MD",
         223.1
        ],
        [
         "MA",
         374.6
        ],
        [
         "MA",
         183.9
        ],
        [
         "MA",
         226.9
        ],
        [
         "MI",
         114.6
        ],
        [
         "MN",
         209.4
        ],
        [
         "MS",
         154.1
        ],
        [
         "MO",
         153.0
        ],
        [
         "MO",
         116.5
        ],
        [
         "NE",
         150.2
        ],
        [
         "NE",
         148.1
        ],
        [
         "NV",
         205.9
        ],
        [
         "NV",
         268.7
        ],
        [
         "NH",
         237.4
        ],
        [
         "NJ",
         350.8
        ],
        [
         "NM",
         172.2
        ],
        [
         "NY",
         117.3
        ],
        [
         "NY",
         388.6
        ],
        [
         "NY",
         118.9
        ],
        [
         "NY",
         118.3
        ],
        [
         "NC",
         197.2
        ],
        [
         "NC",
         196.9
        ],
        [
         "NC",
         145.0
        ],
        [
         "NC",
         138.3
        ],
        [
         "NC",
         218.9
        ],
        [
         "NC",
         197.5
        ],
        [
         "NC",
         138.6
        ],
        [
         "ND",
         180.0
        ],
        [
         "OH",
         95.4
        ],
        [
         "OH",
         135.0
        ],
        [
         "OH",
         105.9
        ],
        [
         "OH",
         149.9
        ],
        [
         "OH",
         107.2
        ],
        [
         "OH",
         83.8
        ],
        [
         "OK",
         145.1
        ],
        [
         "OR",
         211.3
        ],
        [
         "OR",
         289.4
        ],
        [
         "OR",
         193.9
        ],
        [
         "PA",
         162.7
        ],
        [
         "PA",
         204.9
        ],
        [
         "RI",
         233.3
        ],
        [
         "SD",
         159.5
        ],
        [
         "TN",
         143.6
        ],
        [
         "TN",
         149.2
        ],
        [
         "TN",
         132.1
        ],
        [
         "TN",
         186.4
        ],
        [
         "TX",
         145.7
        ],
        [
         "TX",
         144.4
        ],
        [
         "TX",
         249.1
        ],
        [
         "TX",
         133.3
        ],
        [
         "TX",
         172.9
        ],
        [
         "TX",
         192.5
        ],
        [
         "TX",
         138.4
        ],
        [
         "TX",
         200.3
        ],
        [
         "TX",
         184.7
        ],
        [
         "UT",
         243.3
        ],
        [
         "VA",
         212.5
        ],
        [
         "VA",
         190.0
        ],
        [
         "WA",
         352.4
        ],
        [
         "WA",
         180.2
        ],
        [
         "WI",
         226.2
        ],
        [
         "WI",
         195.4
        ]
       ],
       "datasetInfos": [],
       "dbfsResultPath": null,
       "isJsonSchema": true,
       "metadata": {},
       "overflow": false,
       "plotOptions": {
        "customPlotOptions": {},
        "displayType": "table",
        "pivotAggregation": null,
        "pivotColumns": null,
        "xColumns": null,
        "yColumns": null
       },
       "removedWidgets": [],
       "schema": [
        {
         "metadata": "{}",
         "name": "State Code",
         "type": "\"string\""
        },
        {
         "metadata": "{}",
         "name": "2015 median sales price",
         "type": "\"double\""
        }
       ],
       "type": "table"
      }
     },
     "output_type": "display_data"
    }
   ],
   "source": [
    "%sql\n",
    "select `State Code`, `2015 median sales price` from data_geo"
   ]
  },
  {
   "cell_type": "markdown",
   "metadata": {
    "application/vnd.databricks.v1+cell": {
     "cellMetadata": {},
     "inputWidgets": {},
     "nuid": "45890bd2-cdfa-41f1-959f-0b3daa890c01",
     "showTitle": false,
     "title": ""
    }
   },
   "source": [
    "### Truy vấn ước tính dân số ở tiểu bang Washington"
   ]
  },
  {
   "cell_type": "code",
   "execution_count": 0,
   "metadata": {
    "application/vnd.databricks.v1+cell": {
     "cellMetadata": {
      "byteLimit": 2048000,
      "implicitDf": true,
      "rowLimit": 10000
     },
     "inputWidgets": {},
     "nuid": "e12e125c-67e0-4b8c-a2c1-06bf83560e93",
     "showTitle": false,
     "title": ""
    }
   },
   "outputs": [
    {
     "output_type": "display_data",
     "data": {
      "text/html": [
       "<style scoped>\n",
       "  .table-result-container {\n",
       "    max-height: 300px;\n",
       "    overflow: auto;\n",
       "  }\n",
       "  table, th, td {\n",
       "    border: 1px solid black;\n",
       "    border-collapse: collapse;\n",
       "  }\n",
       "  th, td {\n",
       "    padding: 5px;\n",
       "  }\n",
       "  th {\n",
       "    text-align: left;\n",
       "  }\n",
       "</style><div class='table-result-container'><table class='table-result'><thead style='background-color: white'><tr><th>City</th><th>2014 Population estimate</th></tr></thead><tbody><tr><td>Seattle</td><td>668342</td></tr><tr><td>Spokane</td><td>212052</td></tr></tbody></table></div>"
      ]
     },
     "metadata": {
      "application/vnd.databricks.v1+output": {
       "addedWidgets": {},
       "aggData": [],
       "aggError": "",
       "aggOverflow": false,
       "aggSchema": [],
       "aggSeriesLimitReached": false,
       "aggType": "",
       "arguments": {},
       "columnCustomDisplayInfos": {},
       "data": [
        [
         "Seattle",
         668342
        ],
        [
         "Spokane",
         212052
        ]
       ],
       "datasetInfos": [],
       "dbfsResultPath": null,
       "isJsonSchema": true,
       "metadata": {},
       "overflow": false,
       "plotOptions": {
        "customPlotOptions": {},
        "displayType": "table",
        "pivotAggregation": null,
        "pivotColumns": null,
        "xColumns": null,
        "yColumns": null
       },
       "removedWidgets": [],
       "schema": [
        {
         "metadata": "{}",
         "name": "City",
         "type": "\"string\""
        },
        {
         "metadata": "{}",
         "name": "2014 Population estimate",
         "type": "\"integer\""
        }
       ],
       "type": "table"
      }
     },
     "output_type": "display_data"
    }
   ],
   "source": [
    "%sql\n",
    "select City, `2014 Population estimate` from data_geo where `State Code` = 'WA';"
   ]
  },
  {
   "cell_type": "code",
   "execution_count": 0,
   "metadata": {
    "application/vnd.databricks.v1+cell": {
     "cellMetadata": {
      "byteLimit": 2048000,
      "rowLimit": 10000
     },
     "inputWidgets": {},
     "nuid": "f246bfb1-f405-45c4-93ed-915348c73282",
     "showTitle": false,
     "title": ""
    }
   },
   "outputs": [
    {
     "output_type": "stream",
     "name": "stdout",
     "output_type": "stream",
     "text": [
      "Out[27]: [Row(2014 rank=101, City='Birmingham', State='Alabama', State Code='AL', 2014 Population estimate=212247, 2015 median sales price=162.9),\n Row(2014 rank=125, City='Huntsville', State='Alabama', State Code='AL', 2014 Population estimate=188226, 2015 median sales price=157.7),\n Row(2014 rank=122, City='Mobile', State='Alabama', State Code='AL', 2014 Population estimate=194675, 2015 median sales price=122.5),\n Row(2014 rank=114, City='Montgomery', State='Alabama', State Code='AL', 2014 Population estimate=200481, 2015 median sales price=129.0),\n Row(2014 rank=64, City='Anchorage[19]', State='Alaska', State Code='AK', 2014 Population estimate=301010, 2015 median sales price=None),\n Row(2014 rank=78, City='Chandler', State='Arizona', State Code='AZ', 2014 Population estimate=254276, 2015 median sales price=None),\n Row(2014 rank=86, City='Gilbert[20]', State='Arizona', State Code='AZ', 2014 Population estimate=239277, 2015 median sales price=None),\n Row(2014 rank=88, City='Glendale', State='Arizona', State Code='AZ', 2014 Population estimate=237517, 2015 median sales price=None),\n Row(2014 rank=38, City='Mesa', State='Arizona', State Code='AZ', 2014 Population estimate=464704, 2015 median sales price=None),\n Row(2014 rank=148, City='Peoria', State='Arizona', State Code='AZ', 2014 Population estimate=166934, 2015 median sales price=None)]"
     ]
    }
   ],
   "source": [
    "pop.createOrReplaceTempView('pops')\n",
    "sqlContext.sql('SELECT * FROM pops limit 10').collect()"
   ]
  },
  {
   "cell_type": "code",
   "execution_count": 0,
   "metadata": {
    "application/vnd.databricks.v1+cell": {
     "cellMetadata": {
      "byteLimit": 2048000,
      "rowLimit": 10000
     },
     "inputWidgets": {},
     "nuid": "304c88d8-8284-4e30-adb8-c12ea9ff2749",
     "showTitle": false,
     "title": ""
    }
   },
   "outputs": [
    {
     "output_type": "stream",
     "name": "stdout",
     "output_type": "stream",
     "text": [
      "Out[28]: DataFrame[col_name: string, data_type: string, comment: string]"
     ]
    }
   ],
   "source": [
    "sqlContext.sql(\"DESCRIBE pops\" )"
   ]
  },
  {
   "cell_type": "code",
   "execution_count": 0,
   "metadata": {
    "application/vnd.databricks.v1+cell": {
     "cellMetadata": {
      "byteLimit": 2048000,
      "implicitDf": true,
      "rowLimit": 10000
     },
     "inputWidgets": {},
     "nuid": "af7e498d-27e1-414e-9c30-151a54b21a16",
     "showTitle": false,
     "title": ""
    }
   },
   "outputs": [
    {
     "output_type": "display_data",
     "data": {
      "text/html": [
       "<style scoped>\n",
       "  .table-result-container {\n",
       "    max-height: 300px;\n",
       "    overflow: auto;\n",
       "  }\n",
       "  table, th, td {\n",
       "    border: 1px solid black;\n",
       "    border-collapse: collapse;\n",
       "  }\n",
       "  th, td {\n",
       "    padding: 5px;\n",
       "  }\n",
       "  th {\n",
       "    text-align: left;\n",
       "  }\n",
       "</style><div class='table-result-container'><table class='table-result'><thead style='background-color: white'><tr><th>col_name</th><th>data_type</th><th>comment</th></tr></thead><tbody><tr><td>2014 rank</td><td>int</td><td>null</td></tr><tr><td>City</td><td>string</td><td>null</td></tr><tr><td>State</td><td>string</td><td>null</td></tr><tr><td>State Code</td><td>string</td><td>null</td></tr><tr><td>2014 Population estimate</td><td>int</td><td>null</td></tr><tr><td>2015 median sales price</td><td>double</td><td>null</td></tr></tbody></table></div>"
      ]
     },
     "metadata": {
      "application/vnd.databricks.v1+output": {
       "addedWidgets": {},
       "aggData": [],
       "aggError": "",
       "aggOverflow": false,
       "aggSchema": [],
       "aggSeriesLimitReached": false,
       "aggType": "",
       "arguments": {},
       "columnCustomDisplayInfos": {},
       "data": [
        [
         "2014 rank",
         "int",
         null
        ],
        [
         "City",
         "string",
         null
        ],
        [
         "State",
         "string",
         null
        ],
        [
         "State Code",
         "string",
         null
        ],
        [
         "2014 Population estimate",
         "int",
         null
        ],
        [
         "2015 median sales price",
         "double",
         null
        ]
       ],
       "datasetInfos": [],
       "dbfsResultPath": null,
       "isJsonSchema": true,
       "metadata": {},
       "overflow": false,
       "plotOptions": {
        "customPlotOptions": {},
        "displayType": "table",
        "pivotAggregation": null,
        "pivotColumns": null,
        "xColumns": null,
        "yColumns": null
       },
       "removedWidgets": [],
       "schema": [
        {
         "metadata": "{\"comment\":\"name of the column\"}",
         "name": "col_name",
         "type": "\"string\""
        },
        {
         "metadata": "{\"comment\":\"data type of the column\"}",
         "name": "data_type",
         "type": "\"string\""
        },
        {
         "metadata": "{\"comment\":\"comment of the column\"}",
         "name": "comment",
         "type": "\"string\""
        }
       ],
       "type": "table"
      }
     },
     "output_type": "display_data"
    }
   ],
   "source": [
    "%sql\n",
    "DESCRIBE pops"
   ]
  },
  {
   "cell_type": "code",
   "execution_count": 0,
   "metadata": {
    "application/vnd.databricks.v1+cell": {
     "cellMetadata": {
      "byteLimit": 2048000,
      "rowLimit": 10000
     },
     "inputWidgets": {},
     "nuid": "662e7574-66c6-4509-9879-d27979d93274",
     "showTitle": false,
     "title": ""
    }
   },
   "outputs": [
    {
     "output_type": "stream",
     "name": "stdout",
     "output_type": "stream",
     "text": [
      "Out[31]: [Row(max(2014 Population estimate)=8491079)]"
     ]
    }
   ],
   "source": [
    "sqlContext.sql(\n",
    "'SELECT max(`2014 Population estimate`) FROM pops' ).collect()"
   ]
  },
  {
   "cell_type": "code",
   "execution_count": 0,
   "metadata": {
    "application/vnd.databricks.v1+cell": {
     "cellMetadata": {
      "byteLimit": 2048000,
      "implicitDf": true,
      "rowLimit": 10000
     },
     "inputWidgets": {},
     "nuid": "fc0dbd82-95e2-4847-b30f-40b180c5884d",
     "showTitle": false,
     "title": ""
    }
   },
   "outputs": [
    {
     "output_type": "display_data",
     "data": {
      "text/html": [
       "<style scoped>\n",
       "  .table-result-container {\n",
       "    max-height: 300px;\n",
       "    overflow: auto;\n",
       "  }\n",
       "  table, th, td {\n",
       "    border: 1px solid black;\n",
       "    border-collapse: collapse;\n",
       "  }\n",
       "  th, td {\n",
       "    padding: 5px;\n",
       "  }\n",
       "  th {\n",
       "    text-align: left;\n",
       "  }\n",
       "</style><div class='table-result-container'><table class='table-result'><thead style='background-color: white'><tr><th>max(2014 Population estimate)</th></tr></thead><tbody><tr><td>8491079</td></tr></tbody></table></div>"
      ]
     },
     "metadata": {
      "application/vnd.databricks.v1+output": {
       "addedWidgets": {},
       "aggData": [],
       "aggError": "",
       "aggOverflow": false,
       "aggSchema": [],
       "aggSeriesLimitReached": false,
       "aggType": "",
       "arguments": {},
       "columnCustomDisplayInfos": {},
       "data": [
        [
         8491079
        ]
       ],
       "datasetInfos": [],
       "dbfsResultPath": null,
       "isJsonSchema": true,
       "metadata": {},
       "overflow": false,
       "plotOptions": {
        "customPlotOptions": {},
        "displayType": "table",
        "pivotAggregation": null,
        "pivotColumns": null,
        "xColumns": null,
        "yColumns": null
       },
       "removedWidgets": [],
       "schema": [
        {
         "metadata": "{\"__autoGeneratedAlias\":\"true\"}",
         "name": "max(2014 Population estimate)",
         "type": "\"integer\""
        }
       ],
       "type": "table"
      }
     },
     "output_type": "display_data"
    }
   ],
   "source": [
    "%sql\n",
    "SELECT max(`2014 Population estimate`) FROM pops"
   ]
  },
  {
   "cell_type": "code",
   "execution_count": 0,
   "metadata": {
    "application/vnd.databricks.v1+cell": {
     "cellMetadata": {
      "byteLimit": 2048000,
      "rowLimit": 10000
     },
     "inputWidgets": {},
     "nuid": "f95b9ca5-91b9-4246-b64c-d211e2e7428d",
     "showTitle": false,
     "title": ""
    }
   },
   "outputs": [
    {
     "output_type": "stream",
     "name": "stdout",
     "output_type": "stream",
     "text": [
      "Out[33]: [Row(2014 rank=294, City='Las Cruces', State='New Mexico', State Code='NM', 2014 Population estimate=101408, 2015 median sales price=None),\n Row(2014 rank=293, City='Tyler', State='Texas', State Code='TX', 2014 Population estimate=101421, 2015 median sales price=None),\n Row(2014 rank=292, City='Sandy Springs', State='Georgia', State Code='GA', 2014 Population estimate=101908, 2015 median sales price=None),\n Row(2014 rank=291, City='Clovis', State='California', State Code='CA', 2014 Population estimate=102189, 2015 median sales price=None),\n Row(2014 rank=290, City='Lakeland', State='Florida', State Code='FL', 2014 Population estimate=102346, 2015 median sales price=136.0),\n Row(2014 rank=289, City='Davenport', State='Iowa', State Code='IA', 2014 Population estimate=102448, 2015 median sales price=109.4),\n Row(2014 rank=288, City='Rialto', State='California', State Code='CA', 2014 Population estimate=102741, 2015 median sales price=None),\n Row(2014 rank=287, City='Lewisville', State='Texas', State Code='TX', 2014 Population estimate=102889, 2015 median sales price=None),\n Row(2014 rank=286, City='San Mateo', State='California', State Code='CA', 2014 Population estimate=102893, 2015 median sales price=None),\n Row(2014 rank=285, City='El Cajon', State='California', State Code='CA', 2014 Population estimate=103091, 2015 median sales price=None),\n Row(2014 rank=284, City='Santa Maria', State='California', State Code='CA', 2014 Population estimate=103410, 2015 median sales price=None),\n Row(2014 rank=283, City='Pearland', State='Texas', State Code='TX', 2014 Population estimate=103441, 2015 median sales price=None),\n Row(2014 rank=282, City='College Station', State='Texas', State Code='TX', 2014 Population estimate=103483, 2015 median sales price=None),\n Row(2014 rank=281, City='West Palm Beach', State='Florida', State Code='FL', 2014 Population estimate=104031, 2015 median sales price=None),\n Row(2014 rank=280, City='Broken Arrow', State='Oklahoma', State Code='OK', 2014 Population estimate=104726, 2015 median sales price=None),\n Row(2014 rank=279, City='Green Bay', State='Wisconsin', State Code='WI', 2014 Population estimate=104891, 2015 median sales price=None),\n Row(2014 rank=278, City='Boulder', State='Colorado', State Code='CO', 2014 Population estimate=105112, 2015 median sales price=442.2),\n Row(2014 rank=277, City='Wichita Falls', State='Texas', State Code='TX', 2014 Population estimate=105114, 2015 median sales price=None),\n Row(2014 rank=276, City='Burbank', State='California', State Code='CA', 2014 Population estimate=105368, 2015 median sales price=None),\n Row(2014 rank=275, City='Palm Bay', State='Florida', State Code='FL', 2014 Population estimate=105838, 2015 median sales price=145.0),\n Row(2014 rank=274, City='Daly City', State='California', State Code='CA', 2014 Population estimate=106094, 2015 median sales price=None),\n Row(2014 rank=273, City='Pompano Beach', State='Florida', State Code='FL', 2014 Population estimate=106105, 2015 median sales price=None),\n Row(2014 rank=272, City='Everett', State='Washington', State Code='WA', 2014 Population estimate=106736, 2015 median sales price=None),\n Row(2014 rank=271, City='North Charleston', State='South Carolina', State Code='SC', 2014 Population estimate=106749, 2015 median sales price=None),\n Row(2014 rank=270, City='Norwalk', State='California', State Code='CA', 2014 Population estimate=107096, 2015 median sales price=None),\n Row(2014 rank=269, City='Centennial', State='Colorado', State Code='CO', 2014 Population estimate=107201, 2015 median sales price=None),\n Row(2014 rank=268, City='Murrieta', State='California', State Code='CA', 2014 Population estimate=108368, 2015 median sales price=None),\n Row(2014 rank=267, City='Pueblo', State='Colorado', State Code='CO', 2014 Population estimate=108423, 2015 median sales price=None),\n Row(2014 rank=266, City='West Covina', State='California', State Code='CA', 2014 Population estimate=108455, 2015 median sales price=None),\n Row(2014 rank=265, City='Richmond', State='California', State Code='CA', 2014 Population estimate=108565, 2015 median sales price=None),\n Row(2014 rank=264, City='Richardson', State='Texas', State Code='TX', 2014 Population estimate=108617, 2015 median sales price=None),\n Row(2014 rank=263, City='High Point', State='North Carolina', State Code='NC', 2014 Population estimate=108629, 2015 median sales price=None),\n Row(2014 rank=262, City='Billings', State='Montana', State Code='MT', 2014 Population estimate=108869, 2015 median sales price=None),\n Row(2014 rank=261, City='Antioch', State='California', State Code='CA', 2014 Population estimate=108930, 2015 median sales price=None),\n Row(2014 rank=260, City='Waterbury', State='Connecticut', State Code='CT', 2014 Population estimate=109307, 2015 median sales price=None),\n Row(2014 rank=259, City='Temecula', State='California', State Code='CA', 2014 Population estimate=109428, 2015 median sales price=None),\n Row(2014 rank=258, City='Ventura[29]', State='California', State Code='CA', 2014 Population estimate=109484, 2015 median sales price=None),\n Row(2014 rank=257, City='Cambridge', State='Massachusetts', State Code='MA', 2014 Population estimate=109694, 2015 median sales price=None),\n Row(2014 rank=256, City='Gresham', State='Oregon', State Code='OR', 2014 Population estimate=109892, 2015 median sales price=None),\n Row(2014 rank=255, City='Lowell', State='Massachusetts', State Code='MA', 2014 Population estimate=109945, 2015 median sales price=None),\n Row(2014 rank=254, City='Manchester', State='New Hampshire', State Code='NH', 2014 Population estimate=110448, 2015 median sales price=237.4),\n Row(2014 rank=253, City='Clearwater', State='Florida', State Code='FL', 2014 Population estimate=110703, 2015 median sales price=None),\n Row(2014 rank=252, City='West Jordan', State='Utah', State Code='UT', 2014 Population estimate=110920, 2015 median sales price=None),\n Row(2014 rank=251, City='Elgin', State='Illinois', State Code='IL', 2014 Population estimate=111117, 2015 median sales price=None),\n Row(2014 rank=250, City='Fairfield', State='California', State Code='CA', 2014 Population estimate=111125, 2015 median sales price=None),\n Row(2014 rank=249, City='Rochester', State='Minnesota', State Code='MN', 2014 Population estimate=111402, 2015 median sales price=None),\n Row(2014 rank=248, City='Inglewood', State='California', State Code='CA', 2014 Population estimate=111905, 2015 median sales price=None),\n Row(2014 rank=247, City='Westminster', State='Colorado', State Code='CO', 2014 Population estimate=112090, 2015 median sales price=None),\n Row(2014 rank=246, City='Miami Gardens', State='Florida', State Code='FL', 2014 Population estimate=112265, 2015 median sales price=None),\n Row(2014 rank=245, City='Carlsbad', State='California', State Code='CA', 2014 Population estimate=112299, 2015 median sales price=None),\n Row(2014 rank=244, City='Round Rock', State='Texas', State Code='TX', 2014 Population estimate=112744, 2015 median sales price=None),\n Row(2014 rank=243, City='Costa Mesa', State='California', State Code='CA', 2014 Population estimate=112784, 2015 median sales price=None),\n Row(2014 rank=242, City='Arvada', State='Colorado', State Code='CO', 2014 Population estimate=113574, 2015 median sales price=None),\n Row(2014 rank=241, City='Wilmington', State='North Carolina', State Code='NC', 2014 Population estimate=113657, 2015 median sales price=197.5),\n Row(2014 rank=240, City='Downey', State='California', State Code='CA', 2014 Population estimate=114172, 2015 median sales price=None),\n Row(2014 rank=239, City='Odessa', State='Texas', State Code='TX', 2014 Population estimate=114597, 2015 median sales price=None),\n Row(2014 rank=238, City='Lansing', State='Michigan', State Code='MI', 2014 Population estimate=114620, 2015 median sales price=114.6),\n Row(2014 rank=237, City='Provo', State='Utah', State Code='UT', 2014 Population estimate=114801, 2015 median sales price=None),\n Row(2014 rank=236, City='Peoria', State='Illinois', State Code='IL', 2014 Population estimate=115828, 2015 median sales price=105.2),\n Row(2014 rank=235, City='Fargo', State='North Dakota', State Code='ND', 2014 Population estimate=115863, 2015 median sales price=180.0),\n Row(2014 rank=234, City='El Monte', State='California', State Code='CA', 2014 Population estimate=116631, 2015 median sales price=None),\n Row(2014 rank=233, City='Springfield', State='Illinois', State Code='IL', 2014 Population estimate=116809, 2015 median sales price=115.2),\n Row(2014 rank=232, City='Columbia', State='Missouri', State Code='MO', 2014 Population estimate=116906, 2015 median sales price=None),\n Row(2014 rank=231, City='Independence', State='Missouri', State Code='MO', 2014 Population estimate=117494, 2015 median sales price=None),\n Row(2014 rank=230, City='Beaumont', State='Texas', State Code='TX', 2014 Population estimate=117585, 2015 median sales price=133.3),\n Row(2014 rank=229, City='Ann Arbor', State='Michigan', State Code='MI', 2014 Population estimate=117770, 2015 median sales price=None),\n Row(2014 rank=228, City='Norman', State='Oklahoma', State Code='OK', 2014 Population estimate=118040, 2015 median sales price=None),\n Row(2014 rank=227, City='Berkeley', State='California', State Code='CA', 2014 Population estimate=118853, 2015 median sales price=None),\n Row(2014 rank=226, City='Allentown', State='Pennsylvania', State Code='PA', 2014 Population estimate=119104, 2015 median sales price=162.7),\n Row(2014 rank=225, City='Athens[28]', State='Georgia', State Code='GA', 2014 Population estimate=119648, 2015 median sales price=None),\n Row(2014 rank=224, City='Vallejo', State='California', State Code='CA', 2014 Population estimate=120228, 2015 median sales price=None),\n Row(2014 rank=223, City='Evansville', State='Indiana', State Code='IN', 2014 Population estimate=120346, 2015 median sales price=None),\n Row(2014 rank=222, City='Murfreesboro', State='Tennessee', State Code='TN', 2014 Population estimate=120954, 2015 median sales price=None),\n Row(2014 rank=221, City='Abilene', State='Texas', State Code='TX', 2014 Population estimate=120958, 2015 median sales price=145.7),\n Row(2014 rank=220, City='Victorville', State='California', State Code='CA', 2014 Population estimate=121901, 2015 median sales price=None),\n Row(2014 rank=219, City='Santa Clara', State='California', State Code='CA', 2014 Population estimate=122192, 2015 median sales price=None),\n Row(2014 rank=218, City='Hartford', State='Connecticut', State Code='CT', 2014 Population estimate=124705, 2015 median sales price=202.6),\n Row(2014 rank=217, City='Kent', State='Washington', State Code='WA', 2014 Population estimate=125560, 2015 median sales price=None),\n Row(2014 rank=216, City='Lafayette[27]', State='Louisiana', State Code='LA', 2014 Population estimate=126066, 2015 median sales price=None),\n Row(2014 rank=215, City='Surprise', State='Arizona', State Code='AZ', 2014 Population estimate=126275, 2015 median sales price=None),\n Row(2014 rank=214, City='Simi Valley', State='California', State Code='CA', 2014 Population estimate=126871, 2015 median sales price=None),\n Row(2014 rank=213, City='Topeka', State='Kansas', State Code='KS', 2014 Population estimate=127215, 2015 median sales price=105.3),\n Row(2014 rank=212, City='Concord', State='California', State Code='CA', 2014 Population estimate=127522, 2015 median sales price=None),\n Row(2014 rank=211, City='Coral Springs', State='Florida', State Code='FL', 2014 Population estimate=127952, 2015 median sales price=None),\n Row(2014 rank=210, City='Midland', State='Texas', State Code='TX', 2014 Population estimate=128037, 2015 median sales price=None),\n Row(2014 rank=209, City='Denton', State='Texas', State Code='TX', 2014 Population estimate=128205, 2015 median sales price=None),\n Row(2014 rank=208, City='Stamford', State='Connecticut', State Code='CT', 2014 Population estimate=128278, 2015 median sales price=None),\n Row(2014 rank=207, City='Carrollton', State='Texas', State Code='TX', 2014 Population estimate=128353, 2015 median sales price=None),\n Row(2014 rank=206, City='Gainesville', State='Florida', State Code='FL', 2014 Population estimate=128460, 2015 median sales price=169.9),\n Row(2014 rank=205, City='Roseville', State='California', State Code='CA', 2014 Population estimate=128615, 2015 median sales price=None),\n Row(2014 rank=204, City='Elizabeth', State='New Jersey', State Code='NJ', 2014 Population estimate=128705, 2015 median sales price=None),\n Row(2014 rank=203, City='Cedar Rapids', State='Iowa', State Code='IA', 2014 Population estimate=129195, 2015 median sales price=156.9),\n Row(2014 rank=202, City='Visalia', State='California', State Code='CA', 2014 Population estimate=129281, 2015 median sales price=None),\n Row(2014 rank=201, City='Thousand Oaks', State='California', State Code='CA', 2014 Population estimate=129342, 2015 median sales price=None),\n Row(2014 rank=200, City='Charleston', State='South Carolina', State Code='SC', 2014 Population estimate=130113, 2015 median sales price=None),\n Row(2014 rank=199, City='Waco', State='Texas', State Code='TX', 2014 Population estimate=130194, 2015 median sales price=None),\n Row(2014 rank=198, City='New Haven', State='Connecticut', State Code='CT', 2014 Population estimate=130282, 2015 median sales price=205.1),\n Row(2014 rank=197, City='Thornton', State='Colorado', State Code='CO', 2014 Population estimate=130307, 2015 median sales price=None),\n Row(2014 rank=196, City='Sterling Heights', State='Michigan', State Code='MI', 2014 Population estimate=131741, 2015 median sales price=None),\n Row(2014 rank=195, City='Columbia', State='South Carolina', State Code='SC', 2014 Population estimate=132067, 2015 median sales price=None),\n Row(2014 rank=194, City='Olathe', State='Kansas', State Code='KS', 2014 Population estimate=133062, 2015 median sales price=None),\n Row(2014 rank=193, City='West Valley City', State='Utah', State Code='UT', 2014 Population estimate=134495, 2015 median sales price=None),\n Row(2014 rank=192, City='Miramar', State='Florida', State Code='FL', 2014 Population estimate=134989, 2015 median sales price=None),\n Row(2014 rank=191, City='Warren', State='Michigan', State Code='MI', 2014 Population estimate=135099, 2015 median sales price=None),\n Row(2014 rank=190, City='Bellevue', State='Washington', State Code='WA', 2014 Population estimate=136426, 2015 median sales price=None),\n Row(2014 rank=189, City='Hampton[15]', State='Virginia', State Code='VA', 2014 Population estimate=136879, 2015 median sales price=None),\n Row(2014 rank=188, City='Killeen', State='Texas', State Code='TX', 2014 Population estimate=138154, 2015 median sales price=None),\n Row(2014 rank=187, City='McAllen', State='Texas', State Code='TX', 2014 Population estimate=138596, 2015 median sales price=None),\n Row(2014 rank=186, City='Fullerton', State='California', State Code='CA', 2014 Population estimate=139677, 2015 median sales price=None),\n Row(2014 rank=185, City='Orange', State='California', State Code='CA', 2014 Population estimate=139812, 2015 median sales price=None),\n Row(2014 rank=184, City='Pasadena', State='California', State Code='CA', 2014 Population estimate=140881, 2015 median sales price=None),\n Row(2014 rank=183, City='Dayton', State='Ohio', State Code='OH', 2014 Population estimate=141003, 2015 median sales price=107.2),\n Row(2014 rank=182, City='Syracuse', State='New York', State Code='NY', 2014 Population estimate=144263, 2015 median sales price=118.3),\n Row(2014 rank=181, City='Savannah', State='Georgia', State Code='GA', 2014 Population estimate=144352, 2015 median sales price=None),\n Row(2014 rank=180, City='Mesquite', State='Texas', State Code='TX', 2014 Population estimate=144416, 2015 median sales price=None),\n Row(2014 rank=179, City='Frisco', State='Texas', State Code='TX', 2014 Population estimate=145035, 2015 median sales price=None),\n Row(2014 rank=178, City='Naperville', State='Illinois', State Code='IL', 2014 Population estimate=146128, 2015 median sales price=None),\n Row(2014 rank=177, City='Paterson', State='New Jersey', State Code='NJ', 2014 Population estimate=146753, 2015 median sales price=None),\n Row(2014 rank=176, City='Clarksville', State='Tennessee', State Code='TN', 2014 Population estimate=146806, 2015 median sales price=None),\n Row(2014 rank=175, City='Bridgeport', State='Connecticut', State Code='CT', 2014 Population estimate=147612, 2015 median sales price=342.7),\n Row(2014 rank=174, City='Joliet', State='Illinois', State Code='IL', 2014 Population estimate=147928, 2015 median sales price=None),\n Row(2014 rank=173, City='Hollywood', State='Florida', State Code='FL', 2014 Population estimate=148047, 2015 median sales price=None),\n Row(2014 rank=172, City='Torrance', State='California', State Code='CA', 2014 Population estimate=148495, 2015 median sales price=None),\n Row(2014 rank=171, City='Rockford', State='Illinois', State Code='IL', 2014 Population estimate=149123, 2015 median sales price=78.6),\n Row(2014 rank=170, City='Kansas City[26]', State='Kansas', State Code='KS', 2014 Population estimate=149636, 2015 median sales price=None),\n Row(2014 rank=169, City='Lakewood', State='Colorado', State Code='CO', 2014 Population estimate=149643, 2015 median sales price=None),\n Row(2014 rank=168, City='Sunnyvale', State='California', State Code='CA', 2014 Population estimate=149980, 2015 median sales price=None),\n Row(2014 rank=167, City='Escondido', State='California', State Code='CA', 2014 Population estimate=150243, 2015 median sales price=None),\n Row(2014 rank=166, City='Alexandria[15]', State='Virginia', State Code='VA', 2014 Population estimate=150575, 2015 median sales price=None),\n Row(2014 rank=165, City='Pomona', State='California', State Code='CA', 2014 Population estimate=153350, 2015 median sales price=None),\n Row(2014 rank=163, City='Pasadena', State='Texas', State Code='TX', 2014 Population estimate=153887, 2015 median sales price=None),\n Row(2014 rank=162, City='Springfield', State='Massachusetts', State Code='MA', 2014 Population estimate=153991, 2015 median sales price=183.9),\n Row(2014 rank=161, City='Hayward', State='California', State Code='CA', 2014 Population estimate=154612, 2015 median sales price=None),\n Row(2014 rank=160, City='Cary[25]', State='North Carolina', State Code='NC', 2014 Population estimate=155227, 2015 median sales price=None),\n Row(2014 rank=159, City='Fort Collins', State='Colorado', State Code='CO', 2014 Population estimate=156480, 2015 median sales price=None),\n Row(2014 rank=158, City='Salinas', State='California', State Code='CA', 2014 Population estimate=156677, 2015 median sales price=None),\n Row(2014 rank=157, City='McKinney', State='Texas', State Code='TX', 2014 Population estimate=156767, 2015 median sales price=None),\n Row(2014 rank=156, City='Palmdale', State='California', State Code='CA', 2014 Population estimate=158279, 2015 median sales price=None),\n Row(2014 rank=155, City='Eugene', State='Oregon', State Code='OR', 2014 Population estimate=160561, 2015 median sales price=211.3),\n Row(2014 rank=154, City='Lancaster', State='California', State Code='CA', 2014 Population estimate=161043, 2015 median sales price=None),\n Row(2014 rank=153, City='Corona', State='California', State Code='CA', 2014 Population estimate=161486, 2015 median sales price=None),\n Row(2014 rank=152, City='Salem', State='Oregon', State Code='OR', 2014 Population estimate=161637, 2015 median sales price=193.9),\n Row(2014 rank=151, City='Elk Grove', State='California', State Code='CA', 2014 Population estimate=163553, 2015 median sales price=None),\n Row(2014 rank=150, City='Pembroke Pines', State='Florida', State Code='FL', 2014 Population estimate=164626, 2015 median sales price=None),\n Row(2014 rank=149, City='Springfield', State='Missouri', State Code='MO', 2014 Population estimate=165378, 2015 median sales price=116.5),\n Row(2014 rank=148, City='Peoria', State='Arizona', State Code='AZ', 2014 Population estimate=166934, 2015 median sales price=None),\n Row(2014 rank=147, City='Sioux Falls', State='South Dakota', State Code='SD', 2014 Population estimate=168586, 2015 median sales price=159.5),\n Row(2014 rank=146, City='Ontario', State='California', State Code='CA', 2014 Population estimate=169089, 2015 median sales price=None),\n Row(2014 rank=145, City='Vancouver', State='Washington', State Code='WA', 2014 Population estimate=169294, 2015 median sales price=None),\n Row(2014 rank=144, City='Cape Coral', State='Florida', State Code='FL', 2014 Population estimate=169854, 2015 median sales price=208.0),\n Row(2014 rank=143, City='Jackson', State='Mississippi', State Code='MS', 2014 Population estimate=171155, 2015 median sales price=154.1),\n Row(2014 rank=142, City='Tempe', State='Arizona', State Code='AZ', 2014 Population estimate=172816, 2015 median sales price=None),\n Row(2014 rank=141, City='Chattanooga', State='Tennessee', State Code='TN', 2014 Population estimate=173778, 2015 median sales price=143.6),\n Row(2014 rank=140, City='Port St. Lucie', State='Florida', State Code='FL', 2014 Population estimate=174110, 2015 median sales price=172.0),\n Row(2014 rank=139, City='Santa Rosa', State='California', State Code='CA', 2014 Population estimate=174170, 2015 median sales price=None),\n Row(2014 rank=138, City='Rancho Cucamonga', State='California', State Code='CA', 2014 Population estimate=174305, 2015 median sales price=None),\n Row(2014 rank=137, City='Oceanside', State='California', State Code='CA', 2014 Population estimate=174558, 2015 median sales price=None),\n Row(2014 rank=136, City='Garden Grove', State='California', State Code='CA', 2014 Population estimate=175078, 2015 median sales price=None),\n Row(2014 rank=135, City='Fort Lauderdale', State='Florida', State Code='FL', 2014 Population estimate=176013, 2015 median sales price=None),\n Row(2014 rank=134, City='Providence', State='Rhode Island', State Code='RI', 2014 Population estimate=179154, 2015 median sales price=233.3),\n Row(2014 rank=133, City='Santa Clarita', State='California', State Code='CA', 2014 Population estimate=181557, 2015 median sales price=None),\n Row(2014 rank=132, City='Newport News[15]', State='Virginia', State Code='VA', 2014 Population estimate=182965, 2015 median sales price=None),\n Row(2014 rank=131, City='Worcester', State='Massachusetts', State Code='MA', 2014 Population estimate=183016, 2015 median sales price=226.9),\n Row(2014 rank=130, City='Brownsville', State='Texas', State Code='TX', 2014 Population estimate=183046, 2015 median sales price=None),\n Row(2014 rank=129, City='Knoxville', State='Tennessee', State Code='TN', 2014 Population estimate=184281, 2015 median sales price=149.2),\n Row(2014 rank=128, City='Overland Park', State='Kansas', State Code='KS', 2014 Population estimate=184525, 2015 median sales price=None),\n Row(2014 rank=127, City='Grand Prairie', State='Texas', State Code='TX', 2014 Population estimate=185453, 2015 median sales price=None),\n Row(2014 rank=126, City='Tallahassee', State='Florida', State Code='FL', 2014 Population estimate=188107, 2015 median sales price=170.5),\n Row(2014 rank=125, City='Huntsville', State='Alabama', State Code='AL', 2014 Population estimate=188226, 2015 median sales price=157.7),\n Row(2014 rank=124, City='Salt Lake City', State='Utah', State Code='UT', 2014 Population estimate=190884, 2015 median sales price=243.3),\n Row(2014 rank=123, City='Grand Rapids', State='Michigan', State Code='MI', 2014 Population estimate=193792, 2015 median sales price=None),\n Row(2014 rank=122, City='Mobile', State='Alabama', State Code='AL', 2014 Population estimate=194675, 2015 median sales price=122.5),\n Row(2014 rank=121, City='Augusta[24]', State='Georgia', State Code='GA', 2014 Population estimate=196741, 2015 median sales price=None),\n Row(2014 rank=120, City='Amarillo', State='Texas', State Code='TX', 2014 Population estimate=197254, 2015 median sales price=144.4),\n Row(2014 rank=119, City='Little Rock', State='Arkansas', State Code='AR', 2014 Population estimate=197706, 2015 median sales price=131.8),\n Row(2014 rank=118, City='Akron', State='Ohio', State Code='OH', 2014 Population estimate=197859, 2015 median sales price=95.4),\n Row(2014 rank=117, City='Shreveport', State='Louisiana', State Code='LA', 2014 Population estimate=198242, 2015 median sales price=151.6),\n Row(2014 rank=116, City='Glendale', State='California', State Code='CA', 2014 Population estimate=200167, 2015 median sales price=None),\n Row(2014 rank=115, City='Aurora', State='Illinois', State Code='IL', 2014 Population estimate=200456, 2015 median sales price=None),\n Row(2014 rank=114, City='Montgomery', State='Alabama', State Code='AL', 2014 Population estimate=200481, 2015 median sales price=129.0),\n Row(2014 rank=113, City='Yonkers', State='New York', State Code='NY', 2014 Population estimate=200667, 2015 median sales price=None),\n Row(2014 rank=112, City='Huntington Beach', State='California', State Code='CA', 2014 Population estimate=200809, 2015 median sales price=None),\n Row(2014 rank=111, City='Columbus[23]', State='Georgia', State Code='GA', 2014 Population estimate=200887, 2015 median sales price=None),\n Row(2014 rank=110, City='Moreno Valley', State='California', State Code='CA', 2014 Population estimate=202976, 2015 median sales price=None),\n Row(2014 rank=109, City='Fayetteville', State='North Carolina', State Code='NC', 2014 Population estimate=203948, 2015 median sales price=145.0),\n Row(2014 rank=108, City='Fontana', State='California', State Code='CA', 2014 Population estimate=204950, 2015 median sales price=None),\n Row(2014 rank=107, City='Tacoma', State='Washington', State Code='WA', 2014 Population estimate=205159, 2015 median sales price=None),\n Row(2014 rank=106, City='Oxnard', State='California', State Code='CA', 2014 Population estimate=205437, 2015 median sales price=None),\n Row(2014 rank=105, City='Des Moines', State='Iowa', State Code='IA', 2014 Population estimate=209220, 2015 median sales price=None),\n Row(2014 rank=104, City='Modesto', State='California', State Code='CA', 2014 Population estimate=209286, 2015 median sales price=None),\n Row(2014 rank=103, City='Rochester', State='New York', State Code='NY', 2014 Population estimate=209983, 2015 median sales price=118.9),\n Row(2014 rank=102, City='Spokane', State='Washington', State Code='WA', 2014 Population estimate=212052, 2015 median sales price=180.2),\n Row(2014 rank=101, City='Birmingham', State='Alabama', State Code='AL', 2014 Population estimate=212247, 2015 median sales price=162.9),\n Row(2014 rank=100, City='San Bernardino', State='California', State Code='CA', 2014 Population estimate=215213, 2015 median sales price=None),\n Row(2014 rank=99, City='Boise[22]', State='Idaho', State Code='ID', 2014 Population estimate=216282, 2015 median sales price=178.7),\n Row(2014 rank=98, City='Richmond[15]', State='Virginia', State Code='VA', 2014 Population estimate=217853, 2015 median sales price=212.5),\n Row(2014 rank=97, City='Fremont', State='California', State Code='CA', 2014 Population estimate=228758, 2015 median sales price=None),\n Row(2014 rank=96, City='Baton Rouge[21]', State='Louisiana', State Code='LA', 2014 Population estimate=228895, 2015 median sales price=177.2),\n Row(2014 rank=95, City='Scottsdale', State='Arizona', State Code='AZ', 2014 Population estimate=230512, 2015 median sales price=None),\n Row(2014 rank=94, City='North Las Vegas', State='Nevada', State Code='NV', 2014 Population estimate=230788, 2015 median sales price=None),\n Row(2014 rank=93, City='Irving', State='Texas', State Code='TX', 2014 Population estimate=232406, 2015 median sales price=None),\n Row(2014 rank=92, City='Chesapeake[15]', State='Virginia', State Code='VA', 2014 Population estimate=233371, 2015 median sales price=None),\n Row(2014 rank=91, City='Garland', State='Texas', State Code='TX', 2014 Population estimate=235501, 2015 median sales price=None),\n Row(2014 rank=90, City='Hialeah', State='Florida', State Code='FL', 2014 Population estimate=235563, 2015 median sales price=None),\n Row(2014 rank=89, City='Reno', State='Nevada', State Code='NV', 2014 Population estimate=236995, 2015 median sales price=268.7),\n Row(2014 rank=88, City='Glendale', State='Arizona', State Code='AZ', 2014 Population estimate=237517, 2015 median sales price=None),\n Row(2014 rank=87, City='Winston�Salem', State='North Carolina', State Code='NC', 2014 Population estimate=239269, 2015 median sales price=138.6),\n Row(2014 rank=86, City='Gilbert[20]', State='Arizona', State Code='AZ', 2014 Population estimate=239277, 2015 median sales price=None),\n Row(2014 rank=85, City='Lubbock', State='Texas', State Code='TX', 2014 Population estimate=243839, 2015 median sales price=None),\n Row(2014 rank=84, City='Norfolk[15]', State='Virginia', State Code='VA', 2014 Population estimate=245428, 2015 median sales price=None),\n Row(2014 rank=83, City='Madison', State='Wisconsin', State Code='WI', 2014 Population estimate=245691, 2015 median sales price=226.2),\n Row(2014 rank=82, City='Irvine', State='California', State Code='CA', 2014 Population estimate=248531, 2015 median sales price=None),\n Row(2014 rank=81, City='Durham', State='North Carolina', State Code='NC', 2014 Population estimate=251893, 2015 median sales price=196.9),\n Row(2014 rank=80, City='Laredo', State='Texas', State Code='TX', 2014 Population estimate=252309, 2015 median sales price=None),\n Row(2014 rank=79, City='St. Petersburg', State='Florida', State Code='FL', 2014 Population estimate=253693, 2015 median sales price=None),\n Row(2014 rank=78, City='Chandler', State='Arizona', State Code='AZ', 2014 Population estimate=254276, 2015 median sales price=None),\n Row(2014 rank=77, City='Fort Wayne', State='Indiana', State Code='IN', 2014 Population estimate=258522, 2015 median sales price=106.3),\n Row(2014 rank=76, City='Buffalo', State='New York', State Code='NY', 2014 Population estimate=258703, 2015 median sales price=117.3),\n Row(2014 rank=75, City='Chula Vista', State='California', State Code='CA', 2014 Population estimate=260988, 2015 median sales price=None),\n Row(2014 rank=74, City='Jersey City', State='New Jersey', State Code='NJ', 2014 Population estimate=262146, 2015 median sales price=None),\n Row(2014 rank=73, City='Orlando', State='Florida', State Code='FL', 2014 Population estimate=262372, 2015 median sales price=None),\n Row(2014 rank=72, City='Lincoln', State='Nebraska', State Code='NE', 2014 Population estimate=272996, 2015 median sales price=150.2),\n Row(2014 rank=71, City='Henderson', State='Nevada', State Code='NV', 2014 Population estimate=277440, 2015 median sales price=None),\n Row(2014 rank=70, City='Plano', State='Texas', State Code='TX', 2014 Population estimate=278480, 2015 median sales price=None),\n Row(2014 rank=69, City='Newark', State='New Jersey', State Code='NJ', 2014 Population estimate=280579, 2015 median sales price=350.8),\n Row(2014 rank=68, City='Toledo', State='Ohio', State Code='OH', 2014 Population estimate=281031, 2015 median sales price=83.8),\n Row(2014 rank=67, City='Greensboro', State='North Carolina', State Code='NC', 2014 Population estimate=282586, 2015 median sales price=138.3),\n Row(2014 rank=66, City='Saint Paul', State='Minnesota', State Code='MN', 2014 Population estimate=297640, 2015 median sales price=None),\n Row(2014 rank=65, City='Cincinnati', State='Ohio', State Code='OH', 2014 Population estimate=298165, 2015 median sales price=135.0),\n Row(2014 rank=64, City='Anchorage[19]', State='Alaska', State Code='AK', 2014 Population estimate=301010, 2015 median sales price=None),\n Row(2014 rank=63, City='Stockton', State='California', State Code='CA', 2014 Population estimate=302389, 2015 median sales price=None),\n Row(2014 rank=62, City='Pittsburgh', State='Pennsylvania', State Code='PA', 2014 Population estimate=305412, 2015 median sales price=None),\n Row(2014 rank=61, City='Lexington[18]', State='Kentucky', State Code='KY', 2014 Population estimate=310797, 2015 median sales price=141.2),\n Row(2014 rank=60, City='St. Louis[15]', State='Missouri', State Code='MO', 2014 Population estimate=317419, 2015 median sales price=None),\n Row(2014 rank=59, City='Riverside', State='California', State Code='CA', 2014 Population estimate=319504, 2015 median sales price=281.0),\n Row(2014 rank=58, City='Corpus Christi', State='Texas', State Code='TX', 2014 Population estimate=320434, 2015 median sales price=172.9),\n Row(2014 rank=57, City='Santa Ana', State='California', State Code='CA', 2014 Population estimate=334909, 2015 median sales price=None),\n Row(2014 rank=56, City='Anaheim', State='California', State Code='CA', 2014 Population estimate=346997, 2015 median sales price=685.7),\n Row(2014 rank=55, City='Honolulu[2]', State=\"Hawai'i\", State Code='HI', 2014 Population estimate=350399, 2015 median sales price=699.3),\n Row(2014 rank=54, City='Aurora', State='Colorado', State Code='CO', 2014 Population estimate=353108, 2015 median sales price=None),\n Row(2014 rank=53, City='Tampa', State='Florida', State Code='FL', 2014 Population estimate=358699, 2015 median sales price=156.0),\n Row(2014 rank=52, City='Bakersfield', State='California', State Code='CA', 2014 Population estimate=368759, 2015 median sales price=None),\n Row(2014 rank=51, City='Arlington', State='Texas', State Code='TX', 2014 Population estimate=383204, 2015 median sales price=None),\n Row(2014 rank=50, City='New Orleans[17]', State='Louisiana', State Code='LA', 2014 Population estimate=384320, 2015 median sales price=None),\n Row(2014 rank=49, City='Wichita', State='Kansas', State Code='KS', 2014 Population estimate=388413, 2015 median sales price=126.0),\n Row(2014 rank=48, City='Cleveland', State='Ohio', State Code='OH', 2014 Population estimate=389521, 2015 median sales price=105.9),\n Row(2014 rank=47, City='Tulsa', State='Oklahoma', State Code='OK', 2014 Population estimate=399682, 2015 median sales price=145.1),\n Row(2014 rank=46, City='Minneapolis', State='Minnesota', State Code='MN', 2014 Population estimate=407207, 2015 median sales price=209.4),\n Row(2014 rank=45, City='Oakland', State='California', State Code='CA', 2014 Population estimate=413775, 2015 median sales price=None),\n Row(2014 rank=44, City='Miami', State='Florida', State Code='FL', 2014 Population estimate=430332, 2015 median sales price=269.1),\n Row(2014 rank=43, City='Raleigh', State='North Carolina', State Code='NC', 2014 Population estimate=439896, 2015 median sales price=218.9),\n Row(2014 rank=42, City='Colorado Springs', State='Colorado', State Code='CO', 2014 Population estimate=445830, 2015 median sales price=220.1),\n Row(2014 rank=41, City='Omaha', State='Nebraska', State Code='NE', 2014 Population estimate=446599, 2015 median sales price=148.1),\n Row(2014 rank=40, City='Virginia Beach[15]', State='Virginia', State Code='VA', 2014 Population estimate=450980, 2015 median sales price=190.0),\n Row(2014 rank=39, City='Atlanta', State='Georgia', State Code='GA', 2014 Population estimate=456002, 2015 median sales price=158.0),\n Row(2014 rank=38, City='Mesa', State='Arizona', State Code='AZ', 2014 Population estimate=464704, 2015 median sales price=None),\n Row(2014 rank=37, City='Kansas City', State='Missouri', State Code='MO', 2014 Population estimate=470800, 2015 median sales price=153.0),\n Row(2014 rank=36, City='Long Beach', State='California', State Code='CA', 2014 Population estimate=473577, 2015 median sales price=None),\n Row(2014 rank=35, City='Sacramento', State='California', State Code='CA', 2014 Population estimate=485199, 2015 median sales price=275.8),\n Row(2014 rank=34, City='Fresno', State='California', State Code='CA', 2014 Population estimate=515986, 2015 median sales price=None),\n Row(2014 rank=33, City='Tucson', State='Arizona', State Code='AZ', 2014 Population estimate=527972, 2015 median sales price=178.1),\n Row(2014 rank=32, City='Albuquerque', State='New Mexico', State Code='NM', 2014 Population estimate=557169, 2015 median sales price=172.2),\n Row(2014 rank=31, City='Milwaukee', State='Wisconsin', State Code='WI', 2014 Population estimate=599642, 2015 median sales price=195.4),\n Row(2014 rank=30, City='Louisville[16]', State='Kentucky', State Code='KY', 2014 Population estimate=612780, 2015 median sales price=141.1),\n Row(2014 rank=29, City='Las Vegas', State='Nevada', State Code='NV', 2014 Population estimate=613599, 2015 median sales price=205.9),\n Row(2014 rank=28, City='Portland', State='Oregon', State Code='OR', 2014 Population estimate=619360, 2015 median sales price=289.4),\n Row(2014 rank=27, City='Oklahoma City', State='Oklahoma', State Code='OK', 2014 Population estimate=620602, 2015 median sales price=None),\n Row(2014 rank=26, City='Baltimore[15]', State='Maryland', State Code='MD', 2014 Population estimate=622793, 2015 median sales price=223.1),\n Row(2014 rank=25, City='Nashville[14]', State='Tennessee', State Code='TN', 2014 Population estimate=644014, 2015 median sales price=186.4),\n Row(2014 rank=24, City='Boston', State='Massachusetts', State Code='MA', 2014 Population estimate=655884, 2015 median sales price=374.6),\n Row(2014 rank=23, City='Memphis', State='Tennessee', State Code='TN', 2014 Population estimate=656861, 2015 median sales price=132.1),\n Row(2014 rank=22, City='Washington[13]', State='District of Columbia', State Code='DC', 2014 Population estimate=658893, 2015 median sales price=367.8),\n Row(2014 rank=21, City='Denver[12]', State='Colorado', State Code='CO', 2014 Population estimate=663862, 2015 median sales price=338.1),\n Row(2014 rank=20, City='Seattle', State='Washington', State Code='WA', 2014 Population estimate=668342, 2015 median sales price=352.4),\n Row(2014 rank=19, City='El Paso', State='Texas', State Code='TX', 2014 Population estimate=679036, 2015 median sales price=138.4),\n Row(2014 rank=18, City='Detroit', State='Michigan', State Code='MI', 2014 Population estimate=680250, 2015 median sales price=None),\n Row(2014 rank=17, City='Charlotte', State='North Carolina', State Code='NC', 2014 Population estimate=809958, 2015 median sales price=197.2),\n Row(2014 rank=16, City='Fort Worth', State='Texas', State Code='TX', 2014 Population estimate=812238, 2015 median sales price=None),\n Row(2014 rank=15, City='Columbus', State='Ohio', State Code='OH', 2014 Population estimate=835957, 2015 median sales price=149.9),\n Row(2014 rank=14, City='Indianapolis[11]', State='Indiana', State Code='IN', 2014 Population estimate=848788, 2015 median sales price=139.2),\n Row(2014 rank=13, City='San Francisco[10]', State='California', State Code='CA', 2014 Population estimate=852469, 2015 median sales price=748.3),\n Row(2014 rank=12, City='Jacksonville[9]', State='Florida', State Code='FL', 2014 Population estimate=853382, 2015 median sales price=182.5),\n Row(2014 rank=11, City='Austin', State='Texas', State Code='TX', 2014 Population estimate=912791, 2015 median sales price=249.1),\n Row(2014 rank=10, City='San Jose', State='California', State Code='CA', 2014 Population estimate=1015785, 2015 median sales price=900.0),\n Row(2014 rank=9, City='Dallas', State='Texas', State Code='TX', 2014 Population estimate=1281047, 2015 median sales price=192.5),\n Row(2014 rank=8, City='San Diego', State='California', State Code='CA', 2014 Population estimate=1381069, 2015 median sales price=510.3),\n Row(2014 rank=7, City='San Antonio', State='Texas', State Code='TX', 2014 Population estimate=1436697, 2015 median sales price=184.7),\n Row(2014 rank=6, City='Phoenix', State='Arizona', State Code='AZ', 2014 Population estimate=1537058, 2015 median sales price=206.1),\n Row(2014 rank=5, City='Philadelphia[8]', State='Pennsylvania', State Code='PA', 2014 Population estimate=1560297, 2015 median sales price=204.9),\n Row(2014 rank=4, City='Houston[7]', State='Texas', State Code='TX', 2014 Population estimate=2239558, 2015 median sales price=200.3),\n Row(2014 rank=3, City='Chicago', State='Illinois', State Code='IL', 2014 Population estimate=2722389, 2015 median sales price=192.5),\n Row(2014 rank=2, City='Los Angeles', State='California', State Code='CA', 2014 Population estimate=3928864, 2015 median sales price=434.7),\n Row(2014 rank=1, City='New York[6]', State='New York', State Code='NY', 2014 Population estimate=8491079, 2015 median sales price=388.6)]"
     ]
    }
   ],
   "source": [
    "sqlContext.sql(\n",
    "'SELECT * FROM pops WHERE `2014 Population estimate` is not null \\\n",
    "ORDER BY `2014 Population estimate` ASC ' ).collect()"
   ]
  },
  {
   "cell_type": "code",
   "execution_count": 0,
   "metadata": {
    "application/vnd.databricks.v1+cell": {
     "cellMetadata": {
      "byteLimit": 2048000,
      "implicitDf": true,
      "rowLimit": 10000
     },
     "inputWidgets": {},
     "nuid": "9e5396da-2901-4246-9fd7-87c7a39b88ff",
     "showTitle": false,
     "title": ""
    }
   },
   "outputs": [
    {
     "output_type": "display_data",
     "data": {
      "text/html": [
       "<style scoped>\n",
       "  .table-result-container {\n",
       "    max-height: 300px;\n",
       "    overflow: auto;\n",
       "  }\n",
       "  table, th, td {\n",
       "    border: 1px solid black;\n",
       "    border-collapse: collapse;\n",
       "  }\n",
       "  th, td {\n",
       "    padding: 5px;\n",
       "  }\n",
       "  th {\n",
       "    text-align: left;\n",
       "  }\n",
       "</style><div class='table-result-container'><table class='table-result'><thead style='background-color: white'><tr><th>2014 rank</th><th>City</th><th>State</th><th>State Code</th><th>2014 Population estimate</th><th>2015 median sales price</th></tr></thead><tbody><tr><td>294</td><td>Las Cruces</td><td>New Mexico</td><td>NM</td><td>101408</td><td>null</td></tr><tr><td>293</td><td>Tyler</td><td>Texas</td><td>TX</td><td>101421</td><td>null</td></tr><tr><td>292</td><td>Sandy Springs</td><td>Georgia</td><td>GA</td><td>101908</td><td>null</td></tr><tr><td>291</td><td>Clovis</td><td>California</td><td>CA</td><td>102189</td><td>null</td></tr><tr><td>290</td><td>Lakeland</td><td>Florida</td><td>FL</td><td>102346</td><td>136.0</td></tr><tr><td>289</td><td>Davenport</td><td>Iowa</td><td>IA</td><td>102448</td><td>109.4</td></tr><tr><td>288</td><td>Rialto</td><td>California</td><td>CA</td><td>102741</td><td>null</td></tr><tr><td>287</td><td>Lewisville</td><td>Texas</td><td>TX</td><td>102889</td><td>null</td></tr><tr><td>286</td><td>San Mateo</td><td>California</td><td>CA</td><td>102893</td><td>null</td></tr><tr><td>285</td><td>El Cajon</td><td>California</td><td>CA</td><td>103091</td><td>null</td></tr><tr><td>284</td><td>Santa Maria</td><td>California</td><td>CA</td><td>103410</td><td>null</td></tr><tr><td>283</td><td>Pearland</td><td>Texas</td><td>TX</td><td>103441</td><td>null</td></tr><tr><td>282</td><td>College Station</td><td>Texas</td><td>TX</td><td>103483</td><td>null</td></tr><tr><td>281</td><td>West Palm Beach</td><td>Florida</td><td>FL</td><td>104031</td><td>null</td></tr><tr><td>280</td><td>Broken Arrow</td><td>Oklahoma</td><td>OK</td><td>104726</td><td>null</td></tr><tr><td>279</td><td>Green Bay</td><td>Wisconsin</td><td>WI</td><td>104891</td><td>null</td></tr><tr><td>278</td><td>Boulder</td><td>Colorado</td><td>CO</td><td>105112</td><td>442.2</td></tr><tr><td>277</td><td>Wichita Falls</td><td>Texas</td><td>TX</td><td>105114</td><td>null</td></tr><tr><td>276</td><td>Burbank</td><td>California</td><td>CA</td><td>105368</td><td>null</td></tr><tr><td>275</td><td>Palm Bay</td><td>Florida</td><td>FL</td><td>105838</td><td>145.0</td></tr><tr><td>274</td><td>Daly City</td><td>California</td><td>CA</td><td>106094</td><td>null</td></tr><tr><td>273</td><td>Pompano Beach</td><td>Florida</td><td>FL</td><td>106105</td><td>null</td></tr><tr><td>272</td><td>Everett</td><td>Washington</td><td>WA</td><td>106736</td><td>null</td></tr><tr><td>271</td><td>North Charleston</td><td>South Carolina</td><td>SC</td><td>106749</td><td>null</td></tr><tr><td>270</td><td>Norwalk</td><td>California</td><td>CA</td><td>107096</td><td>null</td></tr><tr><td>269</td><td>Centennial</td><td>Colorado</td><td>CO</td><td>107201</td><td>null</td></tr><tr><td>268</td><td>Murrieta</td><td>California</td><td>CA</td><td>108368</td><td>null</td></tr><tr><td>267</td><td>Pueblo</td><td>Colorado</td><td>CO</td><td>108423</td><td>null</td></tr><tr><td>266</td><td>West Covina</td><td>California</td><td>CA</td><td>108455</td><td>null</td></tr><tr><td>265</td><td>Richmond</td><td>California</td><td>CA</td><td>108565</td><td>null</td></tr><tr><td>264</td><td>Richardson</td><td>Texas</td><td>TX</td><td>108617</td><td>null</td></tr><tr><td>263</td><td>High Point</td><td>North Carolina</td><td>NC</td><td>108629</td><td>null</td></tr><tr><td>262</td><td>Billings</td><td>Montana</td><td>MT</td><td>108869</td><td>null</td></tr><tr><td>261</td><td>Antioch</td><td>California</td><td>CA</td><td>108930</td><td>null</td></tr><tr><td>260</td><td>Waterbury</td><td>Connecticut</td><td>CT</td><td>109307</td><td>null</td></tr><tr><td>259</td><td>Temecula</td><td>California</td><td>CA</td><td>109428</td><td>null</td></tr><tr><td>258</td><td>Ventura[29]</td><td>California</td><td>CA</td><td>109484</td><td>null</td></tr><tr><td>257</td><td>Cambridge</td><td>Massachusetts</td><td>MA</td><td>109694</td><td>null</td></tr><tr><td>256</td><td>Gresham</td><td>Oregon</td><td>OR</td><td>109892</td><td>null</td></tr><tr><td>255</td><td>Lowell</td><td>Massachusetts</td><td>MA</td><td>109945</td><td>null</td></tr><tr><td>254</td><td>Manchester</td><td>New Hampshire</td><td>NH</td><td>110448</td><td>237.4</td></tr><tr><td>253</td><td>Clearwater</td><td>Florida</td><td>FL</td><td>110703</td><td>null</td></tr><tr><td>252</td><td>West Jordan</td><td>Utah</td><td>UT</td><td>110920</td><td>null</td></tr><tr><td>251</td><td>Elgin</td><td>Illinois</td><td>IL</td><td>111117</td><td>null</td></tr><tr><td>250</td><td>Fairfield</td><td>California</td><td>CA</td><td>111125</td><td>null</td></tr><tr><td>249</td><td>Rochester</td><td>Minnesota</td><td>MN</td><td>111402</td><td>null</td></tr><tr><td>248</td><td>Inglewood</td><td>California</td><td>CA</td><td>111905</td><td>null</td></tr><tr><td>247</td><td>Westminster</td><td>Colorado</td><td>CO</td><td>112090</td><td>null</td></tr><tr><td>246</td><td>Miami Gardens</td><td>Florida</td><td>FL</td><td>112265</td><td>null</td></tr><tr><td>245</td><td>Carlsbad</td><td>California</td><td>CA</td><td>112299</td><td>null</td></tr><tr><td>244</td><td>Round Rock</td><td>Texas</td><td>TX</td><td>112744</td><td>null</td></tr><tr><td>243</td><td>Costa Mesa</td><td>California</td><td>CA</td><td>112784</td><td>null</td></tr><tr><td>242</td><td>Arvada</td><td>Colorado</td><td>CO</td><td>113574</td><td>null</td></tr><tr><td>241</td><td>Wilmington</td><td>North Carolina</td><td>NC</td><td>113657</td><td>197.5</td></tr><tr><td>240</td><td>Downey</td><td>California</td><td>CA</td><td>114172</td><td>null</td></tr><tr><td>239</td><td>Odessa</td><td>Texas</td><td>TX</td><td>114597</td><td>null</td></tr><tr><td>238</td><td>Lansing</td><td>Michigan</td><td>MI</td><td>114620</td><td>114.6</td></tr><tr><td>237</td><td>Provo</td><td>Utah</td><td>UT</td><td>114801</td><td>null</td></tr><tr><td>236</td><td>Peoria</td><td>Illinois</td><td>IL</td><td>115828</td><td>105.2</td></tr><tr><td>235</td><td>Fargo</td><td>North Dakota</td><td>ND</td><td>115863</td><td>180.0</td></tr><tr><td>234</td><td>El Monte</td><td>California</td><td>CA</td><td>116631</td><td>null</td></tr><tr><td>233</td><td>Springfield</td><td>Illinois</td><td>IL</td><td>116809</td><td>115.2</td></tr><tr><td>232</td><td>Columbia</td><td>Missouri</td><td>MO</td><td>116906</td><td>null</td></tr><tr><td>231</td><td>Independence</td><td>Missouri</td><td>MO</td><td>117494</td><td>null</td></tr><tr><td>230</td><td>Beaumont</td><td>Texas</td><td>TX</td><td>117585</td><td>133.3</td></tr><tr><td>229</td><td>Ann Arbor</td><td>Michigan</td><td>MI</td><td>117770</td><td>null</td></tr><tr><td>228</td><td>Norman</td><td>Oklahoma</td><td>OK</td><td>118040</td><td>null</td></tr><tr><td>227</td><td>Berkeley</td><td>California</td><td>CA</td><td>118853</td><td>null</td></tr><tr><td>226</td><td>Allentown</td><td>Pennsylvania</td><td>PA</td><td>119104</td><td>162.7</td></tr><tr><td>225</td><td>Athens[28]</td><td>Georgia</td><td>GA</td><td>119648</td><td>null</td></tr><tr><td>224</td><td>Vallejo</td><td>California</td><td>CA</td><td>120228</td><td>null</td></tr><tr><td>223</td><td>Evansville</td><td>Indiana</td><td>IN</td><td>120346</td><td>null</td></tr><tr><td>222</td><td>Murfreesboro</td><td>Tennessee</td><td>TN</td><td>120954</td><td>null</td></tr><tr><td>221</td><td>Abilene</td><td>Texas</td><td>TX</td><td>120958</td><td>145.7</td></tr><tr><td>220</td><td>Victorville</td><td>California</td><td>CA</td><td>121901</td><td>null</td></tr><tr><td>219</td><td>Santa Clara</td><td>California</td><td>CA</td><td>122192</td><td>null</td></tr><tr><td>218</td><td>Hartford</td><td>Connecticut</td><td>CT</td><td>124705</td><td>202.6</td></tr><tr><td>217</td><td>Kent</td><td>Washington</td><td>WA</td><td>125560</td><td>null</td></tr><tr><td>216</td><td>Lafayette[27]</td><td>Louisiana</td><td>LA</td><td>126066</td><td>null</td></tr><tr><td>215</td><td>Surprise</td><td>Arizona</td><td>AZ</td><td>126275</td><td>null</td></tr><tr><td>214</td><td>Simi Valley</td><td>California</td><td>CA</td><td>126871</td><td>null</td></tr><tr><td>213</td><td>Topeka</td><td>Kansas</td><td>KS</td><td>127215</td><td>105.3</td></tr><tr><td>212</td><td>Concord</td><td>California</td><td>CA</td><td>127522</td><td>null</td></tr><tr><td>211</td><td>Coral Springs</td><td>Florida</td><td>FL</td><td>127952</td><td>null</td></tr><tr><td>210</td><td>Midland</td><td>Texas</td><td>TX</td><td>128037</td><td>null</td></tr><tr><td>209</td><td>Denton</td><td>Texas</td><td>TX</td><td>128205</td><td>null</td></tr><tr><td>208</td><td>Stamford</td><td>Connecticut</td><td>CT</td><td>128278</td><td>null</td></tr><tr><td>207</td><td>Carrollton</td><td>Texas</td><td>TX</td><td>128353</td><td>null</td></tr><tr><td>206</td><td>Gainesville</td><td>Florida</td><td>FL</td><td>128460</td><td>169.9</td></tr><tr><td>205</td><td>Roseville</td><td>California</td><td>CA</td><td>128615</td><td>null</td></tr><tr><td>204</td><td>Elizabeth</td><td>New Jersey</td><td>NJ</td><td>128705</td><td>null</td></tr><tr><td>203</td><td>Cedar Rapids</td><td>Iowa</td><td>IA</td><td>129195</td><td>156.9</td></tr><tr><td>202</td><td>Visalia</td><td>California</td><td>CA</td><td>129281</td><td>null</td></tr><tr><td>201</td><td>Thousand Oaks</td><td>California</td><td>CA</td><td>129342</td><td>null</td></tr><tr><td>200</td><td>Charleston</td><td>South Carolina</td><td>SC</td><td>130113</td><td>null</td></tr><tr><td>199</td><td>Waco</td><td>Texas</td><td>TX</td><td>130194</td><td>null</td></tr><tr><td>198</td><td>New Haven</td><td>Connecticut</td><td>CT</td><td>130282</td><td>205.1</td></tr><tr><td>197</td><td>Thornton</td><td>Colorado</td><td>CO</td><td>130307</td><td>null</td></tr><tr><td>196</td><td>Sterling Heights</td><td>Michigan</td><td>MI</td><td>131741</td><td>null</td></tr><tr><td>195</td><td>Columbia</td><td>South Carolina</td><td>SC</td><td>132067</td><td>null</td></tr><tr><td>194</td><td>Olathe</td><td>Kansas</td><td>KS</td><td>133062</td><td>null</td></tr><tr><td>193</td><td>West Valley City</td><td>Utah</td><td>UT</td><td>134495</td><td>null</td></tr><tr><td>192</td><td>Miramar</td><td>Florida</td><td>FL</td><td>134989</td><td>null</td></tr><tr><td>191</td><td>Warren</td><td>Michigan</td><td>MI</td><td>135099</td><td>null</td></tr><tr><td>190</td><td>Bellevue</td><td>Washington</td><td>WA</td><td>136426</td><td>null</td></tr><tr><td>189</td><td>Hampton[15]</td><td>Virginia</td><td>VA</td><td>136879</td><td>null</td></tr><tr><td>188</td><td>Killeen</td><td>Texas</td><td>TX</td><td>138154</td><td>null</td></tr><tr><td>187</td><td>McAllen</td><td>Texas</td><td>TX</td><td>138596</td><td>null</td></tr><tr><td>186</td><td>Fullerton</td><td>California</td><td>CA</td><td>139677</td><td>null</td></tr><tr><td>185</td><td>Orange</td><td>California</td><td>CA</td><td>139812</td><td>null</td></tr><tr><td>184</td><td>Pasadena</td><td>California</td><td>CA</td><td>140881</td><td>null</td></tr><tr><td>183</td><td>Dayton</td><td>Ohio</td><td>OH</td><td>141003</td><td>107.2</td></tr><tr><td>182</td><td>Syracuse</td><td>New York</td><td>NY</td><td>144263</td><td>118.3</td></tr><tr><td>181</td><td>Savannah</td><td>Georgia</td><td>GA</td><td>144352</td><td>null</td></tr><tr><td>180</td><td>Mesquite</td><td>Texas</td><td>TX</td><td>144416</td><td>null</td></tr><tr><td>179</td><td>Frisco</td><td>Texas</td><td>TX</td><td>145035</td><td>null</td></tr><tr><td>178</td><td>Naperville</td><td>Illinois</td><td>IL</td><td>146128</td><td>null</td></tr><tr><td>177</td><td>Paterson</td><td>New Jersey</td><td>NJ</td><td>146753</td><td>null</td></tr><tr><td>176</td><td>Clarksville</td><td>Tennessee</td><td>TN</td><td>146806</td><td>null</td></tr><tr><td>175</td><td>Bridgeport</td><td>Connecticut</td><td>CT</td><td>147612</td><td>342.7</td></tr><tr><td>174</td><td>Joliet</td><td>Illinois</td><td>IL</td><td>147928</td><td>null</td></tr><tr><td>173</td><td>Hollywood</td><td>Florida</td><td>FL</td><td>148047</td><td>null</td></tr><tr><td>172</td><td>Torrance</td><td>California</td><td>CA</td><td>148495</td><td>null</td></tr><tr><td>171</td><td>Rockford</td><td>Illinois</td><td>IL</td><td>149123</td><td>78.6</td></tr><tr><td>170</td><td>Kansas City[26]</td><td>Kansas</td><td>KS</td><td>149636</td><td>null</td></tr><tr><td>169</td><td>Lakewood</td><td>Colorado</td><td>CO</td><td>149643</td><td>null</td></tr><tr><td>168</td><td>Sunnyvale</td><td>California</td><td>CA</td><td>149980</td><td>null</td></tr><tr><td>167</td><td>Escondido</td><td>California</td><td>CA</td><td>150243</td><td>null</td></tr><tr><td>166</td><td>Alexandria[15]</td><td>Virginia</td><td>VA</td><td>150575</td><td>null</td></tr><tr><td>165</td><td>Pomona</td><td>California</td><td>CA</td><td>153350</td><td>null</td></tr><tr><td>163</td><td>Pasadena</td><td>Texas</td><td>TX</td><td>153887</td><td>null</td></tr><tr><td>162</td><td>Springfield</td><td>Massachusetts</td><td>MA</td><td>153991</td><td>183.9</td></tr><tr><td>161</td><td>Hayward</td><td>California</td><td>CA</td><td>154612</td><td>null</td></tr><tr><td>160</td><td>Cary[25]</td><td>North Carolina</td><td>NC</td><td>155227</td><td>null</td></tr><tr><td>159</td><td>Fort Collins</td><td>Colorado</td><td>CO</td><td>156480</td><td>null</td></tr><tr><td>158</td><td>Salinas</td><td>California</td><td>CA</td><td>156677</td><td>null</td></tr><tr><td>157</td><td>McKinney</td><td>Texas</td><td>TX</td><td>156767</td><td>null</td></tr><tr><td>156</td><td>Palmdale</td><td>California</td><td>CA</td><td>158279</td><td>null</td></tr><tr><td>155</td><td>Eugene</td><td>Oregon</td><td>OR</td><td>160561</td><td>211.3</td></tr><tr><td>154</td><td>Lancaster</td><td>California</td><td>CA</td><td>161043</td><td>null</td></tr><tr><td>153</td><td>Corona</td><td>California</td><td>CA</td><td>161486</td><td>null</td></tr><tr><td>152</td><td>Salem</td><td>Oregon</td><td>OR</td><td>161637</td><td>193.9</td></tr><tr><td>151</td><td>Elk Grove</td><td>California</td><td>CA</td><td>163553</td><td>null</td></tr><tr><td>150</td><td>Pembroke Pines</td><td>Florida</td><td>FL</td><td>164626</td><td>null</td></tr><tr><td>149</td><td>Springfield</td><td>Missouri</td><td>MO</td><td>165378</td><td>116.5</td></tr><tr><td>148</td><td>Peoria</td><td>Arizona</td><td>AZ</td><td>166934</td><td>null</td></tr><tr><td>147</td><td>Sioux Falls</td><td>South Dakota</td><td>SD</td><td>168586</td><td>159.5</td></tr><tr><td>146</td><td>Ontario</td><td>California</td><td>CA</td><td>169089</td><td>null</td></tr><tr><td>145</td><td>Vancouver</td><td>Washington</td><td>WA</td><td>169294</td><td>null</td></tr><tr><td>144</td><td>Cape Coral</td><td>Florida</td><td>FL</td><td>169854</td><td>208.0</td></tr><tr><td>143</td><td>Jackson</td><td>Mississippi</td><td>MS</td><td>171155</td><td>154.1</td></tr><tr><td>142</td><td>Tempe</td><td>Arizona</td><td>AZ</td><td>172816</td><td>null</td></tr><tr><td>141</td><td>Chattanooga</td><td>Tennessee</td><td>TN</td><td>173778</td><td>143.6</td></tr><tr><td>140</td><td>Port St. Lucie</td><td>Florida</td><td>FL</td><td>174110</td><td>172.0</td></tr><tr><td>139</td><td>Santa Rosa</td><td>California</td><td>CA</td><td>174170</td><td>null</td></tr><tr><td>138</td><td>Rancho Cucamonga</td><td>California</td><td>CA</td><td>174305</td><td>null</td></tr><tr><td>137</td><td>Oceanside</td><td>California</td><td>CA</td><td>174558</td><td>null</td></tr><tr><td>136</td><td>Garden Grove</td><td>California</td><td>CA</td><td>175078</td><td>null</td></tr><tr><td>135</td><td>Fort Lauderdale</td><td>Florida</td><td>FL</td><td>176013</td><td>null</td></tr><tr><td>134</td><td>Providence</td><td>Rhode Island</td><td>RI</td><td>179154</td><td>233.3</td></tr><tr><td>133</td><td>Santa Clarita</td><td>California</td><td>CA</td><td>181557</td><td>null</td></tr><tr><td>132</td><td>Newport News[15]</td><td>Virginia</td><td>VA</td><td>182965</td><td>null</td></tr><tr><td>131</td><td>Worcester</td><td>Massachusetts</td><td>MA</td><td>183016</td><td>226.9</td></tr><tr><td>130</td><td>Brownsville</td><td>Texas</td><td>TX</td><td>183046</td><td>null</td></tr><tr><td>129</td><td>Knoxville</td><td>Tennessee</td><td>TN</td><td>184281</td><td>149.2</td></tr><tr><td>128</td><td>Overland Park</td><td>Kansas</td><td>KS</td><td>184525</td><td>null</td></tr><tr><td>127</td><td>Grand Prairie</td><td>Texas</td><td>TX</td><td>185453</td><td>null</td></tr><tr><td>126</td><td>Tallahassee</td><td>Florida</td><td>FL</td><td>188107</td><td>170.5</td></tr><tr><td>125</td><td>Huntsville</td><td>Alabama</td><td>AL</td><td>188226</td><td>157.7</td></tr><tr><td>124</td><td>Salt Lake City</td><td>Utah</td><td>UT</td><td>190884</td><td>243.3</td></tr><tr><td>123</td><td>Grand Rapids</td><td>Michigan</td><td>MI</td><td>193792</td><td>null</td></tr><tr><td>122</td><td>Mobile</td><td>Alabama</td><td>AL</td><td>194675</td><td>122.5</td></tr><tr><td>121</td><td>Augusta[24]</td><td>Georgia</td><td>GA</td><td>196741</td><td>null</td></tr><tr><td>120</td><td>Amarillo</td><td>Texas</td><td>TX</td><td>197254</td><td>144.4</td></tr><tr><td>119</td><td>Little Rock</td><td>Arkansas</td><td>AR</td><td>197706</td><td>131.8</td></tr><tr><td>118</td><td>Akron</td><td>Ohio</td><td>OH</td><td>197859</td><td>95.4</td></tr><tr><td>117</td><td>Shreveport</td><td>Louisiana</td><td>LA</td><td>198242</td><td>151.6</td></tr><tr><td>116</td><td>Glendale</td><td>California</td><td>CA</td><td>200167</td><td>null</td></tr><tr><td>115</td><td>Aurora</td><td>Illinois</td><td>IL</td><td>200456</td><td>null</td></tr><tr><td>114</td><td>Montgomery</td><td>Alabama</td><td>AL</td><td>200481</td><td>129.0</td></tr><tr><td>113</td><td>Yonkers</td><td>New York</td><td>NY</td><td>200667</td><td>null</td></tr><tr><td>112</td><td>Huntington Beach</td><td>California</td><td>CA</td><td>200809</td><td>null</td></tr><tr><td>111</td><td>Columbus[23]</td><td>Georgia</td><td>GA</td><td>200887</td><td>null</td></tr><tr><td>110</td><td>Moreno Valley</td><td>California</td><td>CA</td><td>202976</td><td>null</td></tr><tr><td>109</td><td>Fayetteville</td><td>North Carolina</td><td>NC</td><td>203948</td><td>145.0</td></tr><tr><td>108</td><td>Fontana</td><td>California</td><td>CA</td><td>204950</td><td>null</td></tr><tr><td>107</td><td>Tacoma</td><td>Washington</td><td>WA</td><td>205159</td><td>null</td></tr><tr><td>106</td><td>Oxnard</td><td>California</td><td>CA</td><td>205437</td><td>null</td></tr><tr><td>105</td><td>Des Moines</td><td>Iowa</td><td>IA</td><td>209220</td><td>null</td></tr><tr><td>104</td><td>Modesto</td><td>California</td><td>CA</td><td>209286</td><td>null</td></tr><tr><td>103</td><td>Rochester</td><td>New York</td><td>NY</td><td>209983</td><td>118.9</td></tr><tr><td>102</td><td>Spokane</td><td>Washington</td><td>WA</td><td>212052</td><td>180.2</td></tr><tr><td>101</td><td>Birmingham</td><td>Alabama</td><td>AL</td><td>212247</td><td>162.9</td></tr><tr><td>100</td><td>San Bernardino</td><td>California</td><td>CA</td><td>215213</td><td>null</td></tr><tr><td>99</td><td>Boise[22]</td><td>Idaho</td><td>ID</td><td>216282</td><td>178.7</td></tr><tr><td>98</td><td>Richmond[15]</td><td>Virginia</td><td>VA</td><td>217853</td><td>212.5</td></tr><tr><td>97</td><td>Fremont</td><td>California</td><td>CA</td><td>228758</td><td>null</td></tr><tr><td>96</td><td>Baton Rouge[21]</td><td>Louisiana</td><td>LA</td><td>228895</td><td>177.2</td></tr><tr><td>95</td><td>Scottsdale</td><td>Arizona</td><td>AZ</td><td>230512</td><td>null</td></tr><tr><td>94</td><td>North Las Vegas</td><td>Nevada</td><td>NV</td><td>230788</td><td>null</td></tr><tr><td>93</td><td>Irving</td><td>Texas</td><td>TX</td><td>232406</td><td>null</td></tr><tr><td>92</td><td>Chesapeake[15]</td><td>Virginia</td><td>VA</td><td>233371</td><td>null</td></tr><tr><td>91</td><td>Garland</td><td>Texas</td><td>TX</td><td>235501</td><td>null</td></tr><tr><td>90</td><td>Hialeah</td><td>Florida</td><td>FL</td><td>235563</td><td>null</td></tr><tr><td>89</td><td>Reno</td><td>Nevada</td><td>NV</td><td>236995</td><td>268.7</td></tr><tr><td>88</td><td>Glendale</td><td>Arizona</td><td>AZ</td><td>237517</td><td>null</td></tr><tr><td>87</td><td>Winston�Salem</td><td>North Carolina</td><td>NC</td><td>239269</td><td>138.6</td></tr><tr><td>86</td><td>Gilbert[20]</td><td>Arizona</td><td>AZ</td><td>239277</td><td>null</td></tr><tr><td>85</td><td>Lubbock</td><td>Texas</td><td>TX</td><td>243839</td><td>null</td></tr><tr><td>84</td><td>Norfolk[15]</td><td>Virginia</td><td>VA</td><td>245428</td><td>null</td></tr><tr><td>83</td><td>Madison</td><td>Wisconsin</td><td>WI</td><td>245691</td><td>226.2</td></tr><tr><td>82</td><td>Irvine</td><td>California</td><td>CA</td><td>248531</td><td>null</td></tr><tr><td>81</td><td>Durham</td><td>North Carolina</td><td>NC</td><td>251893</td><td>196.9</td></tr><tr><td>80</td><td>Laredo</td><td>Texas</td><td>TX</td><td>252309</td><td>null</td></tr><tr><td>79</td><td>St. Petersburg</td><td>Florida</td><td>FL</td><td>253693</td><td>null</td></tr><tr><td>78</td><td>Chandler</td><td>Arizona</td><td>AZ</td><td>254276</td><td>null</td></tr><tr><td>77</td><td>Fort Wayne</td><td>Indiana</td><td>IN</td><td>258522</td><td>106.3</td></tr><tr><td>76</td><td>Buffalo</td><td>New York</td><td>NY</td><td>258703</td><td>117.3</td></tr><tr><td>75</td><td>Chula Vista</td><td>California</td><td>CA</td><td>260988</td><td>null</td></tr><tr><td>74</td><td>Jersey City</td><td>New Jersey</td><td>NJ</td><td>262146</td><td>null</td></tr><tr><td>73</td><td>Orlando</td><td>Florida</td><td>FL</td><td>262372</td><td>null</td></tr><tr><td>72</td><td>Lincoln</td><td>Nebraska</td><td>NE</td><td>272996</td><td>150.2</td></tr><tr><td>71</td><td>Henderson</td><td>Nevada</td><td>NV</td><td>277440</td><td>null</td></tr><tr><td>70</td><td>Plano</td><td>Texas</td><td>TX</td><td>278480</td><td>null</td></tr><tr><td>69</td><td>Newark</td><td>New Jersey</td><td>NJ</td><td>280579</td><td>350.8</td></tr><tr><td>68</td><td>Toledo</td><td>Ohio</td><td>OH</td><td>281031</td><td>83.8</td></tr><tr><td>67</td><td>Greensboro</td><td>North Carolina</td><td>NC</td><td>282586</td><td>138.3</td></tr><tr><td>66</td><td>Saint Paul</td><td>Minnesota</td><td>MN</td><td>297640</td><td>null</td></tr><tr><td>65</td><td>Cincinnati</td><td>Ohio</td><td>OH</td><td>298165</td><td>135.0</td></tr><tr><td>64</td><td>Anchorage[19]</td><td>Alaska</td><td>AK</td><td>301010</td><td>null</td></tr><tr><td>63</td><td>Stockton</td><td>California</td><td>CA</td><td>302389</td><td>null</td></tr><tr><td>62</td><td>Pittsburgh</td><td>Pennsylvania</td><td>PA</td><td>305412</td><td>null</td></tr><tr><td>61</td><td>Lexington[18]</td><td>Kentucky</td><td>KY</td><td>310797</td><td>141.2</td></tr><tr><td>60</td><td>St. Louis[15]</td><td>Missouri</td><td>MO</td><td>317419</td><td>null</td></tr><tr><td>59</td><td>Riverside</td><td>California</td><td>CA</td><td>319504</td><td>281.0</td></tr><tr><td>58</td><td>Corpus Christi</td><td>Texas</td><td>TX</td><td>320434</td><td>172.9</td></tr><tr><td>57</td><td>Santa Ana</td><td>California</td><td>CA</td><td>334909</td><td>null</td></tr><tr><td>56</td><td>Anaheim</td><td>California</td><td>CA</td><td>346997</td><td>685.7</td></tr><tr><td>55</td><td>Honolulu[2]</td><td>Hawai'i</td><td>HI</td><td>350399</td><td>699.3</td></tr><tr><td>54</td><td>Aurora</td><td>Colorado</td><td>CO</td><td>353108</td><td>null</td></tr><tr><td>53</td><td>Tampa</td><td>Florida</td><td>FL</td><td>358699</td><td>156.0</td></tr><tr><td>52</td><td>Bakersfield</td><td>California</td><td>CA</td><td>368759</td><td>null</td></tr><tr><td>51</td><td>Arlington</td><td>Texas</td><td>TX</td><td>383204</td><td>null</td></tr><tr><td>50</td><td>New Orleans[17]</td><td>Louisiana</td><td>LA</td><td>384320</td><td>null</td></tr><tr><td>49</td><td>Wichita</td><td>Kansas</td><td>KS</td><td>388413</td><td>126.0</td></tr><tr><td>48</td><td>Cleveland</td><td>Ohio</td><td>OH</td><td>389521</td><td>105.9</td></tr><tr><td>47</td><td>Tulsa</td><td>Oklahoma</td><td>OK</td><td>399682</td><td>145.1</td></tr><tr><td>46</td><td>Minneapolis</td><td>Minnesota</td><td>MN</td><td>407207</td><td>209.4</td></tr><tr><td>45</td><td>Oakland</td><td>California</td><td>CA</td><td>413775</td><td>null</td></tr><tr><td>44</td><td>Miami</td><td>Florida</td><td>FL</td><td>430332</td><td>269.1</td></tr><tr><td>43</td><td>Raleigh</td><td>North Carolina</td><td>NC</td><td>439896</td><td>218.9</td></tr><tr><td>42</td><td>Colorado Springs</td><td>Colorado</td><td>CO</td><td>445830</td><td>220.1</td></tr><tr><td>41</td><td>Omaha</td><td>Nebraska</td><td>NE</td><td>446599</td><td>148.1</td></tr><tr><td>40</td><td>Virginia Beach[15]</td><td>Virginia</td><td>VA</td><td>450980</td><td>190.0</td></tr><tr><td>39</td><td>Atlanta</td><td>Georgia</td><td>GA</td><td>456002</td><td>158.0</td></tr><tr><td>38</td><td>Mesa</td><td>Arizona</td><td>AZ</td><td>464704</td><td>null</td></tr><tr><td>37</td><td>Kansas City</td><td>Missouri</td><td>MO</td><td>470800</td><td>153.0</td></tr><tr><td>36</td><td>Long Beach</td><td>California</td><td>CA</td><td>473577</td><td>null</td></tr><tr><td>35</td><td>Sacramento</td><td>California</td><td>CA</td><td>485199</td><td>275.8</td></tr><tr><td>34</td><td>Fresno</td><td>California</td><td>CA</td><td>515986</td><td>null</td></tr><tr><td>33</td><td>Tucson</td><td>Arizona</td><td>AZ</td><td>527972</td><td>178.1</td></tr><tr><td>32</td><td>Albuquerque</td><td>New Mexico</td><td>NM</td><td>557169</td><td>172.2</td></tr><tr><td>31</td><td>Milwaukee</td><td>Wisconsin</td><td>WI</td><td>599642</td><td>195.4</td></tr><tr><td>30</td><td>Louisville[16]</td><td>Kentucky</td><td>KY</td><td>612780</td><td>141.1</td></tr><tr><td>29</td><td>Las Vegas</td><td>Nevada</td><td>NV</td><td>613599</td><td>205.9</td></tr><tr><td>28</td><td>Portland</td><td>Oregon</td><td>OR</td><td>619360</td><td>289.4</td></tr><tr><td>27</td><td>Oklahoma City</td><td>Oklahoma</td><td>OK</td><td>620602</td><td>null</td></tr><tr><td>26</td><td>Baltimore[15]</td><td>Maryland</td><td>MD</td><td>622793</td><td>223.1</td></tr><tr><td>25</td><td>Nashville[14]</td><td>Tennessee</td><td>TN</td><td>644014</td><td>186.4</td></tr><tr><td>24</td><td>Boston</td><td>Massachusetts</td><td>MA</td><td>655884</td><td>374.6</td></tr><tr><td>23</td><td>Memphis</td><td>Tennessee</td><td>TN</td><td>656861</td><td>132.1</td></tr><tr><td>22</td><td>Washington[13]</td><td>District of Columbia</td><td>DC</td><td>658893</td><td>367.8</td></tr><tr><td>21</td><td>Denver[12]</td><td>Colorado</td><td>CO</td><td>663862</td><td>338.1</td></tr><tr><td>20</td><td>Seattle</td><td>Washington</td><td>WA</td><td>668342</td><td>352.4</td></tr><tr><td>19</td><td>El Paso</td><td>Texas</td><td>TX</td><td>679036</td><td>138.4</td></tr><tr><td>18</td><td>Detroit</td><td>Michigan</td><td>MI</td><td>680250</td><td>null</td></tr><tr><td>17</td><td>Charlotte</td><td>North Carolina</td><td>NC</td><td>809958</td><td>197.2</td></tr><tr><td>16</td><td>Fort Worth</td><td>Texas</td><td>TX</td><td>812238</td><td>null</td></tr><tr><td>15</td><td>Columbus</td><td>Ohio</td><td>OH</td><td>835957</td><td>149.9</td></tr><tr><td>14</td><td>Indianapolis[11]</td><td>Indiana</td><td>IN</td><td>848788</td><td>139.2</td></tr><tr><td>13</td><td>San Francisco[10]</td><td>California</td><td>CA</td><td>852469</td><td>748.3</td></tr><tr><td>12</td><td>Jacksonville[9]</td><td>Florida</td><td>FL</td><td>853382</td><td>182.5</td></tr><tr><td>11</td><td>Austin</td><td>Texas</td><td>TX</td><td>912791</td><td>249.1</td></tr><tr><td>10</td><td>San Jose</td><td>California</td><td>CA</td><td>1015785</td><td>900.0</td></tr><tr><td>9</td><td>Dallas</td><td>Texas</td><td>TX</td><td>1281047</td><td>192.5</td></tr><tr><td>8</td><td>San Diego</td><td>California</td><td>CA</td><td>1381069</td><td>510.3</td></tr><tr><td>7</td><td>San Antonio</td><td>Texas</td><td>TX</td><td>1436697</td><td>184.7</td></tr><tr><td>6</td><td>Phoenix</td><td>Arizona</td><td>AZ</td><td>1537058</td><td>206.1</td></tr><tr><td>5</td><td>Philadelphia[8]</td><td>Pennsylvania</td><td>PA</td><td>1560297</td><td>204.9</td></tr><tr><td>4</td><td>Houston[7]</td><td>Texas</td><td>TX</td><td>2239558</td><td>200.3</td></tr><tr><td>3</td><td>Chicago</td><td>Illinois</td><td>IL</td><td>2722389</td><td>192.5</td></tr><tr><td>2</td><td>Los Angeles</td><td>California</td><td>CA</td><td>3928864</td><td>434.7</td></tr><tr><td>1</td><td>New York[6]</td><td>New York</td><td>NY</td><td>8491079</td><td>388.6</td></tr></tbody></table></div>"
      ]
     },
     "metadata": {
      "application/vnd.databricks.v1+output": {
       "addedWidgets": {},
       "aggData": [],
       "aggError": "",
       "aggOverflow": false,
       "aggSchema": [],
       "aggSeriesLimitReached": false,
       "aggType": "",
       "arguments": {},
       "columnCustomDisplayInfos": {},
       "data": [
        [
         294,
         "Las Cruces",
         "New Mexico",
         "NM",
         101408,
         null
        ],
        [
         293,
         "Tyler",
         "Texas",
         "TX",
         101421,
         null
        ],
        [
         292,
         "Sandy Springs",
         "Georgia",
         "GA",
         101908,
         null
        ],
        [
         291,
         "Clovis",
         "California",
         "CA",
         102189,
         null
        ],
        [
         290,
         "Lakeland",
         "Florida",
         "FL",
         102346,
         136.0
        ],
        [
         289,
         "Davenport",
         "Iowa",
         "IA",
         102448,
         109.4
        ],
        [
         288,
         "Rialto",
         "California",
         "CA",
         102741,
         null
        ],
        [
         287,
         "Lewisville",
         "Texas",
         "TX",
         102889,
         null
        ],
        [
         286,
         "San Mateo",
         "California",
         "CA",
         102893,
         null
        ],
        [
         285,
         "El Cajon",
         "California",
         "CA",
         103091,
         null
        ],
        [
         284,
         "Santa Maria",
         "California",
         "CA",
         103410,
         null
        ],
        [
         283,
         "Pearland",
         "Texas",
         "TX",
         103441,
         null
        ],
        [
         282,
         "College Station",
         "Texas",
         "TX",
         103483,
         null
        ],
        [
         281,
         "West Palm Beach",
         "Florida",
         "FL",
         104031,
         null
        ],
        [
         280,
         "Broken Arrow",
         "Oklahoma",
         "OK",
         104726,
         null
        ],
        [
         279,
         "Green Bay",
         "Wisconsin",
         "WI",
         104891,
         null
        ],
        [
         278,
         "Boulder",
         "Colorado",
         "CO",
         105112,
         442.2
        ],
        [
         277,
         "Wichita Falls",
         "Texas",
         "TX",
         105114,
         null
        ],
        [
         276,
         "Burbank",
         "California",
         "CA",
         105368,
         null
        ],
        [
         275,
         "Palm Bay",
         "Florida",
         "FL",
         105838,
         145.0
        ],
        [
         274,
         "Daly City",
         "California",
         "CA",
         106094,
         null
        ],
        [
         273,
         "Pompano Beach",
         "Florida",
         "FL",
         106105,
         null
        ],
        [
         272,
         "Everett",
         "Washington",
         "WA",
         106736,
         null
        ],
        [
         271,
         "North Charleston",
         "South Carolina",
         "SC",
         106749,
         null
        ],
        [
         270,
         "Norwalk",
         "California",
         "CA",
         107096,
         null
        ],
        [
         269,
         "Centennial",
         "Colorado",
         "CO",
         107201,
         null
        ],
        [
         268,
         "Murrieta",
         "California",
         "CA",
         108368,
         null
        ],
        [
         267,
         "Pueblo",
         "Colorado",
         "CO",
         108423,
         null
        ],
        [
         266,
         "West Covina",
         "California",
         "CA",
         108455,
         null
        ],
        [
         265,
         "Richmond",
         "California",
         "CA",
         108565,
         null
        ],
        [
         264,
         "Richardson",
         "Texas",
         "TX",
         108617,
         null
        ],
        [
         263,
         "High Point",
         "North Carolina",
         "NC",
         108629,
         null
        ],
        [
         262,
         "Billings",
         "Montana",
         "MT",
         108869,
         null
        ],
        [
         261,
         "Antioch",
         "California",
         "CA",
         108930,
         null
        ],
        [
         260,
         "Waterbury",
         "Connecticut",
         "CT",
         109307,
         null
        ],
        [
         259,
         "Temecula",
         "California",
         "CA",
         109428,
         null
        ],
        [
         258,
         "Ventura[29]",
         "California",
         "CA",
         109484,
         null
        ],
        [
         257,
         "Cambridge",
         "Massachusetts",
         "MA",
         109694,
         null
        ],
        [
         256,
         "Gresham",
         "Oregon",
         "OR",
         109892,
         null
        ],
        [
         255,
         "Lowell",
         "Massachusetts",
         "MA",
         109945,
         null
        ],
        [
         254,
         "Manchester",
         "New Hampshire",
         "NH",
         110448,
         237.4
        ],
        [
         253,
         "Clearwater",
         "Florida",
         "FL",
         110703,
         null
        ],
        [
         252,
         "West Jordan",
         "Utah",
         "UT",
         110920,
         null
        ],
        [
         251,
         "Elgin",
         "Illinois",
         "IL",
         111117,
         null
        ],
        [
         250,
         "Fairfield",
         "California",
         "CA",
         111125,
         null
        ],
        [
         249,
         "Rochester",
         "Minnesota",
         "MN",
         111402,
         null
        ],
        [
         248,
         "Inglewood",
         "California",
         "CA",
         111905,
         null
        ],
        [
         247,
         "Westminster",
         "Colorado",
         "CO",
         112090,
         null
        ],
        [
         246,
         "Miami Gardens",
         "Florida",
         "FL",
         112265,
         null
        ],
        [
         245,
         "Carlsbad",
         "California",
         "CA",
         112299,
         null
        ],
        [
         244,
         "Round Rock",
         "Texas",
         "TX",
         112744,
         null
        ],
        [
         243,
         "Costa Mesa",
         "California",
         "CA",
         112784,
         null
        ],
        [
         242,
         "Arvada",
         "Colorado",
         "CO",
         113574,
         null
        ],
        [
         241,
         "Wilmington",
         "North Carolina",
         "NC",
         113657,
         197.5
        ],
        [
         240,
         "Downey",
         "California",
         "CA",
         114172,
         null
        ],
        [
         239,
         "Odessa",
         "Texas",
         "TX",
         114597,
         null
        ],
        [
         238,
         "Lansing",
         "Michigan",
         "MI",
         114620,
         114.6
        ],
        [
         237,
         "Provo",
         "Utah",
         "UT",
         114801,
         null
        ],
        [
         236,
         "Peoria",
         "Illinois",
         "IL",
         115828,
         105.2
        ],
        [
         235,
         "Fargo",
         "North Dakota",
         "ND",
         115863,
         180.0
        ],
        [
         234,
         "El Monte",
         "California",
         "CA",
         116631,
         null
        ],
        [
         233,
         "Springfield",
         "Illinois",
         "IL",
         116809,
         115.2
        ],
        [
         232,
         "Columbia",
         "Missouri",
         "MO",
         116906,
         null
        ],
        [
         231,
         "Independence",
         "Missouri",
         "MO",
         117494,
         null
        ],
        [
         230,
         "Beaumont",
         "Texas",
         "TX",
         117585,
         133.3
        ],
        [
         229,
         "Ann Arbor",
         "Michigan",
         "MI",
         117770,
         null
        ],
        [
         228,
         "Norman",
         "Oklahoma",
         "OK",
         118040,
         null
        ],
        [
         227,
         "Berkeley",
         "California",
         "CA",
         118853,
         null
        ],
        [
         226,
         "Allentown",
         "Pennsylvania",
         "PA",
         119104,
         162.7
        ],
        [
         225,
         "Athens[28]",
         "Georgia",
         "GA",
         119648,
         null
        ],
        [
         224,
         "Vallejo",
         "California",
         "CA",
         120228,
         null
        ],
        [
         223,
         "Evansville",
         "Indiana",
         "IN",
         120346,
         null
        ],
        [
         222,
         "Murfreesboro",
         "Tennessee",
         "TN",
         120954,
         null
        ],
        [
         221,
         "Abilene",
         "Texas",
         "TX",
         120958,
         145.7
        ],
        [
         220,
         "Victorville",
         "California",
         "CA",
         121901,
         null
        ],
        [
         219,
         "Santa Clara",
         "California",
         "CA",
         122192,
         null
        ],
        [
         218,
         "Hartford",
         "Connecticut",
         "CT",
         124705,
         202.6
        ],
        [
         217,
         "Kent",
         "Washington",
         "WA",
         125560,
         null
        ],
        [
         216,
         "Lafayette[27]",
         "Louisiana",
         "LA",
         126066,
         null
        ],
        [
         215,
         "Surprise",
         "Arizona",
         "AZ",
         126275,
         null
        ],
        [
         214,
         "Simi Valley",
         "California",
         "CA",
         126871,
         null
        ],
        [
         213,
         "Topeka",
         "Kansas",
         "KS",
         127215,
         105.3
        ],
        [
         212,
         "Concord",
         "California",
         "CA",
         127522,
         null
        ],
        [
         211,
         "Coral Springs",
         "Florida",
         "FL",
         127952,
         null
        ],
        [
         210,
         "Midland",
         "Texas",
         "TX",
         128037,
         null
        ],
        [
         209,
         "Denton",
         "Texas",
         "TX",
         128205,
         null
        ],
        [
         208,
         "Stamford",
         "Connecticut",
         "CT",
         128278,
         null
        ],
        [
         207,
         "Carrollton",
         "Texas",
         "TX",
         128353,
         null
        ],
        [
         206,
         "Gainesville",
         "Florida",
         "FL",
         128460,
         169.9
        ],
        [
         205,
         "Roseville",
         "California",
         "CA",
         128615,
         null
        ],
        [
         204,
         "Elizabeth",
         "New Jersey",
         "NJ",
         128705,
         null
        ],
        [
         203,
         "Cedar Rapids",
         "Iowa",
         "IA",
         129195,
         156.9
        ],
        [
         202,
         "Visalia",
         "California",
         "CA",
         129281,
         null
        ],
        [
         201,
         "Thousand Oaks",
         "California",
         "CA",
         129342,
         null
        ],
        [
         200,
         "Charleston",
         "South Carolina",
         "SC",
         130113,
         null
        ],
        [
         199,
         "Waco",
         "Texas",
         "TX",
         130194,
         null
        ],
        [
         198,
         "New Haven",
         "Connecticut",
         "CT",
         130282,
         205.1
        ],
        [
         197,
         "Thornton",
         "Colorado",
         "CO",
         130307,
         null
        ],
        [
         196,
         "Sterling Heights",
         "Michigan",
         "MI",
         131741,
         null
        ],
        [
         195,
         "Columbia",
         "South Carolina",
         "SC",
         132067,
         null
        ],
        [
         194,
         "Olathe",
         "Kansas",
         "KS",
         133062,
         null
        ],
        [
         193,
         "West Valley City",
         "Utah",
         "UT",
         134495,
         null
        ],
        [
         192,
         "Miramar",
         "Florida",
         "FL",
         134989,
         null
        ],
        [
         191,
         "Warren",
         "Michigan",
         "MI",
         135099,
         null
        ],
        [
         190,
         "Bellevue",
         "Washington",
         "WA",
         136426,
         null
        ],
        [
         189,
         "Hampton[15]",
         "Virginia",
         "VA",
         136879,
         null
        ],
        [
         188,
         "Killeen",
         "Texas",
         "TX",
         138154,
         null
        ],
        [
         187,
         "McAllen",
         "Texas",
         "TX",
         138596,
         null
        ],
        [
         186,
         "Fullerton",
         "California",
         "CA",
         139677,
         null
        ],
        [
         185,
         "Orange",
         "California",
         "CA",
         139812,
         null
        ],
        [
         184,
         "Pasadena",
         "California",
         "CA",
         140881,
         null
        ],
        [
         183,
         "Dayton",
         "Ohio",
         "OH",
         141003,
         107.2
        ],
        [
         182,
         "Syracuse",
         "New York",
         "NY",
         144263,
         118.3
        ],
        [
         181,
         "Savannah",
         "Georgia",
         "GA",
         144352,
         null
        ],
        [
         180,
         "Mesquite",
         "Texas",
         "TX",
         144416,
         null
        ],
        [
         179,
         "Frisco",
         "Texas",
         "TX",
         145035,
         null
        ],
        [
         178,
         "Naperville",
         "Illinois",
         "IL",
         146128,
         null
        ],
        [
         177,
         "Paterson",
         "New Jersey",
         "NJ",
         146753,
         null
        ],
        [
         176,
         "Clarksville",
         "Tennessee",
         "TN",
         146806,
         null
        ],
        [
         175,
         "Bridgeport",
         "Connecticut",
         "CT",
         147612,
         342.7
        ],
        [
         174,
         "Joliet",
         "Illinois",
         "IL",
         147928,
         null
        ],
        [
         173,
         "Hollywood",
         "Florida",
         "FL",
         148047,
         null
        ],
        [
         172,
         "Torrance",
         "California",
         "CA",
         148495,
         null
        ],
        [
         171,
         "Rockford",
         "Illinois",
         "IL",
         149123,
         78.6
        ],
        [
         170,
         "Kansas City[26]",
         "Kansas",
         "KS",
         149636,
         null
        ],
        [
         169,
         "Lakewood",
         "Colorado",
         "CO",
         149643,
         null
        ],
        [
         168,
         "Sunnyvale",
         "California",
         "CA",
         149980,
         null
        ],
        [
         167,
         "Escondido",
         "California",
         "CA",
         150243,
         null
        ],
        [
         166,
         "Alexandria[15]",
         "Virginia",
         "VA",
         150575,
         null
        ],
        [
         165,
         "Pomona",
         "California",
         "CA",
         153350,
         null
        ],
        [
         163,
         "Pasadena",
         "Texas",
         "TX",
         153887,
         null
        ],
        [
         162,
         "Springfield",
         "Massachusetts",
         "MA",
         153991,
         183.9
        ],
        [
         161,
         "Hayward",
         "California",
         "CA",
         154612,
         null
        ],
        [
         160,
         "Cary[25]",
         "North Carolina",
         "NC",
         155227,
         null
        ],
        [
         159,
         "Fort Collins",
         "Colorado",
         "CO",
         156480,
         null
        ],
        [
         158,
         "Salinas",
         "California",
         "CA",
         156677,
         null
        ],
        [
         157,
         "McKinney",
         "Texas",
         "TX",
         156767,
         null
        ],
        [
         156,
         "Palmdale",
         "California",
         "CA",
         158279,
         null
        ],
        [
         155,
         "Eugene",
         "Oregon",
         "OR",
         160561,
         211.3
        ],
        [
         154,
         "Lancaster",
         "California",
         "CA",
         161043,
         null
        ],
        [
         153,
         "Corona",
         "California",
         "CA",
         161486,
         null
        ],
        [
         152,
         "Salem",
         "Oregon",
         "OR",
         161637,
         193.9
        ],
        [
         151,
         "Elk Grove",
         "California",
         "CA",
         163553,
         null
        ],
        [
         150,
         "Pembroke Pines",
         "Florida",
         "FL",
         164626,
         null
        ],
        [
         149,
         "Springfield",
         "Missouri",
         "MO",
         165378,
         116.5
        ],
        [
         148,
         "Peoria",
         "Arizona",
         "AZ",
         166934,
         null
        ],
        [
         147,
         "Sioux Falls",
         "South Dakota",
         "SD",
         168586,
         159.5
        ],
        [
         146,
         "Ontario",
         "California",
         "CA",
         169089,
         null
        ],
        [
         145,
         "Vancouver",
         "Washington",
         "WA",
         169294,
         null
        ],
        [
         144,
         "Cape Coral",
         "Florida",
         "FL",
         169854,
         208.0
        ],
        [
         143,
         "Jackson",
         "Mississippi",
         "MS",
         171155,
         154.1
        ],
        [
         142,
         "Tempe",
         "Arizona",
         "AZ",
         172816,
         null
        ],
        [
         141,
         "Chattanooga",
         "Tennessee",
         "TN",
         173778,
         143.6
        ],
        [
         140,
         "Port St. Lucie",
         "Florida",
         "FL",
         174110,
         172.0
        ],
        [
         139,
         "Santa Rosa",
         "California",
         "CA",
         174170,
         null
        ],
        [
         138,
         "Rancho Cucamonga",
         "California",
         "CA",
         174305,
         null
        ],
        [
         137,
         "Oceanside",
         "California",
         "CA",
         174558,
         null
        ],
        [
         136,
         "Garden Grove",
         "California",
         "CA",
         175078,
         null
        ],
        [
         135,
         "Fort Lauderdale",
         "Florida",
         "FL",
         176013,
         null
        ],
        [
         134,
         "Providence",
         "Rhode Island",
         "RI",
         179154,
         233.3
        ],
        [
         133,
         "Santa Clarita",
         "California",
         "CA",
         181557,
         null
        ],
        [
         132,
         "Newport News[15]",
         "Virginia",
         "VA",
         182965,
         null
        ],
        [
         131,
         "Worcester",
         "Massachusetts",
         "MA",
         183016,
         226.9
        ],
        [
         130,
         "Brownsville",
         "Texas",
         "TX",
         183046,
         null
        ],
        [
         129,
         "Knoxville",
         "Tennessee",
         "TN",
         184281,
         149.2
        ],
        [
         128,
         "Overland Park",
         "Kansas",
         "KS",
         184525,
         null
        ],
        [
         127,
         "Grand Prairie",
         "Texas",
         "TX",
         185453,
         null
        ],
        [
         126,
         "Tallahassee",
         "Florida",
         "FL",
         188107,
         170.5
        ],
        [
         125,
         "Huntsville",
         "Alabama",
         "AL",
         188226,
         157.7
        ],
        [
         124,
         "Salt Lake City",
         "Utah",
         "UT",
         190884,
         243.3
        ],
        [
         123,
         "Grand Rapids",
         "Michigan",
         "MI",
         193792,
         null
        ],
        [
         122,
         "Mobile",
         "Alabama",
         "AL",
         194675,
         122.5
        ],
        [
         121,
         "Augusta[24]",
         "Georgia",
         "GA",
         196741,
         null
        ],
        [
         120,
         "Amarillo",
         "Texas",
         "TX",
         197254,
         144.4
        ],
        [
         119,
         "Little Rock",
         "Arkansas",
         "AR",
         197706,
         131.8
        ],
        [
         118,
         "Akron",
         "Ohio",
         "OH",
         197859,
         95.4
        ],
        [
         117,
         "Shreveport",
         "Louisiana",
         "LA",
         198242,
         151.6
        ],
        [
         116,
         "Glendale",
         "California",
         "CA",
         200167,
         null
        ],
        [
         115,
         "Aurora",
         "Illinois",
         "IL",
         200456,
         null
        ],
        [
         114,
         "Montgomery",
         "Alabama",
         "AL",
         200481,
         129.0
        ],
        [
         113,
         "Yonkers",
         "New York",
         "NY",
         200667,
         null
        ],
        [
         112,
         "Huntington Beach",
         "California",
         "CA",
         200809,
         null
        ],
        [
         111,
         "Columbus[23]",
         "Georgia",
         "GA",
         200887,
         null
        ],
        [
         110,
         "Moreno Valley",
         "California",
         "CA",
         202976,
         null
        ],
        [
         109,
         "Fayetteville",
         "North Carolina",
         "NC",
         203948,
         145.0
        ],
        [
         108,
         "Fontana",
         "California",
         "CA",
         204950,
         null
        ],
        [
         107,
         "Tacoma",
         "Washington",
         "WA",
         205159,
         null
        ],
        [
         106,
         "Oxnard",
         "California",
         "CA",
         205437,
         null
        ],
        [
         105,
         "Des Moines",
         "Iowa",
         "IA",
         209220,
         null
        ],
        [
         104,
         "Modesto",
         "California",
         "CA",
         209286,
         null
        ],
        [
         103,
         "Rochester",
         "New York",
         "NY",
         209983,
         118.9
        ],
        [
         102,
         "Spokane",
         "Washington",
         "WA",
         212052,
         180.2
        ],
        [
         101,
         "Birmingham",
         "Alabama",
         "AL",
         212247,
         162.9
        ],
        [
         100,
         "San Bernardino",
         "California",
         "CA",
         215213,
         null
        ],
        [
         99,
         "Boise[22]",
         "Idaho",
         "ID",
         216282,
         178.7
        ],
        [
         98,
         "Richmond[15]",
         "Virginia",
         "VA",
         217853,
         212.5
        ],
        [
         97,
         "Fremont",
         "California",
         "CA",
         228758,
         null
        ],
        [
         96,
         "Baton Rouge[21]",
         "Louisiana",
         "LA",
         228895,
         177.2
        ],
        [
         95,
         "Scottsdale",
         "Arizona",
         "AZ",
         230512,
         null
        ],
        [
         94,
         "North Las Vegas",
         "Nevada",
         "NV",
         230788,
         null
        ],
        [
         93,
         "Irving",
         "Texas",
         "TX",
         232406,
         null
        ],
        [
         92,
         "Chesapeake[15]",
         "Virginia",
         "VA",
         233371,
         null
        ],
        [
         91,
         "Garland",
         "Texas",
         "TX",
         235501,
         null
        ],
        [
         90,
         "Hialeah",
         "Florida",
         "FL",
         235563,
         null
        ],
        [
         89,
         "Reno",
         "Nevada",
         "NV",
         236995,
         268.7
        ],
        [
         88,
         "Glendale",
         "Arizona",
         "AZ",
         237517,
         null
        ],
        [
         87,
         "Winston�Salem",
         "North Carolina",
         "NC",
         239269,
         138.6
        ],
        [
         86,
         "Gilbert[20]",
         "Arizona",
         "AZ",
         239277,
         null
        ],
        [
         85,
         "Lubbock",
         "Texas",
         "TX",
         243839,
         null
        ],
        [
         84,
         "Norfolk[15]",
         "Virginia",
         "VA",
         245428,
         null
        ],
        [
         83,
         "Madison",
         "Wisconsin",
         "WI",
         245691,
         226.2
        ],
        [
         82,
         "Irvine",
         "California",
         "CA",
         248531,
         null
        ],
        [
         81,
         "Durham",
         "North Carolina",
         "NC",
         251893,
         196.9
        ],
        [
         80,
         "Laredo",
         "Texas",
         "TX",
         252309,
         null
        ],
        [
         79,
         "St. Petersburg",
         "Florida",
         "FL",
         253693,
         null
        ],
        [
         78,
         "Chandler",
         "Arizona",
         "AZ",
         254276,
         null
        ],
        [
         77,
         "Fort Wayne",
         "Indiana",
         "IN",
         258522,
         106.3
        ],
        [
         76,
         "Buffalo",
         "New York",
         "NY",
         258703,
         117.3
        ],
        [
         75,
         "Chula Vista",
         "California",
         "CA",
         260988,
         null
        ],
        [
         74,
         "Jersey City",
         "New Jersey",
         "NJ",
         262146,
         null
        ],
        [
         73,
         "Orlando",
         "Florida",
         "FL",
         262372,
         null
        ],
        [
         72,
         "Lincoln",
         "Nebraska",
         "NE",
         272996,
         150.2
        ],
        [
         71,
         "Henderson",
         "Nevada",
         "NV",
         277440,
         null
        ],
        [
         70,
         "Plano",
         "Texas",
         "TX",
         278480,
         null
        ],
        [
         69,
         "Newark",
         "New Jersey",
         "NJ",
         280579,
         350.8
        ],
        [
         68,
         "Toledo",
         "Ohio",
         "OH",
         281031,
         83.8
        ],
        [
         67,
         "Greensboro",
         "North Carolina",
         "NC",
         282586,
         138.3
        ],
        [
         66,
         "Saint Paul",
         "Minnesota",
         "MN",
         297640,
         null
        ],
        [
         65,
         "Cincinnati",
         "Ohio",
         "OH",
         298165,
         135.0
        ],
        [
         64,
         "Anchorage[19]",
         "Alaska",
         "AK",
         301010,
         null
        ],
        [
         63,
         "Stockton",
         "California",
         "CA",
         302389,
         null
        ],
        [
         62,
         "Pittsburgh",
         "Pennsylvania",
         "PA",
         305412,
         null
        ],
        [
         61,
         "Lexington[18]",
         "Kentucky",
         "KY",
         310797,
         141.2
        ],
        [
         60,
         "St. Louis[15]",
         "Missouri",
         "MO",
         317419,
         null
        ],
        [
         59,
         "Riverside",
         "California",
         "CA",
         319504,
         281.0
        ],
        [
         58,
         "Corpus Christi",
         "Texas",
         "TX",
         320434,
         172.9
        ],
        [
         57,
         "Santa Ana",
         "California",
         "CA",
         334909,
         null
        ],
        [
         56,
         "Anaheim",
         "California",
         "CA",
         346997,
         685.7
        ],
        [
         55,
         "Honolulu[2]",
         "Hawai'i",
         "HI",
         350399,
         699.3
        ],
        [
         54,
         "Aurora",
         "Colorado",
         "CO",
         353108,
         null
        ],
        [
         53,
         "Tampa",
         "Florida",
         "FL",
         358699,
         156.0
        ],
        [
         52,
         "Bakersfield",
         "California",
         "CA",
         368759,
         null
        ],
        [
         51,
         "Arlington",
         "Texas",
         "TX",
         383204,
         null
        ],
        [
         50,
         "New Orleans[17]",
         "Louisiana",
         "LA",
         384320,
         null
        ],
        [
         49,
         "Wichita",
         "Kansas",
         "KS",
         388413,
         126.0
        ],
        [
         48,
         "Cleveland",
         "Ohio",
         "OH",
         389521,
         105.9
        ],
        [
         47,
         "Tulsa",
         "Oklahoma",
         "OK",
         399682,
         145.1
        ],
        [
         46,
         "Minneapolis",
         "Minnesota",
         "MN",
         407207,
         209.4
        ],
        [
         45,
         "Oakland",
         "California",
         "CA",
         413775,
         null
        ],
        [
         44,
         "Miami",
         "Florida",
         "FL",
         430332,
         269.1
        ],
        [
         43,
         "Raleigh",
         "North Carolina",
         "NC",
         439896,
         218.9
        ],
        [
         42,
         "Colorado Springs",
         "Colorado",
         "CO",
         445830,
         220.1
        ],
        [
         41,
         "Omaha",
         "Nebraska",
         "NE",
         446599,
         148.1
        ],
        [
         40,
         "Virginia Beach[15]",
         "Virginia",
         "VA",
         450980,
         190.0
        ],
        [
         39,
         "Atlanta",
         "Georgia",
         "GA",
         456002,
         158.0
        ],
        [
         38,
         "Mesa",
         "Arizona",
         "AZ",
         464704,
         null
        ],
        [
         37,
         "Kansas City",
         "Missouri",
         "MO",
         470800,
         153.0
        ],
        [
         36,
         "Long Beach",
         "California",
         "CA",
         473577,
         null
        ],
        [
         35,
         "Sacramento",
         "California",
         "CA",
         485199,
         275.8
        ],
        [
         34,
         "Fresno",
         "California",
         "CA",
         515986,
         null
        ],
        [
         33,
         "Tucson",
         "Arizona",
         "AZ",
         527972,
         178.1
        ],
        [
         32,
         "Albuquerque",
         "New Mexico",
         "NM",
         557169,
         172.2
        ],
        [
         31,
         "Milwaukee",
         "Wisconsin",
         "WI",
         599642,
         195.4
        ],
        [
         30,
         "Louisville[16]",
         "Kentucky",
         "KY",
         612780,
         141.1
        ],
        [
         29,
         "Las Vegas",
         "Nevada",
         "NV",
         613599,
         205.9
        ],
        [
         28,
         "Portland",
         "Oregon",
         "OR",
         619360,
         289.4
        ],
        [
         27,
         "Oklahoma City",
         "Oklahoma",
         "OK",
         620602,
         null
        ],
        [
         26,
         "Baltimore[15]",
         "Maryland",
         "MD",
         622793,
         223.1
        ],
        [
         25,
         "Nashville[14]",
         "Tennessee",
         "TN",
         644014,
         186.4
        ],
        [
         24,
         "Boston",
         "Massachusetts",
         "MA",
         655884,
         374.6
        ],
        [
         23,
         "Memphis",
         "Tennessee",
         "TN",
         656861,
         132.1
        ],
        [
         22,
         "Washington[13]",
         "District of Columbia",
         "DC",
         658893,
         367.8
        ],
        [
         21,
         "Denver[12]",
         "Colorado",
         "CO",
         663862,
         338.1
        ],
        [
         20,
         "Seattle",
         "Washington",
         "WA",
         668342,
         352.4
        ],
        [
         19,
         "El Paso",
         "Texas",
         "TX",
         679036,
         138.4
        ],
        [
         18,
         "Detroit",
         "Michigan",
         "MI",
         680250,
         null
        ],
        [
         17,
         "Charlotte",
         "North Carolina",
         "NC",
         809958,
         197.2
        ],
        [
         16,
         "Fort Worth",
         "Texas",
         "TX",
         812238,
         null
        ],
        [
         15,
         "Columbus",
         "Ohio",
         "OH",
         835957,
         149.9
        ],
        [
         14,
         "Indianapolis[11]",
         "Indiana",
         "IN",
         848788,
         139.2
        ],
        [
         13,
         "San Francisco[10]",
         "California",
         "CA",
         852469,
         748.3
        ],
        [
         12,
         "Jacksonville[9]",
         "Florida",
         "FL",
         853382,
         182.5
        ],
        [
         11,
         "Austin",
         "Texas",
         "TX",
         912791,
         249.1
        ],
        [
         10,
         "San Jose",
         "California",
         "CA",
         1015785,
         900.0
        ],
        [
         9,
         "Dallas",
         "Texas",
         "TX",
         1281047,
         192.5
        ],
        [
         8,
         "San Diego",
         "California",
         "CA",
         1381069,
         510.3
        ],
        [
         7,
         "San Antonio",
         "Texas",
         "TX",
         1436697,
         184.7
        ],
        [
         6,
         "Phoenix",
         "Arizona",
         "AZ",
         1537058,
         206.1
        ],
        [
         5,
         "Philadelphia[8]",
         "Pennsylvania",
         "PA",
         1560297,
         204.9
        ],
        [
         4,
         "Houston[7]",
         "Texas",
         "TX",
         2239558,
         200.3
        ],
        [
         3,
         "Chicago",
         "Illinois",
         "IL",
         2722389,
         192.5
        ],
        [
         2,
         "Los Angeles",
         "California",
         "CA",
         3928864,
         434.7
        ],
        [
         1,
         "New York[6]",
         "New York",
         "NY",
         8491079,
         388.6
        ]
       ],
       "datasetInfos": [],
       "dbfsResultPath": null,
       "isJsonSchema": true,
       "metadata": {},
       "overflow": false,
       "plotOptions": {
        "customPlotOptions": {},
        "displayType": "table",
        "pivotAggregation": null,
        "pivotColumns": null,
        "xColumns": null,
        "yColumns": null
       },
       "removedWidgets": [],
       "schema": [
        {
         "metadata": "{}",
         "name": "2014 rank",
         "type": "\"integer\""
        },
        {
         "metadata": "{}",
         "name": "City",
         "type": "\"string\""
        },
        {
         "metadata": "{}",
         "name": "State",
         "type": "\"string\""
        },
        {
         "metadata": "{}",
         "name": "State Code",
         "type": "\"string\""
        },
        {
         "metadata": "{}",
         "name": "2014 Population estimate",
         "type": "\"integer\""
        },
        {
         "metadata": "{}",
         "name": "2015 median sales price",
         "type": "\"double\""
        }
       ],
       "type": "table"
      }
     },
     "output_type": "display_data"
    }
   ],
   "source": [
    "%sql\n",
    "SELECT * FROM pops WHERE `2014 Population estimate` IS NOT NULL ORDER BY `2014 Population estimate` ASC"
   ]
  },
  {
   "cell_type": "markdown",
   "metadata": {
    "application/vnd.databricks.v1+cell": {
     "cellMetadata": {},
     "inputWidgets": {},
     "nuid": "a2a2fc22-dcd0-4613-b92c-b019161bac3a",
     "showTitle": false,
     "title": ""
    }
   },
   "source": [
    "##DataFrames và SQL"
   ]
  },
  {
   "cell_type": "markdown",
   "metadata": {
    "application/vnd.databricks.v1+cell": {
     "cellMetadata": {},
     "inputWidgets": {},
     "nuid": "1f7b4708-e29f-471c-881a-43f029c7aaf3",
     "showTitle": false,
     "title": ""
    }
   },
   "source": [
    "## Trực quan hóa DataFrame"
   ]
  },
  {
   "cell_type": "code",
   "execution_count": 0,
   "metadata": {
    "application/vnd.databricks.v1+cell": {
     "cellMetadata": {
      "byteLimit": 2048000,
      "implicitDf": true,
      "rowLimit": 10000
     },
     "inputWidgets": {},
     "nuid": "cffee7a1-6a5f-46bf-bcb1-1022f39196db",
     "showTitle": false,
     "title": ""
    }
   },
   "outputs": [
    {
     "output_type": "display_data",
     "data": {
      "text/html": [
       "<style scoped>\n",
       "  .table-result-container {\n",
       "    max-height: 300px;\n",
       "    overflow: auto;\n",
       "  }\n",
       "  table, th, td {\n",
       "    border: 1px solid black;\n",
       "    border-collapse: collapse;\n",
       "  }\n",
       "  th, td {\n",
       "    padding: 5px;\n",
       "  }\n",
       "  th {\n",
       "    text-align: left;\n",
       "  }\n",
       "</style><div class='table-result-container'><table class='table-result'><thead style='background-color: white'><tr><th>State Code</th><th>2015 median sales price</th></tr></thead><tbody><tr><td>AL</td><td>162.9</td></tr><tr><td>AL</td><td>157.7</td></tr><tr><td>AL</td><td>122.5</td></tr><tr><td>AL</td><td>129.0</td></tr><tr><td>AZ</td><td>206.1</td></tr><tr><td>AZ</td><td>178.1</td></tr><tr><td>AR</td><td>131.8</td></tr><tr><td>CA</td><td>685.7</td></tr><tr><td>CA</td><td>434.7</td></tr><tr><td>CA</td><td>281.0</td></tr><tr><td>CA</td><td>275.8</td></tr><tr><td>CA</td><td>510.3</td></tr><tr><td>CA</td><td>748.3</td></tr><tr><td>CA</td><td>900.0</td></tr><tr><td>CO</td><td>442.2</td></tr><tr><td>CO</td><td>220.1</td></tr><tr><td>CO</td><td>338.1</td></tr><tr><td>CT</td><td>342.7</td></tr><tr><td>CT</td><td>202.6</td></tr><tr><td>CT</td><td>205.1</td></tr><tr><td>DC</td><td>367.8</td></tr><tr><td>FL</td><td>208.0</td></tr><tr><td>FL</td><td>169.9</td></tr><tr><td>FL</td><td>182.5</td></tr><tr><td>FL</td><td>136.0</td></tr><tr><td>FL</td><td>269.1</td></tr><tr><td>FL</td><td>145.0</td></tr><tr><td>FL</td><td>172.0</td></tr><tr><td>FL</td><td>170.5</td></tr><tr><td>FL</td><td>156.0</td></tr><tr><td>GA</td><td>158.0</td></tr><tr><td>HI</td><td>699.3</td></tr><tr><td>ID</td><td>178.7</td></tr><tr><td>IL</td><td>192.5</td></tr><tr><td>IL</td><td>105.2</td></tr><tr><td>IL</td><td>78.6</td></tr><tr><td>IL</td><td>115.2</td></tr><tr><td>IN</td><td>106.3</td></tr><tr><td>IN</td><td>139.2</td></tr><tr><td>IA</td><td>156.9</td></tr><tr><td>IA</td><td>109.4</td></tr><tr><td>KS</td><td>105.3</td></tr><tr><td>KS</td><td>126.0</td></tr><tr><td>KY</td><td>141.2</td></tr><tr><td>KY</td><td>141.1</td></tr><tr><td>LA</td><td>177.2</td></tr><tr><td>LA</td><td>151.6</td></tr><tr><td>MD</td><td>223.1</td></tr><tr><td>MA</td><td>374.6</td></tr><tr><td>MA</td><td>183.9</td></tr><tr><td>MA</td><td>226.9</td></tr><tr><td>MI</td><td>114.6</td></tr><tr><td>MN</td><td>209.4</td></tr><tr><td>MS</td><td>154.1</td></tr><tr><td>MO</td><td>153.0</td></tr><tr><td>MO</td><td>116.5</td></tr><tr><td>NE</td><td>150.2</td></tr><tr><td>NE</td><td>148.1</td></tr><tr><td>NV</td><td>205.9</td></tr><tr><td>NV</td><td>268.7</td></tr><tr><td>NH</td><td>237.4</td></tr><tr><td>NJ</td><td>350.8</td></tr><tr><td>NM</td><td>172.2</td></tr><tr><td>NY</td><td>117.3</td></tr><tr><td>NY</td><td>388.6</td></tr><tr><td>NY</td><td>118.9</td></tr><tr><td>NY</td><td>118.3</td></tr><tr><td>NC</td><td>197.2</td></tr><tr><td>NC</td><td>196.9</td></tr><tr><td>NC</td><td>145.0</td></tr><tr><td>NC</td><td>138.3</td></tr><tr><td>NC</td><td>218.9</td></tr><tr><td>NC</td><td>197.5</td></tr><tr><td>NC</td><td>138.6</td></tr><tr><td>ND</td><td>180.0</td></tr><tr><td>OH</td><td>95.4</td></tr><tr><td>OH</td><td>135.0</td></tr><tr><td>OH</td><td>105.9</td></tr><tr><td>OH</td><td>149.9</td></tr><tr><td>OH</td><td>107.2</td></tr><tr><td>OH</td><td>83.8</td></tr><tr><td>OK</td><td>145.1</td></tr><tr><td>OR</td><td>211.3</td></tr><tr><td>OR</td><td>289.4</td></tr><tr><td>OR</td><td>193.9</td></tr><tr><td>PA</td><td>162.7</td></tr><tr><td>PA</td><td>204.9</td></tr><tr><td>RI</td><td>233.3</td></tr><tr><td>SD</td><td>159.5</td></tr><tr><td>TN</td><td>143.6</td></tr><tr><td>TN</td><td>149.2</td></tr><tr><td>TN</td><td>132.1</td></tr><tr><td>TN</td><td>186.4</td></tr><tr><td>TX</td><td>145.7</td></tr><tr><td>TX</td><td>144.4</td></tr><tr><td>TX</td><td>249.1</td></tr><tr><td>TX</td><td>133.3</td></tr><tr><td>TX</td><td>172.9</td></tr><tr><td>TX</td><td>192.5</td></tr><tr><td>TX</td><td>138.4</td></tr><tr><td>TX</td><td>200.3</td></tr><tr><td>TX</td><td>184.7</td></tr><tr><td>UT</td><td>243.3</td></tr><tr><td>VA</td><td>212.5</td></tr><tr><td>VA</td><td>190.0</td></tr><tr><td>WA</td><td>352.4</td></tr><tr><td>WA</td><td>180.2</td></tr><tr><td>WI</td><td>226.2</td></tr><tr><td>WI</td><td>195.4</td></tr></tbody></table></div>"
      ]
     },
     "metadata": {
      "application/vnd.databricks.v1+output": {
       "addedWidgets": {},
       "aggData": [],
       "aggError": "",
       "aggOverflow": false,
       "aggSchema": [],
       "aggSeriesLimitReached": false,
       "aggType": "",
       "arguments": {},
       "columnCustomDisplayInfos": {},
       "data": [
        [
         "AL",
         162.9
        ],
        [
         "AL",
         157.7
        ],
        [
         "AL",
         122.5
        ],
        [
         "AL",
         129.0
        ],
        [
         "AZ",
         206.1
        ],
        [
         "AZ",
         178.1
        ],
        [
         "AR",
         131.8
        ],
        [
         "CA",
         685.7
        ],
        [
         "CA",
         434.7
        ],
        [
         "CA",
         281.0
        ],
        [
         "CA",
         275.8
        ],
        [
         "CA",
         510.3
        ],
        [
         "CA",
         748.3
        ],
        [
         "CA",
         900.0
        ],
        [
         "CO",
         442.2
        ],
        [
         "CO",
         220.1
        ],
        [
         "CO",
         338.1
        ],
        [
         "CT",
         342.7
        ],
        [
         "CT",
         202.6
        ],
        [
         "CT",
         205.1
        ],
        [
         "DC",
         367.8
        ],
        [
         "FL",
         208.0
        ],
        [
         "FL",
         169.9
        ],
        [
         "FL",
         182.5
        ],
        [
         "FL",
         136.0
        ],
        [
         "FL",
         269.1
        ],
        [
         "FL",
         145.0
        ],
        [
         "FL",
         172.0
        ],
        [
         "FL",
         170.5
        ],
        [
         "FL",
         156.0
        ],
        [
         "GA",
         158.0
        ],
        [
         "HI",
         699.3
        ],
        [
         "ID",
         178.7
        ],
        [
         "IL",
         192.5
        ],
        [
         "IL",
         105.2
        ],
        [
         "IL",
         78.6
        ],
        [
         "IL",
         115.2
        ],
        [
         "IN",
         106.3
        ],
        [
         "IN",
         139.2
        ],
        [
         "IA",
         156.9
        ],
        [
         "IA",
         109.4
        ],
        [
         "KS",
         105.3
        ],
        [
         "KS",
         126.0
        ],
        [
         "KY",
         141.2
        ],
        [
         "KY",
         141.1
        ],
        [
         "LA",
         177.2
        ],
        [
         "LA",
         151.6
        ],
        [
         "MD",
         223.1
        ],
        [
         "MA",
         374.6
        ],
        [
         "MA",
         183.9
        ],
        [
         "MA",
         226.9
        ],
        [
         "MI",
         114.6
        ],
        [
         "MN",
         209.4
        ],
        [
         "MS",
         154.1
        ],
        [
         "MO",
         153.0
        ],
        [
         "MO",
         116.5
        ],
        [
         "NE",
         150.2
        ],
        [
         "NE",
         148.1
        ],
        [
         "NV",
         205.9
        ],
        [
         "NV",
         268.7
        ],
        [
         "NH",
         237.4
        ],
        [
         "NJ",
         350.8
        ],
        [
         "NM",
         172.2
        ],
        [
         "NY",
         117.3
        ],
        [
         "NY",
         388.6
        ],
        [
         "NY",
         118.9
        ],
        [
         "NY",
         118.3
        ],
        [
         "NC",
         197.2
        ],
        [
         "NC",
         196.9
        ],
        [
         "NC",
         145.0
        ],
        [
         "NC",
         138.3
        ],
        [
         "NC",
         218.9
        ],
        [
         "NC",
         197.5
        ],
        [
         "NC",
         138.6
        ],
        [
         "ND",
         180.0
        ],
        [
         "OH",
         95.4
        ],
        [
         "OH",
         135.0
        ],
        [
         "OH",
         105.9
        ],
        [
         "OH",
         149.9
        ],
        [
         "OH",
         107.2
        ],
        [
         "OH",
         83.8
        ],
        [
         "OK",
         145.1
        ],
        [
         "OR",
         211.3
        ],
        [
         "OR",
         289.4
        ],
        [
         "OR",
         193.9
        ],
        [
         "PA",
         162.7
        ],
        [
         "PA",
         204.9
        ],
        [
         "RI",
         233.3
        ],
        [
         "SD",
         159.5
        ],
        [
         "TN",
         143.6
        ],
        [
         "TN",
         149.2
        ],
        [
         "TN",
         132.1
        ],
        [
         "TN",
         186.4
        ],
        [
         "TX",
         145.7
        ],
        [
         "TX",
         144.4
        ],
        [
         "TX",
         249.1
        ],
        [
         "TX",
         133.3
        ],
        [
         "TX",
         172.9
        ],
        [
         "TX",
         192.5
        ],
        [
         "TX",
         138.4
        ],
        [
         "TX",
         200.3
        ],
        [
         "TX",
         184.7
        ],
        [
         "UT",
         243.3
        ],
        [
         "VA",
         212.5
        ],
        [
         "VA",
         190.0
        ],
        [
         "WA",
         352.4
        ],
        [
         "WA",
         180.2
        ],
        [
         "WI",
         226.2
        ],
        [
         "WI",
         195.4
        ]
       ],
       "datasetInfos": [],
       "dbfsResultPath": null,
       "isJsonSchema": true,
       "metadata": {},
       "overflow": false,
       "plotOptions": {
        "customPlotOptions": {},
        "displayType": "table",
        "pivotAggregation": null,
        "pivotColumns": null,
        "xColumns": null,
        "yColumns": null
       },
       "removedWidgets": [],
       "schema": [
        {
         "metadata": "{}",
         "name": "State Code",
         "type": "\"string\""
        },
        {
         "metadata": "{}",
         "name": "2015 median sales price",
         "type": "\"double\""
        }
       ],
       "type": "table"
      }
     },
     "output_type": "display_data"
    },
    {
     "output_type": "display_data",
     "data": {
      "text/plain": [
       "Databricks visualization. Run in Databricks to view."
      ]
     },
     "metadata": {
      "application/vnd.databricks.v1.subcommand+json": {
       "baseErrorDetails": null,
       "bindings": {},
       "collapsed": false,
       "command": "%sql WITH q AS (select `State Code`, `2015 median sales price` from data_geo) SELECT 1 FROM q GROUP BY GROUPING SETS (())",
       "commandTitle": "Visualization 1",
       "commandType": "auto",
       "commandVersion": 0,
       "commentThread": [],
       "commentsVisible": false,
       "contentSha256Hex": null,
       "customPlotOptions": {
        "redashChart": [
         {
          "key": "type",
          "value": "CHART"
         },
         {
          "key": "options",
          "value": {
           "alignYAxesAtZero": true,
           "coefficient": 1,
           "columnConfigurationMap": {
            "x": {
             "column": "State Code",
             "id": "column_e15dbec51"
            },
            "y": [
             {
              "column": "2015 median sales price",
              "id": "column_e15dbec53",
              "transform": "SUM"
             }
            ]
           },
           "dateTimeFormat": "DD/MM/YYYY HH:mm",
           "direction": {
            "type": "counterclockwise"
           },
           "error_y": {
            "type": "data",
            "visible": true
           },
           "globalSeriesType": "column",
           "isAggregationOn": true,
           "legend": {
            "traceorder": "normal"
           },
           "missingValuesAsZero": true,
           "numberFormat": "0,0.[00000]",
           "percentFormat": "0[.]00%",
           "series": {
            "error_y": {
             "type": "data",
             "visible": true
            },
            "stacking": null
           },
           "seriesOptions": {
            "column_e15dbec53": {
             "type": "column",
             "yAxis": 0
            }
           },
           "showDataLabels": false,
           "sizemode": "diameter",
           "sortX": true,
           "sortY": true,
           "swappedAxes": false,
           "textFormat": "",
           "useAggregationsUi": true,
           "valuesOptions": {},
           "version": 2,
           "xAxis": {
            "labels": {
             "enabled": true
            },
            "type": "-"
           },
           "yAxis": [
            {
             "type": "-"
            },
            {
             "opposite": true,
             "type": "-"
            }
           ]
          }
         }
        ]
       },
       "datasetPreviewNameToCmdIdMap": {},
       "diffDeletes": [],
       "diffInserts": [],
       "displayType": "redashChart",
       "error": null,
       "errorDetails": null,
       "errorSummary": null,
       "errorTraceType": null,
       "finishTime": 0,
       "globalVars": {},
       "guid": "",
       "height": "auto",
       "hideCommandCode": false,
       "hideCommandResult": false,
       "iPythonMetadata": null,
       "inputWidgets": {},
       "isLockedInExamMode": false,
       "latestUser": "a user",
       "latestUserId": null,
       "listResultMetadata": null,
       "metadata": {},
       "nuid": "ddb51ab4-de7a-4f8c-90d7-f222409711bc",
       "origId": 0,
       "parentHierarchy": [],
       "pivotAggregation": null,
       "pivotColumns": null,
       "position": 1.96484375,
       "resultDbfsErrorMessage": null,
       "resultDbfsStatus": "INLINED_IN_TREE",
       "results": null,
       "showCommandTitle": false,
       "startTime": 0,
       "state": "input",
       "streamStates": {},
       "subcommandOptions": {
        "queryPlan": {
         "groups": [
          {
           "column": "State Code",
           "type": "column"
          }
         ],
         "selects": [
          {
           "alias": "column_e15dbec53",
           "args": [
            {
             "column": "2015 median sales price",
             "type": "column"
            }
           ],
           "function": "SUM",
           "type": "function"
          },
          {
           "column": "State Code",
           "type": "column"
          }
         ]
        }
       },
       "submitTime": 0,
       "subtype": "tableResultSubCmd.visualization",
       "tableResultIndex": 0,
       "tableResultSettingsMap": null,
       "useConsistentColors": false,
       "version": "CommandV1",
       "width": "auto",
       "workflows": [],
       "xColumns": null,
       "yColumns": null
      }
     },
     "output_type": "display_data"
    }
   ],
   "source": [
    "%sql\n",
    "select `State Code`, `2015 median sales price` from data_geo"
   ]
  },
  {
   "cell_type": "markdown",
   "metadata": {
    "application/vnd.databricks.v1+cell": {
     "cellMetadata": {},
     "inputWidgets": {},
     "nuid": "2c30c853-d40c-4a26-ac03-b2e6732e5243",
     "showTitle": false,
     "title": ""
    }
   },
   "source": [
    "## Bài tập"
   ]
  },
  {
   "cell_type": "markdown",
   "metadata": {
    "application/vnd.databricks.v1+cell": {
     "cellMetadata": {},
     "inputWidgets": {},
     "nuid": "c8dd5ad1-dde7-4e4f-81ce-64cbd2c0eff4",
     "showTitle": false,
     "title": ""
    }
   },
   "source": [
    "Dataframe dưới đây chứa data về dân số và giá nhà trung vị (median) của các thành phố ở Mỹ.\n",
    "\n",
    "- \"2014 rank\": xếp hạng năm 2014\n",
    "- \"City\": tên thành phố\n",
    "- \"State\": tên bang (một bang thường có nhiều thành phố)\n",
    "- \"State Code\": mã của bang\n",
    "- \"2014 Population estimate\": Ước lượng dân số năm 2014\n",
    "- \"2015 median sales price\": Giá nhà trung vị năm 2015\n",
    "- Bạn phải viết code Pyspark (dùng Dataframe và Spark-SQL) để lấy / tính toán các data dưới đây."
   ]
  },
  {
   "cell_type": "code",
   "execution_count": 0,
   "metadata": {
    "application/vnd.databricks.v1+cell": {
     "cellMetadata": {
      "byteLimit": 2048000,
      "rowLimit": 10000
     },
     "inputWidgets": {},
     "nuid": "3190bc2d-1b40-4e1b-b7b5-13a83890af90",
     "showTitle": false,
     "title": ""
    }
   },
   "outputs": [
    {
     "output_type": "stream",
     "name": "stderr",
     "output_type": "stream",
     "text": [
      "/databricks/spark/python/pyspark/sql/context.py:117: FutureWarning: Deprecated in 3.0.0. Use SparkSession.builder.getOrCreate() instead.\n  warnings.warn(\n"
     ]
    },
    {
     "output_type": "stream",
     "name": "stdout",
     "output_type": "stream",
     "text": [
      "root\n |-- 2014 rank: integer (nullable = true)\n |-- City: string (nullable = true)\n |-- State: string (nullable = true)\n |-- State Code: string (nullable = true)\n |-- 2014 Population estimate: integer (nullable = true)\n |-- 2015 median sales price: double (nullable = true)\n\n"
     ]
    }
   ],
   "source": [
    "from pyspark.sql import SQLContext \n",
    "sqlContext = SQLContext(sc)\n",
    "pop = sqlContext.read.csv(\"/databricks-datasets/samples/population-vs-price/data_geo.csv\", header=\"true\", inferSchema=\"true\")\n",
    "pop.printSchema()\n",
    "\n",
    "#pop.show()\n",
    "#pop.collect()"
   ]
  },
  {
   "cell_type": "markdown",
   "metadata": {
    "application/vnd.databricks.v1+cell": {
     "cellMetadata": {},
     "inputWidgets": {},
     "nuid": "c950300a-811d-4ce4-ac46-e3c1b16d08ba",
     "showTitle": false,
     "title": ""
    }
   },
   "source": [
    "(a) Có bao nhiêu dòng trong dataframe pop?\n",
    "\n",
    "(b) Có bao nhiêu bang (state) trong tập dữ liệu trên?\n",
    "\n",
    "(c) Thành phố nào có số dân (2014 Population estimate) đông nhất, thành phố nào có số dân ít nhất?\n",
    "\n",
    "(d) Thống kê theo bang:\n",
    "\n",
    "- Số thành phố trong từng bang\n",
    "- Tổng số dân của các thành phố trong bang\n",
    "- Trung bình của giá nhà trung vị"
   ]
  },
  {
   "cell_type": "code",
   "execution_count": 0,
   "metadata": {
    "application/vnd.databricks.v1+cell": {
     "cellMetadata": {
      "byteLimit": 2048000,
      "rowLimit": 10000
     },
     "inputWidgets": {},
     "nuid": "58ca10fe-f2c6-40da-b7a9-49d21f8bce91",
     "showTitle": false,
     "title": ""
    }
   },
   "outputs": [
    {
     "output_type": "stream",
     "name": "stdout",
     "output_type": "stream",
     "text": [
      "Out[37]: 294"
     ]
    }
   ],
   "source": [
    "# a\n",
    "row_count = pop.count()\n",
    "row_count"
   ]
  },
  {
   "cell_type": "code",
   "execution_count": 0,
   "metadata": {
    "application/vnd.databricks.v1+cell": {
     "cellMetadata": {
      "byteLimit": 2048000,
      "rowLimit": 10000
     },
     "inputWidgets": {},
     "nuid": "142546c3-6cc5-4554-b443-ecab63b4174b",
     "showTitle": false,
     "title": ""
    }
   },
   "outputs": [
    {
     "output_type": "stream",
     "name": "stdout",
     "output_type": "stream",
     "text": [
      "Out[40]: 46"
     ]
    }
   ],
   "source": [
    "# b\n",
    "state_count = pop.select(\"State\").distinct().count()\n",
    "state_count"
   ]
  },
  {
   "cell_type": "code",
   "execution_count": 0,
   "metadata": {
    "application/vnd.databricks.v1+cell": {
     "cellMetadata": {
      "byteLimit": 2048000,
      "rowLimit": 10000
     },
     "inputWidgets": {},
     "nuid": "b6445458-a726-4ea2-b356-3b4c0aeabd3d",
     "showTitle": false,
     "title": ""
    }
   },
   "outputs": [
    {
     "output_type": "stream",
     "name": "stdout",
     "output_type": "stream",
     "text": [
      "Row(2014 rank=1, City='New York[6]', State='New York', State Code='NY', 2014 Population estimate=8491079, 2015 median sales price=388.6)\nRow(2014 rank=164, City='Macon', State='Georgia', State Code='GA', 2014 Population estimate=None, 2015 median sales price=None)\n"
     ]
    }
   ],
   "source": [
    "# c\n",
    "most_populous_city = pop.orderBy(pop[\"2014 Population estimate\"].desc()).first()\n",
    "print(most_populous_city)\n",
    "\n",
    "least_populous_city = pop.orderBy(pop[\"2014 Population estimate\"].asc()).first()\n",
    "print(least_populous_city)\n"
   ]
  },
  {
   "cell_type": "code",
   "execution_count": 0,
   "metadata": {
    "application/vnd.databricks.v1+cell": {
     "cellMetadata": {
      "byteLimit": 2048000,
      "rowLimit": 10000
     },
     "inputWidgets": {},
     "nuid": "af1dcd3c-e1a8-42b6-9738-67280c93f6af",
     "showTitle": false,
     "title": ""
    }
   },
   "outputs": [
    {
     "output_type": "stream",
     "name": "stdout",
     "output_type": "stream",
     "text": [
      "+--------------------+-----+\n|               State|count|\n+--------------------+-----+\n|                Utah|    4|\n|             Hawai'i|    1|\n|           Minnesota|    3|\n|                Ohio|    6|\n|            Arkansas|    1|\n|              Oregon|    4|\n|               Texas|   36|\n|        North Dakota|    1|\n|        Pennsylvania|    3|\n|         Connecticut|    5|\n|            Nebraska|    2|\n|              Nevada|    4|\n|          Washington|    7|\n|            Illinois|    8|\n|            Oklahoma|    4|\n|District of Columbia|    1|\n|              Alaska|    1|\n|          New Mexico|    2|\n|            Missouri|    5|\n|        Rhode Island|    1|\n+--------------------+-----+\nonly showing top 20 rows\n\n"
     ]
    }
   ],
   "source": [
    "# d\n",
    "# Số thành phố trong từng bang\n",
    "city_per_state = pop.groupBy(\"State\").count()\n",
    "city_per_state.show()\n"
   ]
  },
  {
   "cell_type": "code",
   "execution_count": 0,
   "metadata": {
    "application/vnd.databricks.v1+cell": {
     "cellMetadata": {
      "byteLimit": 2048000,
      "rowLimit": 10000
     },
     "inputWidgets": {},
     "nuid": "e2172e43-c14b-4230-a14f-af4125bba23f",
     "showTitle": false,
     "title": ""
    }
   },
   "outputs": [
    {
     "output_type": "stream",
     "name": "stdout",
     "output_type": "stream",
     "text": [
      "+--------------------+-----------------------------+\n|               State|sum(2014 Population estimate)|\n+--------------------+-----------------------------+\n|                Utah|                       551100|\n|             Hawai'i|                       350399|\n|           Minnesota|                       816249|\n|                Ohio|                      2143536|\n|            Arkansas|                       197706|\n|              Oregon|                      1051450|\n|               Texas|                     12355786|\n|        North Dakota|                       115863|\n|        Pennsylvania|                      1984813|\n|         Connecticut|                       640184|\n|            Nebraska|                       719595|\n|              Nevada|                      1358822|\n|          Washington|                      1623569|\n|            Illinois|                      3709778|\n|            Oklahoma|                      1243050|\n|District of Columbia|                       658893|\n|              Alaska|                       301010|\n|          New Mexico|                       658577|\n|            Missouri|                      1187997|\n|        Rhode Island|                       179154|\n+--------------------+-----------------------------+\nonly showing top 20 rows\n\n"
     ]
    }
   ],
   "source": [
    "# d\n",
    "# Tổng số dân của các thành phố trong bang\n",
    "total_population_per_state = pop.groupBy(\"State\").agg(\n",
    "    {\"2014 Population estimate\": \"sum\"}\n",
    ")\n",
    "# Hiển thị kết quả\n",
    "total_population_per_state.show()\n",
    "\n",
    "\n"
   ]
  },
  {
   "cell_type": "code",
   "execution_count": 0,
   "metadata": {
    "application/vnd.databricks.v1+cell": {
     "cellMetadata": {
      "byteLimit": 2048000,
      "rowLimit": 10000
     },
     "inputWidgets": {},
     "nuid": "32c3161d-a47c-4d75-9db4-e606ccc55087",
     "showTitle": false,
     "title": ""
    }
   },
   "outputs": [
    {
     "output_type": "stream",
     "name": "stdout",
     "output_type": "stream",
     "text": [
      "+--------------------+----------------------------+\n|               State|avg(2015 median sales price)|\n+--------------------+----------------------------+\n|                Utah|                       243.3|\n|             Hawai'i|                       699.3|\n|           Minnesota|                       209.4|\n|                Ohio|          112.86666666666667|\n|            Arkansas|                       131.8|\n|              Oregon|          231.53333333333333|\n|               Texas|           173.4777777777778|\n|        North Dakota|                       180.0|\n|        Pennsylvania|                       183.8|\n|         Connecticut|          250.13333333333333|\n|            Nebraska|          149.14999999999998|\n|              Nevada|                       237.3|\n|          Washington|          266.29999999999995|\n|            Illinois|          122.87499999999999|\n|            Oklahoma|                       145.1|\n|District of Columbia|                       367.8|\n|              Alaska|                        null|\n|          New Mexico|                       172.2|\n|            Missouri|                      134.75|\n|        Rhode Island|                       233.3|\n+--------------------+----------------------------+\nonly showing top 20 rows\n\n"
     ]
    }
   ],
   "source": [
    "# d\n",
    "# Trung bình của giá nhà trung vị\n",
    "medium_price_per_state = pop.groupBy(\"State\").agg(\n",
    "    {\"2015 median sales price\": \"avg\"}\n",
    ")\n",
    "# Hiển thị kết quả\n",
    "medium_price_per_state.show()"
   ]
  }
 ],
 "metadata": {
  "application/vnd.databricks.v1+notebook": {
   "dashboards": [],
   "environmentMetadata": null,
   "language": "python",
   "notebookMetadata": {
    "mostRecentlyExecutedCommandWithImplicitDF": {
     "commandId": 1741145221745400,
     "dataframes": [
      "_sqldf"
     ]
    },
    "pythonIndentUnit": 4
   },
   "notebookName": "lab5_spark-dataframe",
   "widgets": {}
  }
 },
 "nbformat": 4,
 "nbformat_minor": 0
}
