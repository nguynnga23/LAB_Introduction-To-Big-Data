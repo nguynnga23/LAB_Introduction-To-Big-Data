{
 "cells": [
  {
   "cell_type": "markdown",
   "metadata": {
    "application/vnd.databricks.v1+cell": {
     "cellMetadata": {},
     "inputWidgets": {},
     "nuid": "2d1537c8-add0-421d-a863-85664a7c4849",
     "showTitle": false,
     "title": ""
    }
   },
   "source": [
    "# Lab 4\n"
   ]
  },
  {
   "cell_type": "markdown",
   "metadata": {
    "application/vnd.databricks.v1+cell": {
     "cellMetadata": {},
     "inputWidgets": {},
     "nuid": "52b88c87-ca3e-4b03-a59c-953ee434519d",
     "showTitle": false,
     "title": ""
    }
   },
   "source": [
    "## Họ và tên thí sinh\n",
    "## MSSV"
   ]
  },
  {
   "cell_type": "markdown",
   "metadata": {
    "application/vnd.databricks.v1+cell": {
     "cellMetadata": {},
     "inputWidgets": {},
     "nuid": "d63b1100-6691-4d3a-95b0-e12fb28c11ba",
     "showTitle": false,
     "title": ""
    }
   },
   "source": [
    "# Câu 1 (3 điểm): \n",
    "\n",
    "Cho một RDD trong Spark chứa danh sách lớp như cell dưới đây\n",
    "\n",
    "(a)\t(1 điểm) Sử dụng Pyspark, liệt kê các tên trong danh sách trên (mỗi tên chỉ xuất hiện một lần).\n",
    "\n",
    "(b)\t(2 điểm) Sử dụng hàm map() và reduceByKey() (Pyspark), tìm số sinh viên tương ứng với mỗi tên trong danh sách từ Câu (1a).\n"
   ]
  },
  {
   "cell_type": "code",
   "execution_count": 0,
   "metadata": {
    "application/vnd.databricks.v1+cell": {
     "cellMetadata": {},
     "inputWidgets": {},
     "nuid": "5a331ab0-858e-4595-8ff2-384d6f725bd1",
     "showTitle": false,
     "title": ""
    }
   },
   "outputs": [],
   "source": [
    "list_class = ['Tuan', 'Hoang', 'Minh', 'Nga', 'Tam', 'Tuan', 'Minh', 'Tam', 'Tuan', 'Phuong']\n",
    "rdd_class = sc.parallelize(list_class)"
   ]
  },
  {
   "cell_type": "markdown",
   "metadata": {
    "application/vnd.databricks.v1+cell": {
     "cellMetadata": {},
     "inputWidgets": {},
     "nuid": "16fed68a-487f-42b7-9586-406d849d4f19",
     "showTitle": false,
     "title": ""
    }
   },
   "source": [
    "## Câu 2 (7 điểm)\n",
    "\n",
    "Trong câu này, bạn sẽ upload file data shakespeare.txt từ thư mục LMS và đếm từ trong file này."
   ]
  },
  {
   "cell_type": "markdown",
   "metadata": {
    "application/vnd.databricks.v1+cell": {
     "cellMetadata": {},
     "inputWidgets": {},
     "nuid": "6b65f919-9be3-46cf-ae2f-3ba207e8ea04",
     "showTitle": false,
     "title": ""
    }
   },
   "source": [
    "### (2a) (1 điểm) \n",
    "\n",
    "Upload file lên LMS và gán vào RDD có tên là **rdd_shp**"
   ]
  },
  {
   "cell_type": "code",
   "execution_count": 0,
   "metadata": {
    "application/vnd.databricks.v1+cell": {
     "cellMetadata": {},
     "inputWidgets": {},
     "nuid": "2c353908-6495-45af-b428-2a573e07f3c0",
     "showTitle": false,
     "title": ""
    }
   },
   "outputs": [],
   "source": [
    "import os.path\n",
    "\n",
    "# Ví dụ\n",
    "# fileName = \"dbfs:/FileStore/shared_uploads/nguyenchikien@iuh.edu.vn/shakespeare.txt\"\n",
    "\n",
    "# Your code goes here"
   ]
  },
  {
   "cell_type": "code",
   "execution_count": 0,
   "metadata": {
    "application/vnd.databricks.v1+cell": {
     "cellMetadata": {},
     "inputWidgets": {},
     "nuid": "d7655f05-ffa6-4910-b9d6-04aeaa9a7703",
     "showTitle": false,
     "title": ""
    }
   },
   "outputs": [],
   "source": [
    "assert rdd_shp.take(3)==['The Complete Works of William Shakespeare', '', 'by William Shakespeare'], \"Assertion Error\""
   ]
  },
  {
   "cell_type": "markdown",
   "metadata": {
    "application/vnd.databricks.v1+cell": {
     "cellMetadata": {},
     "inputWidgets": {},
     "nuid": "81ebf1a8-88be-4bd6-b8ea-d8cd746a8666",
     "showTitle": false,
     "title": ""
    }
   },
   "source": [
    "### (2b) (1 điểm)\n",
    "\n",
    "Viết hàm **removePunctuation** để chuyển một đoạn văn bản thành chữ thường (lower case) và xoá tất cả các dấu chấm câu. Áp dụng hàm này cho **rdd_shp** để nhận được RDD **rdd_shp_2**"
   ]
  },
  {
   "cell_type": "code",
   "execution_count": 0,
   "metadata": {
    "application/vnd.databricks.v1+cell": {
     "cellMetadata": {},
     "inputWidgets": {},
     "nuid": "16a1be57-ab46-4656-bd9a-853311e11dfa",
     "showTitle": false,
     "title": ""
    }
   },
   "outputs": [],
   "source": [
    "import re\n",
    "def removePunctuation(text):\n",
    "    \"\"\"Removes punctuation, changes to lower case, and strips leading and trailing spaces.\n",
    "\n",
    "    Note:\n",
    "        Only spaces, letters, and numbers should be retained.  Other characters should should be\n",
    "        eliminated (e.g. it's becomes its).  Leading and trailing spaces should be removed after\n",
    "        punctuation is removed.\n",
    "\n",
    "    Args:\n",
    "        text (str): A string.\n",
    "\n",
    "    Returns:\n",
    "        str: The cleaned up string.\n",
    "    \"\"\"\n",
    "    \n",
    "    # Your code goes here"
   ]
  },
  {
   "cell_type": "code",
   "execution_count": 0,
   "metadata": {
    "application/vnd.databricks.v1+cell": {
     "cellMetadata": {},
     "inputWidgets": {},
     "nuid": "9cb53d0b-c7b8-457a-a01a-93ff346222ae",
     "showTitle": false,
     "title": ""
    }
   },
   "outputs": [],
   "source": [
    "# Áp dụng hàm này cho rdd_shp để nhận được RDD rdd_shp_2\n",
    "\n",
    "# Your code goes here"
   ]
  },
  {
   "cell_type": "markdown",
   "metadata": {
    "application/vnd.databricks.v1+cell": {
     "cellMetadata": {},
     "inputWidgets": {},
     "nuid": "2d1f599a-d049-40d3-9a87-aada100d2e4d",
     "showTitle": false,
     "title": ""
    }
   },
   "source": [
    "### (2c) 2 điểm\n",
    "\n",
    "Tạo RDD **rdd_words** gồm các words từ **rdd_shp_2** bằng cách split **rdd_shp_2** sử dụng dấu cách (space). In ra 5 từ đầu tiên của **rdd_words** và số lượng từ trong **rdd_words**."
   ]
  },
  {
   "cell_type": "code",
   "execution_count": 0,
   "metadata": {
    "application/vnd.databricks.v1+cell": {
     "cellMetadata": {},
     "inputWidgets": {},
     "nuid": "15465700-4bcf-410a-ab83-25be1028229c",
     "showTitle": false,
     "title": ""
    }
   },
   "outputs": [],
   "source": [
    "# Your code goes here\n",
    "\n"
   ]
  },
  {
   "cell_type": "markdown",
   "metadata": {
    "application/vnd.databricks.v1+cell": {
     "cellMetadata": {},
     "inputWidgets": {},
     "nuid": "9976afff-992c-481a-a242-03378acaeb3d",
     "showTitle": false,
     "title": ""
    }
   },
   "source": [
    "### (2d) 1 điểm\n",
    "\n",
    "Tạo RDD **rdd_words_2** từ **rdd_words** bằng cách xoá tất cả các empty word (''). In ra số lượng từ trong **rdd_words_2**."
   ]
  },
  {
   "cell_type": "markdown",
   "metadata": {
    "application/vnd.databricks.v1+cell": {
     "cellMetadata": {},
     "inputWidgets": {},
     "nuid": "ca7621a6-88a2-441f-814e-a6fd2b7c8abf",
     "showTitle": false,
     "title": ""
    }
   },
   "source": [
    "### (2e) 2 điểm\n",
    "\n",
    "Sử dụng code từ câu (1b), viết một function nhận một RDD với một danh sách word đầu vào và đếm số lần xuất hiện của mỗi từ. Sử dụng function này để đếm từ trong **rdd_words_2**. **Bravo! Bạn đã hoàn thành việc đếm số lần xuất hiện của tất cả các từ trong toàn bộ các tác phẩm của Shakespeare!** In ra 10 từ được sử dụng nhiều nhất trong toàn bộ các tác phẩm của Shakespeare."
   ]
  },
  {
   "cell_type": "code",
   "execution_count": 0,
   "metadata": {
    "application/vnd.databricks.v1+cell": {
     "cellMetadata": {},
     "inputWidgets": {},
     "nuid": "2e7d9711-0085-47ed-b46d-89d5277ca497",
     "showTitle": false,
     "title": ""
    }
   },
   "outputs": [],
   "source": [
    "def wordCount(wordListRDD):\n",
    "    \"\"\"Creates a pair RDD with word counts from an RDD of words.\n",
    "\n",
    "    Args:\n",
    "        wordListRDD (RDD of str): An RDD consisting of words.\n",
    "\n",
    "    Returns:\n",
    "        RDD of (str, int): An RDD consisting of (word, count) tuples.\n",
    "    \"\"\"\n",
    "    \n",
    "    # Your code goes here"
   ]
  },
  {
   "cell_type": "code",
   "execution_count": 0,
   "metadata": {
    "application/vnd.databricks.v1+cell": {
     "cellMetadata": {},
     "inputWidgets": {},
     "nuid": "1dd19d92-709c-4068-9bd4-cd14c104cb44",
     "showTitle": false,
     "title": ""
    }
   },
   "outputs": [],
   "source": [
    "# In ra 10 từ được sử dụng nhiều nhất trong toàn bộ các tác phẩm của Shakespeare\n",
    "\n",
    "# Your code goes here"
   ]
  }
 ],
 "metadata": {
  "application/vnd.databricks.v1+notebook": {
   "dashboards": [],
   "language": "python",
   "notebookMetadata": {
    "pythonIndentUnit": 2
   },
   "notebookName": "Lab4_to_be_submitted",
   "widgets": {}
  }
 },
 "nbformat": 4,
 "nbformat_minor": 0
}
