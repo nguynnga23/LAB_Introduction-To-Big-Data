{
 "cells": [
  {
   "cell_type": "markdown",
   "metadata": {
    "application/vnd.databricks.v1+cell": {
     "cellMetadata": {
      "byteLimit": 2048000,
      "rowLimit": 10000
     },
     "inputWidgets": {},
     "nuid": "47049719-2d55-47d0-b190-04ba2a1ad14d",
     "showTitle": false,
     "title": ""
    }
   },
   "source": [
    "# Spark Demo on Databricks\n",
    "\n"
   ]
  },
  {
   "cell_type": "markdown",
   "metadata": {
    "application/vnd.databricks.v1+cell": {
     "cellMetadata": {
      "byteLimit": 2048000,
      "rowLimit": 10000
     },
     "inputWidgets": {},
     "nuid": "b8cf8bb4-3f34-4df2-b3b3-bbbb38983b2f",
     "showTitle": false,
     "title": ""
    }
   },
   "source": [
    "\n",
    "## Notebook usage\n",
    "\n",
    "A notebook is comprised of a linear sequence of cells.Python code cells allow you to execute arbitrary Python commands just like in any Python shell. Place your cursor inside the cell below, and press \"Shift\" + \"Enter\" to execute the code and advance to the next cell. You can also press \"Ctrl\" + \"Enter\" to execute the code and remain in the cell."
   ]
  },
  {
   "cell_type": "code",
   "execution_count": 0,
   "metadata": {
    "application/vnd.databricks.v1+cell": {
     "cellMetadata": {
      "byteLimit": 2048000,
      "rowLimit": 10000
     },
     "inputWidgets": {},
     "nuid": "ce5209c3-f944-476a-91b9-1c8cc90db83f",
     "showTitle": false,
     "title": ""
    }
   },
   "outputs": [],
   "source": []
  },
  {
   "cell_type": "markdown",
   "metadata": {
    "application/vnd.databricks.v1+cell": {
     "cellMetadata": {
      "byteLimit": 2048000,
      "rowLimit": 10000
     },
     "inputWidgets": {},
     "nuid": "e99e8976-5a2c-4669-99c8-b4ca14869b65",
     "showTitle": false,
     "title": ""
    }
   },
   "source": [
    "\n",
    "As you work through a notebook it is important that you run all of the code cells. The notebook is stateful, which means that variables and their values are retained until the notebook is detached (in Databricks) or the kernel is restarted (in IPython notebooks). If you do not run all of the code cells as you proceed through the notebook, your variables will not be properly initialized and later code might fail. You will also need to rerun any cells that you have modified in order for the changes to be available to other cells."
   ]
  },
  {
   "cell_type": "code",
   "execution_count": 0,
   "metadata": {
    "application/vnd.databricks.v1+cell": {
     "cellMetadata": {
      "byteLimit": 2048000,
      "rowLimit": 10000
     },
     "inputWidgets": {},
     "nuid": "43bac33e-cd9b-43b4-9dd7-f0edda3bc56b",
     "showTitle": false,
     "title": ""
    }
   },
   "outputs": [
    {
     "output_type": "display_data",
     "data": {
      "text/html": [
       "\n",
       "        <div>\n",
       "            <p><b>SparkContext</b></p>\n",
       "\n",
       "            <p><a href=\"/?o=3139285983793204#setting/sparkui/0922-090218-czwgirya/driver-8904526398578314634\">Spark UI</a></p>\n",
       "\n",
       "            <dl>\n",
       "              <dt>Version</dt>\n",
       "                <dd><code>v3.3.2</code></dd>\n",
       "              <dt>Master</dt>\n",
       "                <dd><code>local[8]</code></dd>\n",
       "              <dt>AppName</dt>\n",
       "                <dd><code>Databricks Shell</code></dd>\n",
       "            </dl>\n",
       "        </div>\n",
       "        "
      ]
     },
     "metadata": {
      "application/vnd.databricks.v1+output": {
       "addedWidgets": {},
       "arguments": {},
       "data": "\n        <div>\n            <p><b>SparkContext</b></p>\n\n            <p><a href=\"/?o=3139285983793204#setting/sparkui/0922-090218-czwgirya/driver-8904526398578314634\">Spark UI</a></p>\n\n            <dl>\n              <dt>Version</dt>\n                <dd><code>v3.3.2</code></dd>\n              <dt>Master</dt>\n                <dd><code>local[8]</code></dd>\n              <dt>AppName</dt>\n                <dd><code>Databricks Shell</code></dd>\n            </dl>\n        </div>\n        ",
       "datasetInfos": [],
       "metadata": {},
       "removedWidgets": [],
       "textData": null,
       "type": "htmlSandbox"
      }
     },
     "output_type": "display_data"
    }
   ],
   "source": [
    "sc"
   ]
  },
  {
   "cell_type": "markdown",
   "metadata": {
    "application/vnd.databricks.v1+cell": {
     "cellMetadata": {
      "byteLimit": 2048000,
      "rowLimit": 10000
     },
     "inputWidgets": {},
     "nuid": "0c09f599-94eb-42b7-b01f-bfbf1c7c4fd6",
     "showTitle": false,
     "title": ""
    }
   },
   "source": [
    "\n",
    "## SparkContext\n",
    "\n",
    "In order to use Spark and its API we will need to use a SparkContext. When running Spark, you start a new Spark application by creating a SparkContext (http://spark.apache.org/docs/latest/api/python/pyspark.html#pyspark.SparkContext).\n",
    "When using Databricks, the SparkContext is created for you automatically as sc.\n",
    "\n",
    "Historically, Apache Spark has had two core contexts that are available to the user. The sparkContext and the SQLContext made available as sqlContext, these contexts make a variety of functions and information available to the user. The sqlContext makes a lot of DataFrame functionality available while the sparkContext focuses more on the Apache Spark engine itself.\n",
    "\n",
    "In Apache Spark 2.X, there is a new context - the SparkSession (https://spark.apache.org/docs/latest/api/python/pyspark.sql.html?highlight=udf#pyspark.sql.SparkSession)\n",
    "\n",
    "We can access it via the spark variable. As Dataset and Dataframe API are becoming new standard, SparkSession is the new entry point for them.\n",
    "\n",
    "sparkContext is still used as the main entry point for RDD API and is available under sc or spark.sparkContext."
   ]
  },
  {
   "cell_type": "code",
   "execution_count": 0,
   "metadata": {
    "application/vnd.databricks.v1+cell": {
     "cellMetadata": {
      "byteLimit": 2048000,
      "rowLimit": 10000
     },
     "collapsed": true,
     "inputWidgets": {},
     "nuid": "870b14b7-efe0-4c2a-955a-9fb05f37ea17",
     "showTitle": false,
     "title": ""
    }
   },
   "outputs": [
    {
     "output_type": "stream",
     "name": "stdout",
     "output_type": "stream",
     "text": [
      "<SparkContext master=local[8] appName=Databricks Shell>\n<pyspark.sql.context.SQLContext object at 0x7fee17f9beb0>\n<pyspark.sql.session.SparkSession object at 0x7fee232da3a0>\n"
     ]
    }
   ],
   "source": [
    "# Khi sử dụng Databricks, SparkContext sẽ tự động được tạo cho bạn dưới dạng sc .\n",
    "print(sc)\n",
    "# sqlContext cung cấp nhiều chức năng DataFrame trong khi sparkContext tập trung nhiều hơn vào chính công cụ Apache Spark.\n",
    "print(sqlContext)\n",
    "# Khi Dataset và Dataframe API đang trở thành chuẩn mực mới, SparkSession là điểm vào mới cho chúng.\n",
    "print(spark)"
   ]
  },
  {
   "cell_type": "code",
   "execution_count": 0,
   "metadata": {
    "application/vnd.databricks.v1+cell": {
     "cellMetadata": {
      "byteLimit": 2048000,
      "rowLimit": 10000
     },
     "inputWidgets": {},
     "nuid": "402dd53b-ed05-4b0c-a963-37a3cfcd21dd",
     "showTitle": false,
     "title": ""
    }
   },
   "outputs": [
    {
     "output_type": "stream",
     "name": "stdout",
     "output_type": "stream",
     "text": [
      "<SparkContext master=local[8] appName=Databricks Shell>\n<SparkContext master=local[8] appName=Databricks Shell>\n"
     ]
    }
   ],
   "source": [
    "# sparkContext vẫn được sử dụng làm điểm vào chính cho RDD API và có sẵn trong sc hoặc spark.sparkContext .\n",
    "print(spark.sparkContext)\n",
    "print(sc)"
   ]
  },
  {
   "cell_type": "markdown",
   "metadata": {
    "application/vnd.databricks.v1+cell": {
     "cellMetadata": {
      "byteLimit": 2048000,
      "rowLimit": 10000
     },
     "inputWidgets": {},
     "nuid": "68be6545-7db0-484c-9d2d-50cad25e8772",
     "showTitle": false,
     "title": ""
    }
   },
   "source": [
    "\n",
    "## Transformations and Actions\n",
    "\n",
    "Spark allows two distinct kinds of operations by the user. There are transformations and there are actions.\n",
    "\n",
    "\n",
    "Transformations are operations that will not be completed at the time you write and execute the code in a cell - they will only get executed once you have called an action. An example of a transformation might be to convert an integer into a float or to filter a set of values.\n",
    "\n",
    "\n",
    "Actions are commands that are computed by Spark right at the time of their execution. They consist of running all of the previous transformations in order to get back an actual result. An action is composed of one or more jobs which consists of tasks that will be executed by the workers in parallel where possible.\n"
   ]
  },
  {
   "cell_type": "code",
   "execution_count": 0,
   "metadata": {
    "application/vnd.databricks.v1+cell": {
     "cellMetadata": {
      "byteLimit": 2048000,
      "rowLimit": 10000
     },
     "inputWidgets": {},
     "nuid": "3535a364-25a5-4161-a30f-bd3484ad8913",
     "showTitle": false,
     "title": ""
    }
   },
   "outputs": [
    {
     "output_type": "stream",
     "name": "stdout",
     "output_type": "stream",
     "text": [
      "Out[10]: [2, 4, 6, 8, 10]"
     ]
    }
   ],
   "source": [
    "numList = [1, 2, 3, 4, 5]\n",
    "# RDD create from a list\n",
    "firstRDD = sc.parallelize(numList)\n",
    "\n",
    "# a transformation\n",
    "secondRDD = firstRDD.map(lambda x: x*2)\n",
    "\n",
    "# an action\n",
    "secondRDD.collect()"
   ]
  },
  {
   "cell_type": "markdown",
   "metadata": {
    "application/vnd.databricks.v1+cell": {
     "cellMetadata": {
      "byteLimit": 2048000,
      "rowLimit": 10000
     },
     "inputWidgets": {},
     "nuid": "0cf38e39-99fd-4dbe-8212-cad9e2c1c13a",
     "showTitle": false,
     "title": ""
    }
   },
   "source": [
    "\n",
    "It gives a simple way to optimize the entire pipeline of computations as opposed to the individual pieces. This makes it exceptionally fast for certain types of computation because it can perform all relevant computations at once. Technically speaking, Spark pipelines this computation which we can see in the image below. This means that certain computations can all be performed at once (like a map and a filter) rather than having to do one operation for all pieces of data and then the following operation.\n",
    "\n",
    "<div style=\"text-align: center; line-height: 0; padding-top: 9px;\">\n",
    "  <img src=\"https://s3-us-west-1.amazonaws.com/julienheck/hadoop/7_spark/spark13.png\" alt=\"DAG\" width=\"555\" height=\"64\">\n",
    "</div>"
   ]
  },
  {
   "cell_type": "markdown",
   "metadata": {
    "application/vnd.databricks.v1+cell": {
     "cellMetadata": {
      "byteLimit": 2048000,
      "rowLimit": 10000
     },
     "inputWidgets": {},
     "nuid": "5f4fcfd4-c4a9-4e53-bc27-fa43eb51e59b",
     "showTitle": false,
     "title": ""
    }
   },
   "source": [
    "\n",
    "Transformations are lazy in order to build up the\n",
    "entire flow of data from start to finish required by the user. Any calculation can be recomputed from the very\n",
    "source data allowing Apache Spark to handle any failures that occur along the way,\n",
    "and successfully handle stragglers. With each transformation Apache Spark creates a plan for how it will\n",
    "perform this work.\n",
    "\n",
    "To get a sense for what this plan consists of, run the following code in a cell (we will explain this code later):\n"
   ]
  },
  {
   "cell_type": "code",
   "execution_count": 0,
   "metadata": {
    "application/vnd.databricks.v1+cell": {
     "cellMetadata": {
      "byteLimit": 2048000,
      "rowLimit": 10000
     },
     "inputWidgets": {},
     "nuid": "6c8a4822-c271-4f4a-8e4c-06aa0153cf88",
     "showTitle": false,
     "title": ""
    }
   },
   "outputs": [
    {
     "output_type": "stream",
     "name": "stdout",
     "output_type": "stream",
     "text": [
      "[('elephant', 1), ('rat', 2), ('cat', 2)]\n"
     ]
    }
   ],
   "source": [
    "wordsList = ['cat', 'elephant', 'rat', 'rat', 'cat']\n",
    "wordsRDD = sc.parallelize(wordsList)\n",
    "# Transformations thì lazy để xây dựng toàn bộ luồng dữ liệu từ đầu đến cuối theo yêu cầu của người dùng. \n",
    "wordCountsCollected = (wordsRDD\n",
    "  .map(lambda x: (x,1))\n",
    "  .reduceByKey(lambda a,b: a+b)\n",
    "  .collect())\n",
    "print (wordCountsCollected)"
   ]
  },
  {
   "cell_type": "markdown",
   "metadata": {
    "application/vnd.databricks.v1+cell": {
     "cellMetadata": {
      "byteLimit": 2048000,
      "rowLimit": 10000
     },
     "inputWidgets": {},
     "nuid": "ce52dfa8-a6f6-47ee-b3c2-17085c336e9b",
     "showTitle": false,
     "title": ""
    }
   },
   "source": [
    "\n",
    "Click the little arrow next to where it says (1) Spark Jobs after that cell finishes executing and then click the View link. This brings up the Apache Spark Web UI right inside of your notebook. This can also be accessed from the cluster attach button at the top of this notebook. \n",
    "\n",
    "In the Spark UI, you should see something that includes a diagram similar to this:\n",
    "<div style=\"text-align: center; line-height: 0; padding-top: 9px;\">\n",
    "  <img src=\"https://s3-us-west-1.amazonaws.com/julienheck/hadoop/7_spark/spark14.png\" alt=\"DAG\" width=\"555\" height=\"64\">\n",
    "</div>\n"
   ]
  },
  {
   "cell_type": "markdown",
   "metadata": {
    "application/vnd.databricks.v1+cell": {
     "cellMetadata": {
      "byteLimit": 2048000,
      "rowLimit": 10000
     },
     "inputWidgets": {},
     "nuid": "c24b9614-7d80-4626-a215-d9fab5af4307",
     "showTitle": false,
     "title": ""
    }
   },
   "source": [
    "\n",
    "# Wordcount example\n",
    "\n",
    "In this example, we will develop a simple word count application. we will write code that calculates the most common words in the Complete Works of William Shakespeare (http://www.gutenberg.org/ebooks/100) retrieved from Project Gutenberg (http://www.gutenberg.org/wiki/Main_Page)."
   ]
  },
  {
   "cell_type": "markdown",
   "metadata": {
    "application/vnd.databricks.v1+cell": {
     "cellMetadata": {
      "byteLimit": 2048000,
      "rowLimit": 10000
     },
     "inputWidgets": {},
     "nuid": "f4e510f0-25b6-4468-ad55-ab96b7e3214a",
     "showTitle": false,
     "title": ""
    }
   },
   "source": [
    "\n",
    "## Create a base RDD\n",
    "\n",
    "There are two ways to create RDDs: parallelizing an existing collection in your driver program, or referencing a dataset in an external storage system, such as a shared filesystem, HDFS, HBase, or any data source offering a Hadoop InputFormat.\n",
    "Parallelized collections are created by calling SparkContext’s parallelize method. The elements of the collection are copied to form a distributed dataset that can be operated on in parallel. One important parameter for parallel collections is the number of partitions to cut the dataset into. Spark will run one task for each partition of the cluster. Typically you want 2-4 partitions for each CPU in your cluster. Normally, Spark tries to set the number of partitions automatically based on your cluster. However, you can also set it manually by passing it as a second parameter.\n",
    "We will start by generating a base RDD by using a Python list and the sc.parallelize method. Then we'll print out the type of the base RDD."
   ]
  },
  {
   "cell_type": "code",
   "execution_count": 0,
   "metadata": {
    "application/vnd.databricks.v1+cell": {
     "cellMetadata": {
      "byteLimit": 2048000,
      "rowLimit": 10000
     },
     "inputWidgets": {},
     "nuid": "f611ba57-c6da-4a95-b180-8457d1536cbd",
     "showTitle": false,
     "title": ""
    }
   },
   "outputs": [
    {
     "output_type": "stream",
     "name": "stdout",
     "output_type": "stream",
     "text": [
      "<class 'pyspark.rdd.RDD'>\nOut[20]: ['cat', 'elephant', 'rat', 'rat', 'cat']"
     ]
    }
   ],
   "source": [
    "wordsList = ['cat', 'elephant', 'rat', 'rat', 'cat']\n",
    "wordsList = sc.parallelize(wordsList, 4) # a base RDD by using a Python list and the sc.parallelize method\n",
    "print(type(wordsRDD))\n",
    "wordsRDD.collect()"
   ]
  },
  {
   "cell_type": "markdown",
   "metadata": {
    "application/vnd.databricks.v1+cell": {
     "cellMetadata": {
      "byteLimit": 2048000,
      "rowLimit": 10000
     },
     "inputWidgets": {},
     "nuid": "54f3c1f7-d050-425a-be59-a892da7d02ab",
     "showTitle": false,
     "title": ""
    }
   },
   "source": [
    "\n",
    "## Pluralize and test\n",
    "Let's use a map() transformation with a lambda function to add the letter 's' to each string in the base RDD we just created:"
   ]
  },
  {
   "cell_type": "code",
   "execution_count": 0,
   "metadata": {
    "application/vnd.databricks.v1+cell": {
     "cellMetadata": {
      "byteLimit": 2048000,
      "rowLimit": 10000
     },
     "inputWidgets": {},
     "nuid": "7910b474-7fbc-4a5a-a18c-92e558625c8d",
     "showTitle": false,
     "title": ""
    }
   },
   "outputs": [
    {
     "output_type": "stream",
     "name": "stdout",
     "output_type": "stream",
     "text": [
      "['cats', 'elephants', 'rats', 'rats', 'cats']\n"
     ]
    }
   ],
   "source": [
    "pluralLambdaRDD = wordsRDD.map(lambda x: x + 's')\n",
    "print(pluralLambdaRDD.collect())"
   ]
  },
  {
   "cell_type": "markdown",
   "metadata": {
    "application/vnd.databricks.v1+cell": {
     "cellMetadata": {
      "byteLimit": 2048000,
      "rowLimit": 10000
     },
     "inputWidgets": {},
     "nuid": "2ef34ee3-4954-49b2-8eee-154b81f86cb5",
     "showTitle": false,
     "title": ""
    }
   },
   "source": [
    "\n",
    "Now let's use map() and a lambda function to return the number of characters in each word. We will collect this result directly into a variable."
   ]
  },
  {
   "cell_type": "code",
   "execution_count": 0,
   "metadata": {
    "application/vnd.databricks.v1+cell": {
     "cellMetadata": {
      "byteLimit": 2048000,
      "rowLimit": 10000
     },
     "inputWidgets": {},
     "nuid": "cda9871c-6998-4b6e-84bb-43751fe0b654",
     "showTitle": false,
     "title": ""
    }
   },
   "outputs": [
    {
     "output_type": "stream",
     "name": "stdout",
     "output_type": "stream",
     "text": [
      "[4, 9, 4, 4, 4]\n"
     ]
    }
   ],
   "source": [
    "pluralLengths = (pluralLambdaRDD.map(lambda x : len(x)).collect())\n",
    "print(pluralLengths)"
   ]
  },
  {
   "cell_type": "markdown",
   "metadata": {
    "application/vnd.databricks.v1+cell": {
     "cellMetadata": {
      "byteLimit": 2048000,
      "rowLimit": 10000
     },
     "inputWidgets": {},
     "nuid": "470d10c6-1dcd-4fbf-a9ec-8f349911a078",
     "showTitle": false,
     "title": ""
    }
   },
   "source": [
    "\n",
    "## Pair RDDs\n",
    "The next step in writing our word counting program is to create a new type of RDD, called a pair RDD. A pair RDD is an RDD where each element is a pair tuple (k, v) where k is the key and v is the value. In this example, we will create a pair consisting of ('<word>', 1) for each word element in the RDD. We can create the pair RDD using the map() transformation with a lambda() function to create a new RDD."
   ]
  },
  {
   "cell_type": "code",
   "execution_count": 0,
   "metadata": {
    "application/vnd.databricks.v1+cell": {
     "cellMetadata": {
      "byteLimit": 2048000,
      "rowLimit": 10000
     },
     "inputWidgets": {},
     "nuid": "2cdd3e2c-c44b-4237-b02a-7acca8dd5d82",
     "showTitle": false,
     "title": ""
    }
   },
   "outputs": [
    {
     "output_type": "stream",
     "name": "stdout",
     "output_type": "stream",
     "text": [
      "['cat', 'elephant', 'rat', 'rat', 'cat']\n[('cat', 1), ('elephant', 1), ('rat', 1), ('rat', 1), ('cat', 1)]\n"
     ]
    }
   ],
   "source": [
    "print(wordsRDD.collect())\n",
    "workPairs = wordsRDD.map(lambda x: (x, 1))\n",
    "print(workPairs.collect())"
   ]
  },
  {
   "cell_type": "markdown",
   "metadata": {
    "application/vnd.databricks.v1+cell": {
     "cellMetadata": {
      "byteLimit": 2048000,
      "rowLimit": 10000
     },
     "inputWidgets": {},
     "nuid": "076e0f21-4f83-4968-a5aa-2afedc74f8c8",
     "showTitle": false,
     "title": ""
    }
   },
   "source": [
    "\n",
    "## Counting with pair RDDs\n",
    "\n",
    "Now, let's count the number of times a particular word appears in the RDD. There are multiple ways to perform the counting, but some are much less efficient than others. A naive approach would be to collect() all of the elements and count them in the driver program. While this approach could work for small datasets, we want an approach that will work for any size dataset including terabyte- or petabyte-sized datasets. In addition, performing all of the work in the driver program is slower than performing it in parallel in the workers. For these reasons, we will use data parallel operations."
   ]
  },
  {
   "cell_type": "markdown",
   "metadata": {
    "application/vnd.databricks.v1+cell": {
     "cellMetadata": {
      "byteLimit": 2048000,
      "rowLimit": 10000
     },
     "inputWidgets": {},
     "nuid": "44948ca1-d690-448d-93b0-4fdfbc227d5f",
     "showTitle": false,
     "title": ""
    }
   },
   "source": [
    "\n",
    "## Use groupByKey() approach\n",
    "An approach you might first consider (we'll see shortly that there are better ways) is based on using the groupByKey()\n",
    "(http://spark.apache.org/docs/latest/api/python/pyspark.html#pyspark.RDD.groupByKey) transformation. As the name implies, the groupByKey() transformation groups all the elements of the RDD with the same key into a single list in one of the partitions.\n",
    "\n",
    "There are two problems with using groupByKey() :\n",
    "* The operation requires a lot of data movement to move all the values into the appropriate partitions.\n",
    "* The lists can be very large. Consider a word count of English Wikipedia: the lists for common words (e.g., the, a, etc.) would be huge and could exhaust the available memory in a worker.\n",
    "\n",
    "Use groupByKey() to generate a pair RDD of type ('word', iterator) ."
   ]
  },
  {
   "cell_type": "code",
   "execution_count": 0,
   "metadata": {
    "application/vnd.databricks.v1+cell": {
     "cellMetadata": {
      "byteLimit": 2048000,
      "rowLimit": 10000
     },
     "inputWidgets": {},
     "nuid": "6ef4045e-77bc-4216-856a-44004972ddc6",
     "showTitle": false,
     "title": ""
    }
   },
   "outputs": [
    {
     "output_type": "stream",
     "name": "stdout",
     "output_type": "stream",
     "text": [
      "[('cat', 1), ('elephant', 1), ('rat', 1), ('rat', 1), ('cat', 1)]\n[('elephant', [1]), ('rat', [1, 1]), ('cat', [1, 1])]\nelephant: [1]\nrat: [1, 1]\ncat: [1, 1]\n"
     ]
    }
   ],
   "source": [
    "print(workPairs.collect())\n",
    "wordsGrouped = workPairs.groupByKey().mapValues(lambda x : list(x))\n",
    "\n",
    "for key, value in wordsGrouped.collect():\n",
    "    print('{0}: {1}'.format(key, list(value)))\n"
   ]
  },
  {
   "cell_type": "markdown",
   "metadata": {
    "application/vnd.databricks.v1+cell": {
     "cellMetadata": {
      "byteLimit": 2048000,
      "rowLimit": 10000
     },
     "inputWidgets": {},
     "nuid": "4e8ea507-a4e0-4522-af9e-d2497c499754",
     "showTitle": false,
     "title": ""
    }
   },
   "source": [
    "\n",
    "Using the groupByKey() transformation creates an RDD containing 3 elements, each of which is a pair of a word and a Python iterator.\n",
    "Now sum the iterator using a map() transformation. The result should be a pair RDD consisting of (word, count) pairs.\n",
    "\n",
    "NOTE: lambda (k,v): does not work in Python 3."
   ]
  },
  {
   "cell_type": "code",
   "execution_count": 0,
   "metadata": {
    "application/vnd.databricks.v1+cell": {
     "cellMetadata": {
      "byteLimit": 2048000,
      "rowLimit": 10000
     },
     "inputWidgets": {},
     "nuid": "3331807a-3e83-4399-92f8-ddb49a68b7c1",
     "showTitle": false,
     "title": ""
    }
   },
   "outputs": [
    {
     "output_type": "stream",
     "name": "stdout",
     "output_type": "stream",
     "text": [
      "[('elephant', [1]), ('rat', [1, 1]), ('cat', [1, 1])]\n[('elephant', 1), ('rat', 2), ('cat', 2)]\n"
     ]
    }
   ],
   "source": [
    "print(wordsGrouped.collect())\n",
    "wordCountsGrouped = wordsGrouped.mapValues(lambda y: sum(y))\n",
    "print(wordCountsGrouped.collect())"
   ]
  },
  {
   "cell_type": "markdown",
   "metadata": {
    "application/vnd.databricks.v1+cell": {
     "cellMetadata": {
      "byteLimit": 2048000,
      "rowLimit": 10000
     },
     "inputWidgets": {},
     "nuid": "20d379f0-05ef-4402-99da-05174811404a",
     "showTitle": false,
     "title": ""
    }
   },
   "source": [
    "\n",
    "## Use reduceByKey approach\n",
    "\n",
    "A better approach is to start from the pair RDD and then use the reduceByKey() (http://spark.apache.org/docs/latest/api/python/pyspark.html#pyspark.RDD.reduceByKey) transformation to create a new pair RDD. The reduceByKey() transformation gathers together pairs that have the same key and applies the function provided to two values at a time, iteratively reducing all of the values to a single value. reduceByKey() operates by applying the function first within each partition on a per-key basis and then across the partitions, allowing it to scale efficiently to large datasets."
   ]
  },
  {
   "cell_type": "code",
   "execution_count": 0,
   "metadata": {
    "application/vnd.databricks.v1+cell": {
     "cellMetadata": {
      "byteLimit": 2048000,
      "rowLimit": 10000
     },
     "inputWidgets": {},
     "nuid": "c6831657-dc33-424f-8a2a-49c69141b738",
     "showTitle": false,
     "title": ""
    }
   },
   "outputs": [
    {
     "output_type": "stream",
     "name": "stdout",
     "output_type": "stream",
     "text": [
      "['cat', 'elephant', 'rat', 'rat', 'cat']\n[('cat', 1), ('elephant', 1), ('rat', 1), ('rat', 1), ('cat', 1)]\n[('elephant', 1), ('rat', 2), ('cat', 2)]\n"
     ]
    }
   ],
   "source": [
    "print(wordsRDD.collect())\n",
    "workPairs = wordsRDD.map(lambda x: (x, 1))\n",
    "print(workPairs.collect())\n",
    "\n",
    "wordCounts = workPairs.reduceByKey(lambda a,b: a+b)\n",
    "print(wordCounts.collect())"
   ]
  },
  {
   "cell_type": "markdown",
   "metadata": {
    "application/vnd.databricks.v1+cell": {
     "cellMetadata": {
      "byteLimit": 2048000,
      "rowLimit": 10000
     },
     "inputWidgets": {},
     "nuid": "160ceef8-cfc6-4451-a8e1-0d9fde8bee7d",
     "showTitle": false,
     "title": ""
    }
   },
   "source": [
    "\n",
    "The expert version of the code performs the map() to pair RDD, reduceByKey() transformation, and collect in one statement."
   ]
  },
  {
   "cell_type": "code",
   "execution_count": 0,
   "metadata": {
    "application/vnd.databricks.v1+cell": {
     "cellMetadata": {
      "byteLimit": 2048000,
      "rowLimit": 10000
     },
     "inputWidgets": {},
     "nuid": "3d62dd41-e4bb-49cc-875a-872f16cbbc12",
     "showTitle": false,
     "title": ""
    }
   },
   "outputs": [
    {
     "output_type": "stream",
     "name": "stdout",
     "output_type": "stream",
     "text": [
      "['cat', 'elephant', 'rat', 'rat', 'cat']\n[('elephant', 1), ('rat', 2), ('cat', 2)]\n"
     ]
    }
   ],
   "source": [
    "print(wordsRDD.collect())\n",
    "wordCountsCollected = (wordsRDD\n",
    "  .map(lambda x: (x,1))\n",
    "  .reduceByKey(lambda a,b: a+b)\n",
    "  .collect())\n",
    "print(wordCountsCollected)"
   ]
  },
  {
   "cell_type": "markdown",
   "metadata": {
    "application/vnd.databricks.v1+cell": {
     "cellMetadata": {
      "byteLimit": 2048000,
      "rowLimit": 10000
     },
     "inputWidgets": {},
     "nuid": "b65e6b66-52e6-4d64-9b50-6b7618663776",
     "showTitle": false,
     "title": ""
    }
   },
   "source": [
    "\n",
    "## Apply word count to a file\n",
    "Let's finish developing our word count application. We will have to build the wordCount function, deal with real world problems like capitalization and punctuation, load in our data source, and compute the word count on the new data.\n",
    "\n",
    "## wordcount function\n",
    "\n",
    "First, let's define a function for word counting. We will reuse the techniques that we saw earlier. This function should take in an RDD that is a list of words like wordsRDD and return a pair RDD that has all of the words and their associated counts."
   ]
  },
  {
   "cell_type": "code",
   "execution_count": 0,
   "metadata": {
    "application/vnd.databricks.v1+cell": {
     "cellMetadata": {
      "byteLimit": 2048000,
      "rowLimit": 10000
     },
     "inputWidgets": {},
     "nuid": "2e805a41-9a2d-4bcd-89ce-9b5095687b28",
     "showTitle": false,
     "title": ""
    }
   },
   "outputs": [],
   "source": [
    "def wordCount(wordListRDD):\n",
    "  \"\"\"Creates a pair RDD with word counts from an RDD of words.\n",
    "  Args:\n",
    "    wordListRDD (RDD of str): An RDD consisting of words.\n",
    "  Returns:\n",
    "    RDD of (str, int): An RDD consisting of (word, count) tuples.\n",
    "  \"\"\"\n",
    "  wordListCount = (wordListRDD.map(lambda x: (x,1))\n",
    "                              .reduceByKey(lambda a,b: a+b))\n",
    "  return wordListCount"
   ]
  },
  {
   "cell_type": "markdown",
   "metadata": {
    "application/vnd.databricks.v1+cell": {
     "cellMetadata": {
      "byteLimit": 2048000,
      "rowLimit": 10000
     },
     "inputWidgets": {},
     "nuid": "89eaa441-1ba2-470e-984b-f10911b29d8e",
     "showTitle": false,
     "title": ""
    }
   },
   "source": [
    "\n",
    "## Capitalization and punctuation\n",
    "\n",
    "Real world files are more complicated than the data we have been using so far.\n",
    "Some of the issues we have to address are:\n",
    "* Words should be counted independent of their capitialization (e.g., Spark and spark should be counted as the same word).\n",
    "* All punctuation should be removed.\n",
    "* Any leading or trailing spaces on a line should be removed.\n",
    "\n",
    "We will now define the function removePunctuation that converts all text to lower case, removes any punctuation, and removes leading and trailing spaces. We will use the Python re (https://docs.python.org/2/library/re.html) module to remove any text that is not a letter, number, or space.\n",
    "\n",
    "More on regular expressions here: https://developers.google.com/edu/python/regular-expressions"
   ]
  },
  {
   "cell_type": "code",
   "execution_count": 0,
   "metadata": {
    "application/vnd.databricks.v1+cell": {
     "cellMetadata": {
      "byteLimit": 2048000,
      "rowLimit": 10000
     },
     "inputWidgets": {},
     "nuid": "9fa7aae3-4d18-4b39-b0c2-801d78ba6ccf",
     "showTitle": false,
     "title": ""
    }
   },
   "outputs": [
    {
     "output_type": "stream",
     "name": "stdout",
     "output_type": "stream",
     "text": [
      "hi you\n"
     ]
    }
   ],
   "source": [
    "import re\n",
    "def removePunctuation(text):\n",
    "    return re.sub(r'[^A-Za-z0-9 ]', '', text).lower().strip()\n",
    "print(removePunctuation('Hi, you! '))"
   ]
  },
  {
   "cell_type": "markdown",
   "metadata": {
    "application/vnd.databricks.v1+cell": {
     "cellMetadata": {
      "byteLimit": 2048000,
      "rowLimit": 10000
     },
     "inputWidgets": {},
     "nuid": "837cee29-29f0-4cb2-a3bd-0313d87577fa",
     "showTitle": false,
     "title": ""
    }
   },
   "source": [
    "\n",
    "## Load a text file\n",
    "We will use the Complete Works of William Shakespeare (http://www.gutenberg.org/ebooks/100) from Project Gutenberg (http://www.gutenberg.org/wiki/Main_Page).\n",
    "\n",
    "To convert a text file into an RDD, we use the SparkContext.textFile() method. We also apply the recently defined removePunctuation() function using a map() transformation to strip out the punctuation and change all text to lower case. Since the file is large we use take(15) , so that we only print 15 lines.\n",
    "\n",
    "NOTE: the file has already been uploaded in Databricks FS for us."
   ]
  },
  {
   "cell_type": "code",
   "execution_count": 0,
   "metadata": {
    "application/vnd.databricks.v1+cell": {
     "cellMetadata": {
      "byteLimit": 2048000,
      "rowLimit": 10000
     },
     "inputWidgets": {},
     "nuid": "0344ddf6-0a87-44e0-a168-8d6947b40b25",
     "showTitle": false,
     "title": ""
    }
   },
   "outputs": [
    {
     "output_type": "stream",
     "name": "stdout",
     "output_type": "stream",
     "text": [
      "0: 1609\n1: \n2: the sonnets\n3: \n4: by william shakespeare\n5: \n6: \n7: \n8: 1\n9: from fairest creatures we desire increase\n10: that thereby beautys rose might never die\n11: but as the riper should by time decease\n12: his tender heir might bear his memory\n13: but thou contracted to thine own bright eyes\n14: feedst thy lights flame with selfsubstantial fuel\n"
     ]
    }
   ],
   "source": [
    "import os.path\n",
    "baseDir = os.path.join('databricks-datasets')\n",
    "inputPath = os.path.join('cs100', 'lab1', 'data-001', 'shakespeare.txt')\n",
    "fileName = os.path.join(baseDir, inputPath)\n",
    "\n",
    "shakespeareRDD = (sc.textFile(fileName, 8).map(removePunctuation))\n",
    "#print '\\n'\n",
    "#                    .join(shakespeareRDD\n",
    "#                       .zipWithIndex() # to (line, lineNum)\n",
    "#                       .map(lambda (l, num): '{0}: {1}'.format(num, l)) # to 'lineNum: line'\n",
    "#                       .take(15))\n",
    "print('\\n'.join(shakespeareRDD\\\n",
    "                .zipWithIndex()\n",
    "                .map(lambda x: '{0}: {1}'.format(x[1], x[0]))\\\n",
    "                .take(15)))"
   ]
  },
  {
   "cell_type": "markdown",
   "metadata": {
    "application/vnd.databricks.v1+cell": {
     "cellMetadata": {
      "byteLimit": 2048000,
      "rowLimit": 10000
     },
     "inputWidgets": {},
     "nuid": "8639c5f9-715f-40c7-a014-de431df9af23",
     "showTitle": false,
     "title": ""
    }
   },
   "source": [
    "\n",
    "## Words from lines\n",
    "\n",
    "Before we can use the wordcount() function, we have to address two issues with the format of the RDD:\n",
    "The first issue is that that we need to split each line by its spaces.\n",
    "The second issue is we need to filter out empty lines.\n",
    "To solve the first issue, we will apply, for each element of the RDD, Python's string split() (https://docs.python.org/2/library/string.html#string.split) function.\n",
    "We also would like the newly created RDD to consist of the elements outputted by the function. Simply applying a map() transformation would yield a new RDD made up of iterators. Each iterator could have zero or more elements. Instead, we often want an RDD consisting of the values contained in those iterators. The solution is to use a flatMap() (http://spark.apache.org/docs/latest/api/python/pyspark.html#pyspark.RDD.flatMap) transformation, flatMap() is similar to map() , except that with flatMap() each input item can be mapped to zero or more output elements.\n",
    "\n",
    "Look at the difference between map() and flatMap() by running this code:"
   ]
  },
  {
   "cell_type": "code",
   "execution_count": 0,
   "metadata": {
    "application/vnd.databricks.v1+cell": {
     "cellMetadata": {
      "byteLimit": 2048000,
      "rowLimit": 10000
     },
     "inputWidgets": {},
     "nuid": "482a2c13-19be-4b55-bff3-ae5438d51685",
     "showTitle": false,
     "title": ""
    }
   },
   "outputs": [
    {
     "output_type": "stream",
     "name": "stdout",
     "output_type": "stream",
     "text": [
      "[('cat', 'cats'), ('elephant', 'elephants'), ('rat', 'rats'), ('rat', 'rats'), ('cat', 'cats')]\n['cat', 'cats', 'elephant', 'elephants', 'rat', 'rats', 'rat', 'rats', 'cat', 'cats']\n5\n10\n"
     ]
    }
   ],
   "source": [
    "# Let's create a new base RDD to work from\n",
    "wordsList = ['cat', 'elephant', 'rat', 'rat', 'cat']\n",
    "wordsRDD = sc.parallelize(wordsList, 4)\n",
    "# Use map\n",
    "singularAndPluralWordsRDDMap = wordsRDD.map(lambda x: (x, x + 's'))\n",
    "# Use flatMap\n",
    "singularAndPluralWordsRDD = wordsRDD.flatMap(lambda x: (x, x + 's'))\n",
    "# View the results\n",
    "print (singularAndPluralWordsRDDMap.collect())\n",
    "print (singularAndPluralWordsRDD.collect())\n",
    "# View the number of elements in the RDD\n",
    "print (singularAndPluralWordsRDDMap.count())\n",
    "print (singularAndPluralWordsRDD.count())"
   ]
  },
  {
   "cell_type": "markdown",
   "metadata": {
    "application/vnd.databricks.v1+cell": {
     "cellMetadata": {
      "byteLimit": 2048000,
      "rowLimit": 10000
     },
     "inputWidgets": {},
     "nuid": "236e1a64-0f8e-41b3-9753-3afc6f7e7387",
     "showTitle": false,
     "title": ""
    }
   },
   "source": [
    "\n",
    "Hence our code for our word count application should be:"
   ]
  },
  {
   "cell_type": "code",
   "execution_count": 0,
   "metadata": {
    "application/vnd.databricks.v1+cell": {
     "cellMetadata": {
      "byteLimit": 2048000,
      "rowLimit": 10000
     },
     "inputWidgets": {},
     "nuid": "992f77c1-4b2a-4e78-883c-b6bb0639b616",
     "showTitle": false,
     "title": ""
    }
   },
   "outputs": [
    {
     "output_type": "stream",
     "name": "stdout",
     "output_type": "stream",
     "text": [
      "['1609', '', 'the', 'sonnets', '', 'by', 'william', 'shakespeare', '', '', '', '1', 'from', 'fairest', 'creatures', 'we', 'desire', 'increase', 'that', 'thereby', 'beautys', 'rose', 'might', 'never', 'die', 'but', 'as', 'the', 'riper', 'should', 'by', 'time', 'decease', 'his', 'tender', 'heir', 'might', 'bear', 'his', 'memory', 'but', 'thou', 'contracted', 'to', 'thine', 'own', 'bright', 'eyes', 'feedst', 'thy', 'lights', 'flame', 'with', 'selfsubstantial', 'fuel', 'making', 'a', 'famine', 'where', 'abundance', 'lies', 'thy', 'self', 'thy', 'foe', 'to', 'thy', 'sweet', 'self', 'too', 'cruel', 'thou', 'that', 'art', 'now', 'the', 'worlds', 'fresh', 'ornament', 'and', 'only', 'herald', 'to', 'the', 'gaudy', 'spring', 'within', 'thine', 'own', 'bud', 'buriest', 'thy', 'content', 'and', 'tender', 'churl', 'makst', 'waste', 'in', 'niggarding', 'pity', 'the', 'world', 'or', 'else', 'this', 'glutton', 'be', 'to', 'eat', 'the', 'worlds', 'due', 'by', 'the', 'grave', 'and', 'thee', '', '', '2', 'when', 'forty', 'winters', 'shall', 'besiege', 'thy', 'brow', 'and', 'dig', 'deep', 'trenches', 'in', 'thy', 'beautys', 'field', 'thy', 'youths', 'proud', 'livery', 'so', 'gazed', 'on', 'now', 'will', 'be', 'a', 'tattered', 'weed', 'of', 'small', 'worth', 'held', 'then', 'being', 'asked', 'where', 'all', 'thy', 'beauty', 'lies', 'where', 'all', 'the', 'treasure', 'of', 'thy', 'lusty', 'days', 'to', 'say', 'within', 'thine', 'own', 'deep', 'sunken', 'eyes', 'were', 'an', 'alleating', 'shame', 'and', 'thriftless', 'praise', 'how', 'much', 'more', 'praise', 'deserved', 'thy', 'beautys', 'use', 'if', 'thou', 'couldst', 'answer', 'this', 'fair', 'child', 'of', 'mine', 'shall', 'sum', 'my', 'count', 'and', 'make', 'my', 'old', 'excuse', 'proving', 'his', 'beauty', 'by', 'succession', 'thine', 'this', 'were', 'to', 'be', 'new', 'made', 'when', 'thou', 'art', 'old', 'and', 'see', 'thy', 'blood', 'warm', 'when', 'thou', 'feelst', 'it', 'cold', '', '', '3', 'look', 'in', 'thy', 'glass', 'and', 'tell', 'the', 'face', 'thou', 'viewest', 'now', 'is', 'the', 'time', 'that', 'face', 'should', 'form', 'another', 'whose', 'fresh', 'repair', 'if', 'now', 'thou', 'not', 'renewest', 'thou', 'dost', 'beguile', 'the', 'world', 'unbless', 'some', 'mother', 'for', 'where', 'is', 'she', 'so', 'fair', 'whose', 'uneared', 'womb', 'disdains', 'the', 'tillage', 'of', 'thy', 'husbandry', 'or', 'who', 'is', 'he', 'so', 'fond', 'will', 'be', 'the', 'tomb', 'of', 'his', 'selflove', 'to', 'stop', 'posterity', 'thou', 'art', 'thy', 'mothers', 'glass', 'and', 'she', 'in', 'thee', 'calls', 'back', 'the', 'lovely', 'april', 'of', 'her', 'prime', 'so', 'thou', 'through', 'windows', 'of', 'thine', 'age', 'shalt', 'see', 'despite', 'of', 'wrinkles', 'this', 'thy', 'golden', 'time', 'but', 'if', 'thou', 'live', 'remembered', 'not', 'to', 'be', 'die', 'single', 'and', 'thine', 'image', 'dies', 'with', 'thee', '', '', '4', 'unthrifty', 'loveliness', 'why', 'dost', 'thou', 'spend', 'upon', 'thy', 'self', 'thy', 'beautys', 'legacy', 'natures', 'bequest', 'gives', 'nothing', 'but', 'doth', 'lend', 'and', 'being', 'frank', 'she', 'lends', 'to', 'those', 'are', 'free', 'then', 'beauteous', 'niggard', 'why', 'dost', 'thou', 'abuse', 'the', 'bounteous', 'largess', 'given', 'thee', 'to', 'give', 'profitless', 'usurer', 'why', 'dost', 'thou', 'use', 'so', 'great', 'a', 'sum', 'of', 'sums', 'yet', 'canst', 'not', 'live', 'for', 'having', 'traffic', 'with', 'thy', 'self', 'alone', 'thou', 'of', 'thy', 'self', 'thy', 'sweet', 'self', 'dost', 'deceive', 'then', 'how', 'when', 'nature', 'calls', 'thee', 'to', 'be', 'gone', 'what', 'acceptable', 'audit', 'canst', 'thou', 'leave', 'thy', 'unused', 'beauty', 'must', 'be', 'tombed', 'with', 'thee', 'which', 'used', 'lives', 'th', 'executor', 'to', 'be', '', '', '5', 'those', 'hours', 'that', 'with', 'gentle', 'work', 'did', 'frame', 'the', 'lovely', 'gaze', 'where', 'every', 'eye', 'doth', 'dwell', 'will', 'play', 'the', 'tyrants', 'to', 'the', 'very', 'same', 'and', 'that', 'unfair', 'which', 'fairly', 'doth', 'excel', 'for', 'neverresting', 'time', 'leads', 'summer', 'on', 'to', 'hideous', 'winter', 'and', 'confounds', 'him', 'there', 'sap', 'checked', 'with', 'frost', 'and', 'lusty', 'leaves', 'quite', 'gone', 'beauty', 'oersnowed', 'and', 'bareness', 'every', 'where', 'then', 'were', 'not', 'summers', 'distillation', 'left', 'a', 'liquid', 'prisoner', 'pent', 'in', 'walls', 'of', 'glass', 'beautys', 'effect', 'with', 'beauty', 'were', 'bereft', 'nor', 'it', 'nor', 'no', 'remembrance', 'what', 'it', 'was', 'but', 'flowers', 'distilled', 'though', 'they', 'with', 'winter', 'meet', 'leese', 'but', 'their', 'show', 'their', 'substance', 'still', 'lives', 'sweet', '', '', '6', 'then', 'let', 'not', 'winters', 'ragged', 'hand', 'deface', 'in', 'thee', 'thy', 'summer', 'ere', 'thou', 'be', 'distilled', 'make', 'sweet', 'some', 'vial', 'treasure', 'thou', 'some', 'place', 'with', 'beautys', 'treasure', 'ere', 'it', 'be', 'selfkilled', 'that', 'use', 'is', 'not', 'forbidden', 'usury', 'which', 'happies', 'those', 'that', 'pay', 'the', 'willing', 'loan', 'thats', 'for', 'thy', 'self', 'to', 'breed', 'another', 'thee', 'or', 'ten', 'times', 'happier', 'be', 'it', 'ten', 'for', 'one', 'ten', 'times', 'thy', 'self', 'were', 'happier', 'than', 'thou', 'art', 'if', 'ten', 'of', 'thine', 'ten', 'times', 'refigured', 'thee', 'then', 'what', 'could', 'death', 'do', 'if', 'thou', 'shouldst', 'depart', 'leaving', 'thee', 'living', 'in', 'posterity', 'be', 'not', 'selfwilled', 'for', 'thou', 'art', 'much', 'too', 'fair', 'to', 'be', 'deaths', 'conquest', 'and', 'make', 'worms', 'thine', 'heir', '', '', '7', 'lo', 'in', 'the', 'orient', 'when', 'the', 'gracious', 'light', 'lifts', 'up', 'his', 'burning', 'head', 'each', 'under', 'eye', 'doth', 'homage', 'to', 'his', 'newappearing', 'sight', 'serving', 'with', 'looks', 'his', 'sacred', 'majesty', 'and', 'having', 'climbed', 'the', 'steepup', 'heavenly', 'hill', 'resembling', 'strong', 'youth', 'in', 'his', 'middle', 'age', 'yet', 'mortal', 'looks', 'adore', 'his', 'beauty', 'still', 'attending', 'on', 'his', 'golden', 'pilgrimage', 'but', 'when', 'from', 'highmost', 'pitch', 'with', 'weary', 'car', 'like', 'feeble', 'age', 'he', 'reeleth', 'from', 'the', 'day', 'the', 'eyes', 'fore', 'duteous', 'now', 'converted', 'are', 'from', 'his', 'low', 'tract', 'and', 'look', 'another', 'way', 'so', 'thou', 'thy', 'self', 'outgoing', 'in', 'thy', 'noon', 'unlooked', 'on', 'diest', 'unless', 'thou', 'get', 'a', 'son', '', '', '8', 'music', 'to', 'hear', 'why', 'hearst', 'thou', 'music', 'sadly', 'sweets', 'with', 'sweets', 'war', 'not', 'joy', 'delights', 'in', 'joy', 'why', 'lovst', 'thou', 'that', 'which', 'thou', 'receivst', 'not', 'gladly', 'or', 'else', 'receivst', 'with', 'pleasure', 'thine', 'annoy', 'if', 'the', 'true', 'concord', 'of', 'welltuned', 'sounds', 'by', 'unions', 'married', 'do', 'offend', 'thine', 'ear', 'they', 'do', 'but', 'sweetly', 'chide', 'thee', 'who', 'confounds', 'in', 'singleness', 'the', 'parts', 'that', 'thou', 'shouldst', 'bear', 'mark', 'how', 'one', 'string', 'sweet', 'husband', 'to', 'another', 'strikes', 'each', 'in', 'each', 'by', 'mutual', 'ordering', 'resembling', 'sire', 'and', 'child', 'and', 'happy', 'mother', 'who', 'all', 'in', 'one', 'one', 'pleasing', 'note', 'do', 'sing', 'whose', 'speechless', 'song', 'being', 'many', 'seeming', 'one', 'sings', 'this', 'to', 'thee', 'thou', 'single', 'wilt', 'prove', 'none', '', '', '9', 'is', 'it', 'for', 'fear', 'to', 'wet', 'a', 'widows', 'eye', 'that', 'thou', 'consumst', 'thy', 'self', 'in', 'single', 'life', 'ah', 'if', 'thou', 'issueless', 'shalt', 'hap', 'to', 'die', 'the', 'world', 'will', 'wail', 'thee', 'like', 'a', 'makeless', 'wife', 'the', 'world', 'will', 'be', 'thy', 'widow', 'and', 'still', 'weep', 'that', 'thou', 'no', 'form', 'of', 'thee', 'hast', 'left', 'behind', 'when', 'every', 'private', 'widow', 'well', 'may', 'keep', 'by', 'childrens', 'eyes', 'her', 'husbands', 'shape', 'in', 'mind', 'look', 'what', 'an', 'unthrift', 'in', 'the', 'world', 'doth', 'spend', 'shifts', 'but', 'his', 'place', 'for', 'still', 'the', 'world', 'enjoys', 'it', 'but', 'beautys', 'waste', 'hath', 'in', 'the', 'world', 'an', 'end', 'and', 'kept', 'unused', 'the', 'user', 'so', 'destroys', 'it', 'no', 'love', 'toward', 'others', 'in', 'that', 'bosom', 'sits', 'that', 'on', 'himself', 'such', 'murdrous', 'shame', 'commits', '', '', '10', 'for', 'shame', 'deny', 'that', 'thou', 'bearst', 'love', 'to', 'any', 'who', 'for', 'thy', 'self', 'art', 'so', 'unprovident', 'grant', 'if', 'thou', 'wilt', 'thou', 'art', 'beloved', 'of', 'many', 'but', 'that', 'thou', 'none', 'lovst', 'is', 'most', 'evident', 'for', 'thou', 'art', 'so', 'possessed', 'with', 'murdrous', 'hate', 'that', 'gainst', 'thy', 'self', 'thou', 'stickst', 'not', 'to', 'conspire', 'seeking', 'that', 'beauteous', 'roof', 'to', 'ruinate', 'which', 'to', 'repair', 'should', 'be', 'thy', 'chief', 'desire', 'o', 'change', 'thy', 'thought', 'that', 'i', 'may', 'change', 'my', 'mind', 'shall', 'hate', 'be', 'fairer', 'lodged', 'than', 'gentle', 'love', 'be', 'as', 'thy', 'presence', 'is', 'gracious', 'and', 'kind', 'or', 'to', 'thy', 'self', 'at', 'least', 'kindhearted', 'prove', 'make', 'thee', 'another', 'self', 'for', 'love', 'of', 'me', 'that', 'beauty', 'still', 'may', 'live', 'in', 'thine', 'or', 'thee', '', '', '11', 'as', 'fast', 'as', 'thou', 'shalt', 'wane', 'so', 'fast', 'thou', 'growst', 'in', 'one', 'of', 'thine', 'from', 'that', 'which', 'thou', 'departest', 'and', 'that', 'fresh', 'blood', 'which', 'youngly', 'thou', 'bestowst', 'thou', 'mayst', 'call', 'thine', 'when', 'thou', 'from', 'youth', 'convertest', 'herein', 'lives', 'wisdom', 'beauty', 'and', 'increase', 'without', 'this', 'folly', 'age', 'and', 'cold', 'decay', 'if', 'all', 'were', 'minded', 'so', 'the', 'times', 'should', 'cease', 'and', 'threescore', 'year', 'would', 'make', 'the', 'world', 'away', 'let', 'those', 'whom', 'nature', 'hath', 'not', 'made', 'for', 'store', 'harsh', 'featureless', 'and', 'rude', 'barrenly', 'perish', 'look', 'whom', 'she', 'best', 'endowed', 'she', 'gave', 'thee', 'more', 'which', 'bounteous', 'gift', 'thou', 'shouldst', 'in', 'bounty', 'cherish', 'she', 'carved', 'thee', 'for', 'her', 'seal', 'and', 'meant', 'thereby', 'thou', 'shouldst', 'print', 'more', 'not', 'let', 'that', 'copy', 'die', '', '', '12', 'when', 'i', 'do', 'count', 'the', 'clock', 'that', 'tells', 'the', 'time', 'and', 'see', 'the', 'brave', 'day', 'sunk', 'in', 'hideous', 'night', 'when', 'i', 'behold', 'the', 'violet', 'past', 'prime', 'and', 'sable', 'curls', 'all', 'silvered', 'oer', 'with', 'white', 'when', 'lofty', 'trees', 'i', 'see', 'barren', 'of', 'leaves', 'which', 'erst', 'from', 'heat', 'did', 'canopy', 'the', 'herd', 'and', 'summers', 'green', 'all', 'girded', 'up', 'in', 'sheaves', 'borne', 'on', 'the', 'bier', 'with', 'white', 'and', 'bristly', 'beard', 'then', 'of', 'thy', 'beauty', 'do', 'i', 'question', 'make', 'that', 'thou', 'among', 'the', 'wastes', 'of', 'time', 'must', 'go', 'since', 'sweets', 'and', 'beauties', 'do', 'themselves', 'forsake', 'and', 'die', 'as', 'fast', 'as', 'they', 'see', 'others', 'grow', 'and', 'nothing', 'gainst', 'times', 'scythe', 'can', 'make', 'defence', 'save', 'breed', 'to', 'brave', 'him', 'when', 'he', 'takes', 'thee', 'hence', '', '', '13', 'o', 'that', 'you', 'were', 'your', 'self', 'but', 'love', 'you', 'are', 'no', 'longer', 'yours', 'than', 'you', 'your', 'self', 'here', 'live', 'against', 'this', 'coming', 'end', 'you', 'should', 'prepare', 'and', 'your', 'sweet', 'semblance', 'to', 'some', 'other', 'give', 'so', 'should', 'that', 'beauty', 'which', 'you', 'hold', 'in', 'lease', 'find', 'no', 'determination', 'then', 'you', 'were', 'your', 'self', 'again', 'after', 'your', 'selfs', 'decease', 'when', 'your', 'sweet', 'issue', 'your', 'sweet', 'form', 'should', 'bear', 'who', 'lets', 'so', 'fair', 'a', 'house', 'fall', 'to', 'decay', 'which', 'husbandry', 'in', 'honour', 'might', 'uphold', 'against', 'the', 'stormy', 'gusts', 'of', 'winters', 'day', 'and', 'barren', 'rage', 'of', 'deaths', 'eternal', 'cold', 'o', 'none', 'but', 'unthrifts', 'dear', 'my', 'love', 'you', 'know', 'you', 'had', 'a', 'father', 'let', 'your', 'son', 'say', 'so', '', '', '14', 'not', 'from', 'the', 'stars', 'do', 'i', 'my', 'judgement', 'pluck', 'and', 'yet', 'methinks', 'i', 'have', 'astronomy', 'but', 'not', 'to', 'tell', 'of', 'good', 'or', 'evil', 'luck', 'of', 'plagues', 'of', 'dearths', 'or', 'seasons', 'quality', 'nor', 'can', 'i', 'fortune', 'to', 'brief', 'minutes', 'tell', 'pointing', 'to', 'each', 'his', 'thunder', 'rain', 'and', 'wind', 'or', 'say', 'with', 'princes', 'if', 'it', 'shall', 'go', 'well', 'by', 'oft', 'predict', 'that', 'i', 'in', 'heaven', 'find', 'but', 'from', 'thine', 'eyes', 'my', 'knowledge', 'i', 'derive', 'and', 'constant', 'stars', 'in', 'them', 'i', 'read', 'such', 'art', 'as', 'truth', 'and', 'beauty', 'shall', 'together', 'thrive', 'if', 'from', 'thy', 'self', 'to', 'store', 'thou', 'wouldst', 'convert', 'or', 'else', 'of', 'thee', 'this', 'i', 'prognosticate', 'thy', 'end', 'is', 'truths', 'and', 'beautys', 'doom', 'and', 'date', '', '', '15', 'when', 'i', 'consider', 'every', 'thing', 'that', 'grows', 'holds', 'in', 'perfection', 'but', 'a', 'little', 'moment', 'that', 'this', 'huge', 'stage', 'presenteth', 'nought', 'but', 'shows', 'whereon', 'the', 'stars', 'in', 'secret', 'influence', 'comment', 'when', 'i', 'perceive', 'that', 'men', 'as', 'plants', 'increase', 'cheered', 'and', 'checked', 'even', 'by', 'the', 'selfsame', 'sky', 'vaunt', 'in', 'their', 'youthful', 'sap', 'at', 'height', 'decrease', 'and', 'wear', 'their', 'brave', 'state', 'out', 'of', 'memory', 'then', 'the', 'conceit', 'of', 'this', 'inconstant', 'stay', 'sets', 'you', 'most', 'rich', 'in', 'youth', 'before', 'my', 'sight', 'where', 'wasteful', 'time', 'debateth', 'with', 'decay', 'to', 'change', 'your', 'day', 'of', 'youth', 'to', 'sullied', 'night', 'and', 'all', 'in', 'war', 'with', 'time', 'for', 'love', 'of', 'you', 'as', 'he', 'takes', 'from', 'you', 'i', 'engraft', 'you', 'new', '', '', '16', 'but', 'wherefore', 'do', 'not', 'you', 'a', 'mightier', 'way', 'make', 'war', 'upon', 'this', 'bloody', 'tyrant', 'time', 'and', 'fortify', 'your', 'self', 'in', 'your', 'decay', 'with', 'means', 'more', 'blessed', 'than', 'my', 'barren', 'rhyme', 'now', 'stand', 'you', 'on', 'the', 'top', 'of', 'happy', 'hours', 'and', 'many', 'maiden', 'gardens', 'yet', 'unset', 'with', 'virtuous', 'wish', 'would', 'bear', 'you', 'living', 'flowers', 'much', 'liker', 'than', 'your', 'painted', 'counterfeit', 'so', 'should', 'the', 'lines', 'of', 'life', 'that', 'life', 'repair', 'which', 'this', 'times', 'pencil', 'or', 'my', 'pupil', 'pen', 'neither', 'in', 'inward', 'worth', 'nor', 'outward', 'fair', 'can', 'make', 'you', 'live', 'your', 'self', 'in', 'eyes', 'of', 'men', 'to', 'give', 'away', 'your', 'self', 'keeps', 'your', 'self', 'still', 'and', 'you', 'must', 'live', 'drawn', 'by', 'your', 'own', 'sweet', 'skill', '', '', '17', 'who', 'will', 'believe', 'my', 'verse', 'in', 'time', 'to', 'come', 'if', 'it', 'were', 'filled', 'with', 'your', 'most', 'high', 'deserts', 'though', 'yet', 'heaven', 'knows', 'it', 'is', 'but', 'as', 'a', 'tomb', 'which', 'hides', 'your', 'life', 'and', 'shows', 'not', 'half', 'your', 'parts', 'if', 'i', 'could', 'write', 'the', 'beauty', 'of', 'your', 'eyes', 'and', 'in', 'fresh', 'numbers', 'number', 'all', 'your', 'graces', 'the', 'age', 'to', 'come', 'would', 'say', 'this', 'poet', 'lies', 'such', 'heavenly', 'touches', 'neer', 'touched', 'earthly', 'faces', 'so', 'should', 'my', 'papers', 'yellowed', 'with', 'their', 'age', 'be', 'scorned', 'like', 'old', 'men', 'of', 'less', 'truth', 'than', 'tongue', 'and', 'your', 'true', 'rights', 'be', 'termed', 'a', 'poets', 'rage', 'and', 'stretched', 'metre', 'of', 'an', 'antique', 'song', 'but', 'were', 'some', 'child', 'of', 'yours', 'alive', 'that', 'time', 'you', 'should', 'live', 'twice', 'in', 'it', 'and', 'in', 'my', 'rhyme', '', '', '18', 'shall', 'i', 'compare', 'thee', 'to', 'a', 'summers', 'day', 'thou', 'art', 'more', 'lovely', 'and', 'more', 'temperate', 'rough', 'winds', 'do', 'shake', 'the', 'darling', 'buds', 'of', 'may', 'and', 'summers', 'lease', 'hath', 'all', 'too', 'short', 'a', 'date', 'sometime', 'too', 'hot', 'the', 'eye', 'of', 'heaven', 'shines', 'and', 'often', 'is', 'his', 'gold', 'complexion', 'dimmed', 'and', 'every', 'fair', 'from', 'fair', 'sometime', 'declines', 'by', 'chance', 'or', 'natures', 'changing', 'course', 'untrimmed', 'but', 'thy', 'eternal', 'summer', 'shall', 'not', 'fade', 'nor', 'lose', 'possession', 'of', 'that', 'fair', 'thou', 'owst', 'nor', 'shall', 'death', 'brag', 'thou', 'wandrest', 'in', 'his', 'shade', 'when', 'in', 'eternal', 'lines', 'to', 'time', 'thou', 'growst', 'so', 'long', 'as', 'men', 'can', 'breathe', 'or', 'eyes', 'can', 'see', 'so', 'long', 'lives', 'this', 'and', 'this', 'gives', 'life', 'to', 'thee', '', '', '19', 'devouring', 'time', 'blunt', 'thou', 'the', 'lions', 'paws', 'and', 'make', 'the', 'earth', 'devour', 'her', 'own', 'sweet', 'brood', 'pluck', 'the', 'keen', 'teeth', 'from', 'the', 'fierce', 'tigers', 'jaws', 'and', 'burn', 'the', 'longlived', 'phoenix', 'in', 'her', 'blood', 'make', 'glad', 'and', 'sorry', 'seasons', 'as', 'thou', 'fleetst', 'and', 'do', 'whateer', 'thou', 'wilt', 'swiftfooted', 'time', 'to', 'the', 'wide', 'world', 'and', 'all', 'her', 'fading', 'sweets', 'but', 'i', 'forbid', 'thee', 'one', 'most', 'heinous', 'crime', 'o', 'carve', 'not', 'with', 'thy', 'hours', 'my', 'loves', 'fair', 'brow', 'nor', 'draw', 'no', 'lines', 'there', 'with', 'thine', 'antique', 'pen', 'him', 'in', 'thy', 'course', 'untainted', 'do', 'allow', 'for', 'beautys', 'pattern', 'to', 'succeeding', 'men', 'yet', 'do', 'thy', 'worst', 'old', 'time', 'despite', 'thy', 'wrong', 'my', 'love', 'shall', 'in', 'my', 'verse', 'ever', 'live', 'young', '', '', '20', 'a', 'womans', 'face', 'with', 'natures', 'own', 'hand', 'painted', 'hast', 'thou', 'the', 'master', 'mistress', 'of', 'my', 'passion', 'a', 'womans', 'gentle', 'heart', 'but', 'not', 'acquainted', 'with', 'shifting', 'change', 'as', 'is', 'false', 'womens', 'fashion', 'an', 'eye', 'more', 'bright', 'than', 'theirs', 'less', 'false', 'in', 'rolling', 'gilding', 'the', 'object', 'whereupon', 'it', 'gazeth', 'a', 'man', 'in', 'hue', 'all', 'hues', 'in', 'his', 'controlling', 'which', 'steals', 'mens', 'eyes', 'and', 'womens', 'souls', 'amazeth', 'and', 'for', 'a', 'woman', 'wert', 'thou', 'first', 'created', 'till', 'nature', 'as', 'she', 'wrought', 'thee', 'fell', 'adoting', 'and', 'by', 'addition', 'me', 'of', 'thee', 'defeated', 'by', 'adding', 'one', 'thing', 'to', 'my', 'purpose', 'nothing', 'but', 'since', 'she', 'pricked', 'thee', 'out', 'for', 'womens', 'pleasure', 'mine', 'be', 'thy', 'love', 'and', 'thy', 'loves', 'use', 'their', 'treasure', '', '', '21', 'so', 'is', 'it', 'not', 'with', 'me', 'as', 'with', 'that', 'muse', 'stirred', 'by', 'a', 'painted', 'beauty', 'to', 'his', 'verse', 'who', 'heaven', 'it', 'self', 'for', 'ornament', 'doth', 'use', 'and', 'every', 'fair', 'with', 'his', 'fair', 'doth', 'rehearse', 'making', 'a', 'couplement', 'of', 'proud', 'compare', 'with', 'sun', 'and', 'moon', 'with', 'earth', 'and', 'seas', 'rich', 'gems', 'with', 'aprils', 'firstborn', 'flowers', 'and', 'all', 'things', 'rare', 'that', 'heavens', 'air', 'in', 'this', 'huge', 'rondure', 'hems', 'o', 'let', 'me', 'true', 'in', 'love', 'but', 'truly', 'write', 'and', 'then', 'believe', 'me', 'my', 'love', 'is', 'as', 'fair', 'as', 'any', 'mothers', 'child', 'though', 'not', 'so', 'bright', 'as', 'those', 'gold', 'candles', 'fixed', 'in', 'heavens', 'air', 'let', 'them', 'say', 'more', 'that', 'like', 'of', 'hearsay', 'well', 'i', 'will', 'not', 'praise', 'that', 'purpose', 'not', 'to', 'sell', '', '', '22', 'my', 'glass', 'shall', 'not', 'persuade', 'me', 'i', 'am', 'old', 'so', 'long', 'as', 'youth', 'and', 'thou', 'are', 'of', 'one', 'date', 'but', 'when', 'in', 'thee', 'times', 'furrows', 'i', 'behold', 'then', 'look', 'i', 'death', 'my', 'days', 'should', 'expiate', 'for', 'all', 'that', 'beauty', 'that', 'doth', 'cover', 'thee', 'is', 'but', 'the', 'seemly', 'raiment', 'of', 'my', 'heart', 'which', 'in', 'thy', 'breast', 'doth', 'live', 'as', 'thine', 'in', 'me', 'how', 'can', 'i', 'then', 'be', 'elder', 'than', 'thou', 'art', 'o', 'therefore', 'love', 'be', 'of', 'thyself', 'so', 'wary', 'as', 'i', 'not', 'for', 'my', 'self', 'but', 'for', 'thee', 'will', 'bearing', 'thy', 'heart', 'which', 'i', 'will', 'keep', 'so', 'chary', 'as', 'tender', 'nurse', 'her', 'babe', 'from', 'faring', 'ill', 'presume', 'not', 'on', 'thy', 'heart', 'when', 'mine', 'is', 'slain', 'thou', 'gavst', 'me', 'thine', 'not', 'to', 'give', 'back', 'again', '', '', '23', 'as', 'an', 'unperfect', 'actor', 'on', 'the', 'stage', 'who', 'with', 'his', 'fear', 'is', 'put', 'beside', 'his', 'part', 'or', 'some', 'fierce', 'thing', 'replete', 'with', 'too', 'much', 'rage', 'whose', 'strengths', 'abundance', 'weakens', 'his', 'own', 'heart', 'so', 'i', 'for', 'fear', 'of', 'trust', 'forget', 'to', 'say', 'the', 'perfect', 'ceremony', 'of', 'loves', 'rite', 'and', 'in', 'mine', 'own', 'loves', 'strength', 'seem', 'to', 'decay', 'oercharged', 'with', 'burthen', 'of', 'mine', 'own', 'loves', 'might', 'o', 'let', 'my', 'looks', 'be', 'then', 'the', 'eloquence', 'and', 'dumb', 'presagers', 'of', 'my', 'speaking', 'breast', 'who', 'plead', 'for', 'love', 'and', 'look', 'for', 'recompense', 'more', 'than', 'that', 'tongue', 'that', 'more', 'hath', 'more', 'expressed', 'o', 'learn', 'to', 'read', 'what', 'silent', 'love', 'hath', 'writ', 'to', 'hear', 'with', 'eyes', 'belongs', 'to', 'loves', 'fine', 'wit', '', '', '24', 'mine', 'eye', 'hath', 'played', 'the', 'painter', 'and', 'hath', 'stelled', 'thy', 'beautys', 'form', 'in', 'table', 'of', 'my', 'heart', 'my', 'body', 'is', 'the', 'frame', 'wherein', 'tis', 'held', 'and', 'perspective', 'it', 'is', 'best', 'painters', 'art', 'for', 'through', 'the', 'painter', 'must', 'you', 'see', 'his', 'skill', 'to', 'find', 'where', 'your', 'true', 'image', 'pictured', 'lies', 'which', 'in', 'my', 'bosoms', 'shop', 'is', 'hanging', 'still', 'that', 'hath', 'his', 'windows', 'glazed', 'with', 'thine', 'eyes', 'now', 'see', 'what', 'good', 'turns', 'eyes', 'for', 'eyes', 'have', 'done', 'mine', 'eyes', 'have', 'drawn', 'thy', 'shape', 'and', 'thine', 'for', 'me', 'are', 'windows', 'to', 'my', 'breast', 'wherethrough', 'the', 'sun', 'delights', 'to', 'peep', 'to', 'gaze', 'therein', 'on', 'thee', 'yet', 'eyes', 'this', 'cunning', 'want', 'to', 'grace', 'their', 'art', 'they', 'draw', 'but', 'what', 'they', 'see', 'know', 'not', 'the', 'heart', '', '', '25', 'let', 'those', 'who', 'are', 'in', 'favour', 'with', 'their', 'stars', 'of', 'public', 'honour', 'and', 'proud', 'titles', 'boast', 'whilst', 'i', 'whom', 'fortune', 'of', 'such', 'triumph', 'bars', 'unlooked', 'for', 'joy', 'in', 'that', 'i', 'honour', 'most', 'great', 'princes', 'favourites', 'their', 'fair', 'leaves', 'spread', 'but', 'as', 'the', 'marigold', 'at', 'the', 'suns', 'eye', 'and', 'in', 'themselves', 'their', 'pride', 'lies', 'buried', 'for', 'at', 'a', 'frown', 'they', 'in', 'their', 'glory', 'die', 'the', 'painful', 'warrior', 'famoused', 'for', 'fight', 'after', 'a', 'thousand', 'victories', 'once', 'foiled', 'is', 'from', 'the', 'book', 'of', 'honour', 'razed', 'quite', 'and', 'all', 'the', 'rest', 'forgot', 'for', 'which', 'he', 'toiled', 'then', 'happy', 'i', 'that', 'love', 'and', 'am', 'beloved', 'where', 'i', 'may', 'not', 'remove', 'nor', 'be', 'removed', '', '', '26', 'lord', 'of', 'my', 'love', 'to', 'whom', 'in', 'vassalage', 'thy', 'merit', 'hath', 'my', 'duty', 'strongly', 'knit', 'to', 'thee', 'i', 'send', 'this', 'written', 'embassage', 'to', 'witness', 'duty', 'not', 'to', 'show', 'my', 'wit', 'duty', 'so', 'great', 'which', 'wit', 'so', 'poor', 'as', 'mine', 'may', 'make', 'seem', 'bare', 'in', 'wanting', 'words', 'to', 'show', 'it', 'but', 'that', 'i', 'hope', 'some', 'good', 'conceit', 'of', 'thine', 'in', 'thy', 'souls', 'thought', 'all', 'naked', 'will', 'bestow', 'it', 'till', 'whatsoever', 'star', 'that', 'guides', 'my', 'moving', 'points', 'on', 'me', 'graciously', 'with', 'fair', 'aspect', 'and', 'puts', 'apparel', 'on', 'my', 'tattered', 'loving', 'to', 'show', 'me', 'worthy', 'of', 'thy', 'sweet', 'respect', 'then', 'may', 'i', 'dare', 'to', 'boast', 'how', 'i', 'do', 'love', 'thee', 'till', 'then', 'not', 'show', 'my', 'head', 'where', 'thou', 'mayst', 'prove', 'me', '', '', '27', 'weary', 'with', 'toil', 'i', 'haste', 'me', 'to', 'my', 'bed', 'the', 'dear', 'respose', 'for', 'limbs', 'with', 'travel', 'tired', 'but', 'then', 'begins', 'a', 'journey', 'in', 'my', 'head', 'to', 'work', 'my', \n\n*** WARNING: max output size exceeded, skipping output. ***\n\nis', 'she', 'become', 'the', 'suitor', 'leontes', 'o', 'shes', 'warm', 'if', 'this', 'be', 'magic', 'let', 'it', 'be', 'an', 'art', 'lawful', 'as', 'eating', 'polixenes', 'she', 'embraces', 'him', 'camillo', 'she', 'hangs', 'about', 'his', 'neck', 'if', 'she', 'pertain', 'to', 'life', 'let', 'her', 'speak', 'too', 'polixenes', 'ay', 'and', 'make', 'it', 'manifest', 'where', 'she', 'has', 'livd', 'or', 'how', 'stoln', 'from', 'the', 'dead', 'paulina', 'that', 'she', 'is', 'living', 'were', 'it', 'but', 'told', 'you', 'should', 'be', 'hooted', 'at', 'like', 'an', 'old', 'tale', 'but', 'it', 'appears', 'she', 'lives', 'though', 'yet', 'she', 'speak', 'not', 'mark', 'a', 'little', 'while', 'please', 'you', 'to', 'interpose', 'fair', 'madam', 'kneel', 'and', 'pray', 'your', 'mothers', 'blessing', 'turn', 'good', 'lady', 'our', 'perdita', 'is', 'found', 'hermione', 'you', 'gods', 'look', 'down', 'and', 'from', 'your', 'sacred', 'vials', 'pour', 'your', 'graces', 'upon', 'my', 'daughters', 'head', 'tell', 'me', 'mine', 'own', 'where', 'hast', 'thou', 'been', 'preservd', 'where', 'livd', 'how', 'found', 'thy', 'fathers', 'court', 'for', 'thou', 'shalt', 'hear', 'that', 'i', 'knowing', 'by', 'paulina', 'that', 'the', 'oracle', 'gave', 'hope', 'thou', 'wast', 'in', 'being', 'have', 'preservd', 'myself', 'to', 'see', 'the', 'issue', 'paulina', 'theres', 'time', 'enough', 'for', 'that', 'lest', 'they', 'desire', 'upon', 'this', 'push', 'to', 'trouble', 'your', 'joys', 'with', 'like', 'relation', 'go', 'together', 'you', 'precious', 'winners', 'all', 'your', 'exultation', 'partake', 'to', 'every', 'one', 'i', 'an', 'old', 'turtle', 'will', 'wing', 'me', 'to', 'some', 'witherd', 'bough', 'and', 'there', 'my', 'mate', 'thats', 'never', 'to', 'be', 'found', 'again', 'lament', 'till', 'i', 'am', 'lost', 'leontes', 'o', 'peace', 'paulina', 'thou', 'shouldst', 'a', 'husband', 'take', 'by', 'my', 'consent', 'as', 'i', 'by', 'thine', 'a', 'wife', 'this', 'is', 'a', 'match', 'and', 'made', 'betweens', 'by', 'vows', 'thou', 'hast', 'found', 'mine', 'but', 'how', 'is', 'to', 'be', 'questiond', 'for', 'i', 'saw', 'her', 'as', 'i', 'thought', 'dead', 'and', 'have', 'in', 'vain', 'said', 'many', 'a', 'prayer', 'upon', 'her', 'grave', 'ill', 'not', 'seek', 'far', 'for', 'him', 'i', 'partly', 'know', 'his', 'mind', 'to', 'find', 'thee', 'an', 'honourable', 'husband', 'come', 'camillo', 'and', 'take', 'her', 'by', 'the', 'hand', 'whose', 'worth', 'and', 'honesty', 'is', 'richly', 'noted', 'and', 'here', 'justified', 'by', 'us', 'a', 'pair', 'of', 'kings', 'lets', 'from', 'this', 'place', 'what', 'look', 'upon', 'my', 'brother', 'both', 'your', 'pardons', 'that', 'eer', 'i', 'put', 'between', 'your', 'holy', 'looks', 'my', 'ill', 'suspicion', 'this', 'your', 'soninlaw', 'and', 'son', 'unto', 'the', 'king', 'whom', 'heavens', 'directing', 'is', 'trothplight', 'to', 'your', 'daughter', 'good', 'paulina', 'lead', 'us', 'from', 'hence', 'where', 'we', 'may', 'leisurely', 'each', 'one', 'demand', 'and', 'answer', 'to', 'his', 'part', 'performd', 'in', 'this', 'wide', 'gap', 'of', 'time', 'since', 'first', 'we', 'were', 'disseverd', 'hastily', 'lead', 'away', '', '', '', '', '', '', '', '', '', '', '', '', '', '', '', 'exeunt', '', 'the', 'end', '', '', '', '', '', '', '', '', '1609', '', 'a', 'lovers', 'complaint', '', 'by', 'william', 'shakespeare', '', '', '', 'from', 'off', 'a', 'hill', 'whose', 'concave', 'womb', 'reworded', 'a', 'plaintful', 'story', 'from', 'a', 'sistring', 'vale', 'my', 'spirits', 'tattend', 'this', 'double', 'voice', 'accorded', 'and', 'down', 'i', 'laid', 'to', 'list', 'the', 'sadtuned', 'tale', 'ere', 'long', 'espied', 'a', 'fickle', 'maid', 'full', 'pale', 'tearing', 'of', 'papers', 'breaking', 'rings', 'atwain', 'storming', 'her', 'world', 'with', 'sorrows', 'wind', 'and', 'rain', '', 'upon', 'her', 'head', 'a', 'platted', 'hive', 'of', 'straw', 'which', 'fortified', 'her', 'visage', 'from', 'the', 'sun', 'whereon', 'the', 'thought', 'might', 'think', 'sometime', 'it', 'saw', 'the', 'carcase', 'of', 'a', 'beauty', 'spent', 'and', 'done', 'time', 'had', 'not', 'scythed', 'all', 'that', 'youth', 'begun', 'nor', 'youth', 'all', 'quit', 'but', 'spite', 'of', 'heavens', 'fell', 'rage', 'some', 'beauty', 'peeped', 'through', 'lattice', 'of', 'seared', 'age', '', 'oft', 'did', 'she', 'heave', 'her', 'napkin', 'to', 'her', 'eyne', 'which', 'on', 'it', 'had', 'conceited', 'characters', 'laundring', 'the', 'silken', 'figures', 'in', 'the', 'brine', 'that', 'seasoned', 'woe', 'had', 'pelleted', 'in', 'tears', 'and', 'often', 'reading', 'what', 'contents', 'it', 'bears', 'as', 'often', 'shrieking', 'undistinguished', 'woe', 'in', 'clamours', 'of', 'all', 'size', 'both', 'high', 'and', 'low', '', 'sometimes', 'her', 'levelled', 'eyes', 'their', 'carriage', 'ride', 'as', 'they', 'did', 'battry', 'to', 'the', 'spheres', 'intend', 'sometime', 'diverted', 'their', 'poor', 'balls', 'are', 'tied', 'to', 'th', 'orbed', 'earth', 'sometimes', 'they', 'do', 'extend', 'their', 'view', 'right', 'on', 'anon', 'their', 'gazes', 'lend', 'to', 'every', 'place', 'at', 'once', 'and', 'nowhere', 'fixed', 'the', 'mind', 'and', 'sight', 'distractedly', 'commixed', '', 'her', 'hair', 'nor', 'loose', 'nor', 'tied', 'in', 'formal', 'plat', 'proclaimed', 'in', 'her', 'a', 'careless', 'hand', 'of', 'pride', 'for', 'some', 'untucked', 'descended', 'her', 'sheaved', 'hat', 'hanging', 'her', 'pale', 'and', 'pined', 'cheek', 'beside', 'some', 'in', 'her', 'threaden', 'fillet', 'still', 'did', 'bide', 'and', 'true', 'to', 'bondage', 'would', 'not', 'break', 'from', 'thence', 'though', 'slackly', 'braided', 'in', 'loose', 'negligence', '', 'a', 'thousand', 'favours', 'from', 'a', 'maund', 'she', 'drew', 'of', 'amber', 'crystal', 'and', 'of', 'beaded', 'jet', 'which', 'one', 'by', 'one', 'she', 'in', 'a', 'river', 'threw', 'upon', 'whose', 'weeping', 'margent', 'she', 'was', 'set', 'like', 'usury', 'applying', 'wet', 'to', 'wet', 'or', 'monarchs', 'hands', 'that', 'lets', 'not', 'bounty', 'fall', 'where', 'want', 'cries', 'some', 'but', 'where', 'excess', 'begs', 'all', '', 'of', 'folded', 'schedules', 'had', 'she', 'many', 'a', 'one', 'which', 'she', 'perused', 'sighed', 'tore', 'and', 'gave', 'the', 'flood', 'cracked', 'many', 'a', 'ring', 'of', 'posied', 'gold', 'and', 'bone', 'bidding', 'them', 'find', 'their', 'sepulchres', 'in', 'mud', 'found', 'yet', 'moe', 'letters', 'sadly', 'penned', 'in', 'blood', 'with', 'sleided', 'silk', 'feat', 'and', 'affectedly', 'enswathed', 'and', 'sealed', 'to', 'curious', 'secrecy', '', 'these', 'often', 'bathed', 'she', 'in', 'her', 'fluxive', 'eyes', 'and', 'often', 'kissed', 'and', 'often', 'gan', 'to', 'tear', 'cried', 'o', 'false', 'blood', 'thou', 'register', 'of', 'lies', 'what', 'unapproved', 'witness', 'dost', 'thou', 'bear', 'ink', 'would', 'have', 'seemed', 'more', 'black', 'and', 'damned', 'here', 'this', 'said', 'in', 'top', 'of', 'rage', 'the', 'lines', 'she', 'rents', 'big', 'discontents', 'so', 'breaking', 'their', 'contents', '', 'a', 'reverend', 'man', 'that', 'grazed', 'his', 'cattle', 'nigh', 'sometime', 'a', 'blusterer', 'that', 'the', 'ruffle', 'knew', 'of', 'court', 'of', 'city', 'and', 'had', 'let', 'go', 'by', 'the', 'swiftest', 'hours', 'observed', 'as', 'they', 'flew', 'towards', 'this', 'afflicted', 'fancy', 'fastly', 'drew', 'and', 'privileged', 'by', 'age', 'desires', 'to', 'know', 'in', 'brief', 'the', 'grounds', 'and', 'motives', 'of', 'her', 'woe', '', 'so', 'slides', 'he', 'down', 'upon', 'his', 'grained', 'bat', 'and', 'comely', 'distant', 'sits', 'he', 'by', 'her', 'side', 'when', 'he', 'again', 'desires', 'her', 'being', 'sat', 'her', 'grievance', 'with', 'his', 'hearing', 'to', 'divide', 'if', 'that', 'from', 'him', 'there', 'may', 'be', 'aught', 'applied', 'which', 'may', 'her', 'suffering', 'ecstasy', 'assuage', 'tis', 'promised', 'in', 'the', 'charity', 'of', 'age', '', 'father', 'she', 'says', 'though', 'in', 'me', 'you', 'behold', 'the', 'injury', 'of', 'many', 'a', 'blasting', 'hour', 'let', 'it', 'not', 'tell', 'your', 'judgement', 'i', 'am', 'old', 'not', 'age', 'but', 'sorrow', 'over', 'me', 'hath', 'power', 'i', 'might', 'as', 'yet', 'have', 'been', 'a', 'spreading', 'flower', 'fresh', 'to', 'myself', 'if', 'i', 'had', 'selfapplied', 'love', 'to', 'myself', 'and', 'to', 'no', 'love', 'beside', '', 'but', 'woe', 'is', 'me', 'too', 'early', 'i', 'attended', 'a', 'youthful', 'suit', 'it', 'was', 'to', 'gain', 'my', 'grace', 'o', 'one', 'by', 'natures', 'outwards', 'so', 'commended', 'that', 'maidens', 'eyes', 'stuck', 'over', 'all', 'his', 'face', 'love', 'lacked', 'a', 'dwelling', 'and', 'made', 'him', 'her', 'place', 'and', 'when', 'in', 'his', 'fair', 'parts', 'she', 'did', 'abide', 'she', 'was', 'new', 'lodged', 'and', 'newly', 'deified', '', 'his', 'browny', 'locks', 'did', 'hang', 'in', 'crooked', 'curls', 'and', 'every', 'light', 'occasion', 'of', 'the', 'wind', 'upon', 'his', 'lips', 'their', 'silken', 'parcels', 'hurls', 'whats', 'sweet', 'to', 'do', 'to', 'do', 'will', 'aptly', 'find', 'each', 'eye', 'that', 'saw', 'him', 'did', 'enchant', 'the', 'mind', 'for', 'on', 'his', 'visage', 'was', 'in', 'little', 'drawn', 'what', 'largeness', 'thinks', 'in', 'paradise', 'was', 'sawn', '', 'small', 'show', 'of', 'man', 'was', 'yet', 'upon', 'his', 'chin', 'his', 'phoenix', 'down', 'began', 'but', 'to', 'appear', 'like', 'unshorn', 'velvet', 'on', 'that', 'termless', 'skin', 'whose', 'bare', 'outbragged', 'the', 'web', 'it', 'seemed', 'to', 'wear', 'yet', 'showed', 'his', 'visage', 'by', 'that', 'cost', 'more', 'dear', 'and', 'nice', 'affections', 'wavering', 'stood', 'in', 'doubt', 'if', 'best', 'were', 'as', 'it', 'was', 'or', 'best', 'without', '', 'his', 'qualities', 'were', 'beauteous', 'as', 'his', 'form', 'for', 'maidentongued', 'he', 'was', 'and', 'thereof', 'free', 'yet', 'if', 'men', 'moved', 'him', 'was', 'he', 'such', 'a', 'storm', 'as', 'oft', 'twixt', 'may', 'and', 'april', 'is', 'to', 'see', 'when', 'winds', 'breathe', 'sweet', 'unruly', 'though', 'they', 'be', 'his', 'rudeness', 'so', 'with', 'his', 'authorized', 'youth', 'did', 'livery', 'falseness', 'in', 'a', 'pride', 'of', 'truth', '', 'well', 'could', 'he', 'ride', 'and', 'often', 'men', 'would', 'say', 'that', 'horse', 'his', 'mettle', 'from', 'his', 'rider', 'takes', 'proud', 'of', 'subjection', 'noble', 'by', 'the', 'sway', 'what', 'rounds', 'what', 'bounds', 'what', 'course', 'what', 'stop', 'he', 'makes', 'and', 'controversy', 'hence', 'a', 'question', 'takes', 'whether', 'the', 'horse', 'by', 'him', 'became', 'his', 'deed', 'or', 'he', 'his', 'manage', 'by', 'th', 'welldoing', 'steed', '', 'but', 'quickly', 'on', 'this', 'side', 'the', 'verdict', 'went', 'his', 'real', 'habitude', 'gave', 'life', 'and', 'grace', 'to', 'appertainings', 'and', 'to', 'ornament', 'accomplished', 'in', 'himself', 'not', 'in', 'his', 'case', 'all', 'aids', 'themselves', 'made', 'fairer', 'by', 'their', 'place', 'came', 'for', 'additions', 'yet', 'their', 'purposed', 'trim', 'pierced', 'not', 'his', 'grace', 'but', 'were', 'all', 'graced', 'by', 'him', '', 'so', 'on', 'the', 'tip', 'of', 'his', 'subduing', 'tongue', 'all', 'kind', 'of', 'arguments', 'and', 'question', 'deep', 'all', 'replication', 'prompt', 'and', 'reason', 'strong', 'for', 'his', 'advantage', 'still', 'did', 'wake', 'and', 'sleep', 'to', 'make', 'the', 'weeper', 'laugh', 'the', 'laugher', 'weep', 'he', 'had', 'the', 'dialect', 'and', 'different', 'skill', 'catching', 'all', 'passions', 'in', 'his', 'craft', 'of', 'will', '', 'that', 'he', 'did', 'in', 'the', 'general', 'bosom', 'reign', 'of', 'young', 'of', 'old', 'and', 'sexes', 'both', 'enchanted', 'to', 'dwell', 'with', 'him', 'in', 'thoughts', 'or', 'to', 'remain', 'in', 'personal', 'duty', 'following', 'where', 'he', 'haunted', 'consents', 'bewitched', 'ere', 'he', 'desire', 'have', 'granted', 'and', 'dialogued', 'for', 'him', 'what', 'he', 'would', 'say', 'asked', 'their', 'own', 'wills', 'and', 'made', 'their', 'wills', 'obey', '', 'many', 'there', 'were', 'that', 'did', 'his', 'picture', 'get', 'to', 'serve', 'their', 'eyes', 'and', 'in', 'it', 'put', 'their', 'mind', 'like', 'fools', 'that', 'in', 'th', 'imagination', 'set', 'the', 'goodly', 'objects', 'which', 'abroad', 'they', 'find', 'of', 'lands', 'and', 'mansions', 'theirs', 'in', 'thought', 'assigned', 'and', 'labouring', 'in', 'moe', 'pleasures', 'to', 'bestow', 'them', 'than', 'the', 'true', 'gouty', 'landlord', 'which', 'doth', 'owe', 'them', '', 'so', 'many', 'have', 'that', 'never', 'touched', 'his', 'hand', 'sweetly', 'supposed', 'them', 'mistress', 'of', 'his', 'heart', 'my', 'woeful', 'self', 'that', 'did', 'in', 'freedom', 'stand', 'and', 'was', 'my', 'own', 'feesimple', 'not', 'in', 'part', 'what', 'with', 'his', 'art', 'in', 'youth', 'and', 'youth', 'in', 'art', 'threw', 'my', 'affections', 'in', 'his', 'charmed', 'power', 'reserved', 'the', 'stalk', 'and', 'gave', 'him', 'all', 'my', 'flower', '', 'yet', 'did', 'i', 'not', 'as', 'some', 'my', 'equals', 'did', 'demand', 'of', 'him', 'nor', 'being', 'desired', 'yielded', 'finding', 'myself', 'in', 'honour', 'so', 'forbid', 'with', 'safest', 'distance', 'i', 'mine', 'honour', 'shielded', 'experience', 'for', 'me', 'many', 'bulwarks', 'builded', 'of', 'proofs', 'newbleeding', 'which', 'remained', 'the', 'foil', 'of', 'this', 'false', 'jewel', 'and', 'his', 'amorous', 'spoil', '', 'but', 'ah', 'who', 'ever', 'shunned', 'by', 'precedent', 'the', 'destined', 'ill', 'she', 'must', 'herself', 'assay', 'or', 'forced', 'examples', 'gainst', 'her', 'own', 'content', 'to', 'put', 'the', 'bypast', 'perils', 'in', 'her', 'way', 'counsel', 'may', 'stop', 'awhile', 'what', 'will', 'not', 'stay', 'for', 'when', 'we', 'rage', 'advice', 'is', 'often', 'seen', 'by', 'blunting', 'us', 'to', 'make', 'our', 'wills', 'more', 'keen', '', 'nor', 'gives', 'it', 'satisfaction', 'to', 'our', 'blood', 'that', 'we', 'must', 'curb', 'it', 'upon', 'others', 'proof', 'to', 'be', 'forbod', 'the', 'sweets', 'that', 'seems', 'so', 'good', 'for', 'fear', 'of', 'harms', 'that', 'preach', 'in', 'our', 'behoof', 'o', 'appetite', 'from', 'judgement', 'stand', 'aloof', 'the', 'one', 'a', 'palate', 'hath', 'that', 'needs', 'will', 'taste', 'though', 'reason', 'weep', 'and', 'cry', 'it', 'is', 'thy', 'last', '', 'for', 'further', 'i', 'could', 'say', 'this', 'mans', 'untrue', 'and', 'knew', 'the', 'patterns', 'of', 'his', 'foul', 'beguiling', 'heard', 'where', 'his', 'plants', 'in', 'others', 'orchards', 'grew', 'saw', 'how', 'deceits', 'were', 'gilded', 'in', 'his', 'smiling', 'knew', 'vows', 'were', 'ever', 'brokers', 'to', 'defiling', 'thought', 'characters', 'and', 'words', 'merely', 'but', 'art', 'and', 'bastards', 'of', 'his', 'foul', 'adulterate', 'heart', '', 'and', 'long', 'upon', 'these', 'terms', 'i', 'held', 'my', 'city', 'till', 'thus', 'he', 'gan', 'besiege', 'me', 'gentle', 'maid', 'have', 'of', 'my', 'suffering', 'youth', 'some', 'feeling', 'pity', 'and', 'be', 'not', 'of', 'my', 'holy', 'vows', 'afraid', 'thats', 'to', 'ye', 'sworn', 'to', 'none', 'was', 'ever', 'said', 'for', 'feasts', 'of', 'love', 'i', 'have', 'been', 'called', 'unto', 'till', 'now', 'did', 'neer', 'invite', 'nor', 'never', 'woo', '', 'all', 'my', 'offences', 'that', 'abroad', 'you', 'see', 'are', 'errors', 'of', 'the', 'blood', 'none', 'of', 'the', 'mind', 'love', 'made', 'them', 'not', 'with', 'acture', 'they', 'may', 'be', 'where', 'neither', 'party', 'is', 'nor', 'true', 'nor', 'kind', 'they', 'sought', 'their', 'shame', 'that', 'so', 'their', 'shame', 'did', 'find', 'and', 'so', 'much', 'less', 'of', 'shame', 'in', 'me', 'remains', 'by', 'how', 'much', 'of', 'me', 'their', 'reproach', 'contains', '', 'among', 'the', 'many', 'that', 'mine', 'eyes', 'have', 'seen', 'not', 'one', 'whose', 'flame', 'my', 'heart', 'so', 'much', 'as', 'warmed', 'or', 'my', 'affection', 'put', 'to', 'th', 'smallest', 'teen', 'or', 'any', 'of', 'my', 'leisures', 'ever', 'charmed', 'harm', 'have', 'i', 'done', 'to', 'them', 'but', 'neer', 'was', 'harmed', 'kept', 'hearts', 'in', 'liveries', 'but', 'mine', 'own', 'was', 'free', 'and', 'reigned', 'commanding', 'in', 'his', 'monarchy', '', 'look', 'here', 'what', 'tributes', 'wounded', 'fancies', 'sent', 'me', 'of', 'paled', 'pearls', 'and', 'rubies', 'red', 'as', 'blood', 'figuring', 'that', 'they', 'their', 'passions', 'likewise', 'lent', 'me', 'of', 'grief', 'and', 'blushes', 'aptly', 'understood', 'in', 'bloodless', 'white', 'and', 'the', 'encrimsoned', 'mood', 'effects', 'of', 'terror', 'and', 'dear', 'modesty', 'encamped', 'in', 'hearts', 'but', 'fighting', 'outwardly', '', 'and', 'lo', 'behold', 'these', 'talents', 'of', 'their', 'hair', 'with', 'twisted', 'metal', 'amorously', 'empleached', 'i', 'have', 'receivd', 'from', 'many', 'a', 'several', 'fair', 'their', 'kind', 'acceptance', 'weepingly', 'beseeched', 'with', 'the', 'annexions', 'of', 'fair', 'gems', 'enriched', 'and', 'deepbrained', 'sonnets', 'that', 'did', 'amplify', 'each', 'stones', 'dear', 'nature', 'worth', 'and', 'quality', '', 'the', 'diamond', 'why', 'twas', 'beautiful', 'and', 'hard', 'whereto', 'his', 'invised', 'properties', 'did', 'tend', 'the', 'deepgreen', 'emrald', 'in', 'whose', 'fresh', 'regard', 'weak', 'sights', 'their', 'sickly', 'radiance', 'do', 'amend', 'the', 'heavenhued', 'sapphire', 'and', 'the', 'opal', 'blend', 'with', 'objects', 'manifold', 'each', 'several', 'stone', 'with', 'wit', 'well', 'blazoned', 'smiled', 'or', 'made', 'some', 'moan', '', 'lo', 'all', 'these', 'trophies', 'of', 'affections', 'hot', 'of', 'pensived', 'and', 'subdued', 'desires', 'the', 'tender', 'nature', 'hath', 'charged', 'me', 'that', 'i', 'hoard', 'them', 'not', 'but', 'yield', 'them', 'up', 'where', 'i', 'myself', 'must', 'render', 'that', 'is', 'to', 'you', 'my', 'origin', 'and', 'ender', 'for', 'these', 'of', 'force', 'must', 'your', 'oblations', 'be', 'since', 'i', 'their', 'altar', 'you', 'enpatron', 'me', '', 'o', 'then', 'advance', 'of', 'yours', 'that', 'phraseless', 'hand', 'whose', 'white', 'weighs', 'down', 'the', 'airy', 'scale', 'of', 'praise', 'take', 'all', 'these', 'similes', 'to', 'your', 'own', 'command', 'hallowed', 'with', 'sighs', 'that', 'burning', 'lungs', 'did', 'raise', 'what', 'me', 'your', 'minister', 'for', 'you', 'obeys', 'works', 'under', 'you', 'and', 'to', 'your', 'audit', 'comes', 'their', 'distract', 'parcels', 'in', 'combined', 'sums', '', 'lo', 'this', 'device', 'was', 'sent', 'me', 'from', 'a', 'nun', 'or', 'sister', 'sanctified', 'of', 'holiest', 'note', 'which', 'late', 'her', 'noble', 'suit', 'in', 'court', 'did', 'shun', 'whose', 'rarest', 'havings', 'made', 'the', 'blossoms', 'dote', 'for', 'she', 'was', 'sought', 'by', 'spirits', 'of', 'richest', 'coat', 'but', 'kept', 'cold', 'distance', 'and', 'did', 'thence', 'remove', 'to', 'spend', 'her', 'living', 'in', 'eternal', 'love', '', 'but', 'o', 'my', 'sweet', 'what', 'labour', 'ist', 'to', 'leave', 'the', 'thing', 'we', 'have', 'not', 'mastring', 'what', 'not', 'strives', 'playing', 'the', 'place', 'which', 'did', 'no', 'form', 'receive', 'playing', 'patient', 'sports', 'in', 'unconstrained', 'gyves', 'she', 'that', 'her', 'fame', 'so', 'to', 'herself', 'contrives', 'the', 'scars', 'of', 'battle', 'scapeth', 'by', 'the', 'flight', 'and', 'makes', 'her', 'absence', 'valiant', 'not', 'her', 'might', '', 'o', 'pardon', 'me', 'in', 'that', 'my', 'boast', 'is', 'true', 'the', 'accident', 'which', 'brought', 'me', 'to', 'her', 'eye', 'upon', 'the', 'moment', 'did', 'her', 'force', 'subdue', 'and', 'now', 'she', 'would', 'the', 'caged', 'cloister', 'fly', 'religious', 'love', 'put', 'out', 'religions', 'eye', 'not', 'to', 'be', 'tempted', 'would', 'she', 'be', 'immured', 'and', 'now', 'to', 'tempt', 'all', 'liberty', 'procured', '', 'how', 'mighty', 'then', 'you', 'are', 'o', 'hear', 'me', 'tell', 'the', 'broken', 'bosoms', 'that', 'to', 'me', 'belong', 'have', 'emptied', 'all', 'their', 'fountains', 'in', 'my', 'well', 'and', 'mine', 'i', 'pour', 'your', 'ocean', 'all', 'among', 'i', 'strong', 'oer', 'them', 'and', 'you', 'oer', 'me', 'being', 'strong', 'must', 'for', 'your', 'victory', 'us', 'all', 'congest', 'as', 'compound', 'love', 'to', 'physic', 'your', 'cold', 'breast', '', 'my', 'parts', 'had', 'powr', 'to', 'charm', 'a', 'sacred', 'nun', 'who', 'disciplined', 'ay', 'dieted', 'in', 'grace', 'believed', 'her', 'eyes', 'when', 'they', 'tassail', 'begun', 'all', 'vows', 'and', 'consecrations', 'giving', 'place', 'o', 'most', 'potential', 'love', 'vow', 'bond', 'nor', 'space', 'in', 'thee', 'hath', 'neither', 'sting', 'knot', 'nor', 'confine', 'for', 'thou', 'art', 'all', 'and', 'all', 'things', 'else', 'are', 'thine', '', 'when', 'thou', 'impressest', 'what', 'are', 'precepts', 'worth', 'of', 'stale', 'example', 'when', 'thou', 'wilt', 'inflame', 'how', 'coldly', 'those', 'impediments', 'stand', 'forth', 'of', 'wealth', 'of', 'filial', 'fear', 'law', 'kindred', 'fame', 'loves', 'arms', 'are', 'peace', 'gainst', 'rule', 'gainst', 'sense', 'gainst', 'shame', 'and', 'sweetens', 'in', 'the', 'suffring', 'pangs', 'it', 'bears', 'the', 'aloes', 'of', 'all', 'forces', 'shocks', 'and', 'fears', '', 'now', 'all', 'these', 'hearts', 'that', 'do', 'on', 'mine', 'depend', 'feeling', 'it', 'break', 'with', 'bleeding', 'groans', 'they', 'pine', 'and', 'supplicant', 'their', 'sighs', 'to', 'your', 'extend', 'to', 'leave', 'the', 'battry', 'that', 'you', 'make', 'gainst', 'mine', 'lending', 'soft', 'audience', 'to', 'my', 'sweet', 'design', 'and', 'credent', 'soul', 'to', 'that', 'strongbonded', 'oath', 'that', 'shall', 'prefer', 'and', 'undertake', 'my', 'troth', '', 'this', 'said', 'his', 'watry', 'eyes', 'he', 'did', 'dismount', 'whose', 'sights', 'till', 'then', 'were', 'levelled', 'on', 'my', 'face', 'each', 'cheek', 'a', 'river', 'running', 'from', 'a', 'fount', 'with', 'brinish', 'current', 'downward', 'flowed', 'apace', 'o', 'how', 'the', 'channel', 'to', 'the', 'stream', 'gave', 'grace', 'who', 'glazed', 'with', 'crystal', 'gate', 'the', 'glowing', 'roses', 'that', 'flame', 'through', 'water', 'which', 'their', 'hue', 'encloses', '', 'o', 'father', 'what', 'a', 'hell', 'of', 'witchcraft', 'lies', 'in', 'the', 'small', 'orb', 'of', 'one', 'particular', 'tear', 'but', 'with', 'the', 'inundation', 'of', 'the', 'eyes', 'what', 'rocky', 'heart', 'to', 'water', 'will', 'not', 'wear', 'what', 'breast', 'so', 'cold', 'that', 'is', 'not', 'warmed', 'here', 'o', 'cleft', 'effect', 'cold', 'modesty', 'hot', 'wrath', 'both', 'fire', 'from', 'hence', 'and', 'chill', 'extincture', 'hath', '', 'for', 'lo', 'his', 'passion', 'but', 'an', 'art', 'of', 'craft', 'even', 'there', 'resolved', 'my', 'reason', 'into', 'tears', 'there', 'my', 'white', 'stole', 'of', 'chastity', 'i', 'daffed', 'shook', 'off', 'my', 'sober', 'guards', 'and', 'civil', 'fears', 'appear', 'to', 'him', 'as', 'he', 'to', 'me', 'appears', 'all', 'melting', 'though', 'our', 'drops', 'this', 'diffrence', 'bore', 'his', 'poisoned', 'me', 'and', 'mine', 'did', 'him', 'restore', '', 'in', 'him', 'a', 'plenitude', 'of', 'subtle', 'matter', 'applied', 'to', 'cautels', 'all', 'strange', 'forms', 'receives', 'of', 'burning', 'blushes', 'or', 'of', 'weeping', 'water', 'or', 'swooning', 'paleness', 'and', 'he', 'takes', 'and', 'leaves', 'in', 'eithers', 'aptness', 'as', 'it', 'best', 'deceives', 'to', 'blush', 'at', 'speeches', 'rank', 'to', 'weep', 'at', 'woes', 'or', 'to', 'turn', 'white', 'and', 'swoon', 'at', 'tragic', 'shows', '', 'that', 'not', 'a', 'heart', 'which', 'in', 'his', 'level', 'came', 'could', 'scape', 'the', 'hail', 'of', 'his', 'allhurting', 'aim', 'showing', 'fair', 'nature', 'is', 'both', 'kind', 'and', 'tame', 'and', 'veiled', 'in', 'them', 'did', 'win', 'whom', 'he', 'would', 'maim', 'against', 'the', 'thing', 'he', 'sought', 'he', 'would', 'exclaim', 'when', 'he', 'most', 'burned', 'in', 'heartwished', 'luxury', 'he', 'preached', 'pure', 'maid', 'and', 'praised', 'cold', 'chastity', '', 'thus', 'merely', 'with', 'the', 'garment', 'of', 'a', 'grace', 'the', 'naked', 'and', 'concealed', 'fiend', 'he', 'covered', 'that', 'th', 'unexperient', 'gave', 'the', 'tempter', 'place', 'which', 'like', 'a', 'cherubin', 'above', 'them', 'hovered', 'who', 'young', 'and', 'simple', 'would', 'not', 'be', 'so', 'lovered', 'ay', 'me', 'i', 'fell', 'and', 'yet', 'do', 'question', 'make', 'what', 'i', 'should', 'do', 'again', 'for', 'such', 'a', 'sake', '', 'o', 'that', 'infected', 'moisture', 'of', 'his', 'eye', 'o', 'that', 'false', 'fire', 'which', 'in', 'his', 'cheek', 'so', 'glowed', 'o', 'that', 'forced', 'thunder', 'from', 'his', 'heart', 'did', 'fly', 'o', 'that', 'sad', 'breath', 'his', 'spongy', 'lungs', 'bestowed', 'o', 'all', 'that', 'borrowed', 'motion', 'seeming', 'owed', 'would', 'yet', 'again', 'betray', 'the', 'forebetrayed', 'and', 'new', 'pervert', 'a', 'reconciled', 'maid', '', 'the', 'end']\n927631\n"
     ]
    }
   ],
   "source": [
    "shakespeareWordsRDD = shakespeareRDD.flatMap(lambda x: x.split(\" \"))\n",
    "shakespeareWordCount = shakespeareWordsRDD.count()\n",
    "print(shakespeareWordsRDD.collect())\n",
    "print(shakespeareWordCount)"
   ]
  },
  {
   "cell_type": "markdown",
   "metadata": {
    "application/vnd.databricks.v1+cell": {
     "cellMetadata": {
      "byteLimit": 2048000,
      "rowLimit": 10000
     },
     "inputWidgets": {},
     "nuid": "e463239b-b31e-45c7-922b-276e2f874461",
     "showTitle": false,
     "title": ""
    }
   },
   "source": [
    "\n",
    "## Remove empty lines\n",
    "The next step is to filter out the empty elements using the filter() function:"
   ]
  },
  {
   "cell_type": "code",
   "execution_count": 0,
   "metadata": {
    "application/vnd.databricks.v1+cell": {
     "cellMetadata": {
      "byteLimit": 2048000,
      "rowLimit": 10000
     },
     "inputWidgets": {},
     "nuid": "d19d9f57-c880-4929-a266-87c1de6cf176",
     "showTitle": false,
     "title": ""
    }
   },
   "outputs": [
    {
     "output_type": "stream",
     "name": "stdout",
     "output_type": "stream",
     "text": [
      "882996\n"
     ]
    }
   ],
   "source": [
    "shakeWordsRDD = shakespeareWordsRDD.filter(lambda x: x!='')\n",
    "shakeWordCount = shakeWordsRDD.count()\n",
    "print(shakeWordsRDD)\n",
    "print(shakeWordCount)"
   ]
  },
  {
   "cell_type": "markdown",
   "metadata": {
    "application/vnd.databricks.v1+cell": {
     "cellMetadata": {
      "byteLimit": 2048000,
      "rowLimit": 10000
     },
     "inputWidgets": {},
     "nuid": "bc7402f0-ba6e-434f-b6f4-9340d6a39179",
     "showTitle": false,
     "title": ""
    }
   },
   "source": [
    "\n",
    "## Count the words\n",
    "\n",
    "We now have an RDD that is only words. Next, let's apply the wordCount() function to produce a list of word counts. We can view the top 15 words by using the takeOrdered() action; however, since the elements of the RDD are pairs, we need a custom sort function that sorts using the value part of the pair.\n",
    "\n"
   ]
  },
  {
   "cell_type": "code",
   "execution_count": 0,
   "metadata": {
    "application/vnd.databricks.v1+cell": {
     "cellMetadata": {
      "byteLimit": 2048000,
      "rowLimit": 10000
     },
     "inputWidgets": {},
     "nuid": "f89e9145-5448-4ca5-83d7-faaa1c81c740",
     "showTitle": false,
     "title": ""
    }
   },
   "outputs": [
    {
     "output_type": "stream",
     "name": "stdout",
     "output_type": "stream",
     "text": [
      "the: 27361\nand: 26028\ni: 20681\nto: 19150\nof: 17463\na: 14593\nyou: 13615\nmy: 12481\nin: 10956\nthat: 10890\nis: 9134\nnot: 8497\nwith: 7771\nme: 7769\nit: 7678\n"
     ]
    }
   ],
   "source": [
    "#top15WordsAndCounts = wordCount(shakeWordsRDD).takeOrdered(15, lambda (w,c): - c)\n",
    "\n",
    "#print '\\n'.join(map(lambda (w, c): '{0}: {1}'.format(w, c), top15WordsAndCounts))\n",
    "\n",
    "#top15WordsAndCounts = wordCount(shakeWordsRDD).takeOrdered(lambda x: x[1]).take(15) \n",
    "#print('\\n'.join(map(lambda x: '{0}: {1}'.format(x[0], x[1]), top15WordsAndCounts)))\n",
    "\n",
    "top15WordsAndCounts = wordCount(shakeWordsRDD).sortBy(lambda x: x[1], ascending=False).take(15) \n",
    "print('\\n'.join(map(lambda x: '{0}: {1}'.format(x[0], x[1]), top15WordsAndCounts)))"
   ]
  }
 ],
 "metadata": {
  "application/vnd.databricks.v1+notebook": {
   "dashboards": [],
   "environmentMetadata": null,
   "language": "python",
   "notebookMetadata": {
    "pythonIndentUnit": 4
   },
   "notebookName": "lab4_spark",
   "widgets": {}
  }
 },
 "nbformat": 4,
 "nbformat_minor": 0
}
