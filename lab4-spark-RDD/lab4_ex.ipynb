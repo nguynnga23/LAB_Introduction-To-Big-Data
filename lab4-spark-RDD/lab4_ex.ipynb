{
 "cells": [
  {
   "cell_type": "markdown",
   "metadata": {
    "application/vnd.databricks.v1+cell": {
     "cellMetadata": {
      "byteLimit": 2048000,
      "rowLimit": 10000
     },
     "inputWidgets": {},
     "nuid": "78abfb88-e455-4a98-bb6c-29cc3a2cc713",
     "showTitle": false,
     "title": ""
    }
   },
   "source": [
    "## Họ và tên thí sinh : Nguyễn Thị Nga\n",
    "## MSSV : 21130791"
   ]
  },
  {
   "cell_type": "markdown",
   "metadata": {
    "application/vnd.databricks.v1+cell": {
     "cellMetadata": {
      "byteLimit": 2048000,
      "rowLimit": 10000
     },
     "inputWidgets": {},
     "nuid": "c4edbec1-1e09-422c-ad35-eabca7878ef7",
     "showTitle": false,
     "title": ""
    }
   },
   "source": [
    "# Câu 1 (3 điểm): \n",
    "\n",
    "Cho một RDD trong Spark chứa danh sách lớp như cell dưới đây\n",
    "\n",
    "(a)\t(1 điểm) Sử dụng Pyspark, liệt kê các tên trong danh sách trên (mỗi tên chỉ xuất hiện một lần).\n",
    "\n",
    "(b)\t(2 điểm) Sử dụng hàm map() và reduceByKey() (Pyspark), tìm số sinh viên tương ứng với mỗi tên trong danh sách từ Câu (1a)."
   ]
  },
  {
   "cell_type": "code",
   "execution_count": 0,
   "metadata": {
    "application/vnd.databricks.v1+cell": {
     "cellMetadata": {
      "byteLimit": 2048000,
      "rowLimit": 10000
     },
     "inputWidgets": {},
     "nuid": "384ea175-f37e-4381-a3a2-a188e9f5e25a",
     "showTitle": false,
     "title": ""
    }
   },
   "outputs": [],
   "source": [
    "list_class = ['Tuan', 'Hoang', 'Minh', 'Nga', 'Tam', 'Tuan', 'Minh', 'Tam', 'Tuan', 'Phuong']\n",
    "rdd_class = sc.parallelize(list_class)"
   ]
  },
  {
   "cell_type": "code",
   "execution_count": 0,
   "metadata": {
    "application/vnd.databricks.v1+cell": {
     "cellMetadata": {
      "byteLimit": 2048000,
      "rowLimit": 10000
     },
     "inputWidgets": {},
     "nuid": "e522ccee-a64e-4a7c-9fb9-93aa0a87f23f",
     "showTitle": false,
     "title": ""
    }
   },
   "outputs": [
    {
     "output_type": "stream",
     "name": "stdout",
     "output_type": "stream",
     "text": [
      "Out[6]: ['Minh', 'Nga', 'Tuan', 'Hoang', 'Tam', 'Phuong']"
     ]
    }
   ],
   "source": [
    "#(a) Sử dụng Pyspark, liệt kê các tên trong danh sách trên (mỗi tên chỉ xuất hiện một lần).\n",
    "rdd_class.distinct().collect()"
   ]
  },
  {
   "cell_type": "code",
   "execution_count": 0,
   "metadata": {
    "application/vnd.databricks.v1+cell": {
     "cellMetadata": {
      "byteLimit": 2048000,
      "rowLimit": 10000
     },
     "inputWidgets": {},
     "nuid": "a90f7327-aaa0-4142-ad33-e99628a5d5ca",
     "showTitle": false,
     "title": ""
    }
   },
   "outputs": [
    {
     "output_type": "stream",
     "name": "stdout",
     "output_type": "stream",
     "text": [
      "Out[12]: [('Minh', 2), ('Nga', 1), ('Tuan', 3), ('Hoang', 1), ('Tam', 2), ('Phuong', 1)]"
     ]
    }
   ],
   "source": [
    "#(b) (2 điểm) Sử dụng hàm map() và reduceByKey() (Pyspark), tìm số sinh viên tương ứng với mỗi tên trong danh sách từ Câu (1a).\n",
    "rdd_class_2 = rdd_class.map(lambda x: (x, 1))\n",
    "rdd_class_2.collect()\n",
    "\n",
    "rdd_class_count = rdd_class_2.reduceByKey(lambda x,y : x+y)\n",
    "rdd_class_count.collect()"
   ]
  },
  {
   "cell_type": "markdown",
   "metadata": {
    "application/vnd.databricks.v1+cell": {
     "cellMetadata": {
      "byteLimit": 2048000,
      "rowLimit": 10000
     },
     "inputWidgets": {},
     "nuid": "dc1be5d4-e74f-440c-9657-0ada2b0bc309",
     "showTitle": false,
     "title": ""
    }
   },
   "source": [
    "## Câu 2 (7 điểm)\n",
    "\n",
    "Trong câu này, bạn sẽ upload file data shakespeare.txt từ thư mục LMS và đếm từ trong file này."
   ]
  },
  {
   "cell_type": "markdown",
   "metadata": {
    "application/vnd.databricks.v1+cell": {
     "cellMetadata": {
      "byteLimit": 2048000,
      "rowLimit": 10000
     },
     "inputWidgets": {},
     "nuid": "e99f137d-ed40-4129-b69f-2381f22ff2ef",
     "showTitle": false,
     "title": ""
    }
   },
   "source": [
    "### (2a) (1 điểm) \n",
    "\n",
    "Upload file lên LMS và gán vào RDD có tên là **rdd_shp**"
   ]
  },
  {
   "cell_type": "code",
   "execution_count": 0,
   "metadata": {
    "application/vnd.databricks.v1+cell": {
     "cellMetadata": {
      "byteLimit": 2048000,
      "rowLimit": 10000
     },
     "inputWidgets": {},
     "nuid": "965479b9-6016-4b99-9ed4-9c314bee7e47",
     "showTitle": false,
     "title": ""
    }
   },
   "outputs": [
    {
     "output_type": "stream",
     "name": "stdout",
     "output_type": "stream",
     "text": [
      "Out[16]: ['The Complete Works of William Shakespeare',\n '',\n 'by William Shakespeare',\n '',\n '']"
     ]
    }
   ],
   "source": [
    "# Upload file lên LMS\n",
    "import os.path\n",
    "fileName = \"dbfs:/FileStore/shared_uploads/nguyennga200x@gmail.com/shakespeare.txt\"\n",
    "# Gán vào RDD có tên rdd_shp\n",
    "rdd_shp = sc.textFile(fileName)\n",
    "rdd_shp.take(5)"
   ]
  },
  {
   "cell_type": "code",
   "execution_count": 0,
   "metadata": {
    "application/vnd.databricks.v1+cell": {
     "cellMetadata": {
      "byteLimit": 2048000,
      "rowLimit": 10000
     },
     "inputWidgets": {},
     "nuid": "f232aaca-e07b-4444-85ce-d794a6ee09f4",
     "showTitle": false,
     "title": ""
    }
   },
   "outputs": [],
   "source": [
    "assert rdd_shp.take(3)==['The Complete Works of William Shakespeare', '', 'by William Shakespeare'], \"Assertion Error\""
   ]
  },
  {
   "cell_type": "markdown",
   "metadata": {
    "application/vnd.databricks.v1+cell": {
     "cellMetadata": {
      "byteLimit": 2048000,
      "rowLimit": 10000
     },
     "inputWidgets": {},
     "nuid": "ccfdf3c4-9c2e-4f70-acfe-46886a302711",
     "showTitle": false,
     "title": ""
    }
   },
   "source": [
    "### (2b) (1 điểm)\n",
    "\n",
    "Viết hàm **removePunctuation** để chuyển một đoạn văn bản thành chữ thường (lower case) và xoá tất cả các dấu chấm câu. Áp dụng hàm này cho **rdd_shp** để nhận được RDD **rdd_shp_2**"
   ]
  },
  {
   "cell_type": "code",
   "execution_count": 0,
   "metadata": {
    "application/vnd.databricks.v1+cell": {
     "cellMetadata": {
      "byteLimit": 2048000,
      "rowLimit": 10000
     },
     "inputWidgets": {},
     "nuid": "ef999936-0f1c-478a-92f4-fea9ef2736d0",
     "showTitle": false,
     "title": ""
    }
   },
   "outputs": [
    {
     "output_type": "stream",
     "name": "stdout",
     "output_type": "stream",
     "text": [
      "hi you\n"
     ]
    }
   ],
   "source": [
    "import re\n",
    "def removePunctuation(text):\n",
    "  t1 = text.lower()\n",
    "  t2 = re.sub(r'[^0-9a-z\\s]',\"\",t1)\n",
    "  t3 = t2.strip()\n",
    "  return t3\n",
    "\n",
    "print(removePunctuation('Hi, you!'))"
   ]
  },
  {
   "cell_type": "code",
   "execution_count": 0,
   "metadata": {
    "application/vnd.databricks.v1+cell": {
     "cellMetadata": {
      "byteLimit": 2048000,
      "rowLimit": 10000
     },
     "inputWidgets": {},
     "nuid": "f1cb8271-e8ee-4c02-bcf4-c594b5c98feb",
     "showTitle": false,
     "title": ""
    }
   },
   "outputs": [
    {
     "output_type": "stream",
     "name": "stdout",
     "output_type": "stream",
     "text": [
      "['the complete works of william shakespeare', '', 'by william shakespeare', '', '']\n"
     ]
    }
   ],
   "source": [
    "rdd_shp_2 = rdd_shp.map(removePunctuation)\n",
    "print(rdd_shp_2.take(5))"
   ]
  },
  {
   "cell_type": "markdown",
   "metadata": {
    "application/vnd.databricks.v1+cell": {
     "cellMetadata": {
      "byteLimit": 2048000,
      "rowLimit": 10000
     },
     "inputWidgets": {},
     "nuid": "644b2120-8a05-40cc-b5ae-b877c4fc962b",
     "showTitle": false,
     "title": ""
    }
   },
   "source": [
    "### (2c) 2 điểm\n",
    "\n",
    "Tạo RDD **rdd_words** gồm các words từ **rdd_shp_2** bằng cách split **rdd_shp_2** sử dụng dấu cách (space). In ra 5 từ đầu tiên của **rdd_words** và số lượng từ trong **rdd_words**."
   ]
  },
  {
   "cell_type": "code",
   "execution_count": 0,
   "metadata": {
    "application/vnd.databricks.v1+cell": {
     "cellMetadata": {
      "byteLimit": 2048000,
      "rowLimit": 10000
     },
     "inputWidgets": {},
     "nuid": "e6d0e8b0-f369-417f-8db4-e24e68c7912b",
     "showTitle": false,
     "title": ""
    }
   },
   "outputs": [
    {
     "output_type": "stream",
     "name": "stdout",
     "output_type": "stream",
     "text": [
      "5 từ đầu tiên: ['the', 'complete', 'works', 'of', 'william']\nSố lượng từ trong rdd_words: 1002968\n"
     ]
    }
   ],
   "source": [
    "# Tạo RDD rdd_words bằng cách tách từ từ rdd_shp_2\n",
    "rdd_words = rdd_shp_2.flatMap(lambda line: line.split(\" \"))  # Sử dụng flatMap để tách từ\n",
    "\n",
    "# In ra 5 từ đầu tiên của rdd_words\n",
    "print(\"5 từ đầu tiên:\", rdd_words.take(5))\n",
    "\n",
    "# Đếm số lượng từ trong rdd_words\n",
    "word_count = rdd_words.count()\n",
    "print(\"Số lượng từ trong rdd_words:\", word_count)\n"
   ]
  },
  {
   "cell_type": "code",
   "execution_count": 0,
   "metadata": {
    "application/vnd.databricks.v1+cell": {
     "cellMetadata": {},
     "inputWidgets": {},
     "nuid": "39dc2217-e549-4bce-aa58-9a74b1f2cb93",
     "showTitle": false,
     "title": ""
    }
   },
   "outputs": [],
   "source": []
  },
  {
   "cell_type": "markdown",
   "metadata": {
    "application/vnd.databricks.v1+cell": {
     "cellMetadata": {
      "byteLimit": 2048000,
      "rowLimit": 10000
     },
     "inputWidgets": {},
     "nuid": "3b599b3e-f50a-4a42-b37b-120d8b456fce",
     "showTitle": false,
     "title": ""
    }
   },
   "source": [
    "### (2d) 1 điểm\n",
    "\n",
    "Tạo RDD **rdd_words_2** từ **rdd_words** bằng cách xoá tất cả các empty word (''). In ra số lượng từ trong **rdd_words_2**."
   ]
  },
  {
   "cell_type": "code",
   "execution_count": 0,
   "metadata": {
    "application/vnd.databricks.v1+cell": {
     "cellMetadata": {
      "byteLimit": 2048000,
      "rowLimit": 10000
     },
     "inputWidgets": {},
     "nuid": "49d5103e-6809-464f-805a-681ca2b28d46",
     "showTitle": false,
     "title": ""
    }
   },
   "outputs": [
    {
     "output_type": "stream",
     "name": "stdout",
     "output_type": "stream",
     "text": [
      "958665\n"
     ]
    }
   ],
   "source": [
    "rdd_words_2 = rdd_words.filter(lambda x: x!= '')\n",
    "print(rdd_words_2.count())"
   ]
  },
  {
   "cell_type": "markdown",
   "metadata": {
    "application/vnd.databricks.v1+cell": {
     "cellMetadata": {
      "byteLimit": 2048000,
      "rowLimit": 10000
     },
     "inputWidgets": {},
     "nuid": "b9c00ec4-ea6d-4045-a8d1-1644d05e94a2",
     "showTitle": false,
     "title": ""
    }
   },
   "source": [
    "### (2e) 2 điểm\n",
    "\n",
    "Sử dụng code từ câu (1b), viết một function nhận một RDD với một danh sách word đầu vào và đếm số lần xuất hiện của mỗi từ. Sử dụng function này để đếm từ trong **rdd_words_2**. **Bravo! Bạn đã hoàn thành việc đếm số lần xuất hiện của tất cả các từ trong toàn bộ các tác phẩm của Shakespeare!** In ra 10 từ được sử dụng nhiều nhất trong toàn bộ các tác phẩm của Shakespeare."
   ]
  },
  {
   "cell_type": "code",
   "execution_count": 0,
   "metadata": {
    "application/vnd.databricks.v1+cell": {
     "cellMetadata": {
      "byteLimit": 2048000,
      "rowLimit": 10000
     },
     "inputWidgets": {},
     "nuid": "0f05d894-8f31-4432-96e5-e326416b8ad4",
     "showTitle": false,
     "title": ""
    }
   },
   "outputs": [],
   "source": [
    "def wordCount(wordListRDD):\n",
    "    return wordListRDD.map(lambda x: (x, 1)).reduceByKey(lambda x, y: x + y)"
   ]
  },
  {
   "cell_type": "code",
   "execution_count": 0,
   "metadata": {
    "application/vnd.databricks.v1+cell": {
     "cellMetadata": {
      "byteLimit": 2048000,
      "rowLimit": 10000
     },
     "inputWidgets": {},
     "nuid": "c4d5ddee-138e-4d62-b1da-cf9262880be2",
     "showTitle": false,
     "title": ""
    }
   },
   "outputs": [
    {
     "output_type": "stream",
     "name": "stdout",
     "output_type": "stream",
     "text": [
      "[('the', 30056), ('and', 28329), ('i', 21970), ('to', 20854), ('of', 18689), ('a', 16157), ('you', 14367), ('my', 13183), ('in', 12202), ('that', 11762)]\n"
     ]
    }
   ],
   "source": [
    "top10WordsAndCounts = wordCount(rdd_words_2).sortBy(lambda x: x[1], ascending=False).take(10)\n",
    "print(top10WordsAndCounts)\n"
   ]
  }
 ],
 "metadata": {
  "application/vnd.databricks.v1+notebook": {
   "dashboards": [],
   "environmentMetadata": null,
   "language": "python",
   "notebookMetadata": {
    "pythonIndentUnit": 4
   },
   "notebookName": "lab4_ex",
   "widgets": {}
  }
 },
 "nbformat": 4,
 "nbformat_minor": 0
}
