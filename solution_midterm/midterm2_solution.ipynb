{
 "cells": [
  {
   "cell_type": "markdown",
   "id": "a26ed356-e745-42f7-ab18-9ef6ca188c77",
   "metadata": {
    "editable": true,
    "slideshow": {
     "slide_type": ""
    },
    "tags": []
   },
   "source": [
    "### TRƯỜNG ĐẠI HỌC CÔNG NGHIỆP\n",
    "### THÀNH PHỐ HỒ CHÍ MINH\n",
    " \n",
    "### KHOA Công nghệ Thông tin   \n",
    "## ĐỀ THI GIỮA KỲ\n",
    "### Môn thi : Nhập môn dữ liệu lớn \n",
    "### Lớp/Lớp học phần:  DHKHDL17A\n",
    "* Thời gian làm bài: 75 phút (Không kể thời gian phát đề)\n",
    "* Thí sinh được sử dụng tài liệu và tra cứu tại trang wed\n",
    "  - https://spark.apache.org/\n",
    "  - https://stackoverflow.com/\n",
    "  - https://learn.microsoft.com/en-us/sql/t-sql\n",
    "* Thí sinh làm bài và lưu lại với định dạng mssv_hovaten_gk.ipynb. Ví dụ bạn có mã số sinh viên là: 12131411, họ và tên: Nguyễn Văn A, thì nộp bài với tên: **12131411_NguyenVanA_gk.ipynb**\n",
    "* Thí sinh sử dụng dữ liệu *emails.csv*, điều chỉnh biến 'dataPath' ở cell đầu tiên lại cho đúng với đường dẫn đến file data.\n",
    "* Hoàn thành tất cả các vị trí có chữ **# YOUR CODE HERE** để hoàn thành yêu cầu của mỗi hàm.\n",
    "#### LƯU Ý: KHÔNG THAY ĐỔI NHỮNG CHỖ KHÁC"
   ]
  },
  {
   "cell_type": "code",
   "execution_count": 1,
   "id": "00f00e72-7564-45b2-b691-72e4ce2820c3",
   "metadata": {
    "editable": true,
    "execution": {
     "iopub.execute_input": "2024-11-07T14:57:14.851968Z",
     "iopub.status.busy": "2024-11-07T14:57:14.850626Z",
     "iopub.status.idle": "2024-11-07T14:57:18.496811Z",
     "shell.execute_reply": "2024-11-07T14:57:18.495153Z"
    },
    "slideshow": {
     "slide_type": ""
    },
    "tags": []
   },
   "outputs": [],
   "source": [
    "import os\n",
    "from pyspark.sql import SparkSession\n",
    "from pyspark.sql.dataframe import DataFrame\n",
    "from pyspark.rdd import RDD\n",
    "from pyspark.sql.types import Row\n",
    "\n",
    "sc = SparkSession.builder \\\n",
    "    .appName(\"Email Data Processing\") \\\n",
    "    .getOrCreate()\n",
    "\n",
    "dataPath = \"./data/email.csv\""
   ]
  },
  {
   "cell_type": "code",
   "execution_count": 2,
   "id": "b91aa6e7-17df-4be3-a6bb-55a835b6af66",
   "metadata": {
    "execution": {
     "iopub.execute_input": "2024-11-07T14:57:18.502452Z",
     "iopub.status.busy": "2024-11-07T14:57:18.501704Z",
     "iopub.status.idle": "2024-11-07T14:57:18.505754Z",
     "shell.execute_reply": "2024-11-07T14:57:18.505178Z"
    }
   },
   "outputs": [],
   "source": [
    "dataPath = os.environ.get(\"DATA_MIDTERM\") or dataPath"
   ]
  },
  {
   "cell_type": "code",
   "execution_count": 3,
   "id": "7f8077d2-87d6-405b-84c1-01657dfdd908",
   "metadata": {
    "deletable": false,
    "execution": {
     "iopub.execute_input": "2024-11-07T14:57:18.508269Z",
     "iopub.status.busy": "2024-11-07T14:57:18.508047Z",
     "iopub.status.idle": "2024-11-07T14:57:18.513463Z",
     "shell.execute_reply": "2024-11-07T14:57:18.512878Z"
    },
    "nbgrader": {
     "grade": false,
     "grade_id": "cell-14537bbf8b2dcd10",
     "locked": false,
     "schema_version": 3,
     "solution": true,
     "task": false
    }
   },
   "outputs": [],
   "source": [
    "#0.5\n",
    "def loadAndProcessCsv(filePath: str, spark: SparkSession) -> DataFrame:\n",
    "    '''\n",
    "    This function loads a CSV file into a Spark DataFrame, caches it, \n",
    "    drops rows with null values, and prints the schema. (using option when read to keep format - header, columns)\n",
    "    \n",
    "    Args:\n",
    "        file_path (str): Path to the CSV file.\n",
    "        spark (SparkSession): Active Spark session.\n",
    "        \n",
    "    Returns:\n",
    "        DataFrame: Processed DataFrame.\n",
    "    '''\n",
    "\n",
    "    data = None\n",
    "    ### BEGIN SOLUTION \n",
    "    data = spark.read.format(\"csv\") \\\n",
    "        .option(\"header\", \"true\") \\\n",
    "        .option(\"multiLine\", \"true\") \\\n",
    "        .option(\"escape\", \"\\\"\") \\\n",
    "        .option(\"inferSchema\", \"true\") \\\n",
    "        .load(filePath)\n",
    "    data.cache()\n",
    "    data = data.dropna()\n",
    "    data.printSchema()\n",
    "    ### END SOLUTION\n",
    "    return data"
   ]
  },
  {
   "cell_type": "code",
   "execution_count": 4,
   "id": "20b64b3b-efe5-43fe-823a-4ef0970d1fa4",
   "metadata": {
    "execution": {
     "iopub.execute_input": "2024-11-07T14:57:18.516101Z",
     "iopub.status.busy": "2024-11-07T14:57:18.515886Z",
     "iopub.status.idle": "2024-11-07T14:57:22.038957Z",
     "shell.execute_reply": "2024-11-07T14:57:22.037957Z"
    }
   },
   "outputs": [
    {
     "name": "stdout",
     "output_type": "stream",
     "text": [
      "root\n",
      " |-- file: string (nullable = true)\n",
      " |-- message: string (nullable = true)\n",
      "\n"
     ]
    }
   ],
   "source": [
    "data = loadAndProcessCsv(dataPath,sc)"
   ]
  },
  {
   "cell_type": "code",
   "execution_count": 5,
   "id": "ea3edda3-16ee-4fa0-ba4c-8b13e0fd12c9",
   "metadata": {
    "execution": {
     "iopub.execute_input": "2024-11-07T14:57:22.041980Z",
     "iopub.status.busy": "2024-11-07T14:57:22.041750Z",
     "iopub.status.idle": "2024-11-07T14:57:22.050876Z",
     "shell.execute_reply": "2024-11-07T14:57:22.049980Z"
    }
   },
   "outputs": [
    {
     "data": {
      "text/plain": [
       "['file', 'message']"
      ]
     },
     "execution_count": 5,
     "metadata": {},
     "output_type": "execute_result"
    }
   ],
   "source": [
    "data.columns"
   ]
  },
  {
   "cell_type": "code",
   "execution_count": 6,
   "id": "0c8b7374-b447-4bc9-960a-e9e31c3c3954",
   "metadata": {
    "deletable": false,
    "editable": false,
    "execution": {
     "iopub.execute_input": "2024-11-07T14:57:22.054038Z",
     "iopub.status.busy": "2024-11-07T14:57:22.053833Z",
     "iopub.status.idle": "2024-11-07T14:57:22.285434Z",
     "shell.execute_reply": "2024-11-07T14:57:22.284406Z"
    },
    "nbgrader": {
     "grade": true,
     "grade_id": "cell-a4865a6f9031b776",
     "locked": true,
     "points": 0.5,
     "schema_version": 3,
     "solution": false,
     "task": false
    }
   },
   "outputs": [
    {
     "name": "stdout",
     "output_type": "stream",
     "text": [
      "root\n",
      " |-- file: string (nullable = true)\n",
      " |-- message: string (nullable = true)\n",
      "\n"
     ]
    }
   ],
   "source": [
    "### BEGIN HIDDEN TESTS\n",
    "dataPathTest = os.environ.get(\"DATA_MIDTERM_TEST\")\n",
    "def loadAndProcessCsvSolution(filePath: str, spark: SparkSession) -> DataFrame:\n",
    "    data = spark.read.format(\"csv\") \\\n",
    "        .option(\"header\", \"true\") \\\n",
    "        .option(\"multiLine\", \"true\") \\\n",
    "        .option(\"escape\", \"\\\"\") \\\n",
    "        .option(\"inferSchema\", \"true\") \\\n",
    "        .load(filePath)\n",
    "    data.cache()\n",
    "    data = data.dropna()\n",
    "    data.printSchema()\n",
    "    return data\n",
    "dataTest = loadAndProcessCsvSolution(dataPathTest, sc)\n",
    "assert isinstance(dataTest, DataFrame), \"loadAndProcessCsv() don't return correct dataType\"\n",
    "assert dataTest.columns == ['file', 'message'], \"loadAndProcessCsv does not contain the correct columns\"\n",
    "### END HIDDEN TESTS"
   ]
  },
  {
   "cell_type": "code",
   "execution_count": 7,
   "id": "8d0de25e-ab49-4b82-9c0e-30ce83f4a1bc",
   "metadata": {
    "deletable": false,
    "execution": {
     "iopub.execute_input": "2024-11-07T14:57:22.288501Z",
     "iopub.status.busy": "2024-11-07T14:57:22.288282Z",
     "iopub.status.idle": "2024-11-07T14:57:22.294720Z",
     "shell.execute_reply": "2024-11-07T14:57:22.293077Z"
    },
    "nbgrader": {
     "grade": false,
     "grade_id": "cell-856294652d081020",
     "locked": false,
     "schema_version": 3,
     "solution": true,
     "task": false
    }
   },
   "outputs": [],
   "source": [
    "# 0.5đ\n",
    "def createRDD(data: DataFrame)->RDD[Row]:\n",
    "    '''\n",
    "    This function converts a Spark DataFrame into an RDD of Rows.\n",
    "    \n",
    "    Args:\n",
    "        data (DataFrame): Input DataFrame containing data loaded by Spark.\n",
    "        \n",
    "    Returns:\n",
    "        RDD[Row]: An RDD containing all Rows from the input DataFrame.\n",
    "    '''\n",
    "    outRDD = None\n",
    "\n",
    "    ### BEGIN SOLUTION\n",
    "    outRDD = data.rdd\n",
    "    ### END SOLUTION\n",
    "    \n",
    "    return outRDD"
   ]
  },
  {
   "cell_type": "code",
   "execution_count": 8,
   "id": "cf70693a-3c5e-4ff8-983d-33b9b1762e7d",
   "metadata": {
    "execution": {
     "iopub.execute_input": "2024-11-07T14:57:22.300422Z",
     "iopub.status.busy": "2024-11-07T14:57:22.300153Z",
     "iopub.status.idle": "2024-11-07T14:57:24.749686Z",
     "shell.execute_reply": "2024-11-07T14:57:24.749023Z"
    }
   },
   "outputs": [],
   "source": [
    "emailRDD = createRDD(data)\n",
    "assert isinstance(emailRDD, RDD), \"createRDD() does not return the correct data type (RDD)\"\n",
    "assert isinstance(emailRDD.first(),Row), \"createRDD() contains elements that are not of type Row\""
   ]
  },
  {
   "cell_type": "code",
   "execution_count": 9,
   "id": "edd5c928-37eb-4138-b400-6f5c76182fe1",
   "metadata": {
    "deletable": false,
    "editable": false,
    "execution": {
     "iopub.execute_input": "2024-11-07T14:57:24.752669Z",
     "iopub.status.busy": "2024-11-07T14:57:24.752285Z",
     "iopub.status.idle": "2024-11-07T14:57:25.171613Z",
     "shell.execute_reply": "2024-11-07T14:57:25.171034Z"
    },
    "nbgrader": {
     "grade": true,
     "grade_id": "cell-9f76a3648ae0bde3",
     "locked": true,
     "points": 0.5,
     "schema_version": 3,
     "solution": false,
     "task": false
    }
   },
   "outputs": [],
   "source": [
    "### BEGIN HIDDEN TESTS\n",
    "def createRRDSolution(dataF):\n",
    "    return  dataF.rdd\n",
    "rddTest = createRRDSolution(dataTest)\n",
    "result = createRDD(dataTest)\n",
    "assert isinstance(result, RDD), \"createRDD() don't return correct dataType\"\n",
    "assert isinstance(result.first(),Row), \"createRDD() have element not correct datatype\"\n",
    "assert result.count() == 500, \"createRDD() does not contain the correct number of elements\"\n",
    "### END HIDDEN TESTS"
   ]
  },
  {
   "cell_type": "code",
   "execution_count": 10,
   "id": "b0f111b4-330d-40ed-8d38-c329bd3d7d61",
   "metadata": {
    "execution": {
     "iopub.execute_input": "2024-11-07T14:57:25.174434Z",
     "iopub.status.busy": "2024-11-07T14:57:25.174077Z",
     "iopub.status.idle": "2024-11-07T14:57:25.345078Z",
     "shell.execute_reply": "2024-11-07T14:57:25.344369Z"
    }
   },
   "outputs": [
    {
     "data": {
      "text/plain": [
       "Row(Date='Thu, 1 Feb 2001 08:00:00 -0800 (PST)', From=['tana.jones@enron.com'], To=['tracy.ngo@enron.com', 'laurel.adams@enron.com', 'dianne.seib@enron.com', 'brant.reves@enron.com', 'wendy.conwell@enron.com', 'mary.cook@enron.com', 'wendi.lebrocq@enron.com', 'melissa.murphy@enron.com', 'lesli.campbell@enron.com', 'diane.ellstrom@enron.com', 'veronica.espinoza@enron.com', 'samuel.schott@enron.com', 'bernice.rodriguez@enron.com', 'cheryl.johnson@enron.com', 'derek.bailey@enron.com', 'edward.sacks@enron.com', 'kim.theriot@enron.com', 'bradley.diebner@enron.com', 'jason.moore@enron.com', 'dale.neuner@enron.com', 'kevin.meredith@enron.com', 'andrea.guillen@enron.com', 'carol.clair@enron.com', 'frank.sayre@enron.com', 'diane.anderson@enron.com', 'leslie.reeves@enron.com', 'carrie.southard@enron.com', 'mary.gosnell@enron.com', 'mark.taylor@enron.com', 'karen.lambert@enron.com', 'sara.shackleton@enron.com', 'amber.ebow@enron.com', 'georgi.landau@enron.com', 'marilyn.colbert@enron.com', 'robert.bruce@enron.com', 'anthony.campos@enron.com', 'darren.vanek@enron.com', 'scott.tackett@enron.com', 'debbie.brackett@enron.com', 'gordon.heaney@enron.com', 'janie.aguayo@enron.com', 'brent.hendry@enron.com', 'susan.bailey@enron.com', 'william.bradford@enron.com', 'adnan.patel@enron.com', 'larry.hunter@enron.com', 'stacey.richardson@enron.com', 'bill.hare@enron.com', 'tiffany.williams@enron.com', 'cheryl.nelson@enron.com', 'francisco.leite@enron.com', 'rudwell.johnson@enron.com', 'stephanie.panus@enron.com', 'lisa.lees@enron.com', 'tom.moran@enron.com', 'lynn.shivers@enron.com', 'tanya.rohauer@enron.com', 'samantha.boyd@enron.com', 'celeste.cisneros@enron.com', 'nidia.mendoza@enron.com', 'paul.radous@enron.com', 'bob.bowen@enron.com', 'russell.diamond@enron.com', 'frank.davis@enron.com'], Subject='Deutsche Bank AG', CC=[\"denis.o'connell@enron.com\", 'larry.gagliardi@enron.com', 'matthew.dawson@enron.com'], Content='We have received the following executed Master Agreement:\\n\\nType of Contract: ISDA Master Agreement (Multicurrency-Cross Border)\\n\\nEffective Date:  December 29, 2000\\n\\nEnron Entity:  Enron North America Corp.\\n\\nCounterparty:  Deutsche Bank AG\\n\\nTransactions Covered: Approved for all products, including FX \\n          \\nConfirming Entity: Deutsche Bank AG\\n\\nCalculation Agent: Deutsche Bank AG\\n\\nGoverning Law:  New York\\n\\nApproved Branches For\\nDeutsche Bank:  Brussels, Frankfurt, London, New York, Paris, Singapore, \\nSydney, Tokyo\\n\\nAgency Relationship: Deutsche Bank AG may act as Agent for Deutsche Bank \\nSecurities, if  they are specified as acting in such agency capacity in a \\nConfirmation.\\n\\nPAYMENT NETTING:   Cross transaction payment netting only applies to \\nCommodity Transactions.  There is no payment netting for non-commodity \\ntransactions.  ')"
      ]
     },
     "execution_count": 10,
     "metadata": {},
     "output_type": "execute_result"
    }
   ],
   "source": [
    "import email\n",
    "from typing import List, Optional\n",
    "from pyspark.sql.types import Row\n",
    "\n",
    "def splitEmailAddresses(emailString: str) -> List[Optional[str]]:\n",
    "    '''\n",
    "    The function splits a comma-separated string of email addresses into a unique list.\n",
    "    \n",
    "    Args:\n",
    "        emailString: A string containing email addresses separated by commas.\n",
    "        \n",
    "    Returns:\n",
    "        A list of unique email addresses.\n",
    "    '''\n",
    "    if emailString:\n",
    "        addresses = emailString.split(',')\n",
    "        uniqueAddresses = list(frozenset(map(lambda x: x.strip(), addresses)))\n",
    "        return uniqueAddresses\n",
    "    return []\n",
    "\n",
    "def extractEmailDetailsFromRawText(rawEmail: str) -> Row:\n",
    "    '''\n",
    "    The function extracts relevant details from a raw email message string.\n",
    "    \n",
    "    Args:\n",
    "        rawEmail: A string representing the raw email message.\n",
    "        \n",
    "    Returns:\n",
    "        A Row object containing the extracted email details.\n",
    "    '''\n",
    "    emailMessage = email.message_from_string(rawEmail)\n",
    "    emailContentParts = []\n",
    "    for part in emailMessage.walk():\n",
    "        if part.get_content_type() == 'text/plain':\n",
    "            emailContentParts.append(part.get_payload())\n",
    "\n",
    "    emailContent = ''.join(emailContentParts)\n",
    "\n",
    "    fromAddresses = splitEmailAddresses(emailMessage.get(\"From\"))\n",
    "    toAddresses = splitEmailAddresses(emailMessage.get(\"To\"))\n",
    "    ccEmail = splitEmailAddresses(emailMessage.get(\"Cc\"))\n",
    "    return Row(\n",
    "        Date=emailMessage.get(\"Date\"),\n",
    "        From=fromAddresses, \n",
    "        To=toAddresses, \n",
    "        Subject=emailMessage.get(\"Subject\"), \n",
    "        CC=ccEmail, \n",
    "        Content=emailContent\n",
    "    )\n",
    "\n",
    "# Extract structured email details from the first email message\n",
    "firstEmailData = data.first()\n",
    "structuredEmail = extractEmailDetailsFromRawText(firstEmailData.message)\n",
    "structuredEmail\n"
   ]
  },
  {
   "cell_type": "code",
   "execution_count": 11,
   "id": "be8699d6-f3ba-4854-bb69-1e8dd3924a9b",
   "metadata": {
    "deletable": false,
    "execution": {
     "iopub.execute_input": "2024-11-07T14:57:25.347365Z",
     "iopub.status.busy": "2024-11-07T14:57:25.347164Z",
     "iopub.status.idle": "2024-11-07T14:57:25.351040Z",
     "shell.execute_reply": "2024-11-07T14:57:25.350354Z"
    },
    "nbgrader": {
     "grade": false,
     "grade_id": "cell-f35baf56fceec04a",
     "locked": false,
     "schema_version": 3,
     "solution": true,
     "task": false
    }
   },
   "outputs": [],
   "source": [
    "#0.5đ\n",
    "def createStructuredEmailRDD(emailRDD: RDD[Row]) -> RDD[Row]:\n",
    "    '''\n",
    "    The function takes an RDD of email messages and converts it into a new RDD containing structured email details.\n",
    "    \n",
    "    Args:\n",
    "        emailRDD: An RDD where each Row contains an email message in raw text format.\n",
    "        \n",
    "    Returns:\n",
    "        A new RDD where each element is a Row with structured email details such as Date, From, To, Subject, CC, and Content.\n",
    "    '''\n",
    "    structuredEmailRDD = None\n",
    "    ### BEGIN SOLUTION\n",
    "    structuredEmailRDD = emailRDD.map(lambda row: extractEmailDetailsFromRawText(row.message))\n",
    "    ### END SOLUTION\n",
    "    return structuredEmailRDD"
   ]
  },
  {
   "cell_type": "code",
   "execution_count": 12,
   "id": "8335d437-f02f-4390-98b0-136838a0a6d4",
   "metadata": {
    "execution": {
     "iopub.execute_input": "2024-11-07T14:57:25.353585Z",
     "iopub.status.busy": "2024-11-07T14:57:25.353377Z",
     "iopub.status.idle": "2024-11-07T14:57:25.485222Z",
     "shell.execute_reply": "2024-11-07T14:57:25.484652Z"
    }
   },
   "outputs": [],
   "source": [
    "structuredEmailRDD = createStructuredEmailRDD(emailRDD)\n",
    "assert isinstance(structuredEmailRDD, RDD), \"createStructuredEmailRDD() doesn't return an RDD\"\n",
    "assert isinstance(structuredEmailRDD.first(), Row), \"createStructuredEmailRDD() elements are not of type Row\""
   ]
  },
  {
   "cell_type": "code",
   "execution_count": 13,
   "id": "b505495e-c31f-4aea-9ab7-4c121c0e92b2",
   "metadata": {
    "deletable": false,
    "editable": false,
    "execution": {
     "iopub.execute_input": "2024-11-07T14:57:25.487492Z",
     "iopub.status.busy": "2024-11-07T14:57:25.487289Z",
     "iopub.status.idle": "2024-11-07T14:57:25.629119Z",
     "shell.execute_reply": "2024-11-07T14:57:25.628635Z"
    },
    "nbgrader": {
     "grade": true,
     "grade_id": "cell-901c811ecf49faae",
     "locked": true,
     "points": 0.5,
     "schema_version": 3,
     "solution": false,
     "task": false
    }
   },
   "outputs": [],
   "source": [
    "### BEGIN HIDDEN TESTS\n",
    "def createStructuredEmailRDDSolution(emailRDD):\n",
    "    return emailRDD.map(lambda row: extractEmailDetailsFromRawText(row.message))\n",
    "result =  createStructuredEmailRDD(rddTest)\n",
    "firstRow = result.first()\n",
    "assert \"Date\" in firstRow, \"'Date' field is missing in the structured Row\"\n",
    "assert \"From\" in firstRow, \"'From' field is missing in the structured Row\"\n",
    "assert \"To\" in firstRow, \"'To' field is missing in the structured Row\"\n",
    "assert \"Subject\" in firstRow, \"'Subject' field is missing in the structured Row\"\n",
    "assert \"CC\" in firstRow, \"'CC' field is missing in the structured Row\"\n",
    "assert \"Content\" in firstRow, \"'Content' field is missing in the structured Row\"\n",
    "\n",
    "assert firstRow.Date == 'Thu, 1 Feb 2001 08:00:00 -0800 (PST)', \"structuredEmailRDD() have error when get content from Row\"\n",
    "### END HIDDEN TESTS"
   ]
  },
  {
   "cell_type": "code",
   "execution_count": 14,
   "id": "0ae7bb34-0df2-488b-a16b-1c03ddab0d37",
   "metadata": {
    "deletable": false,
    "execution": {
     "iopub.execute_input": "2024-11-07T14:57:25.631512Z",
     "iopub.status.busy": "2024-11-07T14:57:25.631303Z",
     "iopub.status.idle": "2024-11-07T14:57:25.636711Z",
     "shell.execute_reply": "2024-11-07T14:57:25.635743Z"
    },
    "nbgrader": {
     "grade": false,
     "grade_id": "cell-30b54476aa422f9f",
     "locked": false,
     "schema_version": 3,
     "solution": true,
     "task": false
    }
   },
   "outputs": [],
   "source": [
    "#1.\n",
    "def countNumberEmail(structuredEmailRDD: RDD[Row], k: int)->int:\n",
    "    '''\n",
    "    The function counts the number of emails with more than `k` email addresses in the From field and To field.\n",
    "    \n",
    "    Args:\n",
    "    - structuredEmailRDD: RDD of Row objects, each containing an email's structured data.\n",
    "    - k: The threshold for the number of emails in the CC field.\n",
    "    \n",
    "    Returns:\n",
    "    - int: The count of emails with more than `k` email addresses in the From field and To field.\n",
    "    '''\n",
    "    count = -1\n",
    "    ### BEGIN SOLUTION\n",
    "    count =  structuredEmailRDD.map(lambda row: 1 if (len(row.From) + len(row.To)) > k else 0).reduce(lambda a, b: a + b)\n",
    "    ### END SOLUTION\n",
    "    return count"
   ]
  },
  {
   "cell_type": "code",
   "execution_count": 15,
   "id": "3abdb6aa-d448-44f0-9da0-750afd51b634",
   "metadata": {
    "execution": {
     "iopub.execute_input": "2024-11-07T14:57:25.638748Z",
     "iopub.status.busy": "2024-11-07T14:57:25.638552Z",
     "iopub.status.idle": "2024-11-07T14:57:28.454258Z",
     "shell.execute_reply": "2024-11-07T14:57:28.453768Z"
    }
   },
   "outputs": [
    {
     "data": {
      "text/plain": [
       "533"
      ]
     },
     "execution_count": 15,
     "metadata": {},
     "output_type": "execute_result"
    }
   ],
   "source": [
    "countNumberEmail(structuredEmailRDD,50)"
   ]
  },
  {
   "cell_type": "code",
   "execution_count": 16,
   "id": "0a2d53d0-bcda-43f8-b0a1-40989ecdc234",
   "metadata": {
    "deletable": false,
    "editable": false,
    "execution": {
     "iopub.execute_input": "2024-11-07T14:57:28.460626Z",
     "iopub.status.busy": "2024-11-07T14:57:28.460006Z",
     "iopub.status.idle": "2024-11-07T14:57:28.681872Z",
     "shell.execute_reply": "2024-11-07T14:57:28.680664Z"
    },
    "nbgrader": {
     "grade": true,
     "grade_id": "cell-4da37f7613203cac",
     "locked": true,
     "points": 1,
     "schema_version": 3,
     "solution": false,
     "task": false
    }
   },
   "outputs": [],
   "source": [
    "### BEGIN HIDDEN TESTS\n",
    "structuredEmailRDDTest = createStructuredEmailRDDSolution(rddTest)\n",
    "countTest = countNumberEmail(structuredEmailRDDTest,12)\n",
    "assert countTest == 41, \"Count return wrong number email\"\n",
    "### END HIDDEN TESTS"
   ]
  },
  {
   "cell_type": "code",
   "execution_count": 17,
   "id": "7b310fc9-1470-4b63-b3f2-5a8d2e6e7a49",
   "metadata": {
    "deletable": false,
    "execution": {
     "iopub.execute_input": "2024-11-07T14:57:28.689531Z",
     "iopub.status.busy": "2024-11-07T14:57:28.688998Z",
     "iopub.status.idle": "2024-11-07T14:57:28.701217Z",
     "shell.execute_reply": "2024-11-07T14:57:28.700242Z"
    },
    "nbgrader": {
     "grade": false,
     "grade_id": "cell-d02661e91acdb7ec",
     "locked": false,
     "schema_version": 3,
     "solution": true,
     "task": false
    }
   },
   "outputs": [],
   "source": [
    "# 1đ\n",
    "def countUniqueEmailDomains(structuredEmailRDD: RDD[Row], k) -> int:\n",
    "    '''\n",
    "    The function counts the number of unique email domains in the \"From\" and \"CC\" using map and reduce.\n",
    "    \n",
    "    Args:\n",
    "    - structuredEmailRDD: RDD of Row objects, each containing an email's structured data.\n",
    "    \n",
    "    Returns:\n",
    "    - dict: A dictionary showing the count of emails from each unique domain in the \"From\" and \"CC\" field.\n",
    "        k = 3 => {\n",
    "                'enron.com': 16452,\n",
    "                'aol.com': 122,\n",
    "                'hotmail.com': 101\n",
    "                }\n",
    "    '''\n",
    "    results = {}\n",
    "    ### BEGIN SOLUTION\n",
    "    domainCounts = structuredEmailRDD.flatMap(lambda row: [email.split('@')[1] for email in row.From+row.CC]) \\\n",
    "                                    .map(lambda domain: (domain, 1)) \\\n",
    "                                    .reduceByKey(lambda a, b: a + b)\n",
    "    sortedDomainCounts = domainCounts.sortBy(lambda x: x[1], ascending=False)\n",
    "    \n",
    "    topDomain = sortedDomainCounts.take(k)\n",
    "    results = {i:v for i,v in topDomain}\n",
    "    ### END SOLUTION\n",
    "    return results\n",
    "    "
   ]
  },
  {
   "cell_type": "code",
   "execution_count": 18,
   "id": "55ecb828-988f-47c0-a566-9430d15de4ac",
   "metadata": {
    "execution": {
     "iopub.execute_input": "2024-11-07T14:57:28.704489Z",
     "iopub.status.busy": "2024-11-07T14:57:28.704266Z",
     "iopub.status.idle": "2024-11-07T14:57:31.936571Z",
     "shell.execute_reply": "2024-11-07T14:57:31.935690Z"
    }
   },
   "outputs": [
    {
     "data": {
      "text/plain": [
       "{'enron.com': 35316,\n",
       " 'aol.com': 214,\n",
       " 'hotmail.com': 180,\n",
       " 'enron.com>': 109,\n",
       " 'txu.com': 104,\n",
       " 'haas.berkeley.edu': 98,\n",
       " 'duke-energy.com': 92,\n",
       " 'yahoo.com': 88,\n",
       " 'caiso.com': 83,\n",
       " 'nyiso.com': 59}"
      ]
     },
     "execution_count": 18,
     "metadata": {},
     "output_type": "execute_result"
    }
   ],
   "source": [
    "countUniqueEmailDomains(structuredEmailRDD, 10)"
   ]
  },
  {
   "cell_type": "code",
   "execution_count": 19,
   "id": "f4e5ae80-7da7-4a42-a13a-c42f3041fb26",
   "metadata": {
    "deletable": false,
    "editable": false,
    "execution": {
     "iopub.execute_input": "2024-11-07T14:57:31.940513Z",
     "iopub.status.busy": "2024-11-07T14:57:31.939715Z",
     "iopub.status.idle": "2024-11-07T14:57:32.324874Z",
     "shell.execute_reply": "2024-11-07T14:57:32.324226Z"
    },
    "nbgrader": {
     "grade": true,
     "grade_id": "cell-630afb428dfa2ea0",
     "locked": true,
     "points": 1,
     "schema_version": 3,
     "solution": false,
     "task": false
    }
   },
   "outputs": [],
   "source": [
    "### BEGIN HIDDEN TESTS\n",
    "countDomains = countUniqueEmailDomains(structuredEmailRDDTest,3)\n",
    "assert countDomains == {'enron.com': 839, 'hotmail.com': 7, 'haas.berkeley.edu': 7}, \"countUniqueEmailDomains wrong answer\"\n",
    "### END HIDDEN TESTS"
   ]
  },
  {
   "cell_type": "code",
   "execution_count": 20,
   "id": "0678e6b7-6216-4fe0-83ec-98b4f9bb46e1",
   "metadata": {
    "deletable": false,
    "execution": {
     "iopub.execute_input": "2024-11-07T14:57:32.331169Z",
     "iopub.status.busy": "2024-11-07T14:57:32.330666Z",
     "iopub.status.idle": "2024-11-07T14:57:32.336562Z",
     "shell.execute_reply": "2024-11-07T14:57:32.335756Z"
    },
    "nbgrader": {
     "grade": false,
     "grade_id": "cell-99c1d7a5f29cd658",
     "locked": false,
     "schema_version": 3,
     "solution": true,
     "task": false
    }
   },
   "outputs": [],
   "source": [
    "# 0.5đ ;\n",
    "def countEmailsBySender(structuredEmailRDD: RDD[Row], sender: str) -> int:\n",
    "    '''\n",
    "    The function counted emails in the dataset to include those sent by a specific sender's email.\n",
    "\n",
    "    Args:\n",
    "    - structuredEmailRDD: RDD of Row objects, each containing an email's structured data.\n",
    "    - recipient: The email address of the sender to count.\n",
    "\n",
    "    Returns:\n",
    "    - numEmails: number email sent by sender\n",
    "    '''\n",
    "    numEmails =  -1\n",
    "    ### BEGIN SOLUTION\n",
    "    filteredEmailsRDD = structuredEmailRDD.filter(lambda emailRow: sender in emailRow.From)\n",
    "    numEmails = filteredEmailsRDD.count()\n",
    "     ### END SOLUTION\n",
    "    return numEmails"
   ]
  },
  {
   "cell_type": "code",
   "execution_count": 21,
   "id": "1be41dbe-c223-4914-bde0-250c917d3fc9",
   "metadata": {
    "execution": {
     "iopub.execute_input": "2024-11-07T14:57:32.340086Z",
     "iopub.status.busy": "2024-11-07T14:57:32.339414Z",
     "iopub.status.idle": "2024-11-07T14:57:35.040363Z",
     "shell.execute_reply": "2024-11-07T14:57:35.038956Z"
    }
   },
   "outputs": [
    {
     "data": {
      "text/plain": [
       "327"
      ]
     },
     "execution_count": 21,
     "metadata": {},
     "output_type": "execute_result"
    }
   ],
   "source": [
    "countEmailsBySender(structuredEmailRDD, \"tana.jones@enron.com\")"
   ]
  },
  {
   "cell_type": "code",
   "execution_count": 22,
   "id": "da673aa2-787d-4861-be88-e2603b2142ac",
   "metadata": {
    "deletable": false,
    "editable": false,
    "execution": {
     "iopub.execute_input": "2024-11-07T14:57:35.044092Z",
     "iopub.status.busy": "2024-11-07T14:57:35.043824Z",
     "iopub.status.idle": "2024-11-07T14:57:35.273773Z",
     "shell.execute_reply": "2024-11-07T14:57:35.272698Z"
    },
    "nbgrader": {
     "grade": true,
     "grade_id": "cell-abd5680f3d099fdd",
     "locked": true,
     "points": 0.5,
     "schema_version": 3,
     "solution": false,
     "task": false
    }
   },
   "outputs": [],
   "source": [
    "### BEGIN HIDDEN TESTS\n",
    "countEmailsByRecipient =  countEmailsBySender(structuredEmailRDDTest, \"tana.jones@enron.com\")\n",
    "assert countEmailsByRecipient == 5, \"filterEmailsByRecipient wrong answer\"\n",
    "### END HIDDEN TESTS"
   ]
  },
  {
   "cell_type": "code",
   "execution_count": 23,
   "id": "96b17834-fb97-4921-8ca0-4d69e08d1af5",
   "metadata": {
    "deletable": false,
    "execution": {
     "iopub.execute_input": "2024-11-07T14:57:35.279508Z",
     "iopub.status.busy": "2024-11-07T14:57:35.278281Z",
     "iopub.status.idle": "2024-11-07T14:57:35.292505Z",
     "shell.execute_reply": "2024-11-07T14:57:35.291243Z"
    },
    "nbgrader": {
     "grade": false,
     "grade_id": "cell-e9d7845d1119de1d",
     "locked": false,
     "schema_version": 3,
     "solution": true,
     "task": false
    }
   },
   "outputs": [],
   "source": [
    "# 1.5d\n",
    "def getTopKFrequentWordsInContentByRecipient(structuredEmailRDD: RDD[Row], recipient: str, k: int) -> dict:\n",
    "    '''\n",
    "    This function filtered emails in the dataset sent to a specific recipient's email,\n",
    "    and then returns the top k most frequent words found in the content of those filtered emails.\n",
    "\n",
    "    Args:\n",
    "    - structuredEmailRDD: RDD of Row objects, where each Row represents an email with structured data, such as subject and content.\n",
    "    - recipient: Recipient's email which needs to count.\n",
    "    - k: The number of most frequent words to return.\n",
    "\n",
    "    Returns:\n",
    "    - topKWordsDict: A dictionary containing the top k most frequent words found in the content of filtered emails.\n",
    "                     The keys are the words, and the values are their frequencies, representing how often they appear in the content of the filtered emails.\n",
    "                    example:\n",
    "                    {'to': 12,\n",
    "                     'the': 9,\n",
    "                     'your': 8,\n",
    "                     'a': 5,\n",
    "                     'is': 4,\n",
    "                     'survey': 4,\n",
    "                     'and': 4,\n",
    "                     'you': 4,\n",
    "                     'of': 3,\n",
    "                     'very': 3}\n",
    "    '''\n",
    "    topKWordsDict = {}\n",
    "    ### BEGIN SOLUTION\n",
    "    filteredEmailsRDD = structuredEmailRDD.filter(lambda emailRow: recipient in emailRow.To)\n",
    "    \n",
    "    wordCountRDD = filteredEmailsRDD.flatMap(lambda emailRow: emailRow.Content.lower().split()) \\\n",
    "                                    .map(lambda word: (word, 1)) \\\n",
    "                                    .reduceByKey(lambda a, b: a + b)\n",
    "    sortedWordCount = wordCountRDD.collect()\n",
    "    sortedWordCount.sort(key=lambda x: x[1], reverse=True)\n",
    "    topKWordsDict = dict(sortedWordCount[:k])\n",
    "    ### END SOLUTION\n",
    "    return topKWordsDict"
   ]
  },
  {
   "cell_type": "code",
   "execution_count": 24,
   "id": "002a9435-c323-40f9-bb2c-d32dc046eaca",
   "metadata": {
    "execution": {
     "iopub.execute_input": "2024-11-07T14:57:35.297562Z",
     "iopub.status.busy": "2024-11-07T14:57:35.297316Z",
     "iopub.status.idle": "2024-11-07T14:57:38.191218Z",
     "shell.execute_reply": "2024-11-07T14:57:38.190724Z"
    }
   },
   "outputs": [
    {
     "data": {
      "text/plain": [
       "{'the': 2385,\n",
       " 'to': 1503,\n",
       " 'of': 1046,\n",
       " 'and': 1005,\n",
       " 'for': 702,\n",
       " 'a': 646,\n",
       " 'in': 626,\n",
       " 'you': 612,\n",
       " 'on': 600,\n",
       " 'is': 552}"
      ]
     },
     "execution_count": 24,
     "metadata": {},
     "output_type": "execute_result"
    }
   ],
   "source": [
    "getTopKFrequentWordsInContentByRecipient(structuredEmailRDD, \"tana.jones@enron.com\", 10)"
   ]
  },
  {
   "cell_type": "code",
   "execution_count": 25,
   "id": "53b7d1c1-55d8-4e53-99a5-6a54cfacf893",
   "metadata": {
    "deletable": false,
    "editable": false,
    "execution": {
     "iopub.execute_input": "2024-11-07T14:57:38.194475Z",
     "iopub.status.busy": "2024-11-07T14:57:38.194266Z",
     "iopub.status.idle": "2024-11-07T14:57:38.537214Z",
     "shell.execute_reply": "2024-11-07T14:57:38.536652Z"
    },
    "nbgrader": {
     "grade": true,
     "grade_id": "cell-d19a92dc491afed1",
     "locked": true,
     "points": 1.5,
     "schema_version": 3,
     "solution": false,
     "task": false
    }
   },
   "outputs": [],
   "source": [
    "### BEGIN HIDDEN TESTS\n",
    "topkWord = getTopKFrequentWordsInContentByRecipient(structuredEmailRDDTest, \"tana.jones@enron.com\", 4)\n",
    "assert topkWord == {'the': 100, 'to': 52, 'of': 48, 'for': 28}, \"getTopKFrequentWordsInContentByRecipient wrong answer\"\n",
    "### END HIDDEN TESTS"
   ]
  },
  {
   "cell_type": "code",
   "execution_count": 26,
   "id": "31be9470-a651-42f6-83e2-8aa993ec4ec6",
   "metadata": {
    "execution": {
     "iopub.execute_input": "2024-11-07T14:57:38.540526Z",
     "iopub.status.busy": "2024-11-07T14:57:38.540315Z",
     "iopub.status.idle": "2024-11-07T14:57:39.071048Z",
     "shell.execute_reply": "2024-11-07T14:57:39.070519Z"
    }
   },
   "outputs": [],
   "source": [
    "# SQL Query\n",
    "from pyspark.sql import SQLContext\n",
    "from pyspark.sql.functions import col, size, to_date, year, month, weekofyear\n",
    "sc.conf.set(\"spark.sql.legacy.timeParserPolicy\", \"LEGACY\")\n",
    "# Convert RDD to DataFrame\n",
    "dfEmais = structuredEmailRDD.toDF()\n",
    "dfEmais = dfEmais.withColumn('DateTime', to_date(col('Date'), \"EEE, d MMM yyyy HH:mm:ss Z\"))\n",
    "dfEmais = dfEmais.withColumn('Num_To', size(col('To')))\n",
    "dfEmais = dfEmais.withColumn('Num_CC', size(col('CC')))"
   ]
  },
  {
   "cell_type": "code",
   "execution_count": 27,
   "id": "d0a78ec9-d3c7-4240-879f-6bd77d6dcf3b",
   "metadata": {
    "execution": {
     "iopub.execute_input": "2024-11-07T14:57:39.074014Z",
     "iopub.status.busy": "2024-11-07T14:57:39.073690Z",
     "iopub.status.idle": "2024-11-07T14:57:39.104177Z",
     "shell.execute_reply": "2024-11-07T14:57:39.103424Z"
    }
   },
   "outputs": [
    {
     "name": "stderr",
     "output_type": "stream",
     "text": [
      "/usr/local/spark/python/pyspark/sql/context.py:113: FutureWarning: Deprecated in 3.0.0. Use SparkSession.builder.getOrCreate() instead.\n",
      "  warnings.warn(\n"
     ]
    }
   ],
   "source": [
    "sqlContext = SQLContext(sc)\n",
    "tableName = \"Emails\"\n",
    "dfEmais.createOrReplaceTempView(tableName)"
   ]
  },
  {
   "cell_type": "code",
   "execution_count": 28,
   "id": "7d486f6f-98a8-4d05-94bb-867fd158f912",
   "metadata": {
    "deletable": false,
    "execution": {
     "iopub.execute_input": "2024-11-07T14:57:39.107237Z",
     "iopub.status.busy": "2024-11-07T14:57:39.106558Z",
     "iopub.status.idle": "2024-11-07T14:57:39.113291Z",
     "shell.execute_reply": "2024-11-07T14:57:39.112692Z"
    },
    "nbgrader": {
     "grade": false,
     "grade_id": "cell-59cba51c8b97bd45",
     "locked": false,
     "schema_version": 3,
     "solution": true,
     "task": false
    }
   },
   "outputs": [],
   "source": [
    "# 0.5đ\n",
    "def getTopKRowsBySQL(sqlContext: SQLContext, tableName: str, k: int) -> DataFrame:\n",
    "    '''\n",
    "    This function queries the first k rows from a given table using SQLContext.\n",
    "\n",
    "    Args:\n",
    "    - sqlContext: An SQLContext object that provides the environment to run SQL queries on structured data.\n",
    "    - tableName: The name of the table from which the rows will be selected.\n",
    "    - k: The number of rows to return. It must be a positive integer.\n",
    "\n",
    "    Returns:\n",
    "    - result: A DataFrame containing the first k rows of data from the specified table.\n",
    "                If the table contains fewer than k rows, the DataFrame will contain all available rows.\n",
    "    '''\n",
    "    ### BEGIN SOLUTION\n",
    "    assert isinstance(sqlContext, SQLContext), f\"sqlContext is not the correct data type, expected SQLContext but got {type(sqlContext)}\"\n",
    "    assert isinstance(tableName, str), f\"tableName is not the correct data type, expected string but got {type(tableName)}\"\n",
    "    assert isinstance(k, int) and k > 0, f\"k must be a positive integer, but got {k}\"\n",
    "\n",
    "    query = f\"SELECT * FROM {tableName} LIMIT {k}\"\n",
    "    \n",
    "    result = sqlContext.sql(query)\n",
    "    ### END SOLUTION\n",
    "    return result\n",
    "\n",
    "\n",
    "def getTopKRowsByDFOperations(dataFrame: DataFrame, k: int) -> DataFrame:\n",
    "    '''\n",
    "    This function queries the first k rows from a given table using SQLContext.\n",
    "\n",
    "    Args:\n",
    "    - dataFrame: An DataFrame data\n",
    "    - tableName: The name of the table from which the rows will be selected.\n",
    "    - k: The number of rows to return. It must be a positive integer.\n",
    "\n",
    "    Returns:\n",
    "    - resultDF: A DataFrame containing the first k rows of data from the specified table.\n",
    "                If the table contains fewer than k rows, the DataFrame will contain all available rows.\n",
    "    '''\n",
    "    ### BEGIN SOLUTION\n",
    "    assert isinstance(dataFrame, DataFrame), f\"sqlContext is not the correct data type, expected SQLContext but got {type(dataFrame)}\"\n",
    "    assert isinstance(k, int) and k > 0, f\"k must be a positive integer, but got {k}\"\n",
    "    result =  dataFrame.limit(k)\n",
    "    ### END SOLUTION\n",
    "    return result"
   ]
  },
  {
   "cell_type": "code",
   "execution_count": 29,
   "id": "c1cff216-d470-4207-b975-b74879c068e7",
   "metadata": {
    "execution": {
     "iopub.execute_input": "2024-11-07T14:57:39.116231Z",
     "iopub.status.busy": "2024-11-07T14:57:39.116031Z",
     "iopub.status.idle": "2024-11-07T14:57:40.227085Z",
     "shell.execute_reply": "2024-11-07T14:57:40.226506Z"
    }
   },
   "outputs": [
    {
     "name": "stdout",
     "output_type": "stream",
     "text": [
      "+--------------------+--------------------+--------------------+----------------+--------------------+--------------------+----------+------+------+\n",
      "|                Date|                From|                  To|         Subject|                  CC|             Content|  DateTime|Num_To|Num_CC|\n",
      "+--------------------+--------------------+--------------------+----------------+--------------------+--------------------+----------+------+------+\n",
      "|Thu, 1 Feb 2001 0...|[tana.jones@enron...|[carol.clair@enro...|Deutsche Bank AG|[larry.gagliardi@...|We have received ...|2001-02-01|    64|     3|\n",
      "+--------------------+--------------------+--------------------+----------------+--------------------+--------------------+----------+------+------+\n",
      "\n"
     ]
    }
   ],
   "source": [
    "getTopKRowsBySQL(sqlContext,tableName,1).show()"
   ]
  },
  {
   "cell_type": "code",
   "execution_count": 30,
   "id": "cb6ee991-3da3-44ca-9a5f-43544fad57c8",
   "metadata": {
    "execution": {
     "iopub.execute_input": "2024-11-07T14:57:40.230873Z",
     "iopub.status.busy": "2024-11-07T14:57:40.229432Z",
     "iopub.status.idle": "2024-11-07T14:57:40.470374Z",
     "shell.execute_reply": "2024-11-07T14:57:40.469363Z"
    }
   },
   "outputs": [
    {
     "name": "stdout",
     "output_type": "stream",
     "text": [
      "+--------------------+--------------------+--------------------+----------------+--------------------+--------------------+----------+------+------+\n",
      "|                Date|                From|                  To|         Subject|                  CC|             Content|  DateTime|Num_To|Num_CC|\n",
      "+--------------------+--------------------+--------------------+----------------+--------------------+--------------------+----------+------+------+\n",
      "|Thu, 1 Feb 2001 0...|[tana.jones@enron...|[carol.clair@enro...|Deutsche Bank AG|[larry.gagliardi@...|We have received ...|2001-02-01|    64|     3|\n",
      "+--------------------+--------------------+--------------------+----------------+--------------------+--------------------+----------+------+------+\n",
      "\n"
     ]
    }
   ],
   "source": [
    "getTopKRowsByDFOperations(dfEmais,1).show()"
   ]
  },
  {
   "cell_type": "code",
   "execution_count": 31,
   "id": "c51895f6-cc29-407c-a5e6-6fab2300905f",
   "metadata": {
    "deletable": false,
    "editable": false,
    "execution": {
     "iopub.execute_input": "2024-11-07T14:57:40.475544Z",
     "iopub.status.busy": "2024-11-07T14:57:40.475323Z",
     "iopub.status.idle": "2024-11-07T14:57:41.377145Z",
     "shell.execute_reply": "2024-11-07T14:57:41.376764Z"
    },
    "nbgrader": {
     "grade": true,
     "grade_id": "cell-df767c7815b5f8ed",
     "locked": true,
     "points": 0.25,
     "schema_version": 3,
     "solution": false,
     "task": false
    }
   },
   "outputs": [],
   "source": [
    "### BEGIN HIDDEN TESTS\n",
    "dfEmaisTest = structuredEmailRDDTest.toDF()\n",
    "dfEmaisTest = dfEmaisTest.withColumn('DateTime', to_date(col('Date'), \"EEE, d MMM yyyy HH:mm:ss Z\"))\n",
    "dfEmaisTest = dfEmaisTest.withColumn('Num_To', size(col('To')))\n",
    "dfEmaisTest = dfEmaisTest.withColumn('Num_CC', size(col('CC')))\n",
    "tableNameTest = \"EmailsTest\"\n",
    "dfEmaisTest.createOrReplaceTempView(tableNameTest)\n",
    "def getTopKRowsBySQLSolution(sqlContext: SQLContext, tableName: str, k: int) -> DataFrame:\n",
    "    query = f\"SELECT * FROM {tableName} LIMIT {k}\"\n",
    "    result = sqlContext.sql(query)\n",
    "    return result\n",
    "assert getTopKRowsBySQL(sqlContext,tableNameTest,5).take(4) == getTopKRowsBySQLSolution(sqlContext,tableNameTest,5).take(4), \"Wrong in function getTopKRowsBySQL\"\n",
    "assert getTopKRowsBySQL(sqlContext,tableNameTest,1).take(4) == getTopKRowsBySQLSolution(sqlContext,tableNameTest,1).take(4), \"Wrong in function getTopKRowsBySQL\"\n",
    "### END HIDDEN TESTS"
   ]
  },
  {
   "cell_type": "code",
   "execution_count": 32,
   "id": "a1954846-c34f-4da1-b0f5-3483e0dec7a1",
   "metadata": {
    "deletable": false,
    "editable": false,
    "execution": {
     "iopub.execute_input": "2024-11-07T14:57:41.379373Z",
     "iopub.status.busy": "2024-11-07T14:57:41.379211Z",
     "iopub.status.idle": "2024-11-07T14:57:42.162178Z",
     "shell.execute_reply": "2024-11-07T14:57:42.160015Z"
    },
    "nbgrader": {
     "grade": true,
     "grade_id": "cell-74f2bce6371a9e1e",
     "locked": true,
     "points": 0.25,
     "schema_version": 3,
     "solution": false,
     "task": false
    }
   },
   "outputs": [],
   "source": [
    "### BEGIN HIDDEN TESTS    \n",
    "assert getTopKRowsByDFOperations(dfEmaisTest,5).take(4) == dfEmaisTest.limit(5).take(4), \"Wrong in function getTopKRowsByDFOperations\"\n",
    "assert getTopKRowsByDFOperations(dfEmaisTest,1).take(4) == dfEmaisTest.limit(1).take(4), \"Wrong in function getTopKRowsByDFOperations\"\n",
    "### END HIDDEN TESTS"
   ]
  },
  {
   "cell_type": "code",
   "execution_count": 33,
   "id": "98ec8dc9-8a72-4f4b-93bc-45af33915ddf",
   "metadata": {
    "deletable": false,
    "execution": {
     "iopub.execute_input": "2024-11-07T14:57:42.166369Z",
     "iopub.status.busy": "2024-11-07T14:57:42.166132Z",
     "iopub.status.idle": "2024-11-07T14:57:42.172248Z",
     "shell.execute_reply": "2024-11-07T14:57:42.171741Z"
    },
    "nbgrader": {
     "grade": false,
     "grade_id": "cell-5db80bd0514fec79",
     "locked": false,
     "schema_version": 3,
     "solution": true,
     "task": false
    }
   },
   "outputs": [],
   "source": [
    "# 1đ, 6.5đ\n",
    "def countEmailsWithCCGreaterThanKBySQL(sqlContext: SQLContext, tableName: str, k: int) -> int:\n",
    "    '''\n",
    "    This function counts the number of emails with more than k email addresses in the CC field using SQL.\n",
    "\n",
    "    Args:\n",
    "    - sqlContext: An SQLContext object that provides the environment to run SQL queries on structured data.\n",
    "    - tableName: The name of the table that contains the email data.\n",
    "    - k: The threshold number of email addresses in the CC field.\n",
    "\n",
    "    Returns:\n",
    "    - count: An integer representing the number of emails where the CC field has more than k email addresses.\n",
    "    '''\n",
    "    ### BEGIN SOLUTION\n",
    "    assert isinstance(sqlContext, SQLContext), f\"sqlContext is not the correct data type, expected SQLContext but got {type(sqlContext)}\"\n",
    "    assert isinstance(tableName, str), f\"tableName is not the correct data type, expected string but got {type(tableName)}\"\n",
    "    assert isinstance(k, int) and k >= 0, f\"k must be a non-negative integer, but got {k}\"\n",
    "    query = f\"SELECT COUNT(*) as count FROM {tableName} WHERE size(CC) > {k}\"\n",
    "    resultDF = sqlContext.sql(query)\n",
    "    count = resultDF.collect()[0]['count']\n",
    "    ### END SOLUTION\n",
    "    return count\n",
    "def countEmailsWithCCGreaterThanKByDFOperations(dataFrame: DataFrame, k: int) -> int:\n",
    "    '''\n",
    "    This function counts the number of emails with more than k email addresses in the CC field using DataFrame operations.\n",
    "\n",
    "    Args:\n",
    "    - dataFrame: A DataFrame containing the email data.\n",
    "    - k: The threshold number of email addresses in the CC field.\n",
    "\n",
    "    Returns:\n",
    "    - count: An integer representing the number of emails where the CC field has more than k email addresses.\n",
    "    '''\n",
    "    ### BEGIN SOLUTION\n",
    "    assert isinstance(dataFrame, DataFrame), f\"dataFrame is not the correct data type, expected DataFrame but got {type(dataFrame)}\"\n",
    "    assert isinstance(k, int) and k >= 0, f\"k must be a non-negative integer, but got {k}\"\n",
    "\n",
    "    result = dataFrame.filter(size(col('CC')) > k).count()\n",
    "    ### END SOLUTION\n",
    "    return result\n"
   ]
  },
  {
   "cell_type": "code",
   "execution_count": 34,
   "id": "8259a184-9748-49c9-92c5-59f2c1b1fdd1",
   "metadata": {
    "execution": {
     "iopub.execute_input": "2024-11-07T14:57:42.177390Z",
     "iopub.status.busy": "2024-11-07T14:57:42.176932Z",
     "iopub.status.idle": "2024-11-07T14:57:44.304401Z",
     "shell.execute_reply": "2024-11-07T14:57:44.303454Z"
    }
   },
   "outputs": [
    {
     "data": {
      "text/plain": [
       "15"
      ]
     },
     "execution_count": 34,
     "metadata": {},
     "output_type": "execute_result"
    }
   ],
   "source": [
    "countEmailsWithCCGreaterThanKBySQL(sqlContext,tableName,50)"
   ]
  },
  {
   "cell_type": "code",
   "execution_count": 35,
   "id": "2ed7eebb-e2b6-42df-9dc6-436f1f80b7af",
   "metadata": {
    "execution": {
     "iopub.execute_input": "2024-11-07T14:57:44.307581Z",
     "iopub.status.busy": "2024-11-07T14:57:44.307177Z",
     "iopub.status.idle": "2024-11-07T14:57:46.203207Z",
     "shell.execute_reply": "2024-11-07T14:57:46.202498Z"
    }
   },
   "outputs": [
    {
     "data": {
      "text/plain": [
       "15"
      ]
     },
     "execution_count": 35,
     "metadata": {},
     "output_type": "execute_result"
    }
   ],
   "source": [
    "countEmailsWithCCGreaterThanKByDFOperations(dfEmais,50)"
   ]
  },
  {
   "cell_type": "code",
   "execution_count": 36,
   "id": "51e7f78f-cfa0-40e1-a247-e81de2510f08",
   "metadata": {
    "deletable": false,
    "editable": false,
    "execution": {
     "iopub.execute_input": "2024-11-07T14:57:46.206460Z",
     "iopub.status.busy": "2024-11-07T14:57:46.205900Z",
     "iopub.status.idle": "2024-11-07T14:57:46.750047Z",
     "shell.execute_reply": "2024-11-07T14:57:46.748804Z"
    },
    "nbgrader": {
     "grade": true,
     "grade_id": "cell-9274467b6b9c0656",
     "locked": true,
     "points": 0.5,
     "schema_version": 3,
     "solution": false,
     "task": false
    }
   },
   "outputs": [],
   "source": [
    "### BEGIN HIDDEN TESTS\n",
    "assert countEmailsWithCCGreaterThanKBySQL(sqlContext,tableNameTest,50) == 2, \"Wrong in function countEmailsWithCCGreaterThanKBySQL\"\n",
    "assert countEmailsWithCCGreaterThanKBySQL(sqlContext,tableNameTest,10) == 11, \"Wrong in function countEmailsWithCCGreaterThanKBySQL\"\n",
    "### END HIDDEN TESTS"
   ]
  },
  {
   "cell_type": "code",
   "execution_count": 37,
   "id": "ac2c7f64-bcc2-4388-9ead-0c3a8d1041af",
   "metadata": {
    "deletable": false,
    "editable": false,
    "execution": {
     "iopub.execute_input": "2024-11-07T14:57:46.753294Z",
     "iopub.status.busy": "2024-11-07T14:57:46.752833Z",
     "iopub.status.idle": "2024-11-07T14:57:47.289879Z",
     "shell.execute_reply": "2024-11-07T14:57:47.288472Z"
    },
    "nbgrader": {
     "grade": true,
     "grade_id": "cell-079549d288632298",
     "locked": true,
     "points": 0.5,
     "schema_version": 3,
     "solution": false,
     "task": false
    }
   },
   "outputs": [],
   "source": [
    "### BEGIN HIDDEN TESTS\n",
    "assert countEmailsWithCCGreaterThanKByDFOperations(dfEmaisTest, 50) == 2, \"Wrong in function countEmailsWithCCGreaterThanKByDFOperations\"\n",
    "assert countEmailsWithCCGreaterThanKByDFOperations(dfEmaisTest, 10) == 11, \"Wrong in function countEmailsWithCCGreaterThanKByDFOperations\"\n",
    "### END HIDDEN TESTS"
   ]
  },
  {
   "cell_type": "code",
   "execution_count": 38,
   "id": "d612925f-7317-46f0-b1bd-d74c30f47cac",
   "metadata": {
    "deletable": false,
    "execution": {
     "iopub.execute_input": "2024-11-07T14:57:47.293093Z",
     "iopub.status.busy": "2024-11-07T14:57:47.292880Z",
     "iopub.status.idle": "2024-11-07T14:57:47.299880Z",
     "shell.execute_reply": "2024-11-07T14:57:47.298969Z"
    },
    "nbgrader": {
     "grade": false,
     "grade_id": "cell-d1ace5fce549a773",
     "locked": false,
     "schema_version": 3,
     "solution": true,
     "task": false
    }
   },
   "outputs": [],
   "source": [
    "#1đ, 7.5\n",
    "from datetime import date\n",
    "def getDateRangeBySQL(sqlContext: SQLContext, tableName: str) -> tuple[date,date]:\n",
    "    '''\n",
    "    This function retrieves the start and end dates from the email dataset using SQL queries.\n",
    "\n",
    "    Args:\n",
    "    - sqlContext: An SQLContext object that provides the environment to run SQL queries on structured data.\n",
    "    - tableName: The name of the table that contains the email data.\n",
    "\n",
    "    Returns:\n",
    "    - (startDate, endDate): A tuple containing two elements: the earliest (start) date and the latest (end) date.\n",
    "    '''\n",
    "    ### BEGIN SOLUTION\n",
    "    assert isinstance(sqlContext, SQLContext), f\"sqlContext is not the correct data type, expected SQLContext but got {type(sqlContext)}\"\n",
    "    assert isinstance(tableName, str), f\"tableName is not the correct data type, expected string but got {type(tableName)}\"\n",
    "\n",
    "    query = f\"SELECT MIN(DateTime) as startDate, MAX(DateTime) as endDate FROM {tableName}\"\n",
    "    \n",
    "    resultDF = sqlContext.sql(query)\n",
    "    dateRange = resultDF.collect()[0]\n",
    "    startDate, endDate = dateRange['startDate'], dateRange['endDate']\n",
    "     ### END SOLUTION\n",
    "    return startDate, endDate\n",
    "def getDateRangeByDFOperations(dataFrame: DataFrame) -> tuple[date,date]:\n",
    "    '''\n",
    "    This function retrieves the start and end dates from the email dataset using DataFrame operations.\n",
    "\n",
    "    Args:\n",
    "    - dataFrame: A DataFrame containing the email data.\n",
    "\n",
    "    Returns:\n",
    "    - (startDate, endDate): A tuple containing two elements: the earliest (start) date and the latest (end) date.\n",
    "    '''\n",
    "     ### BEGIN SOLUTION\n",
    "    assert isinstance(dataFrame, DataFrame), f\"dataFrame is not the correct data type, expected DataFrame but got {type(dataFrame)}\"\n",
    "    startDate = dataFrame.agg({\"DateTime\": \"min\"}).collect()[0][0]\n",
    "    endDate = dataFrame.agg({\"DateTime\": \"max\"}).collect()[0][0]\n",
    "     ### END SOLUTION\n",
    "    return startDate, endDate\n"
   ]
  },
  {
   "cell_type": "code",
   "execution_count": 39,
   "id": "c9ea8fee-b852-4794-b8b5-c54eaa901145",
   "metadata": {
    "execution": {
     "iopub.execute_input": "2024-11-07T14:57:47.302261Z",
     "iopub.status.busy": "2024-11-07T14:57:47.302067Z",
     "iopub.status.idle": "2024-11-07T14:57:50.216588Z",
     "shell.execute_reply": "2024-11-07T14:57:50.215872Z"
    }
   },
   "outputs": [
    {
     "data": {
      "text/plain": [
       "(datetime.date(1, 8, 1), datetime.date(2012, 11, 28))"
      ]
     },
     "execution_count": 39,
     "metadata": {},
     "output_type": "execute_result"
    }
   ],
   "source": [
    "getDateRangeBySQL(sqlContext,tableName)"
   ]
  },
  {
   "cell_type": "code",
   "execution_count": 40,
   "id": "6a05525a-6daa-472f-ba14-078dd0dfa860",
   "metadata": {
    "execution": {
     "iopub.execute_input": "2024-11-07T14:57:50.222797Z",
     "iopub.status.busy": "2024-11-07T14:57:50.222519Z",
     "iopub.status.idle": "2024-11-07T14:57:54.524499Z",
     "shell.execute_reply": "2024-11-07T14:57:54.523966Z"
    }
   },
   "outputs": [
    {
     "data": {
      "text/plain": [
       "(datetime.date(1, 8, 1), datetime.date(2012, 11, 28))"
      ]
     },
     "execution_count": 40,
     "metadata": {},
     "output_type": "execute_result"
    }
   ],
   "source": [
    "getDateRangeByDFOperations(dfEmais)"
   ]
  },
  {
   "cell_type": "code",
   "execution_count": 41,
   "id": "0fd4e2c0-e901-4c4f-bd6c-323c9cf16ead",
   "metadata": {
    "deletable": false,
    "editable": false,
    "execution": {
     "iopub.execute_input": "2024-11-07T14:57:54.527577Z",
     "iopub.status.busy": "2024-11-07T14:57:54.527352Z",
     "iopub.status.idle": "2024-11-07T14:57:54.717060Z",
     "shell.execute_reply": "2024-11-07T14:57:54.716401Z"
    },
    "nbgrader": {
     "grade": true,
     "grade_id": "cell-b9f5111be939765c",
     "locked": true,
     "points": 0.5,
     "schema_version": 3,
     "solution": false,
     "task": false
    }
   },
   "outputs": [],
   "source": [
    "### BEGIN HIDDEN TESTS\n",
    "import datetime\n",
    "assert getDateRangeBySQL(sqlContext,tableNameTest) == (datetime.date(1998, 12, 16), datetime.date(2002, 5, 22)), \"Wrong in function getDateRangeBySQL\"\n",
    "### END HIDDEN TESTS"
   ]
  },
  {
   "cell_type": "code",
   "execution_count": 42,
   "id": "abd46ebd-8bf9-4442-8a3f-5cedc3e2d355",
   "metadata": {
    "deletable": false,
    "editable": false,
    "execution": {
     "iopub.execute_input": "2024-11-07T14:57:54.720157Z",
     "iopub.status.busy": "2024-11-07T14:57:54.719936Z",
     "iopub.status.idle": "2024-11-07T14:57:55.104623Z",
     "shell.execute_reply": "2024-11-07T14:57:55.103597Z"
    },
    "nbgrader": {
     "grade": true,
     "grade_id": "cell-040fe6d90cdb261f",
     "locked": true,
     "points": 0.5,
     "schema_version": 3,
     "solution": false,
     "task": false
    }
   },
   "outputs": [],
   "source": [
    "### BEGIN HIDDEN TESTS\n",
    "import datetime\n",
    "assert getDateRangeByDFOperations(dfEmaisTest) == (datetime.date(1998, 12, 16), datetime.date(2002, 5, 22)), \"Wrong in function getDateRangeByDFOperations\"\n",
    "### END HIDDEN TESTS"
   ]
  },
  {
   "cell_type": "code",
   "execution_count": 43,
   "id": "c9ad8972-c32a-4ce0-a1f3-34f1580085c1",
   "metadata": {
    "deletable": false,
    "execution": {
     "iopub.execute_input": "2024-11-07T14:57:55.109020Z",
     "iopub.status.busy": "2024-11-07T14:57:55.108534Z",
     "iopub.status.idle": "2024-11-07T14:57:55.116053Z",
     "shell.execute_reply": "2024-11-07T14:57:55.115176Z"
    },
    "nbgrader": {
     "grade": false,
     "grade_id": "cell-6b8a3a09e52c62fc",
     "locked": false,
     "schema_version": 3,
     "solution": true,
     "task": false
    }
   },
   "outputs": [],
   "source": [
    "# 1đ, 8.5\n",
    "def countEmailsInWeekBySQL(sqlContext: SQLContext, tableName: str, week: int) -> int:\n",
    "    '''\n",
    "    This function calculates the number of emails sent in a given week across all years by performing a filter and group by operation on the DateTime column using SQL.\n",
    "\n",
    "    Args:\n",
    "    - sqlContext: An SQLContext object that provides the environment to run SQL queries on structured data.\n",
    "    - tableName: The name of the table that contains the email data.\n",
    "    - week: The specific week to filter the emails by.\n",
    "\n",
    "    Returns:\n",
    "    - email_count: An integer representing the number of emails sent in the given week across all years.\n",
    "    '''\n",
    "    assert isinstance(sqlContext, SQLContext), f\"sqlContext is not the correct data type, expected SQLContext but got {type(sqlContext)}\"\n",
    "    assert isinstance(tableName, str), f\"tableName is not the correct data type, expected string but got {type(tableName)}\"\n",
    "    assert isinstance(week, int) and 1 <= week <= 52, f\"week must be an integer between 1 and 52, but got {week}\"\n",
    "    ### BEGIN SOLUTION  \n",
    "    query = f\"\"\"\n",
    "        SELECT COUNT(*) as email_count\n",
    "        FROM {tableName}\n",
    "        WHERE WEEKOFYEAR(DateTime) = {week}\n",
    "    \"\"\"\n",
    "    \n",
    "    resultDF = sqlContext.sql(query)\n",
    "    emailCount = resultDF.collect()[0]['email_count']\n",
    "    ### END SOLUTION\n",
    "    return emailCount\n",
    "\n",
    "\n",
    "def countEmailsInWeekByDFOperations(dataFrame: DataFrame, weekValue: int) -> int:\n",
    "    '''\n",
    "    This function calculates the number of emails sent in a given week across all years by performing a filter operation on the DateTime column using DataFrame operations.\n",
    "\n",
    "    Args:\n",
    "    - dataFrame: A DataFrame containing the email data.\n",
    "    - weekValue: The specific week to filter the emails by.\n",
    "\n",
    "    Returns:\n",
    "    - email_count: An integer representing the number of emails sent in the given week across all years.\n",
    "    '''\n",
    "    assert isinstance(dataFrame, DataFrame), f\"dataFrame is not the correct data type, expected DataFrame but got {type(dataFrame)}\"\n",
    "    assert isinstance(weekValue, int) and 1 <= weekValue <= 52, f\"weekValue must be an integer between 1 and 52, but got {weekValue}\"\n",
    "    ### BEGIN SOLUTION \n",
    "    result = dataFrame.filter(weekofyear(col(\"DateTime\")) == weekValue).count()\n",
    "    ### END SOLUTION\n",
    "    return result\n"
   ]
  },
  {
   "cell_type": "code",
   "execution_count": 44,
   "id": "70b809e9-576e-4d3e-b7e6-924554a28d15",
   "metadata": {
    "execution": {
     "iopub.execute_input": "2024-11-07T14:57:55.120388Z",
     "iopub.status.busy": "2024-11-07T14:57:55.120188Z",
     "iopub.status.idle": "2024-11-07T14:57:57.965266Z",
     "shell.execute_reply": "2024-11-07T14:57:57.964625Z"
    }
   },
   "outputs": [
    {
     "data": {
      "text/plain": [
       "209"
      ]
     },
     "execution_count": 44,
     "metadata": {},
     "output_type": "execute_result"
    }
   ],
   "source": [
    "countEmailsInWeekBySQL(sqlContext,tableName,30)"
   ]
  },
  {
   "cell_type": "code",
   "execution_count": 45,
   "id": "0f9859b2-08b1-4447-b6c8-72aa0412ddd6",
   "metadata": {
    "execution": {
     "iopub.execute_input": "2024-11-07T14:57:57.968330Z",
     "iopub.status.busy": "2024-11-07T14:57:57.968103Z",
     "iopub.status.idle": "2024-11-07T14:58:00.664011Z",
     "shell.execute_reply": "2024-11-07T14:58:00.662077Z"
    }
   },
   "outputs": [
    {
     "data": {
      "text/plain": [
       "209"
      ]
     },
     "execution_count": 45,
     "metadata": {},
     "output_type": "execute_result"
    }
   ],
   "source": [
    "countEmailsInWeekByDFOperations(dfEmais,30)"
   ]
  },
  {
   "cell_type": "code",
   "execution_count": 46,
   "id": "1949080a-d7da-4d66-907a-482f4d408671",
   "metadata": {
    "execution": {
     "iopub.execute_input": "2024-11-07T14:58:00.667392Z",
     "iopub.status.busy": "2024-11-07T14:58:00.666982Z",
     "iopub.status.idle": "2024-11-07T14:58:00.870544Z",
     "shell.execute_reply": "2024-11-07T14:58:00.870079Z"
    }
   },
   "outputs": [
    {
     "data": {
      "text/plain": [
       "10"
      ]
     },
     "execution_count": 46,
     "metadata": {},
     "output_type": "execute_result"
    }
   ],
   "source": [
    "countEmailsInWeekBySQL(sqlContext,tableNameTest,40)"
   ]
  },
  {
   "cell_type": "code",
   "execution_count": 47,
   "id": "2e4381fb-e0c3-482a-ae82-1a30703f06e7",
   "metadata": {
    "deletable": false,
    "editable": false,
    "execution": {
     "iopub.execute_input": "2024-11-07T14:58:00.873960Z",
     "iopub.status.busy": "2024-11-07T14:58:00.873763Z",
     "iopub.status.idle": "2024-11-07T14:58:01.294112Z",
     "shell.execute_reply": "2024-11-07T14:58:01.293305Z"
    },
    "nbgrader": {
     "grade": true,
     "grade_id": "cell-8cd50007319c31c3",
     "locked": true,
     "points": 0.5,
     "schema_version": 3,
     "solution": false,
     "task": false
    }
   },
   "outputs": [],
   "source": [
    "### BEGIN HIDDEN TESTS\n",
    "assert countEmailsInWeekBySQL(sqlContext,tableNameTest,2) == 11, \"Wrong in function countEmailsInWeekBySQL\"\n",
    "assert countEmailsInWeekBySQL(sqlContext,tableNameTest,40) == 10, \"Wrong in function countEmailsInWeekBySQL\"\n",
    "### END HIDDEN TESTS"
   ]
  },
  {
   "cell_type": "code",
   "execution_count": 48,
   "id": "d4331bde-57b8-4e3c-8827-5e050bdd0543",
   "metadata": {
    "deletable": false,
    "editable": false,
    "execution": {
     "iopub.execute_input": "2024-11-07T14:58:01.297157Z",
     "iopub.status.busy": "2024-11-07T14:58:01.296643Z",
     "iopub.status.idle": "2024-11-07T14:58:01.643527Z",
     "shell.execute_reply": "2024-11-07T14:58:01.642982Z"
    },
    "nbgrader": {
     "grade": true,
     "grade_id": "cell-9fb0d8fbb5586419",
     "locked": true,
     "points": 0.5,
     "schema_version": 3,
     "solution": false,
     "task": false
    }
   },
   "outputs": [],
   "source": [
    "### BEGIN HIDDEN TESTS\n",
    "assert countEmailsInWeekByDFOperations(dfEmaisTest,2) == 11, \"Wrong in function countEmailsInYearByDFOperations\"\n",
    "assert countEmailsInWeekByDFOperations(dfEmaisTest,40) == 10, \"Wrong in function countEmailsInYearByDFOperations\"\n",
    "### END HIDDEN TESTS"
   ]
  },
  {
   "cell_type": "code",
   "execution_count": 49,
   "id": "3770a3c3-7e34-4ccb-b4c9-a5a670a29a49",
   "metadata": {
    "deletable": false,
    "execution": {
     "iopub.execute_input": "2024-11-07T14:58:01.646138Z",
     "iopub.status.busy": "2024-11-07T14:58:01.645929Z",
     "iopub.status.idle": "2024-11-07T14:58:01.654555Z",
     "shell.execute_reply": "2024-11-07T14:58:01.653366Z"
    },
    "nbgrader": {
     "grade": false,
     "grade_id": "cell-efc7692f7eb213ab",
     "locked": false,
     "schema_version": 3,
     "solution": true,
     "task": false
    }
   },
   "outputs": [],
   "source": [
    "# 1đ\n",
    "def countEmailsPerMonthBySQL(sqlContext: SQLContext, tableName: str) -> DataFrame:\n",
    "    '''\n",
    "    This function calculates the number of emails sent per Month by performing a group by operation on the DateTime column \n",
    "    and sorts the result in descending order by the number of emails.\n",
    "\n",
    "    Args:\n",
    "    - sqlContext: An SQLContext object that provides the environment to run SQL queries on structured data.\n",
    "    - tableName: The name of the table that contains the email data.\n",
    "\n",
    "    Returns:\n",
    "    - resultDF: A DataFrame containing the number of emails sent per Month, sorted in descending order by email count.\n",
    "                With schema:\n",
    "                    root\n",
    "                     |-- month: integer (nullable = true)\n",
    "                     |-- count: long (nullable = false)\n",
    "    '''\n",
    "    ### BEGIN SOLUTION \n",
    "    assert isinstance(sqlContext, SQLContext), f\"sqlContext is not the correct data type, expected SQLContext but got {type(sqlContext)}\"\n",
    "    assert isinstance(tableName, str), f\"tableName is not the correct data type, expected string but got {type(tableName)}\"\n",
    "\n",
    "    query = f\"\"\"\n",
    "        SELECT MONTH(DateTime) as month, COUNT(*) as count\n",
    "        FROM {tableName}\n",
    "        GROUP BY MONTH(DateTime)\n",
    "        ORDER BY count DESC\n",
    "    \"\"\"\n",
    "    \n",
    "    result = sqlContext.sql(query)\n",
    "    ### END SOLUTION \n",
    "    return result\n",
    "\n",
    "def countEmailsPerMonthByDFOperations(dataFrame: DataFrame) -> DataFrame:\n",
    "    '''\n",
    "    This function calculates the number of emails sent per Month by performing a group by operation on the DateTime column \n",
    "    and sorts the result in descending order by the number of emails.\n",
    "\n",
    "    Args:\n",
    "    - dataFrame: A DataFrame containing the email data.\n",
    "\n",
    "    Returns:\n",
    "    - resultDF: A DataFrame containing the number of emails sent per Month, sorted in descending order by email count.\n",
    "                With schema:\n",
    "                    root\n",
    "                     |-- month: integer (nullable = true)\n",
    "                     |-- count: long (nullable = false)\n",
    "    '''\n",
    "    ### BEGIN SOLUTION \n",
    "    assert isinstance(dataFrame, DataFrame), f\"dataFrame is not the correct data type, expected DataFrame but got {type(dataFrame)}\"\n",
    "\n",
    "    result = dataFrame.groupBy(month(col(\"DateTime\")).alias(\"month\")).count()\n",
    "    result = result.orderBy(col(\"count\").desc())\n",
    "    ### END SOLUTION \n",
    "    return result\n"
   ]
  },
  {
   "cell_type": "code",
   "execution_count": 50,
   "id": "cd68f8c5-1ea8-4d8f-aa11-10f22dacc6e5",
   "metadata": {
    "execution": {
     "iopub.execute_input": "2024-11-07T14:58:01.656679Z",
     "iopub.status.busy": "2024-11-07T14:58:01.656488Z",
     "iopub.status.idle": "2024-11-07T14:58:03.884236Z",
     "shell.execute_reply": "2024-11-07T14:58:03.883658Z"
    }
   },
   "outputs": [
    {
     "name": "stdout",
     "output_type": "stream",
     "text": [
      "+-----+-----+\n",
      "|month|count|\n",
      "+-----+-----+\n",
      "|   11| 2469|\n",
      "|   10| 2365|\n",
      "|    1| 2024|\n",
      "|    5| 1826|\n",
      "|    4| 1782|\n",
      "|   12| 1753|\n",
      "|    3| 1634|\n",
      "|    2| 1534|\n",
      "|    6| 1291|\n",
      "|    9| 1218|\n",
      "|    8| 1146|\n",
      "|    7|  958|\n",
      "+-----+-----+\n",
      "\n"
     ]
    }
   ],
   "source": [
    "countEmailsPerMonthBySQL(sqlContext,tableName).show()"
   ]
  },
  {
   "cell_type": "code",
   "execution_count": 51,
   "id": "d55acd6e-fabb-4ca0-b4a1-ae42259cdfde",
   "metadata": {
    "execution": {
     "iopub.execute_input": "2024-11-07T14:58:03.887318Z",
     "iopub.status.busy": "2024-11-07T14:58:03.886884Z",
     "iopub.status.idle": "2024-11-07T14:58:05.914472Z",
     "shell.execute_reply": "2024-11-07T14:58:05.913833Z"
    }
   },
   "outputs": [
    {
     "name": "stdout",
     "output_type": "stream",
     "text": [
      "+-----+-----+\n",
      "|month|count|\n",
      "+-----+-----+\n",
      "|   11| 2469|\n",
      "|   10| 2365|\n",
      "|    1| 2024|\n",
      "|    5| 1826|\n",
      "|    4| 1782|\n",
      "|   12| 1753|\n",
      "|    3| 1634|\n",
      "|    2| 1534|\n",
      "|    6| 1291|\n",
      "|    9| 1218|\n",
      "|    8| 1146|\n",
      "|    7|  958|\n",
      "+-----+-----+\n",
      "\n"
     ]
    }
   ],
   "source": [
    "countEmailsPerMonthByDFOperations(dfEmais).show()"
   ]
  },
  {
   "cell_type": "code",
   "execution_count": 52,
   "id": "bbc068b0-0f08-44af-a844-1b8e15176cd0",
   "metadata": {
    "deletable": false,
    "editable": false,
    "execution": {
     "iopub.execute_input": "2024-11-07T14:58:05.919821Z",
     "iopub.status.busy": "2024-11-07T14:58:05.919366Z",
     "iopub.status.idle": "2024-11-07T14:58:07.350323Z",
     "shell.execute_reply": "2024-11-07T14:58:07.349766Z"
    },
    "nbgrader": {
     "grade": true,
     "grade_id": "cell-ba0426c383b52bf6",
     "locked": true,
     "points": 0.5,
     "schema_version": 3,
     "solution": false,
     "task": false
    }
   },
   "outputs": [],
   "source": [
    "### BEGIN HIDDEN TESTS\n",
    "def countEmailsPerMonthBySQLSolution(sqlContext: SQLContext, tableName: str) -> DataFrame:\n",
    "    query = f\"\"\"\n",
    "        SELECT MONTH(DateTime) as month, COUNT(*) as count\n",
    "        FROM {tableName}\n",
    "        GROUP BY MONTH(DateTime)\n",
    "        ORDER BY count DESC\n",
    "    \"\"\"\n",
    "    result = sqlContext.sql(query)\n",
    "    return result\n",
    "   \n",
    "assert countEmailsPerMonthBySQL(sqlContext,tableNameTest).take(10)  == countEmailsPerMonthBySQLSolution(sqlContext,tableNameTest).take(10), \"Wrong in function countEmailsPerMonthBySQL\"\n",
    "assert countEmailsPerMonthBySQL(sqlContext,tableNameTest).take(1)  == countEmailsPerMonthBySQLSolution(sqlContext,tableNameTest).take(1), \"Wrong in function countEmailsPerMonthBySQL\"\n",
    "assert countEmailsPerMonthBySQL(sqlContext,tableNameTest).take(1000)  == countEmailsPerMonthBySQLSolution(sqlContext,tableNameTest).take(1000), \"Wrong in function countEmailsPerMonthBySQL\"\n",
    "### END HIDDEN TESTS"
   ]
  },
  {
   "cell_type": "code",
   "execution_count": 53,
   "id": "98a68d42-52f5-4f02-875a-290a45e38038",
   "metadata": {
    "deletable": false,
    "editable": false,
    "execution": {
     "iopub.execute_input": "2024-11-07T14:58:07.353217Z",
     "iopub.status.busy": "2024-11-07T14:58:07.352819Z",
     "iopub.status.idle": "2024-11-07T14:58:08.800592Z",
     "shell.execute_reply": "2024-11-07T14:58:08.799989Z"
    },
    "nbgrader": {
     "grade": true,
     "grade_id": "cell-f943c2987596321f",
     "locked": true,
     "points": 0.5,
     "schema_version": 3,
     "solution": false,
     "task": false
    }
   },
   "outputs": [],
   "source": [
    "### BEGIN HIDDEN TESTS\n",
    "def countEmailsPerMonthByDFOperationsSolution(dataFrame: DataFrame) -> DataFrame:\n",
    "    result = dataFrame.groupBy(month(col(\"DateTime\")).alias(\"month\")).count()\n",
    "    result = result.orderBy(col(\"count\").desc())\n",
    "    return result\n",
    "\n",
    "assert countEmailsPerMonthByDFOperations(dfEmaisTest).take(1) == countEmailsPerMonthByDFOperationsSolution(dfEmaisTest).take(1), \"Wrong in function countEmailsPerMonthByDFOperations\"\n",
    "assert countEmailsPerMonthByDFOperations(dfEmaisTest).take(5) == countEmailsPerMonthByDFOperationsSolution(dfEmaisTest).take(5), \"Wrong in function countEmailsPerMonthByDFOperations\"\n",
    "assert countEmailsPerMonthByDFOperations(dfEmaisTest).take(1000) == countEmailsPerMonthByDFOperationsSolution(dfEmaisTest).take(1000), \"Wrong in function countEmailsPerMonthByDFOperations\"\n",
    "### END HIDDEN TESTS"
   ]
  }
 ],
 "metadata": {
  "kernelspec": {
   "display_name": "Python 3 (ipykernel)",
   "language": "python",
   "name": "python3"
  },
  "language_info": {
   "codemirror_mode": {
    "name": "ipython",
    "version": 3
   },
   "file_extension": ".py",
   "mimetype": "text/x-python",
   "name": "python",
   "nbconvert_exporter": "python",
   "pygments_lexer": "ipython3",
   "version": "3.11.6"
  }
 },
 "nbformat": 4,
 "nbformat_minor": 5
}
