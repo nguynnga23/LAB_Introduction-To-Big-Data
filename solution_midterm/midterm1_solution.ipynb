{
 "cells": [
  {
   "cell_type": "markdown",
   "id": "a26ed356-e745-42f7-ab18-9ef6ca188c77",
   "metadata": {
    "editable": true,
    "slideshow": {
     "slide_type": ""
    },
    "tags": []
   },
   "source": [
    "### TRƯỜNG ĐẠI HỌC CÔNG NGHIỆP\n",
    "### THÀNH PHỐ HỒ CHÍ MINH\n",
    " \n",
    "### KHOA Công nghệ Thông tin   \n",
    "## ĐỀ THI GIỮA KỲ\n",
    "### Môn thi : Nhập môn dữ liệu lớn \n",
    "### Lớp/Lớp học phần:  DHKHDL17A\n",
    "* Thời gian làm bài: 75 phút (Không kể thời gian phát đề)\n",
    "* Thí sinh được sử dụng tài liệu và tra cứu tại trang wed\n",
    "  - https://spark.apache.org/\n",
    "  - https://stackoverflow.com/\n",
    "  - - https://learn.microsoft.com/en-us/sql/t-sql\n",
    "* Thí sinh làm bài và lưu lại với định dạng mssv_hovaten_gk.ipynb. Ví dụ bạn có mã số sinh viên là: 12131411, họ và tên: Nguyễn Văn A, thì nộp bài với tên: **12131411_NguyenVanA_gk.ipynb**\n",
    "* Thí sinh sử dụng dữ liệu *emails.csv*, điều chỉnh biến 'dataPath' ở cell đầu tiên lại cho đúng với đường dẫn đến file data.\n",
    "* Hoàn thành tất cả các vị trí có chữ **# YOUR CODE HERE** để hoàn thành yêu cầu của mỗi hàm.\n",
    "#### LƯU Ý: KHÔNG THAY ĐỔI NHỮNG CHỖ KHÁC"
   ]
  },
  {
   "cell_type": "code",
   "execution_count": 1,
   "id": "00f00e72-7564-45b2-b691-72e4ce2820c3",
   "metadata": {
    "editable": true,
    "execution": {
     "iopub.execute_input": "2024-11-07T14:54:09.075192Z",
     "iopub.status.busy": "2024-11-07T14:54:09.074584Z",
     "iopub.status.idle": "2024-11-07T14:54:12.563132Z",
     "shell.execute_reply": "2024-11-07T14:54:12.562402Z"
    },
    "slideshow": {
     "slide_type": ""
    },
    "tags": []
   },
   "outputs": [],
   "source": [
    "import os\n",
    "from pyspark.sql import SparkSession\n",
    "from pyspark.sql.dataframe import DataFrame\n",
    "from pyspark.rdd import RDD\n",
    "from pyspark.sql.types import Row\n",
    "\n",
    "sc = SparkSession.builder \\\n",
    "    .appName(\"Email Data Processing\") \\\n",
    "    .getOrCreate()\n",
    "\n",
    "dataPath = \"./data/email.csv\""
   ]
  },
  {
   "cell_type": "code",
   "execution_count": 2,
   "id": "bcb576cb-5e1d-4f17-844b-946d3447a46d",
   "metadata": {
    "execution": {
     "iopub.execute_input": "2024-11-07T14:54:12.569284Z",
     "iopub.status.busy": "2024-11-07T14:54:12.568920Z",
     "iopub.status.idle": "2024-11-07T14:54:12.573984Z",
     "shell.execute_reply": "2024-11-07T14:54:12.573008Z"
    }
   },
   "outputs": [],
   "source": [
    "dataPath = os.environ.get(\"DATA_MIDTERM\") or dataPath"
   ]
  },
  {
   "cell_type": "code",
   "execution_count": 3,
   "id": "7f8077d2-87d6-405b-84c1-01657dfdd908",
   "metadata": {
    "deletable": false,
    "execution": {
     "iopub.execute_input": "2024-11-07T14:54:12.578758Z",
     "iopub.status.busy": "2024-11-07T14:54:12.578475Z",
     "iopub.status.idle": "2024-11-07T14:54:12.587071Z",
     "shell.execute_reply": "2024-11-07T14:54:12.585809Z"
    },
    "nbgrader": {
     "grade": false,
     "grade_id": "cell-14537bbf8b2dcd10",
     "locked": false,
     "schema_version": 3,
     "solution": true,
     "task": false
    }
   },
   "outputs": [],
   "source": [
    "#0.5\n",
    "def loadAndProcessCsv(filePath: str, spark: SparkSession) -> DataFrame:\n",
    "    '''\n",
    "    This function loads a CSV file into a Spark DataFrame, caches it, \n",
    "    drops rows with null values, and prints the schema. (using option when read to keep format - header, columns)\n",
    "    \n",
    "    Args:\n",
    "        file_path (str): Path to the CSV file.\n",
    "        spark (SparkSession): Active Spark session.\n",
    "        \n",
    "    Returns:\n",
    "        DataFrame: Processed DataFrame.\n",
    "    '''\n",
    "\n",
    "    data = None\n",
    "    ### BEGIN SOLUTION \n",
    "    data = spark.read.format(\"csv\") \\\n",
    "        .option(\"header\", \"true\") \\\n",
    "        .option(\"multiLine\", \"true\") \\\n",
    "        .option(\"escape\", \"\\\"\") \\\n",
    "        .option(\"inferSchema\", \"true\") \\\n",
    "        .load(filePath)\n",
    "    data.cache()\n",
    "    data = data.dropna()\n",
    "    data.printSchema()\n",
    "    ### END SOLUTION\n",
    "    return data"
   ]
  },
  {
   "cell_type": "code",
   "execution_count": 4,
   "id": "20b64b3b-efe5-43fe-823a-4ef0970d1fa4",
   "metadata": {
    "execution": {
     "iopub.execute_input": "2024-11-07T14:54:12.591942Z",
     "iopub.status.busy": "2024-11-07T14:54:12.591133Z",
     "iopub.status.idle": "2024-11-07T14:54:15.920602Z",
     "shell.execute_reply": "2024-11-07T14:54:15.919313Z"
    }
   },
   "outputs": [
    {
     "name": "stdout",
     "output_type": "stream",
     "text": [
      "root\n",
      " |-- file: string (nullable = true)\n",
      " |-- message: string (nullable = true)\n",
      "\n"
     ]
    }
   ],
   "source": [
    "data = loadAndProcessCsv(dataPath,sc)"
   ]
  },
  {
   "cell_type": "code",
   "execution_count": 5,
   "id": "ea3edda3-16ee-4fa0-ba4c-8b13e0fd12c9",
   "metadata": {
    "execution": {
     "iopub.execute_input": "2024-11-07T14:54:15.925124Z",
     "iopub.status.busy": "2024-11-07T14:54:15.924225Z",
     "iopub.status.idle": "2024-11-07T14:54:15.935947Z",
     "shell.execute_reply": "2024-11-07T14:54:15.935026Z"
    }
   },
   "outputs": [
    {
     "data": {
      "text/plain": [
       "['file', 'message']"
      ]
     },
     "execution_count": 5,
     "metadata": {},
     "output_type": "execute_result"
    }
   ],
   "source": [
    "data.columns"
   ]
  },
  {
   "cell_type": "code",
   "execution_count": 6,
   "id": "0c8b7374-b447-4bc9-960a-e9e31c3c3954",
   "metadata": {
    "deletable": false,
    "editable": false,
    "execution": {
     "iopub.execute_input": "2024-11-07T14:54:15.940230Z",
     "iopub.status.busy": "2024-11-07T14:54:15.939990Z",
     "iopub.status.idle": "2024-11-07T14:54:16.162594Z",
     "shell.execute_reply": "2024-11-07T14:54:16.161570Z"
    },
    "nbgrader": {
     "grade": true,
     "grade_id": "cell-a4865a6f9031b776",
     "locked": true,
     "points": 0.5,
     "schema_version": 3,
     "solution": false,
     "task": false
    }
   },
   "outputs": [
    {
     "name": "stdout",
     "output_type": "stream",
     "text": [
      "root\n",
      " |-- file: string (nullable = true)\n",
      " |-- message: string (nullable = true)\n",
      "\n"
     ]
    }
   ],
   "source": [
    "### BEGIN HIDDEN TESTS\n",
    "dataPathTest = os.environ.get(\"DATA_MIDTERM_TEST\")\n",
    "def loadAndProcessCsvSolution(filePath: str, spark: SparkSession) -> DataFrame:\n",
    "    data = spark.read.format(\"csv\") \\\n",
    "        .option(\"header\", \"true\") \\\n",
    "        .option(\"multiLine\", \"true\") \\\n",
    "        .option(\"escape\", \"\\\"\") \\\n",
    "        .option(\"inferSchema\", \"true\") \\\n",
    "        .load(filePath)\n",
    "    data.cache()\n",
    "    data = data.dropna()\n",
    "    data.printSchema()\n",
    "    return data\n",
    "dataTest = loadAndProcessCsvSolution(dataPathTest, sc)\n",
    "assert isinstance(dataTest, DataFrame), \"loadAndProcessCsv() don't return correct dataType\"\n",
    "assert dataTest.columns == ['file', 'message'], \"loadAndProcessCsv does not contain the correct columns\"\n",
    "### END HIDDEN TESTS"
   ]
  },
  {
   "cell_type": "code",
   "execution_count": 7,
   "id": "8d0de25e-ab49-4b82-9c0e-30ce83f4a1bc",
   "metadata": {
    "deletable": false,
    "execution": {
     "iopub.execute_input": "2024-11-07T14:54:16.165473Z",
     "iopub.status.busy": "2024-11-07T14:54:16.165259Z",
     "iopub.status.idle": "2024-11-07T14:54:16.170058Z",
     "shell.execute_reply": "2024-11-07T14:54:16.169164Z"
    },
    "nbgrader": {
     "grade": false,
     "grade_id": "cell-856294652d081020",
     "locked": false,
     "schema_version": 3,
     "solution": true,
     "task": false
    }
   },
   "outputs": [],
   "source": [
    "# 0.5đ\n",
    "def createRDD(data: DataFrame)->RDD[Row]:\n",
    "    '''\n",
    "    This function converts a Spark DataFrame into an RDD of Rows.\n",
    "    \n",
    "    Args:\n",
    "        data (DataFrame): Input DataFrame containing data loaded by Spark.\n",
    "        \n",
    "    Returns:\n",
    "        RDD[Row]: An RDD containing all Rows from the input DataFrame.\n",
    "    '''\n",
    "    outRDD = None\n",
    "\n",
    "    ### BEGIN SOLUTION\n",
    "    outRDD = data.rdd\n",
    "    ### END SOLUTION\n",
    "    \n",
    "    return outRDD"
   ]
  },
  {
   "cell_type": "code",
   "execution_count": 8,
   "id": "cf70693a-3c5e-4ff8-983d-33b9b1762e7d",
   "metadata": {
    "execution": {
     "iopub.execute_input": "2024-11-07T14:54:16.173481Z",
     "iopub.status.busy": "2024-11-07T14:54:16.173234Z",
     "iopub.status.idle": "2024-11-07T14:54:18.681638Z",
     "shell.execute_reply": "2024-11-07T14:54:18.680628Z"
    }
   },
   "outputs": [],
   "source": [
    "emailRDD = createRDD(data)\n",
    "assert isinstance(emailRDD, RDD), \"createRDD() does not return the correct data type (RDD)\"\n",
    "assert isinstance(emailRDD.first(),Row), \"createRDD() contains elements that are not of type Row\""
   ]
  },
  {
   "cell_type": "code",
   "execution_count": 9,
   "id": "edd5c928-37eb-4138-b400-6f5c76182fe1",
   "metadata": {
    "deletable": false,
    "editable": false,
    "execution": {
     "iopub.execute_input": "2024-11-07T14:54:18.686302Z",
     "iopub.status.busy": "2024-11-07T14:54:18.685631Z",
     "iopub.status.idle": "2024-11-07T14:54:19.217564Z",
     "shell.execute_reply": "2024-11-07T14:54:19.216995Z"
    },
    "nbgrader": {
     "grade": true,
     "grade_id": "cell-9f76a3648ae0bde3",
     "locked": true,
     "points": 0.5,
     "schema_version": 3,
     "solution": false,
     "task": false
    }
   },
   "outputs": [],
   "source": [
    "### BEGIN HIDDEN TESTS\n",
    "def createRRDSolution(dataF):\n",
    "    return  dataF.rdd\n",
    "rddTest = createRRDSolution(dataTest)\n",
    "result = createRDD(dataTest)\n",
    "assert isinstance(result, RDD), \"createRDD() don't return correct dataType\"\n",
    "assert isinstance(result.first(),Row), \"createRDD() have element not correct datatype\"\n",
    "assert result.count() == 500, \"createRDD() does not contain the correct number of elements\"\n",
    "### END HIDDEN TESTS"
   ]
  },
  {
   "cell_type": "code",
   "execution_count": 10,
   "id": "b0f111b4-330d-40ed-8d38-c329bd3d7d61",
   "metadata": {
    "execution": {
     "iopub.execute_input": "2024-11-07T14:54:19.222868Z",
     "iopub.status.busy": "2024-11-07T14:54:19.222611Z",
     "iopub.status.idle": "2024-11-07T14:54:19.363430Z",
     "shell.execute_reply": "2024-11-07T14:54:19.362894Z"
    }
   },
   "outputs": [
    {
     "data": {
      "text/plain": [
       "Row(Date='Thu, 1 Feb 2001 08:00:00 -0800 (PST)', From=['tana.jones@enron.com'], To=['darren.vanek@enron.com', 'carol.clair@enron.com', 'janie.aguayo@enron.com', 'debbie.brackett@enron.com', 'sara.shackleton@enron.com', 'brent.hendry@enron.com', 'marilyn.colbert@enron.com', 'larry.hunter@enron.com', 'rudwell.johnson@enron.com', 'kevin.meredith@enron.com', 'russell.diamond@enron.com', 'celeste.cisneros@enron.com', 'tanya.rohauer@enron.com', 'lesli.campbell@enron.com', 'paul.radous@enron.com', 'bill.hare@enron.com', 'diane.anderson@enron.com', 'tom.moran@enron.com', 'frank.sayre@enron.com', 'frank.davis@enron.com', 'mary.cook@enron.com', 'william.bradford@enron.com', 'lisa.lees@enron.com', 'georgi.landau@enron.com', 'samuel.schott@enron.com', 'susan.bailey@enron.com', 'samantha.boyd@enron.com', 'derek.bailey@enron.com', 'bob.bowen@enron.com', 'laurel.adams@enron.com', 'gordon.heaney@enron.com', 'carrie.southard@enron.com', 'adnan.patel@enron.com', 'dale.neuner@enron.com', 'melissa.murphy@enron.com', 'karen.lambert@enron.com', 'diane.ellstrom@enron.com', 'francisco.leite@enron.com', 'veronica.espinoza@enron.com', 'jason.moore@enron.com', 'mary.gosnell@enron.com', 'cheryl.nelson@enron.com', 'cheryl.johnson@enron.com', 'nidia.mendoza@enron.com', 'bernice.rodriguez@enron.com', 'lynn.shivers@enron.com', 'stacey.richardson@enron.com', 'robert.bruce@enron.com', 'dianne.seib@enron.com', 'wendi.lebrocq@enron.com', 'amber.ebow@enron.com', 'mark.taylor@enron.com', 'scott.tackett@enron.com', 'tiffany.williams@enron.com', 'anthony.campos@enron.com', 'leslie.reeves@enron.com', 'bradley.diebner@enron.com', 'stephanie.panus@enron.com', 'brant.reves@enron.com', 'tracy.ngo@enron.com', 'kim.theriot@enron.com', 'andrea.guillen@enron.com', 'wendy.conwell@enron.com', 'edward.sacks@enron.com'], Subject='Deutsche Bank AG', CC=['matthew.dawson@enron.com', 'larry.gagliardi@enron.com', \"denis.o'connell@enron.com\"], Content='We have received the following executed Master Agreement:\\n\\nType of Contract: ISDA Master Agreement (Multicurrency-Cross Border)\\n\\nEffective Date:  December 29, 2000\\n\\nEnron Entity:  Enron North America Corp.\\n\\nCounterparty:  Deutsche Bank AG\\n\\nTransactions Covered: Approved for all products, including FX \\n          \\nConfirming Entity: Deutsche Bank AG\\n\\nCalculation Agent: Deutsche Bank AG\\n\\nGoverning Law:  New York\\n\\nApproved Branches For\\nDeutsche Bank:  Brussels, Frankfurt, London, New York, Paris, Singapore, \\nSydney, Tokyo\\n\\nAgency Relationship: Deutsche Bank AG may act as Agent for Deutsche Bank \\nSecurities, if  they are specified as acting in such agency capacity in a \\nConfirmation.\\n\\nPAYMENT NETTING:   Cross transaction payment netting only applies to \\nCommodity Transactions.  There is no payment netting for non-commodity \\ntransactions.  ')"
      ]
     },
     "execution_count": 10,
     "metadata": {},
     "output_type": "execute_result"
    }
   ],
   "source": [
    "import email\n",
    "from typing import List, Optional\n",
    "from pyspark.sql.types import Row\n",
    "\n",
    "def splitEmailAddresses(emailString: str) -> List[Optional[str]]:\n",
    "    '''\n",
    "    The function splits a comma-separated string of email addresses into a unique list.\n",
    "    \n",
    "    Args:\n",
    "        emailString: A string containing email addresses separated by commas.\n",
    "        \n",
    "    Returns:\n",
    "        A list of unique email addresses.\n",
    "    '''\n",
    "    if emailString:\n",
    "        addresses = emailString.split(',')\n",
    "        uniqueAddresses = list(frozenset(map(lambda x: x.strip(), addresses)))\n",
    "        return uniqueAddresses\n",
    "    return []\n",
    "\n",
    "def extractEmailDetailsFromRawText(rawEmail: str) -> Row:\n",
    "    '''\n",
    "    The function extracts relevant details from a raw email message string.\n",
    "    \n",
    "    Args:\n",
    "        rawEmail: A string representing the raw email message.\n",
    "        \n",
    "    Returns:\n",
    "        A Row object containing the extracted email details.\n",
    "    '''\n",
    "    emailMessage = email.message_from_string(rawEmail)\n",
    "    emailContentParts = []\n",
    "    for part in emailMessage.walk():\n",
    "        if part.get_content_type() == 'text/plain':\n",
    "            emailContentParts.append(part.get_payload())\n",
    "\n",
    "    emailContent = ''.join(emailContentParts)\n",
    "\n",
    "    fromAddresses = splitEmailAddresses(emailMessage.get(\"From\"))\n",
    "    toAddresses = splitEmailAddresses(emailMessage.get(\"To\"))\n",
    "    ccEmail = splitEmailAddresses(emailMessage.get(\"Cc\"))\n",
    "    return Row(\n",
    "        Date=emailMessage.get(\"Date\"),\n",
    "        From=fromAddresses, \n",
    "        To=toAddresses, \n",
    "        Subject=emailMessage.get(\"Subject\"), \n",
    "        CC=ccEmail, \n",
    "        Content=emailContent\n",
    "    )\n",
    "\n",
    "# Extract structured email details from the first email message\n",
    "firstEmailData = data.first()\n",
    "structuredEmail = extractEmailDetailsFromRawText(firstEmailData.message)\n",
    "structuredEmail\n"
   ]
  },
  {
   "cell_type": "code",
   "execution_count": 11,
   "id": "be8699d6-f3ba-4854-bb69-1e8dd3924a9b",
   "metadata": {
    "deletable": false,
    "execution": {
     "iopub.execute_input": "2024-11-07T14:54:19.367824Z",
     "iopub.status.busy": "2024-11-07T14:54:19.367172Z",
     "iopub.status.idle": "2024-11-07T14:54:19.371141Z",
     "shell.execute_reply": "2024-11-07T14:54:19.370654Z"
    },
    "nbgrader": {
     "grade": false,
     "grade_id": "cell-f35baf56fceec04a",
     "locked": false,
     "schema_version": 3,
     "solution": true,
     "task": false
    }
   },
   "outputs": [],
   "source": [
    "#0.5đ\n",
    "def createStructuredEmailRDD(emailRDD: RDD[Row]) -> RDD[Row]:\n",
    "    '''\n",
    "    The function takes an RDD of email messages and converts it into a new RDD containing structured email details.\n",
    "    \n",
    "    Args:\n",
    "        emailRDD: An RDD where each Row contains an email message in raw text format.\n",
    "        \n",
    "    Returns:\n",
    "        A new RDD where each element is a Row with structured email details such as Date, From, To, Subject, CC, and Content.\n",
    "    '''\n",
    "    structuredEmailRDD = None\n",
    "    ### BEGIN SOLUTION\n",
    "    structuredEmailRDD = emailRDD.map(lambda row: extractEmailDetailsFromRawText(row.message))\n",
    "    ### END SOLUTION\n",
    "    return structuredEmailRDD"
   ]
  },
  {
   "cell_type": "code",
   "execution_count": 12,
   "id": "8335d437-f02f-4390-98b0-136838a0a6d4",
   "metadata": {
    "execution": {
     "iopub.execute_input": "2024-11-07T14:54:19.376316Z",
     "iopub.status.busy": "2024-11-07T14:54:19.375881Z",
     "iopub.status.idle": "2024-11-07T14:54:19.585258Z",
     "shell.execute_reply": "2024-11-07T14:54:19.584649Z"
    }
   },
   "outputs": [],
   "source": [
    "structuredEmailRDD = createStructuredEmailRDD(emailRDD)\n",
    "assert isinstance(structuredEmailRDD, RDD), \"createStructuredEmailRDD() doesn't return an RDD\"\n",
    "assert isinstance(structuredEmailRDD.first(), Row), \"createStructuredEmailRDD() elements are not of type Row\""
   ]
  },
  {
   "cell_type": "code",
   "execution_count": 13,
   "id": "b505495e-c31f-4aea-9ab7-4c121c0e92b2",
   "metadata": {
    "deletable": false,
    "editable": false,
    "execution": {
     "iopub.execute_input": "2024-11-07T14:54:19.589550Z",
     "iopub.status.busy": "2024-11-07T14:54:19.588150Z",
     "iopub.status.idle": "2024-11-07T14:54:19.792769Z",
     "shell.execute_reply": "2024-11-07T14:54:19.792207Z"
    },
    "nbgrader": {
     "grade": true,
     "grade_id": "cell-901c811ecf49faae",
     "locked": true,
     "points": 0.5,
     "schema_version": 3,
     "solution": false,
     "task": false
    }
   },
   "outputs": [],
   "source": [
    "### BEGIN HIDDEN TESTS\n",
    "def createStructuredEmailRDDSolution(emailRDD):\n",
    "    return emailRDD.map(lambda row: extractEmailDetailsFromRawText(row.message))\n",
    "result =  createStructuredEmailRDD(rddTest)\n",
    "firstRow = result.first()\n",
    "assert \"Date\" in firstRow, \"'Date' field is missing in the structured Row\"\n",
    "assert \"From\" in firstRow, \"'From' field is missing in the structured Row\"\n",
    "assert \"To\" in firstRow, \"'To' field is missing in the structured Row\"\n",
    "assert \"Subject\" in firstRow, \"'Subject' field is missing in the structured Row\"\n",
    "assert \"CC\" in firstRow, \"'CC' field is missing in the structured Row\"\n",
    "assert \"Content\" in firstRow, \"'Content' field is missing in the structured Row\"\n",
    "\n",
    "assert firstRow.Date == 'Thu, 1 Feb 2001 08:00:00 -0800 (PST)', \"structuredEmailRDD() have error when get content from Row\"\n",
    "### END HIDDEN TESTS"
   ]
  },
  {
   "cell_type": "code",
   "execution_count": 14,
   "id": "0ae7bb34-0df2-488b-a16b-1c03ddab0d37",
   "metadata": {
    "deletable": false,
    "execution": {
     "iopub.execute_input": "2024-11-07T14:54:19.797086Z",
     "iopub.status.busy": "2024-11-07T14:54:19.796522Z",
     "iopub.status.idle": "2024-11-07T14:54:19.804690Z",
     "shell.execute_reply": "2024-11-07T14:54:19.803651Z"
    },
    "nbgrader": {
     "grade": false,
     "grade_id": "cell-30b54476aa422f9f",
     "locked": false,
     "schema_version": 3,
     "solution": true,
     "task": false
    }
   },
   "outputs": [],
   "source": [
    "#1.\n",
    "def countNumberEmail(structuredEmailRDD: RDD[Row], k: int)->int:\n",
    "    '''\n",
    "    The function counts the number of emails with more than `k` email addresses in the 'To' field.\n",
    "    \n",
    "    Args:\n",
    "    - structuredEmailRDD: RDD of Row objects, each containing an email's structured data.\n",
    "    - k: The threshold for the number of emails in the 'To' field.\n",
    "    \n",
    "    Returns:\n",
    "    - int: The count of emails with more than `k` email addresses in the 'To' field.\n",
    "    '''\n",
    "    count = -1\n",
    "    ### BEGIN SOLUTION\n",
    "    count =  structuredEmailRDD.map(lambda row: 1 if len(row.To) > k else 0).reduce(lambda a, b: a + b)\n",
    "    ### END SOLUTION\n",
    "    return count"
   ]
  },
  {
   "cell_type": "code",
   "execution_count": 15,
   "id": "3abdb6aa-d448-44f0-9da0-750afd51b634",
   "metadata": {
    "execution": {
     "iopub.execute_input": "2024-11-07T14:54:19.807852Z",
     "iopub.status.busy": "2024-11-07T14:54:19.807645Z",
     "iopub.status.idle": "2024-11-07T14:54:22.674626Z",
     "shell.execute_reply": "2024-11-07T14:54:22.674153Z"
    }
   },
   "outputs": [
    {
     "data": {
      "text/plain": [
       "647"
      ]
     },
     "execution_count": 15,
     "metadata": {},
     "output_type": "execute_result"
    }
   ],
   "source": [
    "countNumberEmail(structuredEmailRDD,40)"
   ]
  },
  {
   "cell_type": "code",
   "execution_count": 16,
   "id": "0a2d53d0-bcda-43f8-b0a1-40989ecdc234",
   "metadata": {
    "deletable": false,
    "editable": false,
    "execution": {
     "iopub.execute_input": "2024-11-07T14:54:22.678357Z",
     "iopub.status.busy": "2024-11-07T14:54:22.677839Z",
     "iopub.status.idle": "2024-11-07T14:54:22.909545Z",
     "shell.execute_reply": "2024-11-07T14:54:22.908774Z"
    },
    "nbgrader": {
     "grade": true,
     "grade_id": "cell-4da37f7613203cac",
     "locked": true,
     "points": 1,
     "schema_version": 3,
     "solution": false,
     "task": false
    }
   },
   "outputs": [],
   "source": [
    "### BEGIN HIDDEN TESTS\n",
    "structuredEmailRDDTest = createStructuredEmailRDDSolution(rddTest)\n",
    "countTest = countNumberEmail(structuredEmailRDDTest,12)\n",
    "assert countTest == 39, \"Count return wrong number email\"\n",
    "### END HIDDEN TESTS"
   ]
  },
  {
   "cell_type": "code",
   "execution_count": 17,
   "id": "7b310fc9-1470-4b63-b3f2-5a8d2e6e7a49",
   "metadata": {
    "deletable": false,
    "execution": {
     "iopub.execute_input": "2024-11-07T14:54:22.913296Z",
     "iopub.status.busy": "2024-11-07T14:54:22.913049Z",
     "iopub.status.idle": "2024-11-07T14:54:22.920438Z",
     "shell.execute_reply": "2024-11-07T14:54:22.919739Z"
    },
    "nbgrader": {
     "grade": false,
     "grade_id": "cell-d02661e91acdb7ec",
     "locked": false,
     "schema_version": 3,
     "solution": true,
     "task": false
    }
   },
   "outputs": [],
   "source": [
    "# 1đ\n",
    "def countUniqueEmailDomains(structuredEmailRDD: RDD[Row], k) -> int:\n",
    "    '''\n",
    "    This function counts the number of unique email domains in the \"CC\" field using `map` and `reduce`.\n",
    "    \n",
    "    Args:\n",
    "    - structuredEmailRDD: An RDD containing Row objects, each representing an email's structured data.\n",
    "    \n",
    "    Returns:\n",
    "    - dict: A dictionary showing the count of emails from each unique domain in the \"CC\" field.\n",
    "      Example:\n",
    "        If k = 3, the result might look like:\n",
    "        {\n",
    "          'enron.com': 16452,\n",
    "          'aol.com': 122,\n",
    "          'hotmail.com': 101\n",
    "        }\n",
    "    '''\n",
    "    results = {}\n",
    "    ### BEGIN SOLUTION\n",
    "    domainCounts = structuredEmailRDD.flatMap(lambda row: [email.split('@')[1] for email in row.CC]) \\\n",
    "                                    .map(lambda domain: (domain, 1)) \\\n",
    "                                    .reduceByKey(lambda a, b: a + b)\n",
    "    sortedDomainCounts = domainCounts.sortBy(lambda x: x[1], ascending=False)\n",
    "    topDomain = sortedDomainCounts.take(k)\n",
    "    results = {i:v for i,v in topDomain}\n",
    "    ### END SOLUTION\n",
    "    return results\n",
    "    "
   ]
  },
  {
   "cell_type": "code",
   "execution_count": 18,
   "id": "55ecb828-988f-47c0-a566-9430d15de4ac",
   "metadata": {
    "execution": {
     "iopub.execute_input": "2024-11-07T14:54:22.923998Z",
     "iopub.status.busy": "2024-11-07T14:54:22.923707Z",
     "iopub.status.idle": "2024-11-07T14:54:26.157711Z",
     "shell.execute_reply": "2024-11-07T14:54:26.157236Z"
    }
   },
   "outputs": [
    {
     "data": {
      "text/plain": [
       "{'enron.com': 18864,\n",
       " 'aol.com': 92,\n",
       " 'hotmail.com': 79,\n",
       " 'duke-energy.com': 68,\n",
       " 'haas.berkeley.edu': 50,\n",
       " 'caiso.com': 47,\n",
       " 'yahoo.com': 44,\n",
       " 'enron.com>': 43,\n",
       " 'iepa.com': 37,\n",
       " 'akllp.com': 35}"
      ]
     },
     "execution_count": 18,
     "metadata": {},
     "output_type": "execute_result"
    }
   ],
   "source": [
    "countUniqueEmailDomains(structuredEmailRDD, 10)"
   ]
  },
  {
   "cell_type": "code",
   "execution_count": 19,
   "id": "f4e5ae80-7da7-4a42-a13a-c42f3041fb26",
   "metadata": {
    "deletable": false,
    "editable": false,
    "execution": {
     "iopub.execute_input": "2024-11-07T14:54:26.163411Z",
     "iopub.status.busy": "2024-11-07T14:54:26.163174Z",
     "iopub.status.idle": "2024-11-07T14:54:26.510074Z",
     "shell.execute_reply": "2024-11-07T14:54:26.509445Z"
    },
    "nbgrader": {
     "grade": true,
     "grade_id": "cell-630afb428dfa2ea0",
     "locked": true,
     "points": 1,
     "schema_version": 3,
     "solution": false,
     "task": false
    }
   },
   "outputs": [],
   "source": [
    "### BEGIN HIDDEN TESTS\n",
    "countDomains = countUniqueEmailDomains(structuredEmailRDDTest,3)\n",
    "assert countDomains == {'enron.com': 447, 'socalgas.com': 6, 'haas.berkeley.edu': 5}, \"countUniqueEmailDomains wrong answer\"\n",
    "### END HIDDEN TESTS"
   ]
  },
  {
   "cell_type": "code",
   "execution_count": 20,
   "id": "0678e6b7-6216-4fe0-83ec-98b4f9bb46e1",
   "metadata": {
    "deletable": false,
    "execution": {
     "iopub.execute_input": "2024-11-07T14:54:26.513543Z",
     "iopub.status.busy": "2024-11-07T14:54:26.513325Z",
     "iopub.status.idle": "2024-11-07T14:54:26.517078Z",
     "shell.execute_reply": "2024-11-07T14:54:26.516622Z"
    },
    "nbgrader": {
     "grade": false,
     "grade_id": "cell-99c1d7a5f29cd658",
     "locked": false,
     "schema_version": 3,
     "solution": true,
     "task": false
    }
   },
   "outputs": [],
   "source": [
    "# 0.5đ ;\n",
    "def countEmailsBySubject(structuredEmailRDD: RDD[Row], subjectContent: str) -> int:\n",
    "    '''\n",
    "    The function count num emails the dataset to the subject have included \"subjectContent\", case insensitive\n",
    "\n",
    "    Args:\n",
    "    - structuredEmailRDD: RDD of Row objects containing an email's structured data.\n",
    "    - subSubject: The content of the subject to filter by.\n",
    "\n",
    "    Returns:\n",
    "    - numEmails: Subject include content have substring subjectContent\n",
    "    '''\n",
    "    numEmails =  -1\n",
    "    ### BEGIN SOLUTION\n",
    "    filteredEmailsRDD = structuredEmailRDD.filter(lambda emailRow: subjectContent.lower() in emailRow.Subject.lower())\n",
    "    numEmails = filteredEmailsRDD.count()\n",
    "     ### END SOLUTION\n",
    "    return numEmails"
   ]
  },
  {
   "cell_type": "code",
   "execution_count": 21,
   "id": "1be41dbe-c223-4914-bde0-250c917d3fc9",
   "metadata": {
    "execution": {
     "iopub.execute_input": "2024-11-07T14:54:26.519474Z",
     "iopub.status.busy": "2024-11-07T14:54:26.519345Z",
     "iopub.status.idle": "2024-11-07T14:54:29.143552Z",
     "shell.execute_reply": "2024-11-07T14:54:29.143076Z"
    }
   },
   "outputs": [
    {
     "data": {
      "text/plain": [
       "78"
      ]
     },
     "execution_count": 21,
     "metadata": {},
     "output_type": "execute_result"
    }
   ],
   "source": [
    "countEmailsBySubject(structuredEmailRDD, \"bank\")"
   ]
  },
  {
   "cell_type": "code",
   "execution_count": 22,
   "id": "da673aa2-787d-4861-be88-e2603b2142ac",
   "metadata": {
    "deletable": false,
    "editable": false,
    "execution": {
     "iopub.execute_input": "2024-11-07T14:54:29.149330Z",
     "iopub.status.busy": "2024-11-07T14:54:29.149112Z",
     "iopub.status.idle": "2024-11-07T14:54:29.640992Z",
     "shell.execute_reply": "2024-11-07T14:54:29.640190Z"
    },
    "nbgrader": {
     "grade": true,
     "grade_id": "cell-abd5680f3d099fdd",
     "locked": true,
     "points": 0.5,
     "schema_version": 3,
     "solution": false,
     "task": false
    }
   },
   "outputs": [],
   "source": [
    "### BEGIN HIDDEN TESTS\n",
    "countEmailsByRecipient =  countEmailsBySubject(structuredEmailRDDTest, \"email\")\n",
    "assert countEmailsByRecipient == 2, \"countEmailsByRecipient wrong answer\"\n",
    "assert countEmailsBySubject(structuredEmailRDDTest, \"email\") == countEmailsBySubject(structuredEmailRDDTest, \"EMaIL\"), \"countEmailsByRecipient wrong answer\"\n",
    "### END HIDDEN TESTS"
   ]
  },
  {
   "cell_type": "code",
   "execution_count": 23,
   "id": "96b17834-fb97-4921-8ca0-4d69e08d1af5",
   "metadata": {
    "deletable": false,
    "execution": {
     "iopub.execute_input": "2024-11-07T14:54:29.645166Z",
     "iopub.status.busy": "2024-11-07T14:54:29.644935Z",
     "iopub.status.idle": "2024-11-07T14:54:29.653401Z",
     "shell.execute_reply": "2024-11-07T14:54:29.652438Z"
    },
    "nbgrader": {
     "grade": false,
     "grade_id": "cell-e9d7845d1119de1d",
     "locked": false,
     "schema_version": 3,
     "solution": true,
     "task": false
    }
   },
   "outputs": [],
   "source": [
    "# 1.5d\n",
    "def getTopKFrequentWordsInContentBySender(structuredEmailRDD: RDD[Row], sender: str, k: int) -> dict:\n",
    "    '''\n",
    "    This function filtered emails in the dataset sent by a specific sender's email,\n",
    "    and then returns the top k most frequent words found in the content of those filtered emails.\n",
    "\n",
    "    Args:\n",
    "    - structuredEmailRDD: RDD of Row objects, where each Row represents an email with structured data, such as subject and content.\n",
    "    - sender: sender's email which needs to count.\n",
    "    - k: The number of most frequent words to return.\n",
    "\n",
    "    Returns:\n",
    "    - topKWordsDict: A dictionary containing the top k most frequent words found in the content of filtered emails.\n",
    "                     The keys are the words, and the values are their frequencies, representing how often they appear in the content of the filtered emails.\n",
    "                    example:\n",
    "                    {'to': 12,\n",
    "                     'the': 9,\n",
    "                     'your': 8,\n",
    "                     'a': 5,\n",
    "                     'is': 4,\n",
    "                     'survey': 4,\n",
    "                     'and': 4,\n",
    "                     'you': 4,\n",
    "                     'of': 3,\n",
    "                     'very': 3}\n",
    "    '''\n",
    "    topKWordsDict = {}\n",
    "    ### BEGIN SOLUTION\n",
    "    filteredEmailsRDD = structuredEmailRDD.filter(lambda emailRow: sender in emailRow.From)\n",
    "    \n",
    "    wordCountRDD = filteredEmailsRDD.flatMap(lambda emailRow: emailRow.Content.lower().split()) \\\n",
    "                                    .map(lambda word: (word, 1)) \\\n",
    "                                    .reduceByKey(lambda a, b: a + b)\n",
    "    sortedWordCount = wordCountRDD.collect()\n",
    "    sortedWordCount.sort(key=lambda x: x[1], reverse=True)\n",
    "    topKWordsDict = dict(sortedWordCount[:k])\n",
    "    ### END SOLUTION\n",
    "    return topKWordsDict"
   ]
  },
  {
   "cell_type": "code",
   "execution_count": 24,
   "id": "002a9435-c323-40f9-bb2c-d32dc046eaca",
   "metadata": {
    "execution": {
     "iopub.execute_input": "2024-11-07T14:54:29.657346Z",
     "iopub.status.busy": "2024-11-07T14:54:29.657135Z",
     "iopub.status.idle": "2024-11-07T14:54:31.722360Z",
     "shell.execute_reply": "2024-11-07T14:54:31.720983Z"
    }
   },
   "outputs": [
    {
     "data": {
      "text/plain": [
       "{'the': 1501,\n",
       " 'to': 962,\n",
       " 'and': 703,\n",
       " 'of': 642,\n",
       " 'a': 524,\n",
       " 'i': 487,\n",
       " 'on': 448,\n",
       " 'you': 447,\n",
       " 'for': 441,\n",
       " 'tana': 391}"
      ]
     },
     "execution_count": 24,
     "metadata": {},
     "output_type": "execute_result"
    }
   ],
   "source": [
    "getTopKFrequentWordsInContentBySender(structuredEmailRDD, \"tana.jones@enron.com\", 10)"
   ]
  },
  {
   "cell_type": "code",
   "execution_count": 25,
   "id": "53b7d1c1-55d8-4e53-99a5-6a54cfacf893",
   "metadata": {
    "deletable": false,
    "editable": false,
    "execution": {
     "iopub.execute_input": "2024-11-07T14:54:31.727243Z",
     "iopub.status.busy": "2024-11-07T14:54:31.726004Z",
     "iopub.status.idle": "2024-11-07T14:54:31.984263Z",
     "shell.execute_reply": "2024-11-07T14:54:31.983752Z"
    },
    "nbgrader": {
     "grade": true,
     "grade_id": "cell-d19a92dc491afed1",
     "locked": true,
     "points": 1.5,
     "schema_version": 3,
     "solution": false,
     "task": false
    }
   },
   "outputs": [],
   "source": [
    "### BEGIN HIDDEN TESTS\n",
    "topkWord = getTopKFrequentWordsInContentBySender(structuredEmailRDDTest, \"tana.jones@enron.com\", 4)\n",
    "assert topkWord == {'the': 25, 'a': 20, 'to': 14, '=20': 14}, \"getTopKFrequentWordsInContentBySender wrong answer\"\n",
    "### END HIDDEN TESTS"
   ]
  },
  {
   "cell_type": "code",
   "execution_count": 26,
   "id": "31be9470-a651-42f6-83e2-8aa993ec4ec6",
   "metadata": {
    "execution": {
     "iopub.execute_input": "2024-11-07T14:54:31.987294Z",
     "iopub.status.busy": "2024-11-07T14:54:31.986932Z",
     "iopub.status.idle": "2024-11-07T14:54:32.422159Z",
     "shell.execute_reply": "2024-11-07T14:54:32.421767Z"
    }
   },
   "outputs": [],
   "source": [
    "# SQL Query\n",
    "from pyspark.sql import SQLContext\n",
    "from pyspark.sql.functions import col, size, to_date, year, month, weekofyear\n",
    "sc.conf.set(\"spark.sql.legacy.timeParserPolicy\", \"LEGACY\")\n",
    "# Convert RDD to DataFrame\n",
    "dfEmais = structuredEmailRDD.toDF()\n",
    "dfEmais = dfEmais.withColumn('DateTime', to_date(col('Date'), \"EEE, d MMM yyyy HH:mm:ss Z\"))\n",
    "dfEmais = dfEmais.withColumn('Num_To', size(col('To')))\n",
    "dfEmais = dfEmais.withColumn('Num_CC', size(col('CC')))"
   ]
  },
  {
   "cell_type": "code",
   "execution_count": 27,
   "id": "d0a78ec9-d3c7-4240-879f-6bd77d6dcf3b",
   "metadata": {
    "execution": {
     "iopub.execute_input": "2024-11-07T14:54:32.425160Z",
     "iopub.status.busy": "2024-11-07T14:54:32.424948Z",
     "iopub.status.idle": "2024-11-07T14:54:32.455395Z",
     "shell.execute_reply": "2024-11-07T14:54:32.454569Z"
    }
   },
   "outputs": [
    {
     "name": "stderr",
     "output_type": "stream",
     "text": [
      "/usr/local/spark/python/pyspark/sql/context.py:113: FutureWarning: Deprecated in 3.0.0. Use SparkSession.builder.getOrCreate() instead.\n",
      "  warnings.warn(\n"
     ]
    }
   ],
   "source": [
    "sqlContext = SQLContext(sc)\n",
    "tableName = \"Emails\"\n",
    "dfEmais.createOrReplaceTempView(tableName)"
   ]
  },
  {
   "cell_type": "code",
   "execution_count": 28,
   "id": "7d486f6f-98a8-4d05-94bb-867fd158f912",
   "metadata": {
    "deletable": false,
    "execution": {
     "iopub.execute_input": "2024-11-07T14:54:32.460913Z",
     "iopub.status.busy": "2024-11-07T14:54:32.460761Z",
     "iopub.status.idle": "2024-11-07T14:54:32.464965Z",
     "shell.execute_reply": "2024-11-07T14:54:32.464678Z"
    },
    "nbgrader": {
     "grade": false,
     "grade_id": "cell-59cba51c8b97bd45",
     "locked": false,
     "schema_version": 3,
     "solution": true,
     "task": false
    }
   },
   "outputs": [],
   "source": [
    "# 0.5đ\n",
    "def getTopKRowsBySQL(sqlContext: SQLContext, tableName: str, k: int) -> DataFrame:\n",
    "    '''\n",
    "    This function queries the first k rows from a given table using SQLContext.\n",
    "\n",
    "    Args:\n",
    "    - sqlContext: An SQLContext object that provides the environment to run SQL queries on structured data.\n",
    "    - tableName: The name of the table from which the rows will be selected.\n",
    "    - k: The number of rows to return. It must be a positive integer.\n",
    "\n",
    "    Returns:\n",
    "    - result: A DataFrame containing the first k rows of data from the specified table.\n",
    "                If the table contains fewer than k rows, the DataFrame will contain all available rows.\n",
    "    '''\n",
    "    ### BEGIN SOLUTION\n",
    "    assert isinstance(sqlContext, SQLContext), f\"sqlContext is not the correct data type, expected SQLContext but got {type(sqlContext)}\"\n",
    "    assert isinstance(tableName, str), f\"tableName is not the correct data type, expected string but got {type(tableName)}\"\n",
    "    assert isinstance(k, int) and k > 0, f\"k must be a positive integer, but got {k}\"\n",
    "\n",
    "    query = f\"SELECT * FROM {tableName} LIMIT {k}\"\n",
    "    \n",
    "    result = sqlContext.sql(query)\n",
    "    ### END SOLUTION\n",
    "    return result\n",
    "\n",
    "\n",
    "def getTopKRowsByDFOperations(dataFrame: DataFrame, k: int) -> DataFrame:\n",
    "    '''\n",
    "    This function queries the first k rows from a given table using SQLContext.\n",
    "\n",
    "    Args:\n",
    "    - dataFrame: An DataFrame data\n",
    "    - tableName: The name of the table from which the rows will be selected.\n",
    "    - k: The number of rows to return. It must be a positive integer.\n",
    "\n",
    "    Returns:\n",
    "    - resultDF: A DataFrame containing the first k rows of data from the specified table.\n",
    "                If the table contains fewer than k rows, the DataFrame will contain all available rows.\n",
    "    '''\n",
    "    ### BEGIN SOLUTION\n",
    "    assert isinstance(dataFrame, DataFrame), f\"sqlContext is not the correct data type, expected SQLContext but got {type(dataFrame)}\"\n",
    "    assert isinstance(k, int) and k > 0, f\"k must be a positive integer, but got {k}\"\n",
    "    result =  dataFrame.limit(k)\n",
    "    ### END SOLUTION\n",
    "    return result"
   ]
  },
  {
   "cell_type": "code",
   "execution_count": 29,
   "id": "c1cff216-d470-4207-b975-b74879c068e7",
   "metadata": {
    "execution": {
     "iopub.execute_input": "2024-11-07T14:54:32.470063Z",
     "iopub.status.busy": "2024-11-07T14:54:32.469934Z",
     "iopub.status.idle": "2024-11-07T14:54:37.519040Z",
     "shell.execute_reply": "2024-11-07T14:54:37.518469Z"
    }
   },
   "outputs": [
    {
     "name": "stdout",
     "output_type": "stream",
     "text": [
      "+--------------------+--------------------+--------------------+----------------+--------------------+--------------------+----------+------+------+\n",
      "|                Date|                From|                  To|         Subject|                  CC|             Content|  DateTime|Num_To|Num_CC|\n",
      "+--------------------+--------------------+--------------------+----------------+--------------------+--------------------+----------+------+------+\n",
      "|Thu, 1 Feb 2001 0...|[tana.jones@enron...|[carol.clair@enro...|Deutsche Bank AG|[larry.gagliardi@...|We have received ...|2001-02-01|    64|     3|\n",
      "+--------------------+--------------------+--------------------+----------------+--------------------+--------------------+----------+------+------+\n",
      "\n"
     ]
    }
   ],
   "source": [
    "getTopKRowsBySQL(sqlContext,tableName,1).show()"
   ]
  },
  {
   "cell_type": "code",
   "execution_count": 30,
   "id": "cb6ee991-3da3-44ca-9a5f-43544fad57c8",
   "metadata": {
    "execution": {
     "iopub.execute_input": "2024-11-07T14:54:37.521169Z",
     "iopub.status.busy": "2024-11-07T14:54:37.521018Z",
     "iopub.status.idle": "2024-11-07T14:54:37.774710Z",
     "shell.execute_reply": "2024-11-07T14:54:37.774227Z"
    }
   },
   "outputs": [
    {
     "name": "stdout",
     "output_type": "stream",
     "text": [
      "+--------------------+--------------------+--------------------+----------------+--------------------+--------------------+----------+------+------+\n",
      "|                Date|                From|                  To|         Subject|                  CC|             Content|  DateTime|Num_To|Num_CC|\n",
      "+--------------------+--------------------+--------------------+----------------+--------------------+--------------------+----------+------+------+\n",
      "|Thu, 1 Feb 2001 0...|[tana.jones@enron...|[carol.clair@enro...|Deutsche Bank AG|[larry.gagliardi@...|We have received ...|2001-02-01|    64|     3|\n",
      "+--------------------+--------------------+--------------------+----------------+--------------------+--------------------+----------+------+------+\n",
      "\n"
     ]
    }
   ],
   "source": [
    "getTopKRowsByDFOperations(dfEmais,1).show()"
   ]
  },
  {
   "cell_type": "code",
   "execution_count": 31,
   "id": "c51895f6-cc29-407c-a5e6-6fab2300905f",
   "metadata": {
    "deletable": false,
    "editable": false,
    "execution": {
     "iopub.execute_input": "2024-11-07T14:54:37.779143Z",
     "iopub.status.busy": "2024-11-07T14:54:37.778751Z",
     "iopub.status.idle": "2024-11-07T14:54:38.797927Z",
     "shell.execute_reply": "2024-11-07T14:54:38.796352Z"
    },
    "nbgrader": {
     "grade": true,
     "grade_id": "cell-df767c7815b5f8ed",
     "locked": true,
     "points": 0.25,
     "schema_version": 3,
     "solution": false,
     "task": false
    }
   },
   "outputs": [],
   "source": [
    "### BEGIN HIDDEN TESTS\n",
    "dfEmaisTest = structuredEmailRDDTest.toDF()\n",
    "dfEmaisTest = dfEmaisTest.withColumn('DateTime', to_date(col('Date'), \"EEE, d MMM yyyy HH:mm:ss Z\"))\n",
    "dfEmaisTest = dfEmaisTest.withColumn('Num_To', size(col('To')))\n",
    "dfEmaisTest = dfEmaisTest.withColumn('Num_CC', size(col('CC')))\n",
    "tableNameTest = \"EmailsTest\"\n",
    "dfEmaisTest.createOrReplaceTempView(tableNameTest)\n",
    "def getTopKRowsBySQLSolution(sqlContext: SQLContext, tableName: str, k: int) -> DataFrame:\n",
    "    query = f\"SELECT * FROM {tableName} LIMIT {k}\"\n",
    "    result = sqlContext.sql(query)\n",
    "    return result\n",
    "assert getTopKRowsBySQL(sqlContext,tableNameTest,5).take(4) == getTopKRowsBySQLSolution(sqlContext,tableNameTest,5).take(4), \"Wrong in function getTopKRowsBySQL\"\n",
    "assert getTopKRowsBySQL(sqlContext,tableNameTest,1).take(4) == getTopKRowsBySQLSolution(sqlContext,tableNameTest,1).take(4), \"Wrong in function getTopKRowsBySQL\"\n",
    "### END HIDDEN TESTS"
   ]
  },
  {
   "cell_type": "code",
   "execution_count": 32,
   "id": "a1954846-c34f-4da1-b0f5-3483e0dec7a1",
   "metadata": {
    "deletable": false,
    "editable": false,
    "execution": {
     "iopub.execute_input": "2024-11-07T14:54:38.800413Z",
     "iopub.status.busy": "2024-11-07T14:54:38.800024Z",
     "iopub.status.idle": "2024-11-07T14:54:39.542675Z",
     "shell.execute_reply": "2024-11-07T14:54:39.542154Z"
    },
    "nbgrader": {
     "grade": true,
     "grade_id": "cell-74f2bce6371a9e1e",
     "locked": true,
     "points": 0.25,
     "schema_version": 3,
     "solution": false,
     "task": false
    }
   },
   "outputs": [],
   "source": [
    "### BEGIN HIDDEN TESTS    \n",
    "assert getTopKRowsByDFOperations(dfEmaisTest,5).take(4) == dfEmaisTest.limit(5).take(4), \"Wrong in function getTopKRowsByDFOperations\"\n",
    "assert getTopKRowsByDFOperations(dfEmaisTest,1).take(4) == dfEmaisTest.limit(1).take(4), \"Wrong in function getTopKRowsByDFOperations\"\n",
    "### END HIDDEN TESTS"
   ]
  },
  {
   "cell_type": "code",
   "execution_count": 33,
   "id": "98ec8dc9-8a72-4f4b-93bc-45af33915ddf",
   "metadata": {
    "deletable": false,
    "execution": {
     "iopub.execute_input": "2024-11-07T14:54:39.545369Z",
     "iopub.status.busy": "2024-11-07T14:54:39.545173Z",
     "iopub.status.idle": "2024-11-07T14:54:39.551239Z",
     "shell.execute_reply": "2024-11-07T14:54:39.550428Z"
    },
    "nbgrader": {
     "grade": false,
     "grade_id": "cell-5db80bd0514fec79",
     "locked": false,
     "schema_version": 3,
     "solution": true,
     "task": false
    }
   },
   "outputs": [],
   "source": [
    "# 1đ, 6.5đ\n",
    "def countEmailsWithToGreaterThanKBySQL(sqlContext: SQLContext, tableName: str, k: int) -> int:\n",
    "    '''\n",
    "    This function uses SQL to count the number of emails with more than k email addresses in the To field.\n",
    "\n",
    "    Args:\n",
    "    - sqlContext: An SQLContext object that provides the environment to run SQL queries on structured data.\n",
    "    - tableName: The name of the table that contains the email data.\n",
    "    - k: The threshold number of email addresses in the To field.\n",
    "\n",
    "    Returns:\n",
    "    - count: An integer representing the number of emails where the To field has more than k email addresses.\n",
    "    '''\n",
    "    ### BEGIN SOLUTION\n",
    "    assert isinstance(sqlContext, SQLContext), f\"sqlContext is not the correct data type, expected SQLContext but got {type(sqlContext)}\"\n",
    "    assert isinstance(tableName, str), f\"tableName is not the correct data type, expected string but got {type(tableName)}\"\n",
    "    assert isinstance(k, int) and k >= 0, f\"k must be a non-negative integer, but got {k}\"\n",
    "    query = f\"SELECT COUNT(*) as count FROM {tableName} WHERE size(To) > {k}\"\n",
    "    resultDF = sqlContext.sql(query)\n",
    "    count = resultDF.collect()[0]['count']\n",
    "    ### END SOLUTION\n",
    "    return count\n",
    "def countEmailsWithToGreaterThanKByDFOperations(dataFrame: DataFrame, k: int) -> int:\n",
    "    '''\n",
    "    This function counts the number of emails with more than k email addresses in the To field using DataFrame operations.\n",
    "\n",
    "    Args:\n",
    "    - dataFrame: A DataFrame containing the email data.\n",
    "    - k: The threshold number of email addresses in the To field.\n",
    "\n",
    "    Returns:\n",
    "    - count: An integer representing the number of emails where the To field has more than k email addresses.\n",
    "    '''\n",
    "    ### BEGIN SOLUTION\n",
    "    assert isinstance(dataFrame, DataFrame), f\"dataFrame is not the correct data type, expected DataFrame but got {type(dataFrame)}\"\n",
    "    assert isinstance(k, int) and k >= 0, f\"k must be a non-negative integer, but got {k}\"\n",
    "\n",
    "    result = dataFrame.filter(size(col('To')) > k).count()\n",
    "    ### END SOLUTION\n",
    "    return result\n"
   ]
  },
  {
   "cell_type": "code",
   "execution_count": 34,
   "id": "8259a184-9748-49c9-92c5-59f2c1b1fdd1",
   "metadata": {
    "execution": {
     "iopub.execute_input": "2024-11-07T14:54:39.554632Z",
     "iopub.status.busy": "2024-11-07T14:54:39.554439Z",
     "iopub.status.idle": "2024-11-07T14:54:41.831982Z",
     "shell.execute_reply": "2024-11-07T14:54:41.831521Z"
    }
   },
   "outputs": [
    {
     "data": {
      "text/plain": [
       "525"
      ]
     },
     "execution_count": 34,
     "metadata": {},
     "output_type": "execute_result"
    }
   ],
   "source": [
    "countEmailsWithToGreaterThanKBySQL(sqlContext,tableName,50)"
   ]
  },
  {
   "cell_type": "code",
   "execution_count": 35,
   "id": "51e7f78f-cfa0-40e1-a247-e81de2510f08",
   "metadata": {
    "deletable": false,
    "editable": false,
    "execution": {
     "iopub.execute_input": "2024-11-07T14:54:41.836018Z",
     "iopub.status.busy": "2024-11-07T14:54:41.835813Z",
     "iopub.status.idle": "2024-11-07T14:54:42.293424Z",
     "shell.execute_reply": "2024-11-07T14:54:42.292888Z"
    },
    "nbgrader": {
     "grade": true,
     "grade_id": "cell-9274467b6b9c0656",
     "locked": true,
     "points": 0.5,
     "schema_version": 3,
     "solution": false,
     "task": false
    }
   },
   "outputs": [],
   "source": [
    "### BEGIN HIDDEN TESTS\n",
    "assert countEmailsWithToGreaterThanKBySQL(sqlContext,tableNameTest,50) == 12, \"Wrong in function countEmailsWithToGreaterThanKBySQL\"\n",
    "assert countEmailsWithToGreaterThanKBySQL(sqlContext,tableNameTest,10) == 46, \"Wrong in function countEmailsWithToGreaterThanKBySQL\"\n",
    "### END HIDDEN TESTS"
   ]
  },
  {
   "cell_type": "code",
   "execution_count": 36,
   "id": "ac2c7f64-bcc2-4388-9ead-0c3a8d1041af",
   "metadata": {
    "deletable": false,
    "editable": false,
    "execution": {
     "iopub.execute_input": "2024-11-07T14:54:42.296443Z",
     "iopub.status.busy": "2024-11-07T14:54:42.296048Z",
     "iopub.status.idle": "2024-11-07T14:54:42.691093Z",
     "shell.execute_reply": "2024-11-07T14:54:42.690524Z"
    },
    "nbgrader": {
     "grade": true,
     "grade_id": "cell-079549d288632298",
     "locked": true,
     "points": 0.5,
     "schema_version": 3,
     "solution": false,
     "task": false
    }
   },
   "outputs": [],
   "source": [
    "### BEGIN HIDDEN TESTS\n",
    "assert countEmailsWithToGreaterThanKByDFOperations(dfEmaisTest, 50) == 12, \"Wrong in function countEmailsWithCCGreaterThanKByDFOperations\"\n",
    "assert countEmailsWithToGreaterThanKByDFOperations(dfEmaisTest, 10) == 46, \"Wrong in function countEmailsWithCCGreaterThanKByDFOperations\"\n",
    "### END HIDDEN TESTS"
   ]
  },
  {
   "cell_type": "code",
   "execution_count": 37,
   "id": "d612925f-7317-46f0-b1bd-d74c30f47cac",
   "metadata": {
    "deletable": false,
    "execution": {
     "iopub.execute_input": "2024-11-07T14:54:42.694770Z",
     "iopub.status.busy": "2024-11-07T14:54:42.694193Z",
     "iopub.status.idle": "2024-11-07T14:54:42.700111Z",
     "shell.execute_reply": "2024-11-07T14:54:42.699550Z"
    },
    "nbgrader": {
     "grade": false,
     "grade_id": "cell-d1ace5fce549a773",
     "locked": false,
     "schema_version": 3,
     "solution": true,
     "task": false
    }
   },
   "outputs": [],
   "source": [
    "#1đ, 7.5\n",
    "\n",
    "def countEmailsWithMoreToThanCCInJanuaryBySQL(sqlContext: SQLContext, tableName: str) -> int:\n",
    "    '''\n",
    "    This function calculates the number of emails sent in January where the Num_To is greater than Num_CC using SQL.\n",
    "\n",
    "    Args:\n",
    "    - sqlContext: An SQLContext object that provides the environment to run SQL queries on structured data.\n",
    "    - tableName: The name of the table that contains the email data.\n",
    "\n",
    "    Returns:\n",
    "    - email_count: An integer representing the number of emails that meet the criteria.\n",
    "    '''\n",
    "    \n",
    "    assert isinstance(sqlContext, SQLContext), f\"sqlContext is not the correct data type, expected SQLContext but got {type(sqlContext)}\"\n",
    "    assert isinstance(tableName, str), f\"tableName is not the correct data type, expected string but got {type(tableName)}\"\n",
    "\n",
    "    query = f\"\"\"\n",
    "        SELECT COUNT(*) as email_count\n",
    "        FROM {tableName}\n",
    "        WHERE Num_To > Num_CC\n",
    "        AND MONTH(DateTime) = 1\n",
    "    \"\"\"\n",
    "    \n",
    "    resultDF = sqlContext.sql(query)\n",
    "    email_count = resultDF.collect()[0]['email_count']\n",
    "    return email_count\n",
    "\n",
    "def countEmailsWithMoreToThanCCInJanuaryByDFOperations(dataFrame: DataFrame) -> int:\n",
    "    '''\n",
    "    This function calculates the number of emails sent in January where the Num_To is greater than Num_CC using DataFrame operations.\n",
    "\n",
    "    Args:\n",
    "    - dataFrame: A DataFrame containing the email data.\n",
    "\n",
    "    Returns:\n",
    "    - email_count: An integer representing the number of emails that meet the criteria.\n",
    "    '''\n",
    "    \n",
    "    assert isinstance(dataFrame, DataFrame), f\"dataFrame is not the correct data type, expected DataFrame but got {type(dataFrame)}\"\n",
    "\n",
    "    result = dataFrame.filter((col(\"Num_To\") > col(\"Num_CC\")) & (month(col(\"DateTime\")) == 1)).count()\n",
    "    return result\n"
   ]
  },
  {
   "cell_type": "code",
   "execution_count": 38,
   "id": "c9ea8fee-b852-4794-b8b5-c54eaa901145",
   "metadata": {
    "execution": {
     "iopub.execute_input": "2024-11-07T14:54:42.703392Z",
     "iopub.status.busy": "2024-11-07T14:54:42.702948Z",
     "iopub.status.idle": "2024-11-07T14:54:45.654569Z",
     "shell.execute_reply": "2024-11-07T14:54:45.654077Z"
    }
   },
   "outputs": [
    {
     "data": {
      "text/plain": [
       "1567"
      ]
     },
     "execution_count": 38,
     "metadata": {},
     "output_type": "execute_result"
    }
   ],
   "source": [
    "countEmailsWithMoreToThanCCInJanuaryBySQL(sqlContext, tableName)"
   ]
  },
  {
   "cell_type": "code",
   "execution_count": 39,
   "id": "6a05525a-6daa-472f-ba14-078dd0dfa860",
   "metadata": {
    "execution": {
     "iopub.execute_input": "2024-11-07T14:54:45.660393Z",
     "iopub.status.busy": "2024-11-07T14:54:45.659706Z",
     "iopub.status.idle": "2024-11-07T14:54:47.872359Z",
     "shell.execute_reply": "2024-11-07T14:54:47.870808Z"
    }
   },
   "outputs": [
    {
     "data": {
      "text/plain": [
       "1567"
      ]
     },
     "execution_count": 39,
     "metadata": {},
     "output_type": "execute_result"
    }
   ],
   "source": [
    "countEmailsWithMoreToThanCCInJanuaryByDFOperations(dfEmais)"
   ]
  },
  {
   "cell_type": "code",
   "execution_count": 40,
   "id": "0fd4e2c0-e901-4c4f-bd6c-323c9cf16ead",
   "metadata": {
    "deletable": false,
    "editable": false,
    "execution": {
     "iopub.execute_input": "2024-11-07T14:54:47.875524Z",
     "iopub.status.busy": "2024-11-07T14:54:47.875224Z",
     "iopub.status.idle": "2024-11-07T14:54:48.089961Z",
     "shell.execute_reply": "2024-11-07T14:54:48.088819Z"
    },
    "nbgrader": {
     "grade": true,
     "grade_id": "cell-b9f5111be939765c",
     "locked": true,
     "points": 0.5,
     "schema_version": 3,
     "solution": false,
     "task": false
    }
   },
   "outputs": [],
   "source": [
    "### BEGIN HIDDEN TESTS\n",
    "import datetime\n",
    "assert countEmailsWithMoreToThanCCInJanuaryBySQL(sqlContext, tableNameTest) == 43, \"Wrong in function countEmailsWithMoreToThanCCInJanuaryBySQL\"\n",
    "### END HIDDEN TESTS"
   ]
  },
  {
   "cell_type": "code",
   "execution_count": 41,
   "id": "abd46ebd-8bf9-4442-8a3f-5cedc3e2d355",
   "metadata": {
    "deletable": false,
    "editable": false,
    "execution": {
     "iopub.execute_input": "2024-11-07T14:54:48.095109Z",
     "iopub.status.busy": "2024-11-07T14:54:48.094893Z",
     "iopub.status.idle": "2024-11-07T14:54:48.298906Z",
     "shell.execute_reply": "2024-11-07T14:54:48.298179Z"
    },
    "nbgrader": {
     "grade": true,
     "grade_id": "cell-040fe6d90cdb261f",
     "locked": true,
     "points": 0.5,
     "schema_version": 3,
     "solution": false,
     "task": false
    }
   },
   "outputs": [],
   "source": [
    "### BEGIN HIDDEN TESTS\n",
    "import datetime\n",
    "assert countEmailsWithMoreToThanCCInJanuaryByDFOperations(dfEmaisTest) == 43, \"Wrong in function countEmailsWithMoreToThanCCInJanuaryByDFOperations\"\n",
    "### END HIDDEN TESTS"
   ]
  },
  {
   "cell_type": "code",
   "execution_count": 42,
   "id": "c9ad8972-c32a-4ce0-a1f3-34f1580085c1",
   "metadata": {
    "deletable": false,
    "execution": {
     "iopub.execute_input": "2024-11-07T14:54:48.302956Z",
     "iopub.status.busy": "2024-11-07T14:54:48.302620Z",
     "iopub.status.idle": "2024-11-07T14:54:48.316797Z",
     "shell.execute_reply": "2024-11-07T14:54:48.315857Z"
    },
    "nbgrader": {
     "grade": false,
     "grade_id": "cell-6b8a3a09e52c62fc",
     "locked": false,
     "schema_version": 3,
     "solution": true,
     "task": false
    }
   },
   "outputs": [],
   "source": [
    "# 1đ, 8.5\n",
    "def countEmailsInMonthBySQL(sqlContext: SQLContext, tableName: str, monthValue: int) -> int:\n",
    "    '''\n",
    "    This function calculates the number of emails sent in a given year by performing a group by operation on the DateTime column using SQL.\n",
    "\n",
    "    Args:\n",
    "    - sqlContext: An SQLContext object that provides the environment to run SQL queries on structured data.\n",
    "    - tableName: The name of the table that contains the email data.\n",
    "    - monthValue: The specific month to filter the emails by (1-12).\n",
    "\n",
    "    Returns:\n",
    "    - email_count: An integer representing the number of emails sent in the given date.\n",
    "    '''\n",
    "    ### BEGIN SOLUTION    \n",
    "    assert isinstance(sqlContext, SQLContext), f\"sqlContext is not the correct data type, expected SQLContext but got {type(sqlContext)}\"\n",
    "    assert isinstance(tableName, str), f\"tableName is not the correct data type, expected string but got {type(tableName)}\"\n",
    "    assert isinstance(monthValue, int) and monthValue > 0 and monthValue <= 12, f\"monthValue must be a positive integer and in (1,30), but got {monthValue}\"\n",
    "\n",
    "    query = f\"\"\"\n",
    "        SELECT COUNT(*) as email_count\n",
    "        FROM {tableName}\n",
    "        WHERE MONTH(DateTime) = {monthValue}\n",
    "    \"\"\"\n",
    "    \n",
    "    resultDF = sqlContext.sql(query)\n",
    "    emailCount = resultDF.collect()[0]['email_count']\n",
    "    ### END SOLUTION\n",
    "    return emailCount\n",
    "\n",
    "def countEmailsInMonthByDFOperations(dataFrame: DataFrame, monthValue: int) -> int:\n",
    "    '''\n",
    "    This function calculates the number of emails sent in a given month by performing a filter operation on the DateTime column using DataFrame operations.\n",
    "\n",
    "    Args:\n",
    "    - dataFrame: A DataFrame containing the email data.\n",
    "    - monthValue: The specific date to filter the emails by.\n",
    "\n",
    "    Returns:\n",
    "    - email_count: An integer representing the number of emails sent in the given monthValue.\n",
    "    '''\n",
    "    assert isinstance(dataFrame, DataFrame), f\"dataFrame is not the correct data type, expected DataFrame but got {type(dataFrame)}\"\n",
    "    assert isinstance(monthValue, int) and monthValue > 0 and monthValue <= 12, f\"date must be a positive integer, but got {monthValue}\"\n",
    "    ### BEGIN SOLUTION \n",
    "\n",
    "    result = dataFrame.filter(month(col(\"DateTime\")) == monthValue).count()\n",
    "    ### END SOLUTION\n",
    "    return result\n"
   ]
  },
  {
   "cell_type": "code",
   "execution_count": 43,
   "id": "70b809e9-576e-4d3e-b7e6-924554a28d15",
   "metadata": {
    "execution": {
     "iopub.execute_input": "2024-11-07T14:54:48.322486Z",
     "iopub.status.busy": "2024-11-07T14:54:48.321821Z",
     "iopub.status.idle": "2024-11-07T14:54:50.341155Z",
     "shell.execute_reply": "2024-11-07T14:54:50.340662Z"
    }
   },
   "outputs": [
    {
     "data": {
      "text/plain": [
       "1826"
      ]
     },
     "execution_count": 43,
     "metadata": {},
     "output_type": "execute_result"
    }
   ],
   "source": [
    "countEmailsInMonthBySQL(sqlContext,tableName,5)"
   ]
  },
  {
   "cell_type": "code",
   "execution_count": 44,
   "id": "0f9859b2-08b1-4447-b6c8-72aa0412ddd6",
   "metadata": {
    "execution": {
     "iopub.execute_input": "2024-11-07T14:54:50.345437Z",
     "iopub.status.busy": "2024-11-07T14:54:50.345215Z",
     "iopub.status.idle": "2024-11-07T14:54:52.728593Z",
     "shell.execute_reply": "2024-11-07T14:54:52.727970Z"
    }
   },
   "outputs": [
    {
     "data": {
      "text/plain": [
       "1826"
      ]
     },
     "execution_count": 44,
     "metadata": {},
     "output_type": "execute_result"
    }
   ],
   "source": [
    "countEmailsInMonthByDFOperations(dfEmais,5)"
   ]
  },
  {
   "cell_type": "code",
   "execution_count": 45,
   "id": "2e4381fb-e0c3-482a-ae82-1a30703f06e7",
   "metadata": {
    "deletable": false,
    "editable": false,
    "execution": {
     "iopub.execute_input": "2024-11-07T14:54:52.730977Z",
     "iopub.status.busy": "2024-11-07T14:54:52.730512Z",
     "iopub.status.idle": "2024-11-07T14:54:53.111616Z",
     "shell.execute_reply": "2024-11-07T14:54:53.110951Z"
    },
    "nbgrader": {
     "grade": true,
     "grade_id": "cell-8cd50007319c31c3",
     "locked": true,
     "points": 0.5,
     "schema_version": 3,
     "solution": false,
     "task": false
    }
   },
   "outputs": [],
   "source": [
    "### BEGIN HIDDEN TESTS\n",
    "assert countEmailsInMonthBySQL(sqlContext,tableNameTest,5) == 46, \"Wrong in function countEmailsInMonthBySQL\"\n",
    "assert countEmailsInMonthBySQL(sqlContext,tableNameTest,1) == 51, \"Wrong in function countEmailsInYearBySQL\"\n",
    "### END HIDDEN TESTS"
   ]
  },
  {
   "cell_type": "code",
   "execution_count": 46,
   "id": "d4331bde-57b8-4e3c-8827-5e050bdd0543",
   "metadata": {
    "deletable": false,
    "editable": false,
    "execution": {
     "iopub.execute_input": "2024-11-07T14:54:53.114114Z",
     "iopub.status.busy": "2024-11-07T14:54:53.113903Z",
     "iopub.status.idle": "2024-11-07T14:54:53.503127Z",
     "shell.execute_reply": "2024-11-07T14:54:53.502581Z"
    },
    "nbgrader": {
     "grade": true,
     "grade_id": "cell-9fb0d8fbb5586419",
     "locked": true,
     "points": 0.5,
     "schema_version": 3,
     "solution": false,
     "task": false
    }
   },
   "outputs": [],
   "source": [
    "### BEGIN HIDDEN TESTS\n",
    "assert countEmailsInMonthByDFOperations(dfEmaisTest,5) == 46, \"Wrong in function countEmailsInYearByDFOperations\"\n",
    "assert countEmailsInMonthByDFOperations(dfEmaisTest,1) == 51, \"Wrong in function countEmailsInYearByDFOperations\"\n",
    "### END HIDDEN TESTS"
   ]
  },
  {
   "cell_type": "code",
   "execution_count": 47,
   "id": "3770a3c3-7e34-4ccb-b4c9-a5a670a29a49",
   "metadata": {
    "deletable": false,
    "execution": {
     "iopub.execute_input": "2024-11-07T14:54:53.505956Z",
     "iopub.status.busy": "2024-11-07T14:54:53.505554Z",
     "iopub.status.idle": "2024-11-07T14:54:53.511878Z",
     "shell.execute_reply": "2024-11-07T14:54:53.511359Z"
    },
    "nbgrader": {
     "grade": false,
     "grade_id": "cell-efc7692f7eb213ab",
     "locked": false,
     "schema_version": 3,
     "solution": true,
     "task": false
    }
   },
   "outputs": [],
   "source": [
    "# 1đ\n",
    "def countEmailsPerWeekBySQL(sqlContext: SQLContext, tableName: str) -> DataFrame:\n",
    "    '''\n",
    "    This function calculates the number of emails sent per Week by performing a group by operation on the DateTime column \n",
    "    and sorts the result in descending order by the number of emails.\n",
    "\n",
    "    Args:\n",
    "    - sqlContext: An SQLContext object that provides the environment to run SQL queries on structured data.\n",
    "    - tableName: The name of the table that contains the email data.\n",
    "\n",
    "    Returns:\n",
    "    - resultDF: A DataFrame containing the number of emails sent per Week, sorted in descending order by num week.\n",
    "                With schema:\n",
    "                    root\n",
    "                     |-- week: integer (nullable = true)\n",
    "                     |-- count: long (nullable = false)\n",
    "                    \n",
    "    '''\n",
    "    assert isinstance(sqlContext, SQLContext), f\"sqlContext is not the correct data type, expected SQLContext but got {type(sqlContext)}\"\n",
    "    assert isinstance(tableName, str), f\"tableName is not the correct data type, expected string but got {type(tableName)}\"\n",
    "    ### BEGIN SOLUTION \n",
    "    query = f\"\"\"\n",
    "        SELECT WEEKOFYEAR(DateTime) as week, COUNT(*) as count\n",
    "        FROM {tableName}\n",
    "        GROUP BY WEEKOFYEAR(DateTime)\n",
    "        ORDER BY week DESC\n",
    "    \"\"\"\n",
    "    \n",
    "    result = sqlContext.sql(query)\n",
    "    ### END SOLUTION \n",
    "    return result\n",
    "\n",
    "\n",
    "def countEmailsPerWeekByDFOperations(dataFrame: DataFrame) -> DataFrame:\n",
    "    '''\n",
    "    This function calculates the number of emails sent per Week by performing a group by operation on the DateTime column \n",
    "    and sorts the result in descending order by the number of emails.\n",
    "\n",
    "    Args:\n",
    "    - dataFrame: A DataFrame containing the email data.\n",
    "\n",
    "    Returns:\n",
    "    - resultDF: A DataFrame containing the number of emails sent per Week, sorted in descending order by num week.\n",
    "                With schema:\n",
    "                    root\n",
    "                     |-- week: integer (nullable = true)\n",
    "                     |-- count: long (nullable = false)\n",
    "    '''\n",
    "    assert isinstance(dataFrame, DataFrame), f\"dataFrame is not the correct data type, expected DataFrame but got {type(dataFrame)}\"\n",
    "    ### BEGIN SOLUTION\n",
    "    result = dataFrame.groupBy(weekofyear(col(\"DateTime\")).alias(\"week\")).count()\n",
    "    result = result.orderBy(col(\"week\").desc())\n",
    "    ### END SOLUTION\n",
    "    return result"
   ]
  },
  {
   "cell_type": "code",
   "execution_count": 48,
   "id": "cd68f8c5-1ea8-4d8f-aa11-10f22dacc6e5",
   "metadata": {
    "execution": {
     "iopub.execute_input": "2024-11-07T14:54:53.514252Z",
     "iopub.status.busy": "2024-11-07T14:54:53.513771Z",
     "iopub.status.idle": "2024-11-07T14:54:56.493014Z",
     "shell.execute_reply": "2024-11-07T14:54:56.492485Z"
    }
   },
   "outputs": [
    {
     "name": "stdout",
     "output_type": "stream",
     "text": [
      "+----+-----+\n",
      "|week|count|\n",
      "+----+-----+\n",
      "|  52|  193|\n",
      "|  51|  338|\n",
      "|  50|  616|\n",
      "|  49|  491|\n",
      "|  48|  700|\n",
      "|  47|  518|\n",
      "|  46|  628|\n",
      "|  45|  481|\n",
      "|  44|  503|\n",
      "|  43|  768|\n",
      "|  42|  576|\n",
      "|  41|  405|\n",
      "|  40|  349|\n",
      "|  39|  350|\n",
      "|  38|  285|\n",
      "|  37|  311|\n",
      "|  36|  227|\n",
      "|  35|  307|\n",
      "|  34|  285|\n",
      "|  33|  225|\n",
      "+----+-----+\n",
      "only showing top 20 rows\n",
      "\n"
     ]
    }
   ],
   "source": [
    "countEmailsPerWeekBySQL(sqlContext,tableName).show()"
   ]
  },
  {
   "cell_type": "code",
   "execution_count": 49,
   "id": "d55acd6e-fabb-4ca0-b4a1-ae42259cdfde",
   "metadata": {
    "execution": {
     "iopub.execute_input": "2024-11-07T14:54:56.497914Z",
     "iopub.status.busy": "2024-11-07T14:54:56.497670Z",
     "iopub.status.idle": "2024-11-07T14:54:58.506058Z",
     "shell.execute_reply": "2024-11-07T14:54:58.505490Z"
    }
   },
   "outputs": [
    {
     "name": "stdout",
     "output_type": "stream",
     "text": [
      "+----+-----+\n",
      "|week|count|\n",
      "+----+-----+\n",
      "|  52|  193|\n",
      "|  51|  338|\n",
      "|  50|  616|\n",
      "|  49|  491|\n",
      "|  48|  700|\n",
      "|  47|  518|\n",
      "|  46|  628|\n",
      "|  45|  481|\n",
      "|  44|  503|\n",
      "|  43|  768|\n",
      "|  42|  576|\n",
      "|  41|  405|\n",
      "|  40|  349|\n",
      "|  39|  350|\n",
      "|  38|  285|\n",
      "|  37|  311|\n",
      "|  36|  227|\n",
      "|  35|  307|\n",
      "|  34|  285|\n",
      "|  33|  225|\n",
      "+----+-----+\n",
      "only showing top 20 rows\n",
      "\n"
     ]
    }
   ],
   "source": [
    "countEmailsPerWeekByDFOperations(dfEmais).show()"
   ]
  },
  {
   "cell_type": "code",
   "execution_count": 50,
   "id": "bbc068b0-0f08-44af-a844-1b8e15176cd0",
   "metadata": {
    "deletable": false,
    "editable": false,
    "execution": {
     "iopub.execute_input": "2024-11-07T14:54:58.510229Z",
     "iopub.status.busy": "2024-11-07T14:54:58.508356Z",
     "iopub.status.idle": "2024-11-07T14:54:59.907056Z",
     "shell.execute_reply": "2024-11-07T14:54:59.906461Z"
    },
    "nbgrader": {
     "grade": true,
     "grade_id": "cell-ba0426c383b52bf6",
     "locked": true,
     "points": 0.5,
     "schema_version": 3,
     "solution": false,
     "task": false
    }
   },
   "outputs": [],
   "source": [
    "### BEGIN HIDDEN TESTS\n",
    "def countEmailsPerWeekBySQLSolution(sqlContext: SQLContext, tableName: str) -> DataFrame:\n",
    "    query = f\"\"\"\n",
    "        SELECT WEEKOFYEAR(DateTime) as week, COUNT(*) as count\n",
    "        FROM {tableName}\n",
    "        GROUP BY WEEKOFYEAR(DateTime)\n",
    "        ORDER BY week DESC\n",
    "    \"\"\"\n",
    "    result = sqlContext.sql(query)\n",
    "    return result\n",
    "   \n",
    "assert countEmailsPerWeekBySQL(sqlContext,tableNameTest).take(10)  == countEmailsPerWeekBySQLSolution(sqlContext,tableNameTest).take(10), \"Wrong in function countEmailsPerWeekBySQL\"\n",
    "assert countEmailsPerWeekBySQL(sqlContext,tableNameTest).take(1)  == countEmailsPerWeekBySQLSolution(sqlContext,tableNameTest).take(1), \"Wrong in function countEmailsPerWeekBySQL\"\n",
    "assert countEmailsPerWeekBySQL(sqlContext,tableNameTest).take(1000)  == countEmailsPerWeekBySQLSolution(sqlContext,tableNameTest).take(1000), \"Wrong in function countEmailsPerWeekBySQL\"\n",
    "### END HIDDEN TESTS"
   ]
  },
  {
   "cell_type": "code",
   "execution_count": 51,
   "id": "98a68d42-52f5-4f02-875a-290a45e38038",
   "metadata": {
    "deletable": false,
    "editable": false,
    "execution": {
     "iopub.execute_input": "2024-11-07T14:54:59.910135Z",
     "iopub.status.busy": "2024-11-07T14:54:59.909926Z",
     "iopub.status.idle": "2024-11-07T14:55:01.469005Z",
     "shell.execute_reply": "2024-11-07T14:55:01.468520Z"
    },
    "nbgrader": {
     "grade": true,
     "grade_id": "cell-f943c2987596321f",
     "locked": true,
     "points": 0.5,
     "schema_version": 3,
     "solution": false,
     "task": false
    }
   },
   "outputs": [],
   "source": [
    "### BEGIN HIDDEN TESTS\n",
    "def countEmailsPerWeekByDFOperationsSolution(dataFrame: DataFrame) -> DataFrame:\n",
    "    result = dataFrame.groupBy(weekofyear(col(\"DateTime\")).alias(\"week\")).count()\n",
    "    result = result.orderBy(col(\"week\").desc())\n",
    "    return result\n",
    "\n",
    "assert countEmailsPerWeekByDFOperations(dfEmaisTest).take(1) == countEmailsPerWeekByDFOperationsSolution(dfEmaisTest).take(1), \"Wrong in function countEmailsPerDayByDFOperations\"\n",
    "assert countEmailsPerWeekByDFOperations(dfEmaisTest).take(5) == countEmailsPerWeekByDFOperationsSolution(dfEmaisTest).take(5), \"Wrong in function countEmailsPerDayByDFOperations\"\n",
    "assert countEmailsPerWeekByDFOperations(dfEmaisTest).take(1000) == countEmailsPerWeekByDFOperationsSolution(dfEmaisTest).take(1000), \"Wrong in function countEmailsPerDayByDFOperations\"\n",
    "### END HIDDEN TESTS"
   ]
  }
 ],
 "metadata": {
  "kernelspec": {
   "display_name": "Python 3 (ipykernel)",
   "language": "python",
   "name": "python3"
  },
  "language_info": {
   "codemirror_mode": {
    "name": "ipython",
    "version": 3
   },
   "file_extension": ".py",
   "mimetype": "text/x-python",
   "name": "python",
   "nbconvert_exporter": "python",
   "pygments_lexer": "ipython3",
   "version": "3.11.6"
  }
 },
 "nbformat": 4,
 "nbformat_minor": 5
}
